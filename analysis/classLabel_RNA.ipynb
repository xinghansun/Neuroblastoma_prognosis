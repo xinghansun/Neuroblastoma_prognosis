{
 "cells": [
  {
   "cell_type": "code",
   "execution_count": 1,
   "id": "9f87386f",
   "metadata": {
    "ExecuteTime": {
     "end_time": "2024-03-25T04:42:31.709094Z",
     "start_time": "2024-03-25T04:42:30.320678Z"
    }
   },
   "outputs": [],
   "source": [
    "import gzip\n",
    "\n",
    "import pandas as pd\n",
    "import numpy as np\n",
    "\n",
    "from sklearn.model_selection import train_test_split\n",
    "from sklearn.preprocessing import MinMaxScaler, StandardScaler\n",
    "\n",
    "from matplotlib import pyplot as plt"
   ]
  },
  {
   "cell_type": "markdown",
   "id": "6f8050eb",
   "metadata": {},
   "source": [
    "# Preprocessing"
   ]
  },
  {
   "cell_type": "markdown",
   "id": "3aadae97",
   "metadata": {},
   "source": [
    "## Meta data"
   ]
  },
  {
   "cell_type": "code",
   "execution_count": 2,
   "id": "de7ec617",
   "metadata": {
    "ExecuteTime": {
     "end_time": "2024-03-25T04:42:31.719638Z",
     "start_time": "2024-03-25T04:42:31.712855Z"
    }
   },
   "outputs": [],
   "source": [
    "def read_geo_series_matrix(file_path):\n",
    "    cols = {}\n",
    "    with gzip.open(file_path, 'rt') as f:\n",
    "        for line in f:\n",
    "            if line.startswith(\"!Sample_title\"):\n",
    "                sampleId = [i.strip('\"') for i in line.split()[1:]]\n",
    "                cols[\"sampleId\"] = sampleId\n",
    "            elif line.startswith(\"!Sample_characteristics_ch1\"):\n",
    "                _ = line[28:].strip().strip('\"').split('\"\\t\"')\n",
    "                category = _[0].split(\": \")[0].replace(\" \", \"_\")\n",
    "                values = [i.split(\": \")[1] for i in _]\n",
    "                cols.update({category: values})\n",
    "    \n",
    "    return pd.DataFrame(cols)"
   ]
  },
  {
   "cell_type": "code",
   "execution_count": 3,
   "id": "3a03c6ab",
   "metadata": {
    "ExecuteTime": {
     "end_time": "2024-03-25T04:42:31.737226Z",
     "start_time": "2024-03-25T04:42:31.722024Z"
    }
   },
   "outputs": [
    {
     "data": {
      "text/plain": [
       "(498, 11)"
      ]
     },
     "execution_count": 3,
     "metadata": {},
     "output_type": "execute_result"
    }
   ],
   "source": [
    "meta = read_geo_series_matrix(\"../rawData/GSE49711_series_matrix.txt.gz\")\n",
    "meta.index = meta.sampleId\n",
    "meta.shape"
   ]
  },
  {
   "cell_type": "code",
   "execution_count": 4,
   "id": "046f633f",
   "metadata": {
    "ExecuteTime": {
     "end_time": "2024-03-25T04:42:31.747047Z",
     "start_time": "2024-03-25T04:42:31.741123Z"
    }
   },
   "outputs": [
    {
     "data": {
      "text/plain": [
       "(272, 11)"
      ]
     },
     "execution_count": 4,
     "metadata": {},
     "output_type": "execute_result"
    }
   ],
   "source": [
    "meta = meta.loc[meta.class_label.isin([\"0\", \"1\"])]\n",
    "meta.shape"
   ]
  },
  {
   "cell_type": "code",
   "execution_count": 5,
   "id": "d52624bb",
   "metadata": {
    "ExecuteTime": {
     "end_time": "2024-03-25T04:42:31.769037Z",
     "start_time": "2024-03-25T04:42:31.749405Z"
    }
   },
   "outputs": [
    {
     "data": {
      "text/html": [
       "<div>\n",
       "<style scoped>\n",
       "    .dataframe tbody tr th:only-of-type {\n",
       "        vertical-align: middle;\n",
       "    }\n",
       "\n",
       "    .dataframe tbody tr th {\n",
       "        vertical-align: top;\n",
       "    }\n",
       "\n",
       "    .dataframe thead th {\n",
       "        text-align: right;\n",
       "    }\n",
       "</style>\n",
       "<table border=\"1\" class=\"dataframe\">\n",
       "  <thead>\n",
       "    <tr style=\"text-align: right;\">\n",
       "      <th>class_label</th>\n",
       "      <th>0</th>\n",
       "      <th>1</th>\n",
       "    </tr>\n",
       "    <tr>\n",
       "      <th>inss_stage</th>\n",
       "      <th></th>\n",
       "      <th></th>\n",
       "    </tr>\n",
       "  </thead>\n",
       "  <tbody>\n",
       "    <tr>\n",
       "      <th>1</th>\n",
       "      <td>100</td>\n",
       "      <td>1</td>\n",
       "    </tr>\n",
       "    <tr>\n",
       "      <th>2</th>\n",
       "      <td>44</td>\n",
       "      <td>4</td>\n",
       "    </tr>\n",
       "    <tr>\n",
       "      <th>3</th>\n",
       "      <td>7</td>\n",
       "      <td>14</td>\n",
       "    </tr>\n",
       "    <tr>\n",
       "      <th>4</th>\n",
       "      <td>0</td>\n",
       "      <td>68</td>\n",
       "    </tr>\n",
       "    <tr>\n",
       "      <th>4S</th>\n",
       "      <td>30</td>\n",
       "      <td>4</td>\n",
       "    </tr>\n",
       "  </tbody>\n",
       "</table>\n",
       "</div>"
      ],
      "text/plain": [
       "class_label    0   1\n",
       "inss_stage          \n",
       "1            100   1\n",
       "2             44   4\n",
       "3              7  14\n",
       "4              0  68\n",
       "4S            30   4"
      ]
     },
     "execution_count": 5,
     "metadata": {},
     "output_type": "execute_result"
    }
   ],
   "source": [
    "pd.crosstab(meta.inss_stage, meta.class_label)"
   ]
  },
  {
   "cell_type": "code",
   "execution_count": 6,
   "id": "950a8a28",
   "metadata": {
    "ExecuteTime": {
     "end_time": "2024-03-25T04:42:31.790297Z",
     "start_time": "2024-03-25T04:42:31.771293Z"
    }
   },
   "outputs": [
    {
     "data": {
      "text/html": [
       "<div>\n",
       "<style scoped>\n",
       "    .dataframe tbody tr th:only-of-type {\n",
       "        vertical-align: middle;\n",
       "    }\n",
       "\n",
       "    .dataframe tbody tr th {\n",
       "        vertical-align: top;\n",
       "    }\n",
       "\n",
       "    .dataframe thead th {\n",
       "        text-align: right;\n",
       "    }\n",
       "</style>\n",
       "<table border=\"1\" class=\"dataframe\">\n",
       "  <thead>\n",
       "    <tr style=\"text-align: right;\">\n",
       "      <th>class_label</th>\n",
       "      <th>0</th>\n",
       "      <th>1</th>\n",
       "    </tr>\n",
       "    <tr>\n",
       "      <th>high_risk</th>\n",
       "      <th></th>\n",
       "      <th></th>\n",
       "    </tr>\n",
       "  </thead>\n",
       "  <tbody>\n",
       "    <tr>\n",
       "      <th>0</th>\n",
       "      <td>181</td>\n",
       "      <td>13</td>\n",
       "    </tr>\n",
       "    <tr>\n",
       "      <th>1</th>\n",
       "      <td>0</td>\n",
       "      <td>78</td>\n",
       "    </tr>\n",
       "  </tbody>\n",
       "</table>\n",
       "</div>"
      ],
      "text/plain": [
       "class_label    0   1\n",
       "high_risk           \n",
       "0            181  13\n",
       "1              0  78"
      ]
     },
     "execution_count": 6,
     "metadata": {},
     "output_type": "execute_result"
    }
   ],
   "source": [
    "pd.crosstab(meta.high_risk, meta.class_label)"
   ]
  },
  {
   "cell_type": "code",
   "execution_count": null,
   "id": "2fbafb6a",
   "metadata": {},
   "outputs": [],
   "source": []
  },
  {
   "cell_type": "markdown",
   "id": "196ae431",
   "metadata": {},
   "source": [
    "## Gene level"
   ]
  },
  {
   "cell_type": "code",
   "execution_count": 7,
   "id": "471e3f5d",
   "metadata": {
    "ExecuteTime": {
     "end_time": "2024-03-25T04:42:36.242092Z",
     "start_time": "2024-03-25T04:42:31.793620Z"
    }
   },
   "outputs": [],
   "source": [
    "rna = pd.read_table(\"../rawData/GSE49711_SEQC_NB_TAV_G_log2.final.txt.gz\")\n",
    "rna = rna[~ rna.Gene.str.contains(\"[a-z]\")]\n",
    "rna.drop([\"Gene_set\",\"NCBI_gene_ID\",\"RefSeq_transcript_ID\",\"Chromosome\",\"Strand\",\"Start\",\"End\"], axis=1, inplace=True)\n",
    "X = rna.iloc[:,1:].transpose()\n",
    "X.columns = rna.Gene"
   ]
  },
  {
   "cell_type": "code",
   "execution_count": 8,
   "id": "f52bdc51",
   "metadata": {
    "ExecuteTime": {
     "end_time": "2024-03-25T04:42:36.285945Z",
     "start_time": "2024-03-25T04:42:36.244346Z"
    }
   },
   "outputs": [],
   "source": [
    "X = X.loc[meta.index] # keep only samples with valid Ys"
   ]
  },
  {
   "cell_type": "code",
   "execution_count": 9,
   "id": "aace9141",
   "metadata": {
    "ExecuteTime": {
     "end_time": "2024-03-25T04:42:36.325604Z",
     "start_time": "2024-03-25T04:42:36.288485Z"
    }
   },
   "outputs": [],
   "source": [
    "X_train, X_test, y_train, y_test = train_test_split(X, meta.class_label.astype(\"int\"), test_size=0.3, random_state=1234)"
   ]
  },
  {
   "cell_type": "code",
   "execution_count": null,
   "id": "cc497ec6",
   "metadata": {},
   "outputs": [],
   "source": []
  },
  {
   "cell_type": "markdown",
   "id": "248bb4de",
   "metadata": {},
   "source": [
    "# QC"
   ]
  },
  {
   "cell_type": "code",
   "execution_count": 10,
   "id": "6177e57b",
   "metadata": {
    "ExecuteTime": {
     "end_time": "2024-03-25T04:42:37.046441Z",
     "start_time": "2024-03-25T04:42:36.331788Z"
    }
   },
   "outputs": [
    {
     "data": {
      "text/plain": [
       "<Axes: >"
      ]
     },
     "execution_count": 10,
     "metadata": {},
     "output_type": "execute_result"
    },
    {
     "data": {
      "image/png": "[encoded data removed]",
      "text/plain": [
       "<Figure size 640x480 with 1 Axes>"
      ]
     },
     "metadata": {},
     "output_type": "display_data"
    }
   ],
   "source": [
    "X_train.median().hist(bins=100)"
   ]
  },
  {
   "cell_type": "code",
   "execution_count": 11,
   "id": "03d99444",
   "metadata": {
    "ExecuteTime": {
     "end_time": "2024-03-25T04:42:37.404654Z",
     "start_time": "2024-03-25T04:42:37.048929Z"
    }
   },
   "outputs": [],
   "source": [
    "X_train = X_train.loc[:, X_train.median() > 5]"
   ]
  },
  {
   "cell_type": "code",
   "execution_count": 12,
   "id": "5020b4d7",
   "metadata": {
    "ExecuteTime": {
     "end_time": "2024-03-25T04:42:37.411989Z",
     "start_time": "2024-03-25T04:42:37.406883Z"
    }
   },
   "outputs": [
    {
     "data": {
      "text/plain": [
       "(190, 17701)"
      ]
     },
     "execution_count": 12,
     "metadata": {},
     "output_type": "execute_result"
    }
   ],
   "source": [
    "X_train.shape"
   ]
  },
  {
   "cell_type": "code",
   "execution_count": 13,
   "id": "377b7688",
   "metadata": {
    "ExecuteTime": {
     "end_time": "2024-03-25T04:42:37.447020Z",
     "start_time": "2024-03-25T04:42:37.414789Z"
    }
   },
   "outputs": [
    {
     "data": {
      "text/html": [
       "<div>\n",
       "<style scoped>\n",
       "    .dataframe tbody tr th:only-of-type {\n",
       "        vertical-align: middle;\n",
       "    }\n",
       "\n",
       "    .dataframe tbody tr th {\n",
       "        vertical-align: top;\n",
       "    }\n",
       "\n",
       "    .dataframe thead th {\n",
       "        text-align: right;\n",
       "    }\n",
       "</style>\n",
       "<table border=\"1\" class=\"dataframe\">\n",
       "  <thead>\n",
       "    <tr style=\"text-align: right;\">\n",
       "      <th>Gene</th>\n",
       "      <th>A1BGAS</th>\n",
       "      <th>A2BP1</th>\n",
       "      <th>A2LD1</th>\n",
       "      <th>A2M</th>\n",
       "      <th>A2ML1</th>\n",
       "      <th>A2MP1</th>\n",
       "      <th>A4GALT</th>\n",
       "      <th>A4GNT</th>\n",
       "      <th>AAAS</th>\n",
       "      <th>AACS</th>\n",
       "      <th>...</th>\n",
       "      <th>ZWILCH</th>\n",
       "      <th>ZWINT</th>\n",
       "      <th>ZXDA</th>\n",
       "      <th>ZXDB</th>\n",
       "      <th>ZXDC</th>\n",
       "      <th>ZYG11A</th>\n",
       "      <th>ZYG11B</th>\n",
       "      <th>ZYX</th>\n",
       "      <th>ZZEF1</th>\n",
       "      <th>ZZZ3</th>\n",
       "    </tr>\n",
       "    <tr>\n",
       "      <th>sampleId</th>\n",
       "      <th></th>\n",
       "      <th></th>\n",
       "      <th></th>\n",
       "      <th></th>\n",
       "      <th></th>\n",
       "      <th></th>\n",
       "      <th></th>\n",
       "      <th></th>\n",
       "      <th></th>\n",
       "      <th></th>\n",
       "      <th></th>\n",
       "      <th></th>\n",
       "      <th></th>\n",
       "      <th></th>\n",
       "      <th></th>\n",
       "      <th></th>\n",
       "      <th></th>\n",
       "      <th></th>\n",
       "      <th></th>\n",
       "      <th></th>\n",
       "      <th></th>\n",
       "    </tr>\n",
       "  </thead>\n",
       "  <tbody>\n",
       "    <tr>\n",
       "      <th>SEQC_NB324</th>\n",
       "      <td>17.2120</td>\n",
       "      <td>20.1335</td>\n",
       "      <td>14.5315</td>\n",
       "      <td>19.9684</td>\n",
       "      <td>0.0000</td>\n",
       "      <td>11.9337</td>\n",
       "      <td>14.3427</td>\n",
       "      <td>10.3969</td>\n",
       "      <td>19.6961</td>\n",
       "      <td>18.1438</td>\n",
       "      <td>...</td>\n",
       "      <td>18.1324</td>\n",
       "      <td>16.7605</td>\n",
       "      <td>14.4861</td>\n",
       "      <td>16.2050</td>\n",
       "      <td>19.0273</td>\n",
       "      <td>0.0000</td>\n",
       "      <td>19.8391</td>\n",
       "      <td>20.2606</td>\n",
       "      <td>19.5608</td>\n",
       "      <td>18.8167</td>\n",
       "    </tr>\n",
       "    <tr>\n",
       "      <th>SEQC_NB305</th>\n",
       "      <td>16.5018</td>\n",
       "      <td>19.4637</td>\n",
       "      <td>13.8600</td>\n",
       "      <td>19.6037</td>\n",
       "      <td>0.0000</td>\n",
       "      <td>10.2150</td>\n",
       "      <td>13.6370</td>\n",
       "      <td>9.0725</td>\n",
       "      <td>19.8035</td>\n",
       "      <td>18.2195</td>\n",
       "      <td>...</td>\n",
       "      <td>19.1212</td>\n",
       "      <td>19.7707</td>\n",
       "      <td>14.8420</td>\n",
       "      <td>16.2199</td>\n",
       "      <td>18.2406</td>\n",
       "      <td>9.3781</td>\n",
       "      <td>19.1937</td>\n",
       "      <td>19.1512</td>\n",
       "      <td>19.4345</td>\n",
       "      <td>18.8204</td>\n",
       "    </tr>\n",
       "    <tr>\n",
       "      <th>SEQC_NB096</th>\n",
       "      <td>16.1434</td>\n",
       "      <td>19.0748</td>\n",
       "      <td>15.2934</td>\n",
       "      <td>20.7683</td>\n",
       "      <td>11.5196</td>\n",
       "      <td>0.0000</td>\n",
       "      <td>14.7459</td>\n",
       "      <td>11.5679</td>\n",
       "      <td>19.8594</td>\n",
       "      <td>18.6028</td>\n",
       "      <td>...</td>\n",
       "      <td>18.9712</td>\n",
       "      <td>19.0694</td>\n",
       "      <td>14.8084</td>\n",
       "      <td>15.7586</td>\n",
       "      <td>18.6447</td>\n",
       "      <td>8.6691</td>\n",
       "      <td>19.1588</td>\n",
       "      <td>19.9347</td>\n",
       "      <td>19.0222</td>\n",
       "      <td>18.5647</td>\n",
       "    </tr>\n",
       "    <tr>\n",
       "      <th>SEQC_NB157</th>\n",
       "      <td>16.7688</td>\n",
       "      <td>19.2279</td>\n",
       "      <td>15.0867</td>\n",
       "      <td>20.8746</td>\n",
       "      <td>13.0523</td>\n",
       "      <td>10.8883</td>\n",
       "      <td>15.7479</td>\n",
       "      <td>11.2721</td>\n",
       "      <td>19.5607</td>\n",
       "      <td>17.6164</td>\n",
       "      <td>...</td>\n",
       "      <td>18.2131</td>\n",
       "      <td>17.4712</td>\n",
       "      <td>14.8704</td>\n",
       "      <td>16.5402</td>\n",
       "      <td>18.0904</td>\n",
       "      <td>9.9370</td>\n",
       "      <td>19.3924</td>\n",
       "      <td>19.9450</td>\n",
       "      <td>19.4356</td>\n",
       "      <td>18.7935</td>\n",
       "    </tr>\n",
       "    <tr>\n",
       "      <th>SEQC_NB167</th>\n",
       "      <td>16.2256</td>\n",
       "      <td>19.1613</td>\n",
       "      <td>14.6519</td>\n",
       "      <td>21.3254</td>\n",
       "      <td>0.0000</td>\n",
       "      <td>11.6232</td>\n",
       "      <td>15.8535</td>\n",
       "      <td>11.4449</td>\n",
       "      <td>19.5147</td>\n",
       "      <td>17.6826</td>\n",
       "      <td>...</td>\n",
       "      <td>17.3439</td>\n",
       "      <td>16.0085</td>\n",
       "      <td>15.0881</td>\n",
       "      <td>16.5732</td>\n",
       "      <td>18.5684</td>\n",
       "      <td>8.1276</td>\n",
       "      <td>19.5997</td>\n",
       "      <td>20.2493</td>\n",
       "      <td>19.4074</td>\n",
       "      <td>19.2011</td>\n",
       "    </tr>\n",
       "    <tr>\n",
       "      <th>...</th>\n",
       "      <td>...</td>\n",
       "      <td>...</td>\n",
       "      <td>...</td>\n",
       "      <td>...</td>\n",
       "      <td>...</td>\n",
       "      <td>...</td>\n",
       "      <td>...</td>\n",
       "      <td>...</td>\n",
       "      <td>...</td>\n",
       "      <td>...</td>\n",
       "      <td>...</td>\n",
       "      <td>...</td>\n",
       "      <td>...</td>\n",
       "      <td>...</td>\n",
       "      <td>...</td>\n",
       "      <td>...</td>\n",
       "      <td>...</td>\n",
       "      <td>...</td>\n",
       "      <td>...</td>\n",
       "      <td>...</td>\n",
       "      <td>...</td>\n",
       "    </tr>\n",
       "    <tr>\n",
       "      <th>SEQC_NB218</th>\n",
       "      <td>17.2790</td>\n",
       "      <td>18.4650</td>\n",
       "      <td>14.6535</td>\n",
       "      <td>20.3641</td>\n",
       "      <td>13.4018</td>\n",
       "      <td>0.0000</td>\n",
       "      <td>14.5823</td>\n",
       "      <td>11.6175</td>\n",
       "      <td>20.3679</td>\n",
       "      <td>18.9736</td>\n",
       "      <td>...</td>\n",
       "      <td>18.4607</td>\n",
       "      <td>18.7860</td>\n",
       "      <td>14.6715</td>\n",
       "      <td>16.2595</td>\n",
       "      <td>18.8309</td>\n",
       "      <td>10.5602</td>\n",
       "      <td>19.9761</td>\n",
       "      <td>20.0579</td>\n",
       "      <td>19.3179</td>\n",
       "      <td>18.6212</td>\n",
       "    </tr>\n",
       "    <tr>\n",
       "      <th>SEQC_NB244</th>\n",
       "      <td>17.2562</td>\n",
       "      <td>18.8896</td>\n",
       "      <td>15.7909</td>\n",
       "      <td>22.0597</td>\n",
       "      <td>10.9153</td>\n",
       "      <td>11.1139</td>\n",
       "      <td>16.4155</td>\n",
       "      <td>11.7244</td>\n",
       "      <td>19.3001</td>\n",
       "      <td>18.0834</td>\n",
       "      <td>...</td>\n",
       "      <td>17.0470</td>\n",
       "      <td>16.1998</td>\n",
       "      <td>15.2354</td>\n",
       "      <td>16.8942</td>\n",
       "      <td>18.4276</td>\n",
       "      <td>12.9273</td>\n",
       "      <td>19.9850</td>\n",
       "      <td>21.0383</td>\n",
       "      <td>19.1075</td>\n",
       "      <td>18.5479</td>\n",
       "    </tr>\n",
       "    <tr>\n",
       "      <th>SEQC_NB326</th>\n",
       "      <td>15.9690</td>\n",
       "      <td>16.0184</td>\n",
       "      <td>14.1948</td>\n",
       "      <td>20.3863</td>\n",
       "      <td>0.0000</td>\n",
       "      <td>0.0000</td>\n",
       "      <td>15.0606</td>\n",
       "      <td>10.5789</td>\n",
       "      <td>20.1523</td>\n",
       "      <td>17.9599</td>\n",
       "      <td>...</td>\n",
       "      <td>18.3819</td>\n",
       "      <td>18.5226</td>\n",
       "      <td>15.2619</td>\n",
       "      <td>17.1863</td>\n",
       "      <td>18.5018</td>\n",
       "      <td>10.0402</td>\n",
       "      <td>18.5258</td>\n",
       "      <td>20.7973</td>\n",
       "      <td>17.9354</td>\n",
       "      <td>17.8078</td>\n",
       "    </tr>\n",
       "    <tr>\n",
       "      <th>SEQC_NB071</th>\n",
       "      <td>16.3514</td>\n",
       "      <td>20.4639</td>\n",
       "      <td>15.1518</td>\n",
       "      <td>20.9448</td>\n",
       "      <td>13.1729</td>\n",
       "      <td>12.0765</td>\n",
       "      <td>15.2849</td>\n",
       "      <td>10.7249</td>\n",
       "      <td>19.5692</td>\n",
       "      <td>17.7931</td>\n",
       "      <td>...</td>\n",
       "      <td>18.2094</td>\n",
       "      <td>16.5523</td>\n",
       "      <td>15.0629</td>\n",
       "      <td>16.6580</td>\n",
       "      <td>18.4442</td>\n",
       "      <td>8.8091</td>\n",
       "      <td>20.1446</td>\n",
       "      <td>20.4357</td>\n",
       "      <td>19.6406</td>\n",
       "      <td>19.0869</td>\n",
       "    </tr>\n",
       "    <tr>\n",
       "      <th>SEQC_NB339</th>\n",
       "      <td>16.6958</td>\n",
       "      <td>17.9836</td>\n",
       "      <td>15.3201</td>\n",
       "      <td>21.2573</td>\n",
       "      <td>8.4089</td>\n",
       "      <td>11.5772</td>\n",
       "      <td>15.8056</td>\n",
       "      <td>9.4779</td>\n",
       "      <td>19.4488</td>\n",
       "      <td>18.4910</td>\n",
       "      <td>...</td>\n",
       "      <td>18.5702</td>\n",
       "      <td>18.8583</td>\n",
       "      <td>15.3403</td>\n",
       "      <td>16.3553</td>\n",
       "      <td>18.3576</td>\n",
       "      <td>0.0000</td>\n",
       "      <td>18.5499</td>\n",
       "      <td>19.7797</td>\n",
       "      <td>18.2120</td>\n",
       "      <td>18.8090</td>\n",
       "    </tr>\n",
       "  </tbody>\n",
       "</table>\n",
       "<p>190 rows × 17701 columns</p>\n",
       "</div>"
      ],
      "text/plain": [
       "Gene         A1BGAS    A2BP1    A2LD1      A2M    A2ML1    A2MP1   A4GALT  \\\n",
       "sampleId                                                                    \n",
       "SEQC_NB324  17.2120  20.1335  14.5315  19.9684   0.0000  11.9337  14.3427   \n",
       "SEQC_NB305  16.5018  19.4637  13.8600  19.6037   0.0000  10.2150  13.6370   \n",
       "SEQC_NB096  16.1434  19.0748  15.2934  20.7683  11.5196   0.0000  14.7459   \n",
       "SEQC_NB157  16.7688  19.2279  15.0867  20.8746  13.0523  10.8883  15.7479   \n",
       "SEQC_NB167  16.2256  19.1613  14.6519  21.3254   0.0000  11.6232  15.8535   \n",
       "...             ...      ...      ...      ...      ...      ...      ...   \n",
       "SEQC_NB218  17.2790  18.4650  14.6535  20.3641  13.4018   0.0000  14.5823   \n",
       "SEQC_NB244  17.2562  18.8896  15.7909  22.0597  10.9153  11.1139  16.4155   \n",
       "SEQC_NB326  15.9690  16.0184  14.1948  20.3863   0.0000   0.0000  15.0606   \n",
       "SEQC_NB071  16.3514  20.4639  15.1518  20.9448  13.1729  12.0765  15.2849   \n",
       "SEQC_NB339  16.6958  17.9836  15.3201  21.2573   8.4089  11.5772  15.8056   \n",
       "\n",
       "Gene          A4GNT     AAAS     AACS  ...   ZWILCH    ZWINT     ZXDA  \\\n",
       "sampleId                               ...                              \n",
       "SEQC_NB324  10.3969  19.6961  18.1438  ...  18.1324  16.7605  14.4861   \n",
       "SEQC_NB305   9.0725  19.8035  18.2195  ...  19.1212  19.7707  14.8420   \n",
       "SEQC_NB096  11.5679  19.8594  18.6028  ...  18.9712  19.0694  14.8084   \n",
       "SEQC_NB157  11.2721  19.5607  17.6164  ...  18.2131  17.4712  14.8704   \n",
       "SEQC_NB167  11.4449  19.5147  17.6826  ...  17.3439  16.0085  15.0881   \n",
       "...             ...      ...      ...  ...      ...      ...      ...   \n",
       "SEQC_NB218  11.6175  20.3679  18.9736  ...  18.4607  18.7860  14.6715   \n",
       "SEQC_NB244  11.7244  19.3001  18.0834  ...  17.0470  16.1998  15.2354   \n",
       "SEQC_NB326  10.5789  20.1523  17.9599  ...  18.3819  18.5226  15.2619   \n",
       "SEQC_NB071  10.7249  19.5692  17.7931  ...  18.2094  16.5523  15.0629   \n",
       "SEQC_NB339   9.4779  19.4488  18.4910  ...  18.5702  18.8583  15.3403   \n",
       "\n",
       "Gene           ZXDB     ZXDC   ZYG11A   ZYG11B      ZYX    ZZEF1     ZZZ3  \n",
       "sampleId                                                                   \n",
       "SEQC_NB324  16.2050  19.0273   0.0000  19.8391  20.2606  19.5608  18.8167  \n",
       "SEQC_NB305  16.2199  18.2406   9.3781  19.1937  19.1512  19.4345  18.8204  \n",
       "SEQC_NB096  15.7586  18.6447   8.6691  19.1588  19.9347  19.0222  18.5647  \n",
       "SEQC_NB157  16.5402  18.0904   9.9370  19.3924  19.9450  19.4356  18.7935  \n",
       "SEQC_NB167  16.5732  18.5684   8.1276  19.5997  20.2493  19.4074  19.2011  \n",
       "...             ...      ...      ...      ...      ...      ...      ...  \n",
       "SEQC_NB218  16.2595  18.8309  10.5602  19.9761  20.0579  19.3179  18.6212  \n",
       "SEQC_NB244  16.8942  18.4276  12.9273  19.9850  21.0383  19.1075  18.5479  \n",
       "SEQC_NB326  17.1863  18.5018  10.0402  18.5258  20.7973  17.9354  17.8078  \n",
       "SEQC_NB071  16.6580  18.4442   8.8091  20.1446  20.4357  19.6406  19.0869  \n",
       "SEQC_NB339  16.3553  18.3576   0.0000  18.5499  19.7797  18.2120  18.8090  \n",
       "\n",
       "[190 rows x 17701 columns]"
      ]
     },
     "execution_count": 13,
     "metadata": {},
     "output_type": "execute_result"
    }
   ],
   "source": [
    "X_train"
   ]
  },
  {
   "cell_type": "code",
   "execution_count": 14,
   "id": "88515902",
   "metadata": {
    "ExecuteTime": {
     "end_time": "2024-03-25T04:42:37.758360Z",
     "start_time": "2024-03-25T04:42:37.449587Z"
    }
   },
   "outputs": [],
   "source": [
    "scaler = StandardScaler()\n",
    "X_train_scaled = scaler.fit_transform(X_train)\n",
    "X_train_scaled = pd.DataFrame(X_train_scaled, index=X_train.index, columns=X_train.columns)"
   ]
  },
  {
   "cell_type": "code",
   "execution_count": 15,
   "id": "985e3d9b",
   "metadata": {
    "ExecuteTime": {
     "end_time": "2024-03-25T04:42:37.908156Z",
     "start_time": "2024-03-25T04:42:37.760713Z"
    }
   },
   "outputs": [],
   "source": [
    "X_test_scaled = scaler.transform(X_test.loc[:,X_train.columns])\n",
    "X_test_scaled = pd.DataFrame(X_test_scaled, index=X_test.index, columns=X_train.columns)"
   ]
  },
  {
   "cell_type": "code",
   "execution_count": null,
   "id": "e81e7db8",
   "metadata": {},
   "outputs": [],
   "source": []
  },
  {
   "cell_type": "markdown",
   "id": "21f69757",
   "metadata": {},
   "source": [
    "# L1 Logistic regression"
   ]
  },
  {
   "cell_type": "code",
   "execution_count": 16,
   "id": "e6a3b207",
   "metadata": {
    "ExecuteTime": {
     "end_time": "2024-03-25T04:42:37.937425Z",
     "start_time": "2024-03-25T04:42:37.910433Z"
    }
   },
   "outputs": [],
   "source": [
    "from sklearn.linear_model import LogisticRegression, LogisticRegressionCV\n",
    "from sklearn.metrics import accuracy_score, classification_report"
   ]
  },
  {
   "cell_type": "code",
   "execution_count": 17,
   "id": "f2afa29c",
   "metadata": {
    "ExecuteTime": {
     "end_time": "2024-03-25T04:42:55.865651Z",
     "start_time": "2024-03-25T04:42:37.939753Z"
    }
   },
   "outputs": [],
   "source": [
    "model = LogisticRegressionCV(penalty='l1', solver='liblinear', cv = 5, random_state=1234, Cs= 20, class_weight = \"balanced\")\n",
    "model.fit(X_train_scaled, y_train)\n",
    "\n",
    "# Make predictions on the test set\n",
    "y_pred = model.predict(X_test_scaled)\n",
    "\n",
    "# Evaluate the model\n",
    "accuracy = accuracy_score(y_test, y_pred)"
   ]
  },
  {
   "cell_type": "code",
   "execution_count": 18,
   "id": "5bfe753e",
   "metadata": {
    "ExecuteTime": {
     "end_time": "2024-03-25T04:42:55.873395Z",
     "start_time": "2024-03-25T04:42:55.868219Z"
    }
   },
   "outputs": [
    {
     "data": {
      "text/plain": [
       "0.9512195121951219"
      ]
     },
     "execution_count": 18,
     "metadata": {},
     "output_type": "execute_result"
    }
   ],
   "source": [
    "accuracy"
   ]
  },
  {
   "cell_type": "code",
   "execution_count": 19,
   "id": "60933ca9",
   "metadata": {
    "ExecuteTime": {
     "end_time": "2024-03-25T04:42:55.898057Z",
     "start_time": "2024-03-25T04:42:55.877401Z"
    }
   },
   "outputs": [
    {
     "data": {
      "text/html": [
       "<div>\n",
       "<style scoped>\n",
       "    .dataframe tbody tr th:only-of-type {\n",
       "        vertical-align: middle;\n",
       "    }\n",
       "\n",
       "    .dataframe tbody tr th {\n",
       "        vertical-align: top;\n",
       "    }\n",
       "\n",
       "    .dataframe thead th {\n",
       "        text-align: right;\n",
       "    }\n",
       "</style>\n",
       "<table border=\"1\" class=\"dataframe\">\n",
       "  <thead>\n",
       "    <tr style=\"text-align: right;\">\n",
       "      <th>class_label</th>\n",
       "      <th>0</th>\n",
       "      <th>1</th>\n",
       "    </tr>\n",
       "    <tr>\n",
       "      <th>row_0</th>\n",
       "      <th></th>\n",
       "      <th></th>\n",
       "    </tr>\n",
       "  </thead>\n",
       "  <tbody>\n",
       "    <tr>\n",
       "      <th>0</th>\n",
       "      <td>57</td>\n",
       "      <td>0</td>\n",
       "    </tr>\n",
       "    <tr>\n",
       "      <th>1</th>\n",
       "      <td>4</td>\n",
       "      <td>21</td>\n",
       "    </tr>\n",
       "  </tbody>\n",
       "</table>\n",
       "</div>"
      ],
      "text/plain": [
       "class_label   0   1\n",
       "row_0              \n",
       "0            57   0\n",
       "1             4  21"
      ]
     },
     "execution_count": 19,
     "metadata": {},
     "output_type": "execute_result"
    }
   ],
   "source": [
    "pd.crosstab(y_pred, y_test)"
   ]
  },
  {
   "cell_type": "code",
   "execution_count": 20,
   "id": "47d71056",
   "metadata": {
    "ExecuteTime": {
     "end_time": "2024-03-25T04:42:55.921935Z",
     "start_time": "2024-03-25T04:42:55.902003Z"
    }
   },
   "outputs": [
    {
     "data": {
      "text/html": [
       "<div>\n",
       "<style scoped>\n",
       "    .dataframe tbody tr th:only-of-type {\n",
       "        vertical-align: middle;\n",
       "    }\n",
       "\n",
       "    .dataframe tbody tr th {\n",
       "        vertical-align: top;\n",
       "    }\n",
       "\n",
       "    .dataframe thead th {\n",
       "        text-align: right;\n",
       "    }\n",
       "</style>\n",
       "<table border=\"1\" class=\"dataframe\">\n",
       "  <thead>\n",
       "    <tr style=\"text-align: right;\">\n",
       "      <th>class_label</th>\n",
       "      <th>0</th>\n",
       "      <th>1</th>\n",
       "    </tr>\n",
       "    <tr>\n",
       "      <th>high_risk</th>\n",
       "      <th></th>\n",
       "      <th></th>\n",
       "    </tr>\n",
       "  </thead>\n",
       "  <tbody>\n",
       "    <tr>\n",
       "      <th>0</th>\n",
       "      <td>61</td>\n",
       "      <td>4</td>\n",
       "    </tr>\n",
       "    <tr>\n",
       "      <th>1</th>\n",
       "      <td>0</td>\n",
       "      <td>17</td>\n",
       "    </tr>\n",
       "  </tbody>\n",
       "</table>\n",
       "</div>"
      ],
      "text/plain": [
       "class_label   0   1\n",
       "high_risk          \n",
       "0            61   4\n",
       "1             0  17"
      ]
     },
     "execution_count": 20,
     "metadata": {},
     "output_type": "execute_result"
    }
   ],
   "source": [
    "pd.crosstab(meta.loc[y_test.index].high_risk, meta.loc[y_test.index].class_label)"
   ]
  },
  {
   "cell_type": "code",
   "execution_count": 21,
   "id": "434edf11",
   "metadata": {
    "ExecuteTime": {
     "end_time": "2024-03-25T04:42:55.942343Z",
     "start_time": "2024-03-25T04:42:55.925644Z"
    }
   },
   "outputs": [
    {
     "name": "stdout",
     "output_type": "stream",
     "text": [
      "              precision    recall  f1-score   support\n",
      "\n",
      "           0       1.00      0.93      0.97        61\n",
      "           1       0.84      1.00      0.91        21\n",
      "\n",
      "    accuracy                           0.95        82\n",
      "   macro avg       0.92      0.97      0.94        82\n",
      "weighted avg       0.96      0.95      0.95        82\n",
      "\n"
     ]
    }
   ],
   "source": [
    "print(classification_report(y_test, y_pred))"
   ]
  },
  {
   "cell_type": "code",
   "execution_count": 22,
   "id": "d0f46063",
   "metadata": {
    "ExecuteTime": {
     "end_time": "2024-03-25T04:42:56.434634Z",
     "start_time": "2024-03-25T04:42:55.945659Z"
    }
   },
   "outputs": [
    {
     "data": {
      "image/png": "[encoded data removed]",
      "text/plain": [
       "<Figure size 640x480 with 1 Axes>"
      ]
     },
     "metadata": {},
     "output_type": "display_data"
    }
   ],
   "source": [
    "_ = plt.hist(model.predict_proba(X_test.loc[:, X_train.columns])[:,0], 100)"
   ]
  },
  {
   "cell_type": "code",
   "execution_count": null,
   "id": "fe525f2b",
   "metadata": {},
   "outputs": [],
   "source": []
  },
  {
   "cell_type": "code",
   "execution_count": 23,
   "id": "836f0a73",
   "metadata": {
    "ExecuteTime": {
     "end_time": "2024-03-25T04:42:56.770505Z",
     "start_time": "2024-03-25T04:42:56.437395Z"
    }
   },
   "outputs": [
    {
     "data": {
      "image/png": "[encoded data removed]",
      "text/plain": [
       "<Figure size 640x480 with 1 Axes>"
      ]
     },
     "metadata": {},
     "output_type": "display_data"
    }
   ],
   "source": [
    "_ = plt.hist(model.coef_[0], 100)"
   ]
  },
  {
   "cell_type": "code",
   "execution_count": 24,
   "id": "44c3ee4b",
   "metadata": {
    "ExecuteTime": {
     "end_time": "2024-03-25T04:42:56.779835Z",
     "start_time": "2024-03-25T04:42:56.772793Z"
    }
   },
   "outputs": [
    {
     "data": {
      "text/plain": [
       "23"
      ]
     },
     "execution_count": 24,
     "metadata": {},
     "output_type": "execute_result"
    }
   ],
   "source": [
    "sum(model.coef_[0] != 0)"
   ]
  },
  {
   "cell_type": "code",
   "execution_count": 25,
   "id": "bf4d93a6",
   "metadata": {
    "ExecuteTime": {
     "end_time": "2024-03-25T04:42:56.786169Z",
     "start_time": "2024-03-25T04:42:56.782598Z"
    }
   },
   "outputs": [],
   "source": [
    "indices = np.argsort(model.coef_[0])[::-1]"
   ]
  },
  {
   "cell_type": "code",
   "execution_count": 26,
   "id": "f0ff5702",
   "metadata": {
    "ExecuteTime": {
     "end_time": "2024-03-25T04:42:56.795970Z",
     "start_time": "2024-03-25T04:42:56.788758Z"
    }
   },
   "outputs": [
    {
     "data": {
      "text/plain": [
       "coef    0.300671\n",
       "Name: MRPL11, dtype: float64"
      ]
     },
     "execution_count": 26,
     "metadata": {},
     "output_type": "execute_result"
    }
   ],
   "source": [
    "pd.DataFrame({\"coef\":model.coef_[0]}, index = X_train.columns).loc[\"MRPL11\",]"
   ]
  },
  {
   "cell_type": "code",
   "execution_count": null,
   "id": "ec042c27",
   "metadata": {},
   "outputs": [],
   "source": []
  },
  {
   "cell_type": "code",
   "execution_count": 27,
   "id": "eb80b1c6",
   "metadata": {
    "ExecuteTime": {
     "end_time": "2024-03-25T04:42:57.103406Z",
     "start_time": "2024-03-25T04:42:56.798852Z"
    }
   },
   "outputs": [
    {
     "data": {
      "image/png": "[encoded data removed]",
      "text/plain": [
       "<Figure size 640x480 with 1 Axes>"
      ]
     },
     "metadata": {},
     "output_type": "display_data"
    }
   ],
   "source": [
    "plt.barh(X_train.columns[indices][range(20)][::-1], model.coef_[0][indices][range(20)][::-1])\n",
    "plt.title(\"Permutation-based feature importance\")\n",
    "plt.xlabel(\"Importance\")\n",
    "plt.ylabel(\"Feature\")\n",
    "plt.show()"
   ]
  },
  {
   "cell_type": "code",
   "execution_count": 28,
   "id": "2812f819",
   "metadata": {
    "ExecuteTime": {
     "end_time": "2024-03-25T04:42:57.304140Z",
     "start_time": "2024-03-25T04:42:57.113675Z"
    }
   },
   "outputs": [
    {
     "data": {
      "image/png": "[encoded data removed]",
      "text/plain": [
       "<Figure size 640x480 with 1 Axes>"
      ]
     },
     "metadata": {},
     "output_type": "display_data"
    }
   ],
   "source": [
    "plt.plot(np.log10(model.Cs_), model.scores_[1].T)\n",
    "plt.show()"
   ]
  },
  {
   "cell_type": "code",
   "execution_count": 29,
   "id": "f2a876d9",
   "metadata": {
    "ExecuteTime": {
     "end_time": "2024-03-25T04:42:57.487257Z",
     "start_time": "2024-03-25T04:42:57.306985Z"
    }
   },
   "outputs": [
    {
     "data": {
      "image/png": "[encoded data removed]",
      "text/plain": [
       "<Figure size 640x480 with 1 Axes>"
      ]
     },
     "metadata": {},
     "output_type": "display_data"
    }
   ],
   "source": [
    "plt.plot(np.log10(model.Cs_), np.mean(model.scores_[1].T, axis = 1))\n",
    "plt.show()"
   ]
  },
  {
   "cell_type": "code",
   "execution_count": null,
   "id": "316452d7",
   "metadata": {},
   "outputs": [],
   "source": []
  },
  {
   "cell_type": "code",
   "execution_count": null,
   "id": "bc24c50b",
   "metadata": {},
   "outputs": [],
   "source": []
  },
  {
   "cell_type": "code",
   "execution_count": null,
   "id": "c3411304",
   "metadata": {},
   "outputs": [],
   "source": []
  },
  {
   "cell_type": "code",
   "execution_count": null,
   "id": "b5477e6b",
   "metadata": {},
   "outputs": [],
   "source": []
  },
  {
   "cell_type": "markdown",
   "id": "3ad3421f",
   "metadata": {},
   "source": [
    "# Ranodm forest"
   ]
  },
  {
   "cell_type": "code",
   "execution_count": 30,
   "id": "1d02712c",
   "metadata": {
    "ExecuteTime": {
     "end_time": "2024-03-25T04:42:57.529364Z",
     "start_time": "2024-03-25T04:42:57.489589Z"
    }
   },
   "outputs": [],
   "source": [
    "from sklearn.ensemble import RandomForestClassifier\n"
   ]
  },
  {
   "cell_type": "code",
   "execution_count": 31,
   "id": "11266616",
   "metadata": {
    "ExecuteTime": {
     "end_time": "2024-03-25T04:43:04.305800Z",
     "start_time": "2024-03-25T04:42:57.532430Z"
    }
   },
   "outputs": [],
   "source": [
    "rf_classifier = RandomForestClassifier(n_estimators=1000, random_state=1234, class_weight = \"balanced\")\n",
    "rf_classifier.fit(X_train, y_train)\n",
    "y_pred = rf_classifier.predict(X_test.loc[:, X_train.columns])"
   ]
  },
  {
   "cell_type": "code",
   "execution_count": 32,
   "id": "52f2bcd4",
   "metadata": {
    "ExecuteTime": {
     "end_time": "2024-03-25T04:43:04.313461Z",
     "start_time": "2024-03-25T04:43:04.308425Z"
    }
   },
   "outputs": [],
   "source": [
    "accuracy = accuracy_score(y_test, y_pred)"
   ]
  },
  {
   "cell_type": "code",
   "execution_count": 33,
   "id": "d3309c3c",
   "metadata": {
    "ExecuteTime": {
     "end_time": "2024-03-25T04:43:04.322489Z",
     "start_time": "2024-03-25T04:43:04.316720Z"
    }
   },
   "outputs": [
    {
     "data": {
      "text/plain": [
       "0.9634146341463414"
      ]
     },
     "execution_count": 33,
     "metadata": {},
     "output_type": "execute_result"
    }
   ],
   "source": [
    "accuracy"
   ]
  },
  {
   "cell_type": "code",
   "execution_count": 34,
   "id": "80d8956d",
   "metadata": {
    "ExecuteTime": {
     "end_time": "2024-03-25T04:43:04.341939Z",
     "start_time": "2024-03-25T04:43:04.325116Z"
    }
   },
   "outputs": [
    {
     "data": {
      "text/html": [
       "<div>\n",
       "<style scoped>\n",
       "    .dataframe tbody tr th:only-of-type {\n",
       "        vertical-align: middle;\n",
       "    }\n",
       "\n",
       "    .dataframe tbody tr th {\n",
       "        vertical-align: top;\n",
       "    }\n",
       "\n",
       "    .dataframe thead th {\n",
       "        text-align: right;\n",
       "    }\n",
       "</style>\n",
       "<table border=\"1\" class=\"dataframe\">\n",
       "  <thead>\n",
       "    <tr style=\"text-align: right;\">\n",
       "      <th>class_label</th>\n",
       "      <th>0</th>\n",
       "      <th>1</th>\n",
       "    </tr>\n",
       "    <tr>\n",
       "      <th>row_0</th>\n",
       "      <th></th>\n",
       "      <th></th>\n",
       "    </tr>\n",
       "  </thead>\n",
       "  <tbody>\n",
       "    <tr>\n",
       "      <th>0</th>\n",
       "      <td>59</td>\n",
       "      <td>1</td>\n",
       "    </tr>\n",
       "    <tr>\n",
       "      <th>1</th>\n",
       "      <td>2</td>\n",
       "      <td>20</td>\n",
       "    </tr>\n",
       "  </tbody>\n",
       "</table>\n",
       "</div>"
      ],
      "text/plain": [
       "class_label   0   1\n",
       "row_0              \n",
       "0            59   1\n",
       "1             2  20"
      ]
     },
     "execution_count": 34,
     "metadata": {},
     "output_type": "execute_result"
    }
   ],
   "source": [
    "pd.crosstab(y_pred, y_test)"
   ]
  },
  {
   "cell_type": "code",
   "execution_count": 35,
   "id": "ea405a21",
   "metadata": {
    "ExecuteTime": {
     "end_time": "2024-03-25T04:43:04.361160Z",
     "start_time": "2024-03-25T04:43:04.344550Z"
    }
   },
   "outputs": [
    {
     "data": {
      "text/html": [
       "<div>\n",
       "<style scoped>\n",
       "    .dataframe tbody tr th:only-of-type {\n",
       "        vertical-align: middle;\n",
       "    }\n",
       "\n",
       "    .dataframe tbody tr th {\n",
       "        vertical-align: top;\n",
       "    }\n",
       "\n",
       "    .dataframe thead th {\n",
       "        text-align: right;\n",
       "    }\n",
       "</style>\n",
       "<table border=\"1\" class=\"dataframe\">\n",
       "  <thead>\n",
       "    <tr style=\"text-align: right;\">\n",
       "      <th>class_label</th>\n",
       "      <th>0</th>\n",
       "      <th>1</th>\n",
       "    </tr>\n",
       "    <tr>\n",
       "      <th>high_risk</th>\n",
       "      <th></th>\n",
       "      <th></th>\n",
       "    </tr>\n",
       "  </thead>\n",
       "  <tbody>\n",
       "    <tr>\n",
       "      <th>0</th>\n",
       "      <td>61</td>\n",
       "      <td>4</td>\n",
       "    </tr>\n",
       "    <tr>\n",
       "      <th>1</th>\n",
       "      <td>0</td>\n",
       "      <td>17</td>\n",
       "    </tr>\n",
       "  </tbody>\n",
       "</table>\n",
       "</div>"
      ],
      "text/plain": [
       "class_label   0   1\n",
       "high_risk          \n",
       "0            61   4\n",
       "1             0  17"
      ]
     },
     "execution_count": 35,
     "metadata": {},
     "output_type": "execute_result"
    }
   ],
   "source": [
    "pd.crosstab(meta.loc[y_test.index].high_risk, meta.loc[y_test.index].class_label)"
   ]
  },
  {
   "cell_type": "code",
   "execution_count": 36,
   "id": "5052d3f0",
   "metadata": {
    "ExecuteTime": {
     "end_time": "2024-03-25T04:43:04.379778Z",
     "start_time": "2024-03-25T04:43:04.363870Z"
    }
   },
   "outputs": [
    {
     "name": "stdout",
     "output_type": "stream",
     "text": [
      "              precision    recall  f1-score   support\n",
      "\n",
      "           0       0.98      0.97      0.98        61\n",
      "           1       0.91      0.95      0.93        21\n",
      "\n",
      "    accuracy                           0.96        82\n",
      "   macro avg       0.95      0.96      0.95        82\n",
      "weighted avg       0.96      0.96      0.96        82\n",
      "\n"
     ]
    }
   ],
   "source": [
    "print(classification_report(y_test, y_pred))"
   ]
  },
  {
   "cell_type": "code",
   "execution_count": 37,
   "id": "452b140c",
   "metadata": {
    "ExecuteTime": {
     "end_time": "2024-03-25T04:43:04.752754Z",
     "start_time": "2024-03-25T04:43:04.382947Z"
    }
   },
   "outputs": [],
   "source": [
    "importances = rf_classifier.feature_importances_\n",
    "\n",
    "# Sort feature importances in descending order\n",
    "indices = np.argsort(importances)[::-1]"
   ]
  },
  {
   "cell_type": "code",
   "execution_count": 38,
   "id": "40f865c9",
   "metadata": {
    "ExecuteTime": {
     "end_time": "2024-03-25T04:43:04.759670Z",
     "start_time": "2024-03-25T04:43:04.755255Z"
    }
   },
   "outputs": [
    {
     "name": "stdout",
     "output_type": "stream",
     "text": [
      "Feature ranking:\n",
      "1. PIRT: feature 11585 (0.007622)\n",
      "2. MRPL11: feature 9873 (0.007616)\n",
      "3. BAZ2B: feature 1208 (0.007269)\n",
      "4. SLC25A5P2: feature 14321 (0.007037)\n",
      "5. PHLDB1: feature 11503 (0.006916)\n",
      "6. EXO1: feature 4036 (0.006734)\n",
      "7. SLC25A5: feature 14319 (0.006658)\n",
      "8. ODC1: feature 10885 (0.006193)\n",
      "9. PSMA6P1: feature 12234 (0.006158)\n",
      "10. MAP7: feature 9369 (0.006156)\n",
      "11. NUP37: feature 10823 (0.005794)\n",
      "12. CAMTA1: feature 1572 (0.005495)\n",
      "13. CNIH4: feature 2474 (0.005352)\n",
      "14. PRMT5: feature 12131 (0.005264)\n",
      "15. CDKN3: feature 2084 (0.005233)\n",
      "16. FENL1: feature 4582 (0.005209)\n",
      "17. POLE3: feature 11819 (0.005154)\n",
      "18. TRIAP1: feature 16086 (0.005060)\n",
      "19. SGSM2: feature 14058 (0.004823)\n",
      "20. ELK1: feature 3812 (0.004787)\n"
     ]
    }
   ],
   "source": [
    "# Print the feature ranking\n",
    "print(\"Feature ranking:\")\n",
    "for f in range(20):\n",
    "    print(\"%d. %s: feature %d (%f)\" % (f + 1, X_train.columns[indices[f]], indices[f], importances[indices[f]]))"
   ]
  },
  {
   "cell_type": "code",
   "execution_count": 39,
   "id": "72c10a87",
   "metadata": {
    "ExecuteTime": {
     "end_time": "2024-03-25T04:43:05.081506Z",
     "start_time": "2024-03-25T04:43:04.762296Z"
    }
   },
   "outputs": [
    {
     "data": {
      "image/png": "[encoded data removed]",
      "text/plain": [
       "<Figure size 640x480 with 1 Axes>"
      ]
     },
     "metadata": {},
     "output_type": "display_data"
    }
   ],
   "source": [
    "plt.barh(X_train.columns[indices][range(20)][::-1], importances[indices][range(20)][::-1])\n",
    "plt.title(\"Permutation-based feature importance\")\n",
    "plt.xlabel(\"Importance\")\n",
    "plt.ylabel(\"Feature\")\n",
    "plt.show()"
   ]
  },
  {
   "cell_type": "code",
   "execution_count": null,
   "id": "6a5819f8",
   "metadata": {},
   "outputs": [],
   "source": []
  },
  {
   "cell_type": "code",
   "execution_count": null,
   "id": "cf8b3f5c",
   "metadata": {},
   "outputs": [],
   "source": []
  },
  {
   "cell_type": "code",
   "execution_count": null,
   "id": "cff0cc64",
   "metadata": {},
   "outputs": [],
   "source": []
  },
  {
   "cell_type": "code",
   "execution_count": null,
   "id": "16874232",
   "metadata": {},
   "outputs": [],
   "source": []
  },
  {
   "cell_type": "code",
   "execution_count": null,
   "id": "61981bd3",
   "metadata": {},
   "outputs": [],
   "source": []
  }
 ],
 "metadata": {
  "kernelspec": {
   "display_name": "Python 3 (ipykernel)",
   "language": "python",
   "name": "python3"
  },
  "language_info": {
   "codemirror_mode": {
    "name": "ipython",
    "version": 3
   },
   "file_extension": ".py",
   "mimetype": "text/x-python",
   "name": "python",
   "nbconvert_exporter": "python",
   "pygments_lexer": "ipython3",
   "version": "3.10.7"
  }
 },
 "nbformat": 4,
 "nbformat_minor": 5
}
