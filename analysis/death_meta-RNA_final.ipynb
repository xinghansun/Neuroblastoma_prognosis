{
 "cells": [
  {
   "cell_type": "code",
   "execution_count": 1,
   "id": "9f87386f",
   "metadata": {
    "ExecuteTime": {
     "end_time": "2024-03-26T15:04:55.516641Z",
     "start_time": "2024-03-26T15:04:54.006789Z"
    }
   },
   "outputs": [],
   "source": [
    "import gzip\n",
    "\n",
    "import pandas as pd\n",
    "import numpy as np\n",
    "\n",
    "from sklearn.model_selection import train_test_split\n",
    "from sklearn.preprocessing import MinMaxScaler, StandardScaler\n",
    "\n",
    "from matplotlib import pyplot as plt"
   ]
  },
  {
   "cell_type": "markdown",
   "id": "6f8050eb",
   "metadata": {},
   "source": [
    "# Preprocessing"
   ]
  },
  {
   "cell_type": "markdown",
   "id": "3aadae97",
   "metadata": {},
   "source": [
    "## Meta data"
   ]
  },
  {
   "cell_type": "code",
   "execution_count": 2,
   "id": "de7ec617",
   "metadata": {
    "ExecuteTime": {
     "end_time": "2024-03-26T15:04:55.526684Z",
     "start_time": "2024-03-26T15:04:55.519990Z"
    }
   },
   "outputs": [],
   "source": [
    "def read_geo_series_matrix(file_path):\n",
    "    cols = {}\n",
    "    with gzip.open(file_path, 'rt') as f:\n",
    "        for line in f:\n",
    "            if line.startswith(\"!Sample_title\"):\n",
    "                sampleId = [i.strip('\"') for i in line.split()[1:]]\n",
    "                cols[\"sampleId\"] = sampleId\n",
    "            elif line.startswith(\"!Sample_characteristics_ch1\"):\n",
    "                _ = line[28:].strip().strip('\"').split('\"\\t\"')\n",
    "                category = _[0].split(\": \")[0].replace(\" \", \"_\")\n",
    "                values = [i.split(\": \")[1] for i in _]\n",
    "                cols.update({category: values})\n",
    "    \n",
    "    return pd.DataFrame(cols)"
   ]
  },
  {
   "cell_type": "code",
   "execution_count": 3,
   "id": "3a03c6ab",
   "metadata": {
    "ExecuteTime": {
     "end_time": "2024-03-26T15:04:55.544999Z",
     "start_time": "2024-03-26T15:04:55.529367Z"
    }
   },
   "outputs": [
    {
     "data": {
      "text/plain": [
       "(498, 11)"
      ]
     },
     "execution_count": 3,
     "metadata": {},
     "output_type": "execute_result"
    }
   ],
   "source": [
    "meta = read_geo_series_matrix(\"../rawData/GSE49711_series_matrix.txt.gz\")\n",
    "meta.index = meta.sampleId\n",
    "meta.shape"
   ]
  },
  {
   "cell_type": "code",
   "execution_count": 4,
   "id": "046f633f",
   "metadata": {
    "ExecuteTime": {
     "end_time": "2024-03-26T15:04:55.554157Z",
     "start_time": "2024-03-26T15:04:55.548956Z"
    }
   },
   "outputs": [
    {
     "data": {
      "text/plain": [
       "(498, 11)"
      ]
     },
     "execution_count": 4,
     "metadata": {},
     "output_type": "execute_result"
    }
   ],
   "source": [
    "meta = meta.loc[meta.death_from_disease.isin([\"0\", \"1\"])]\n",
    "meta.shape"
   ]
  },
  {
   "cell_type": "code",
   "execution_count": 5,
   "id": "d52624bb",
   "metadata": {
    "ExecuteTime": {
     "end_time": "2024-03-26T15:04:55.578378Z",
     "start_time": "2024-03-26T15:04:55.556289Z"
    }
   },
   "outputs": [
    {
     "data": {
      "text/html": [
       "<div>\n",
       "<style scoped>\n",
       "    .dataframe tbody tr th:only-of-type {\n",
       "        vertical-align: middle;\n",
       "    }\n",
       "\n",
       "    .dataframe tbody tr th {\n",
       "        vertical-align: top;\n",
       "    }\n",
       "\n",
       "    .dataframe thead th {\n",
       "        text-align: right;\n",
       "    }\n",
       "</style>\n",
       "<table border=\"1\" class=\"dataframe\">\n",
       "  <thead>\n",
       "    <tr style=\"text-align: right;\">\n",
       "      <th>death_from_disease</th>\n",
       "      <th>0</th>\n",
       "      <th>1</th>\n",
       "    </tr>\n",
       "    <tr>\n",
       "      <th>inss_stage</th>\n",
       "      <th></th>\n",
       "      <th></th>\n",
       "    </tr>\n",
       "  </thead>\n",
       "  <tbody>\n",
       "    <tr>\n",
       "      <th>1</th>\n",
       "      <td>120</td>\n",
       "      <td>1</td>\n",
       "    </tr>\n",
       "    <tr>\n",
       "      <th>2</th>\n",
       "      <td>74</td>\n",
       "      <td>4</td>\n",
       "    </tr>\n",
       "    <tr>\n",
       "      <th>3</th>\n",
       "      <td>49</td>\n",
       "      <td>14</td>\n",
       "    </tr>\n",
       "    <tr>\n",
       "      <th>4</th>\n",
       "      <td>101</td>\n",
       "      <td>82</td>\n",
       "    </tr>\n",
       "    <tr>\n",
       "      <th>4S</th>\n",
       "      <td>49</td>\n",
       "      <td>4</td>\n",
       "    </tr>\n",
       "  </tbody>\n",
       "</table>\n",
       "</div>"
      ],
      "text/plain": [
       "death_from_disease    0   1\n",
       "inss_stage                 \n",
       "1                   120   1\n",
       "2                    74   4\n",
       "3                    49  14\n",
       "4                   101  82\n",
       "4S                   49   4"
      ]
     },
     "execution_count": 5,
     "metadata": {},
     "output_type": "execute_result"
    }
   ],
   "source": [
    "pd.crosstab(meta.inss_stage, meta.death_from_disease)"
   ]
  },
  {
   "cell_type": "code",
   "execution_count": 6,
   "id": "950a8a28",
   "metadata": {
    "ExecuteTime": {
     "end_time": "2024-03-26T15:04:55.596887Z",
     "start_time": "2024-03-26T15:04:55.581666Z"
    }
   },
   "outputs": [
    {
     "data": {
      "text/html": [
       "<div>\n",
       "<style scoped>\n",
       "    .dataframe tbody tr th:only-of-type {\n",
       "        vertical-align: middle;\n",
       "    }\n",
       "\n",
       "    .dataframe tbody tr th {\n",
       "        vertical-align: top;\n",
       "    }\n",
       "\n",
       "    .dataframe thead th {\n",
       "        text-align: right;\n",
       "    }\n",
       "</style>\n",
       "<table border=\"1\" class=\"dataframe\">\n",
       "  <thead>\n",
       "    <tr style=\"text-align: right;\">\n",
       "      <th>death_from_disease</th>\n",
       "      <th>0</th>\n",
       "      <th>1</th>\n",
       "    </tr>\n",
       "    <tr>\n",
       "      <th>high_risk</th>\n",
       "      <th></th>\n",
       "      <th></th>\n",
       "    </tr>\n",
       "  </thead>\n",
       "  <tbody>\n",
       "    <tr>\n",
       "      <th>0</th>\n",
       "      <td>309</td>\n",
       "      <td>13</td>\n",
       "    </tr>\n",
       "    <tr>\n",
       "      <th>1</th>\n",
       "      <td>84</td>\n",
       "      <td>92</td>\n",
       "    </tr>\n",
       "  </tbody>\n",
       "</table>\n",
       "</div>"
      ],
      "text/plain": [
       "death_from_disease    0   1\n",
       "high_risk                  \n",
       "0                   309  13\n",
       "1                    84  92"
      ]
     },
     "execution_count": 6,
     "metadata": {},
     "output_type": "execute_result"
    }
   ],
   "source": [
    "pd.crosstab(meta.high_risk, meta.death_from_disease)"
   ]
  },
  {
   "cell_type": "code",
   "execution_count": 7,
   "id": "115e30d2",
   "metadata": {
    "ExecuteTime": {
     "end_time": "2024-03-26T15:04:55.606261Z",
     "start_time": "2024-03-26T15:04:55.599641Z"
    }
   },
   "outputs": [],
   "source": [
    "meta.Sex.replace({\"M\":1, \"F\":0}, inplace=True)\n",
    "meta.replace({\"N/A\":np.nan}, inplace=True)"
   ]
  },
  {
   "cell_type": "code",
   "execution_count": 8,
   "id": "afde69ff",
   "metadata": {
    "ExecuteTime": {
     "end_time": "2024-03-26T15:04:55.615542Z",
     "start_time": "2024-03-26T15:04:55.608328Z"
    }
   },
   "outputs": [],
   "source": [
    "stage_dummy = pd.get_dummies(meta.inss_stage, prefix='inss_stage')\n",
    "meta = pd.concat([meta, stage_dummy], axis=1)"
   ]
  },
  {
   "cell_type": "code",
   "execution_count": 9,
   "id": "6cd3c21e",
   "metadata": {
    "ExecuteTime": {
     "end_time": "2024-03-26T15:04:55.624906Z",
     "start_time": "2024-03-26T15:04:55.619657Z"
    }
   },
   "outputs": [],
   "source": [
    "meta = meta[[\"Sex\", \"age_at_diagnosis\", \"high_risk\", \n",
    "               \"death_from_disease\"\n",
    "              ]]"
   ]
  },
  {
   "cell_type": "code",
   "execution_count": 10,
   "id": "f2247581",
   "metadata": {
    "ExecuteTime": {
     "end_time": "2024-03-26T15:04:55.636620Z",
     "start_time": "2024-03-26T15:04:55.632854Z"
    }
   },
   "outputs": [],
   "source": [
    "meta.dropna(inplace=True)"
   ]
  },
  {
   "cell_type": "code",
   "execution_count": 11,
   "id": "d61993ca",
   "metadata": {
    "ExecuteTime": {
     "end_time": "2024-03-26T15:04:55.644295Z",
     "start_time": "2024-03-26T15:04:55.639196Z"
    }
   },
   "outputs": [],
   "source": [
    "meta = meta.astype(\"double\")"
   ]
  },
  {
   "cell_type": "code",
   "execution_count": 12,
   "id": "6b209e2c",
   "metadata": {
    "ExecuteTime": {
     "end_time": "2024-03-26T15:04:55.657858Z",
     "start_time": "2024-03-26T15:04:55.646707Z"
    }
   },
   "outputs": [
    {
     "data": {
      "text/html": [
       "<div>\n",
       "<style scoped>\n",
       "    .dataframe tbody tr th:only-of-type {\n",
       "        vertical-align: middle;\n",
       "    }\n",
       "\n",
       "    .dataframe tbody tr th {\n",
       "        vertical-align: top;\n",
       "    }\n",
       "\n",
       "    .dataframe thead th {\n",
       "        text-align: right;\n",
       "    }\n",
       "</style>\n",
       "<table border=\"1\" class=\"dataframe\">\n",
       "  <thead>\n",
       "    <tr style=\"text-align: right;\">\n",
       "      <th></th>\n",
       "      <th>Sex</th>\n",
       "      <th>age_at_diagnosis</th>\n",
       "      <th>high_risk</th>\n",
       "      <th>death_from_disease</th>\n",
       "    </tr>\n",
       "    <tr>\n",
       "      <th>sampleId</th>\n",
       "      <th></th>\n",
       "      <th></th>\n",
       "      <th></th>\n",
       "      <th></th>\n",
       "    </tr>\n",
       "  </thead>\n",
       "  <tbody>\n",
       "    <tr>\n",
       "      <th>SEQC_NB001</th>\n",
       "      <td>1.0</td>\n",
       "      <td>987.0</td>\n",
       "      <td>1.0</td>\n",
       "      <td>1.0</td>\n",
       "    </tr>\n",
       "    <tr>\n",
       "      <th>SEQC_NB002</th>\n",
       "      <td>1.0</td>\n",
       "      <td>1808.0</td>\n",
       "      <td>1.0</td>\n",
       "      <td>1.0</td>\n",
       "    </tr>\n",
       "    <tr>\n",
       "      <th>SEQC_NB003</th>\n",
       "      <td>0.0</td>\n",
       "      <td>625.0</td>\n",
       "      <td>1.0</td>\n",
       "      <td>1.0</td>\n",
       "    </tr>\n",
       "    <tr>\n",
       "      <th>SEQC_NB004</th>\n",
       "      <td>0.0</td>\n",
       "      <td>335.0</td>\n",
       "      <td>1.0</td>\n",
       "      <td>0.0</td>\n",
       "    </tr>\n",
       "    <tr>\n",
       "      <th>SEQC_NB005</th>\n",
       "      <td>0.0</td>\n",
       "      <td>536.0</td>\n",
       "      <td>1.0</td>\n",
       "      <td>1.0</td>\n",
       "    </tr>\n",
       "  </tbody>\n",
       "</table>\n",
       "</div>"
      ],
      "text/plain": [
       "            Sex  age_at_diagnosis  high_risk  death_from_disease\n",
       "sampleId                                                        \n",
       "SEQC_NB001  1.0             987.0        1.0                 1.0\n",
       "SEQC_NB002  1.0            1808.0        1.0                 1.0\n",
       "SEQC_NB003  0.0             625.0        1.0                 1.0\n",
       "SEQC_NB004  0.0             335.0        1.0                 0.0\n",
       "SEQC_NB005  0.0             536.0        1.0                 1.0"
      ]
     },
     "execution_count": 12,
     "metadata": {},
     "output_type": "execute_result"
    }
   ],
   "source": [
    "meta.head()"
   ]
  },
  {
   "cell_type": "code",
   "execution_count": null,
   "id": "2fbafb6a",
   "metadata": {},
   "outputs": [],
   "source": []
  },
  {
   "cell_type": "markdown",
   "id": "196ae431",
   "metadata": {},
   "source": [
    "## Gene level"
   ]
  },
  {
   "cell_type": "code",
   "execution_count": 13,
   "id": "471e3f5d",
   "metadata": {
    "ExecuteTime": {
     "end_time": "2024-03-26T15:05:00.465761Z",
     "start_time": "2024-03-26T15:04:55.662741Z"
    }
   },
   "outputs": [],
   "source": [
    "rna = pd.read_table(\"../rawData/GSE49711_SEQC_NB_TAV_G_log2.final.txt.gz\")\n",
    "rna = rna[~ rna.Gene.str.contains(\"[a-z]\")]\n",
    "rna.drop([\"Gene_set\",\"NCBI_gene_ID\",\"RefSeq_transcript_ID\",\"Chromosome\",\"Strand\",\"Start\",\"End\"], axis=1, inplace=True)\n",
    "X = rna.iloc[:,1:].transpose()\n",
    "X.columns = rna.Gene"
   ]
  },
  {
   "cell_type": "code",
   "execution_count": 14,
   "id": "f52bdc51",
   "metadata": {
    "ExecuteTime": {
     "end_time": "2024-03-26T15:05:00.531005Z",
     "start_time": "2024-03-26T15:05:00.468021Z"
    }
   },
   "outputs": [],
   "source": [
    "X = X.loc[meta.index] # keep only samples with valid Ys"
   ]
  },
  {
   "cell_type": "code",
   "execution_count": 15,
   "id": "aace9141",
   "metadata": {
    "ExecuteTime": {
     "end_time": "2024-03-26T15:05:00.571606Z",
     "start_time": "2024-03-26T15:05:00.533944Z"
    }
   },
   "outputs": [],
   "source": [
    "X_train, X_test, y_train, y_test = train_test_split(X, meta.death_from_disease.astype(\"int\"), test_size=0.3, random_state=1234)"
   ]
  },
  {
   "cell_type": "code",
   "execution_count": null,
   "id": "426eff17",
   "metadata": {},
   "outputs": [],
   "source": []
  },
  {
   "cell_type": "markdown",
   "id": "248bb4de",
   "metadata": {},
   "source": [
    "# QC"
   ]
  },
  {
   "cell_type": "code",
   "execution_count": 16,
   "id": "6177e57b",
   "metadata": {
    "ExecuteTime": {
     "end_time": "2024-03-26T15:05:01.650438Z",
     "start_time": "2024-03-26T15:05:00.574265Z"
    }
   },
   "outputs": [
    {
     "data": {
      "text/plain": [
       "<Axes: >"
      ]
     },
     "execution_count": 16,
     "metadata": {},
     "output_type": "execute_result"
    },
    {
     "data": {
      "image/png": "[encoded data removed]",
      "text/plain": [
       "<Figure size 640x480 with 1 Axes>"
      ]
     },
     "metadata": {},
     "output_type": "display_data"
    }
   ],
   "source": [
    "X_train.median().hist(bins=100)"
   ]
  },
  {
   "cell_type": "code",
   "execution_count": 17,
   "id": "03d99444",
   "metadata": {
    "ExecuteTime": {
     "end_time": "2024-03-26T15:05:02.371951Z",
     "start_time": "2024-03-26T15:05:01.653111Z"
    }
   },
   "outputs": [],
   "source": [
    "X_train = X_train.loc[:, X_train.median() > 5]"
   ]
  },
  {
   "cell_type": "code",
   "execution_count": 18,
   "id": "5020b4d7",
   "metadata": {
    "ExecuteTime": {
     "end_time": "2024-03-26T15:05:02.379391Z",
     "start_time": "2024-03-26T15:05:02.374823Z"
    }
   },
   "outputs": [
    {
     "data": {
      "text/plain": [
       "(348, 17690)"
      ]
     },
     "execution_count": 18,
     "metadata": {},
     "output_type": "execute_result"
    }
   ],
   "source": [
    "X_train.shape"
   ]
  },
  {
   "cell_type": "code",
   "execution_count": 19,
   "id": "377b7688",
   "metadata": {
    "ExecuteTime": {
     "end_time": "2024-03-26T15:05:02.414980Z",
     "start_time": "2024-03-26T15:05:02.382299Z"
    }
   },
   "outputs": [
    {
     "data": {
      "text/html": [
       "<div>\n",
       "<style scoped>\n",
       "    .dataframe tbody tr th:only-of-type {\n",
       "        vertical-align: middle;\n",
       "    }\n",
       "\n",
       "    .dataframe tbody tr th {\n",
       "        vertical-align: top;\n",
       "    }\n",
       "\n",
       "    .dataframe thead th {\n",
       "        text-align: right;\n",
       "    }\n",
       "</style>\n",
       "<table border=\"1\" class=\"dataframe\">\n",
       "  <thead>\n",
       "    <tr style=\"text-align: right;\">\n",
       "      <th>Gene</th>\n",
       "      <th>A1BGAS</th>\n",
       "      <th>A2BP1</th>\n",
       "      <th>A2LD1</th>\n",
       "      <th>A2M</th>\n",
       "      <th>A2ML1</th>\n",
       "      <th>A2MP1</th>\n",
       "      <th>A4GALT</th>\n",
       "      <th>A4GNT</th>\n",
       "      <th>AAAS</th>\n",
       "      <th>AACS</th>\n",
       "      <th>...</th>\n",
       "      <th>ZWILCH</th>\n",
       "      <th>ZWINT</th>\n",
       "      <th>ZXDA</th>\n",
       "      <th>ZXDB</th>\n",
       "      <th>ZXDC</th>\n",
       "      <th>ZYG11A</th>\n",
       "      <th>ZYG11B</th>\n",
       "      <th>ZYX</th>\n",
       "      <th>ZZEF1</th>\n",
       "      <th>ZZZ3</th>\n",
       "    </tr>\n",
       "    <tr>\n",
       "      <th>sampleId</th>\n",
       "      <th></th>\n",
       "      <th></th>\n",
       "      <th></th>\n",
       "      <th></th>\n",
       "      <th></th>\n",
       "      <th></th>\n",
       "      <th></th>\n",
       "      <th></th>\n",
       "      <th></th>\n",
       "      <th></th>\n",
       "      <th></th>\n",
       "      <th></th>\n",
       "      <th></th>\n",
       "      <th></th>\n",
       "      <th></th>\n",
       "      <th></th>\n",
       "      <th></th>\n",
       "      <th></th>\n",
       "      <th></th>\n",
       "      <th></th>\n",
       "      <th></th>\n",
       "    </tr>\n",
       "  </thead>\n",
       "  <tbody>\n",
       "    <tr>\n",
       "      <th>SEQC_NB102</th>\n",
       "      <td>16.7357</td>\n",
       "      <td>17.9114</td>\n",
       "      <td>14.0537</td>\n",
       "      <td>21.9081</td>\n",
       "      <td>0.0000</td>\n",
       "      <td>12.0024</td>\n",
       "      <td>15.6537</td>\n",
       "      <td>9.0301</td>\n",
       "      <td>19.4758</td>\n",
       "      <td>18.0972</td>\n",
       "      <td>...</td>\n",
       "      <td>18.3833</td>\n",
       "      <td>17.6296</td>\n",
       "      <td>14.6009</td>\n",
       "      <td>16.2632</td>\n",
       "      <td>17.9572</td>\n",
       "      <td>7.7186</td>\n",
       "      <td>19.4822</td>\n",
       "      <td>20.7294</td>\n",
       "      <td>19.3656</td>\n",
       "      <td>18.1493</td>\n",
       "    </tr>\n",
       "    <tr>\n",
       "      <th>SEQC_NB224</th>\n",
       "      <td>17.5139</td>\n",
       "      <td>11.3959</td>\n",
       "      <td>16.5787</td>\n",
       "      <td>20.2727</td>\n",
       "      <td>0.0000</td>\n",
       "      <td>13.5738</td>\n",
       "      <td>13.7903</td>\n",
       "      <td>10.9309</td>\n",
       "      <td>19.1799</td>\n",
       "      <td>18.4042</td>\n",
       "      <td>...</td>\n",
       "      <td>19.5266</td>\n",
       "      <td>18.6532</td>\n",
       "      <td>14.6978</td>\n",
       "      <td>16.0329</td>\n",
       "      <td>17.8711</td>\n",
       "      <td>11.2946</td>\n",
       "      <td>19.6499</td>\n",
       "      <td>21.4965</td>\n",
       "      <td>18.4547</td>\n",
       "      <td>17.7847</td>\n",
       "    </tr>\n",
       "    <tr>\n",
       "      <th>SEQC_NB421</th>\n",
       "      <td>16.0350</td>\n",
       "      <td>20.0305</td>\n",
       "      <td>13.1467</td>\n",
       "      <td>21.5514</td>\n",
       "      <td>12.1984</td>\n",
       "      <td>10.5201</td>\n",
       "      <td>15.0216</td>\n",
       "      <td>0.0000</td>\n",
       "      <td>20.5388</td>\n",
       "      <td>18.2440</td>\n",
       "      <td>...</td>\n",
       "      <td>18.4143</td>\n",
       "      <td>19.8538</td>\n",
       "      <td>13.4772</td>\n",
       "      <td>14.9664</td>\n",
       "      <td>18.8289</td>\n",
       "      <td>0.0000</td>\n",
       "      <td>19.3372</td>\n",
       "      <td>20.5858</td>\n",
       "      <td>19.0560</td>\n",
       "      <td>18.6560</td>\n",
       "    </tr>\n",
       "    <tr>\n",
       "      <th>SEQC_NB034</th>\n",
       "      <td>17.6475</td>\n",
       "      <td>18.7384</td>\n",
       "      <td>15.4725</td>\n",
       "      <td>21.1799</td>\n",
       "      <td>12.8712</td>\n",
       "      <td>10.0195</td>\n",
       "      <td>14.7543</td>\n",
       "      <td>10.4171</td>\n",
       "      <td>19.4232</td>\n",
       "      <td>17.7432</td>\n",
       "      <td>...</td>\n",
       "      <td>18.0296</td>\n",
       "      <td>17.4029</td>\n",
       "      <td>15.5527</td>\n",
       "      <td>16.9900</td>\n",
       "      <td>18.2565</td>\n",
       "      <td>11.7547</td>\n",
       "      <td>19.8198</td>\n",
       "      <td>20.4625</td>\n",
       "      <td>18.8839</td>\n",
       "      <td>18.4661</td>\n",
       "    </tr>\n",
       "    <tr>\n",
       "      <th>SEQC_NB141</th>\n",
       "      <td>16.9045</td>\n",
       "      <td>19.1381</td>\n",
       "      <td>14.7052</td>\n",
       "      <td>20.6958</td>\n",
       "      <td>0.0000</td>\n",
       "      <td>10.2827</td>\n",
       "      <td>15.6099</td>\n",
       "      <td>10.0843</td>\n",
       "      <td>19.5975</td>\n",
       "      <td>18.1687</td>\n",
       "      <td>...</td>\n",
       "      <td>18.0212</td>\n",
       "      <td>18.8623</td>\n",
       "      <td>14.7029</td>\n",
       "      <td>16.0657</td>\n",
       "      <td>18.3429</td>\n",
       "      <td>0.0000</td>\n",
       "      <td>19.7591</td>\n",
       "      <td>19.9604</td>\n",
       "      <td>19.5410</td>\n",
       "      <td>19.1973</td>\n",
       "    </tr>\n",
       "    <tr>\n",
       "      <th>...</th>\n",
       "      <td>...</td>\n",
       "      <td>...</td>\n",
       "      <td>...</td>\n",
       "      <td>...</td>\n",
       "      <td>...</td>\n",
       "      <td>...</td>\n",
       "      <td>...</td>\n",
       "      <td>...</td>\n",
       "      <td>...</td>\n",
       "      <td>...</td>\n",
       "      <td>...</td>\n",
       "      <td>...</td>\n",
       "      <td>...</td>\n",
       "      <td>...</td>\n",
       "      <td>...</td>\n",
       "      <td>...</td>\n",
       "      <td>...</td>\n",
       "      <td>...</td>\n",
       "      <td>...</td>\n",
       "      <td>...</td>\n",
       "      <td>...</td>\n",
       "    </tr>\n",
       "    <tr>\n",
       "      <th>SEQC_NB205</th>\n",
       "      <td>16.5643</td>\n",
       "      <td>19.4674</td>\n",
       "      <td>14.5277</td>\n",
       "      <td>22.6085</td>\n",
       "      <td>0.0000</td>\n",
       "      <td>11.3414</td>\n",
       "      <td>15.4838</td>\n",
       "      <td>0.0000</td>\n",
       "      <td>19.7447</td>\n",
       "      <td>18.5969</td>\n",
       "      <td>...</td>\n",
       "      <td>18.4851</td>\n",
       "      <td>18.7221</td>\n",
       "      <td>13.5734</td>\n",
       "      <td>15.1146</td>\n",
       "      <td>18.6445</td>\n",
       "      <td>8.8280</td>\n",
       "      <td>19.6722</td>\n",
       "      <td>20.8143</td>\n",
       "      <td>18.3852</td>\n",
       "      <td>18.4585</td>\n",
       "    </tr>\n",
       "    <tr>\n",
       "      <th>SEQC_NB054</th>\n",
       "      <td>16.6492</td>\n",
       "      <td>19.5313</td>\n",
       "      <td>14.2535</td>\n",
       "      <td>21.6060</td>\n",
       "      <td>13.1517</td>\n",
       "      <td>12.1404</td>\n",
       "      <td>15.4274</td>\n",
       "      <td>11.4453</td>\n",
       "      <td>19.8313</td>\n",
       "      <td>18.5733</td>\n",
       "      <td>...</td>\n",
       "      <td>17.4503</td>\n",
       "      <td>17.9483</td>\n",
       "      <td>15.2092</td>\n",
       "      <td>17.0717</td>\n",
       "      <td>18.2799</td>\n",
       "      <td>10.3980</td>\n",
       "      <td>20.3791</td>\n",
       "      <td>19.9456</td>\n",
       "      <td>19.6730</td>\n",
       "      <td>18.9018</td>\n",
       "    </tr>\n",
       "    <tr>\n",
       "      <th>SEQC_NB295</th>\n",
       "      <td>17.2579</td>\n",
       "      <td>18.9859</td>\n",
       "      <td>15.1080</td>\n",
       "      <td>24.1130</td>\n",
       "      <td>11.6267</td>\n",
       "      <td>0.0000</td>\n",
       "      <td>13.5970</td>\n",
       "      <td>13.6984</td>\n",
       "      <td>19.9612</td>\n",
       "      <td>18.0283</td>\n",
       "      <td>...</td>\n",
       "      <td>18.2514</td>\n",
       "      <td>18.3063</td>\n",
       "      <td>15.1859</td>\n",
       "      <td>16.6240</td>\n",
       "      <td>18.7040</td>\n",
       "      <td>12.1890</td>\n",
       "      <td>19.1276</td>\n",
       "      <td>18.4553</td>\n",
       "      <td>18.9061</td>\n",
       "      <td>18.7622</td>\n",
       "    </tr>\n",
       "    <tr>\n",
       "      <th>SEQC_NB212</th>\n",
       "      <td>16.8228</td>\n",
       "      <td>20.0859</td>\n",
       "      <td>14.9854</td>\n",
       "      <td>20.3897</td>\n",
       "      <td>12.4722</td>\n",
       "      <td>11.3602</td>\n",
       "      <td>14.5623</td>\n",
       "      <td>12.1611</td>\n",
       "      <td>19.8502</td>\n",
       "      <td>18.6534</td>\n",
       "      <td>...</td>\n",
       "      <td>19.2141</td>\n",
       "      <td>19.0378</td>\n",
       "      <td>14.9486</td>\n",
       "      <td>16.2247</td>\n",
       "      <td>18.4007</td>\n",
       "      <td>7.8332</td>\n",
       "      <td>19.5128</td>\n",
       "      <td>19.6546</td>\n",
       "      <td>19.3572</td>\n",
       "      <td>18.6881</td>\n",
       "    </tr>\n",
       "    <tr>\n",
       "      <th>SEQC_NB304</th>\n",
       "      <td>15.9541</td>\n",
       "      <td>18.8526</td>\n",
       "      <td>14.9889</td>\n",
       "      <td>19.8396</td>\n",
       "      <td>0.0000</td>\n",
       "      <td>9.6691</td>\n",
       "      <td>14.2725</td>\n",
       "      <td>11.0242</td>\n",
       "      <td>19.5408</td>\n",
       "      <td>18.5247</td>\n",
       "      <td>...</td>\n",
       "      <td>19.1561</td>\n",
       "      <td>19.4431</td>\n",
       "      <td>14.9102</td>\n",
       "      <td>16.6080</td>\n",
       "      <td>17.9482</td>\n",
       "      <td>9.7589</td>\n",
       "      <td>19.2280</td>\n",
       "      <td>19.8744</td>\n",
       "      <td>18.9968</td>\n",
       "      <td>18.7583</td>\n",
       "    </tr>\n",
       "  </tbody>\n",
       "</table>\n",
       "<p>348 rows × 17690 columns</p>\n",
       "</div>"
      ],
      "text/plain": [
       "Gene         A1BGAS    A2BP1    A2LD1      A2M    A2ML1    A2MP1   A4GALT  \\\n",
       "sampleId                                                                    \n",
       "SEQC_NB102  16.7357  17.9114  14.0537  21.9081   0.0000  12.0024  15.6537   \n",
       "SEQC_NB224  17.5139  11.3959  16.5787  20.2727   0.0000  13.5738  13.7903   \n",
       "SEQC_NB421  16.0350  20.0305  13.1467  21.5514  12.1984  10.5201  15.0216   \n",
       "SEQC_NB034  17.6475  18.7384  15.4725  21.1799  12.8712  10.0195  14.7543   \n",
       "SEQC_NB141  16.9045  19.1381  14.7052  20.6958   0.0000  10.2827  15.6099   \n",
       "...             ...      ...      ...      ...      ...      ...      ...   \n",
       "SEQC_NB205  16.5643  19.4674  14.5277  22.6085   0.0000  11.3414  15.4838   \n",
       "SEQC_NB054  16.6492  19.5313  14.2535  21.6060  13.1517  12.1404  15.4274   \n",
       "SEQC_NB295  17.2579  18.9859  15.1080  24.1130  11.6267   0.0000  13.5970   \n",
       "SEQC_NB212  16.8228  20.0859  14.9854  20.3897  12.4722  11.3602  14.5623   \n",
       "SEQC_NB304  15.9541  18.8526  14.9889  19.8396   0.0000   9.6691  14.2725   \n",
       "\n",
       "Gene          A4GNT     AAAS     AACS  ...   ZWILCH    ZWINT     ZXDA  \\\n",
       "sampleId                               ...                              \n",
       "SEQC_NB102   9.0301  19.4758  18.0972  ...  18.3833  17.6296  14.6009   \n",
       "SEQC_NB224  10.9309  19.1799  18.4042  ...  19.5266  18.6532  14.6978   \n",
       "SEQC_NB421   0.0000  20.5388  18.2440  ...  18.4143  19.8538  13.4772   \n",
       "SEQC_NB034  10.4171  19.4232  17.7432  ...  18.0296  17.4029  15.5527   \n",
       "SEQC_NB141  10.0843  19.5975  18.1687  ...  18.0212  18.8623  14.7029   \n",
       "...             ...      ...      ...  ...      ...      ...      ...   \n",
       "SEQC_NB205   0.0000  19.7447  18.5969  ...  18.4851  18.7221  13.5734   \n",
       "SEQC_NB054  11.4453  19.8313  18.5733  ...  17.4503  17.9483  15.2092   \n",
       "SEQC_NB295  13.6984  19.9612  18.0283  ...  18.2514  18.3063  15.1859   \n",
       "SEQC_NB212  12.1611  19.8502  18.6534  ...  19.2141  19.0378  14.9486   \n",
       "SEQC_NB304  11.0242  19.5408  18.5247  ...  19.1561  19.4431  14.9102   \n",
       "\n",
       "Gene           ZXDB     ZXDC   ZYG11A   ZYG11B      ZYX    ZZEF1     ZZZ3  \n",
       "sampleId                                                                   \n",
       "SEQC_NB102  16.2632  17.9572   7.7186  19.4822  20.7294  19.3656  18.1493  \n",
       "SEQC_NB224  16.0329  17.8711  11.2946  19.6499  21.4965  18.4547  17.7847  \n",
       "SEQC_NB421  14.9664  18.8289   0.0000  19.3372  20.5858  19.0560  18.6560  \n",
       "SEQC_NB034  16.9900  18.2565  11.7547  19.8198  20.4625  18.8839  18.4661  \n",
       "SEQC_NB141  16.0657  18.3429   0.0000  19.7591  19.9604  19.5410  19.1973  \n",
       "...             ...      ...      ...      ...      ...      ...      ...  \n",
       "SEQC_NB205  15.1146  18.6445   8.8280  19.6722  20.8143  18.3852  18.4585  \n",
       "SEQC_NB054  17.0717  18.2799  10.3980  20.3791  19.9456  19.6730  18.9018  \n",
       "SEQC_NB295  16.6240  18.7040  12.1890  19.1276  18.4553  18.9061  18.7622  \n",
       "SEQC_NB212  16.2247  18.4007   7.8332  19.5128  19.6546  19.3572  18.6881  \n",
       "SEQC_NB304  16.6080  17.9482   9.7589  19.2280  19.8744  18.9968  18.7583  \n",
       "\n",
       "[348 rows x 17690 columns]"
      ]
     },
     "execution_count": 19,
     "metadata": {},
     "output_type": "execute_result"
    }
   ],
   "source": [
    "X_train"
   ]
  },
  {
   "cell_type": "code",
   "execution_count": 20,
   "id": "88515902",
   "metadata": {
    "ExecuteTime": {
     "end_time": "2024-03-26T15:05:02.783170Z",
     "start_time": "2024-03-26T15:05:02.417977Z"
    }
   },
   "outputs": [],
   "source": [
    "scaler = StandardScaler()\n",
    "X_train_scaled = scaler.fit_transform(X_train)\n",
    "X_train_scaled = pd.DataFrame(X_train_scaled, index=X_train.index, columns=X_train.columns)"
   ]
  },
  {
   "cell_type": "code",
   "execution_count": 21,
   "id": "985e3d9b",
   "metadata": {
    "ExecuteTime": {
     "end_time": "2024-03-26T15:05:02.973105Z",
     "start_time": "2024-03-26T15:05:02.785621Z"
    }
   },
   "outputs": [],
   "source": [
    "X_test_scaled = scaler.transform(X_test.loc[:, X_train.columns])\n",
    "X_test_scaled = pd.DataFrame(X_test_scaled, index=X_test.index, columns=X_train.columns)"
   ]
  },
  {
   "cell_type": "code",
   "execution_count": null,
   "id": "e632a0de",
   "metadata": {},
   "outputs": [],
   "source": []
  },
  {
   "cell_type": "code",
   "execution_count": null,
   "id": "848bbca7",
   "metadata": {
    "ExecuteTime": {
     "end_time": "2024-03-24T21:14:29.922489Z",
     "start_time": "2024-03-24T21:14:29.918939Z"
    }
   },
   "outputs": [],
   "source": []
  },
  {
   "cell_type": "code",
   "execution_count": 22,
   "id": "fd02bd68",
   "metadata": {
    "ExecuteTime": {
     "end_time": "2024-03-26T15:05:02.982488Z",
     "start_time": "2024-03-26T15:05:02.975914Z"
    }
   },
   "outputs": [],
   "source": [
    "meta_train = meta.loc[X_train.index]\n",
    "age_scaler = StandardScaler()\n",
    "age_at_diagnosis = age_scaler.fit_transform(np.array(meta_train.age_at_diagnosis).reshape(-1, 1))\n",
    "meta_train.age_at_diagnosis = age_at_diagnosis\n",
    "meta_train.drop([\"death_from_disease\", \"high_risk\"], axis = 1, inplace=True)"
   ]
  },
  {
   "cell_type": "code",
   "execution_count": 23,
   "id": "0498aebd",
   "metadata": {
    "ExecuteTime": {
     "end_time": "2024-03-26T15:05:03.040864Z",
     "start_time": "2024-03-26T15:05:02.985142Z"
    }
   },
   "outputs": [],
   "source": [
    "X_train_scaled = pd.concat([X_train_scaled, meta_train], axis=1)"
   ]
  },
  {
   "cell_type": "code",
   "execution_count": 24,
   "id": "ee2be2d3",
   "metadata": {
    "ExecuteTime": {
     "end_time": "2024-03-26T15:05:03.051416Z",
     "start_time": "2024-03-26T15:05:03.044471Z"
    }
   },
   "outputs": [],
   "source": [
    "meta_test = meta.loc[X_test.index]\n",
    "age_at_diagnosis = age_scaler.transform(np.array(meta_test.age_at_diagnosis).reshape(-1, 1))\n",
    "meta_test.age_at_diagnosis = age_at_diagnosis\n",
    "meta_test.drop([\"death_from_disease\", \"high_risk\"], axis = 1, inplace=True)"
   ]
  },
  {
   "cell_type": "code",
   "execution_count": 25,
   "id": "5f49f5f7",
   "metadata": {
    "ExecuteTime": {
     "end_time": "2024-03-26T15:05:03.073274Z",
     "start_time": "2024-03-26T15:05:03.053626Z"
    }
   },
   "outputs": [],
   "source": [
    "X_test_scaled = pd.concat([X_test_scaled, meta_test], axis=1)"
   ]
  },
  {
   "cell_type": "code",
   "execution_count": null,
   "id": "e49c0caf",
   "metadata": {},
   "outputs": [],
   "source": []
  },
  {
   "cell_type": "markdown",
   "id": "21f69757",
   "metadata": {},
   "source": [
    "# L1 Logistic regression"
   ]
  },
  {
   "cell_type": "code",
   "execution_count": 26,
   "id": "e6a3b207",
   "metadata": {
    "ExecuteTime": {
     "end_time": "2024-03-26T15:05:03.137441Z",
     "start_time": "2024-03-26T15:05:03.076199Z"
    }
   },
   "outputs": [],
   "source": [
    "from sklearn.linear_model import LogisticRegression, LogisticRegressionCV\n",
    "from sklearn.metrics import accuracy_score, classification_report"
   ]
  },
  {
   "cell_type": "code",
   "execution_count": 27,
   "id": "f2afa29c",
   "metadata": {
    "ExecuteTime": {
     "end_time": "2024-03-26T15:05:40.571440Z",
     "start_time": "2024-03-26T15:05:03.140622Z"
    }
   },
   "outputs": [],
   "source": [
    "model = LogisticRegressionCV(penalty='l1', solver='liblinear', cv = 5, random_state=1234, Cs= 20, class_weight=\"balanced\")\n",
    "model.fit(X_train_scaled, y_train)\n",
    "\n",
    "# Make predictions on the test set\n",
    "y_pred = model.predict(X_test_scaled)\n",
    "\n",
    "# Evaluate the model\n",
    "accuracy = accuracy_score(y_test, y_pred)"
   ]
  },
  {
   "cell_type": "code",
   "execution_count": 28,
   "id": "5bfe753e",
   "metadata": {
    "ExecuteTime": {
     "end_time": "2024-03-26T15:05:40.587320Z",
     "start_time": "2024-03-26T15:05:40.582675Z"
    }
   },
   "outputs": [
    {
     "data": {
      "text/plain": [
       "0.7933333333333333"
      ]
     },
     "execution_count": 28,
     "metadata": {},
     "output_type": "execute_result"
    }
   ],
   "source": [
    "accuracy"
   ]
  },
  {
   "cell_type": "code",
   "execution_count": 29,
   "id": "60933ca9",
   "metadata": {
    "ExecuteTime": {
     "end_time": "2024-03-26T15:05:40.607219Z",
     "start_time": "2024-03-26T15:05:40.590315Z"
    }
   },
   "outputs": [
    {
     "data": {
      "text/html": [
       "<div>\n",
       "<style scoped>\n",
       "    .dataframe tbody tr th:only-of-type {\n",
       "        vertical-align: middle;\n",
       "    }\n",
       "\n",
       "    .dataframe tbody tr th {\n",
       "        vertical-align: top;\n",
       "    }\n",
       "\n",
       "    .dataframe thead th {\n",
       "        text-align: right;\n",
       "    }\n",
       "</style>\n",
       "<table border=\"1\" class=\"dataframe\">\n",
       "  <thead>\n",
       "    <tr style=\"text-align: right;\">\n",
       "      <th>death_from_disease</th>\n",
       "      <th>0</th>\n",
       "      <th>1</th>\n",
       "    </tr>\n",
       "    <tr>\n",
       "      <th>row_0</th>\n",
       "      <th></th>\n",
       "      <th></th>\n",
       "    </tr>\n",
       "  </thead>\n",
       "  <tbody>\n",
       "    <tr>\n",
       "      <th>0</th>\n",
       "      <td>98</td>\n",
       "      <td>6</td>\n",
       "    </tr>\n",
       "    <tr>\n",
       "      <th>1</th>\n",
       "      <td>25</td>\n",
       "      <td>21</td>\n",
       "    </tr>\n",
       "  </tbody>\n",
       "</table>\n",
       "</div>"
      ],
      "text/plain": [
       "death_from_disease   0   1\n",
       "row_0                     \n",
       "0                   98   6\n",
       "1                   25  21"
      ]
     },
     "execution_count": 29,
     "metadata": {},
     "output_type": "execute_result"
    }
   ],
   "source": [
    "pd.crosstab(y_pred, y_test)"
   ]
  },
  {
   "cell_type": "code",
   "execution_count": 30,
   "id": "47d71056",
   "metadata": {
    "ExecuteTime": {
     "end_time": "2024-03-26T15:05:40.631210Z",
     "start_time": "2024-03-26T15:05:40.610473Z"
    }
   },
   "outputs": [
    {
     "data": {
      "text/html": [
       "<div>\n",
       "<style scoped>\n",
       "    .dataframe tbody tr th:only-of-type {\n",
       "        vertical-align: middle;\n",
       "    }\n",
       "\n",
       "    .dataframe tbody tr th {\n",
       "        vertical-align: top;\n",
       "    }\n",
       "\n",
       "    .dataframe thead th {\n",
       "        text-align: right;\n",
       "    }\n",
       "</style>\n",
       "<table border=\"1\" class=\"dataframe\">\n",
       "  <thead>\n",
       "    <tr style=\"text-align: right;\">\n",
       "      <th>death_from_disease</th>\n",
       "      <th>0.0</th>\n",
       "      <th>1.0</th>\n",
       "    </tr>\n",
       "    <tr>\n",
       "      <th>high_risk</th>\n",
       "      <th></th>\n",
       "      <th></th>\n",
       "    </tr>\n",
       "  </thead>\n",
       "  <tbody>\n",
       "    <tr>\n",
       "      <th>0.0</th>\n",
       "      <td>100</td>\n",
       "      <td>6</td>\n",
       "    </tr>\n",
       "    <tr>\n",
       "      <th>1.0</th>\n",
       "      <td>23</td>\n",
       "      <td>21</td>\n",
       "    </tr>\n",
       "  </tbody>\n",
       "</table>\n",
       "</div>"
      ],
      "text/plain": [
       "death_from_disease  0.0  1.0\n",
       "high_risk                   \n",
       "0.0                 100    6\n",
       "1.0                  23   21"
      ]
     },
     "execution_count": 30,
     "metadata": {},
     "output_type": "execute_result"
    }
   ],
   "source": [
    "pd.crosstab(meta.loc[y_test.index].high_risk, meta.loc[y_test.index].death_from_disease)"
   ]
  },
  {
   "cell_type": "code",
   "execution_count": 31,
   "id": "434edf11",
   "metadata": {
    "ExecuteTime": {
     "end_time": "2024-03-26T15:05:40.647651Z",
     "start_time": "2024-03-26T15:05:40.634510Z"
    }
   },
   "outputs": [
    {
     "name": "stdout",
     "output_type": "stream",
     "text": [
      "              precision    recall  f1-score   support\n",
      "\n",
      "           0       0.94      0.80      0.86       123\n",
      "           1       0.46      0.78      0.58        27\n",
      "\n",
      "    accuracy                           0.79       150\n",
      "   macro avg       0.70      0.79      0.72       150\n",
      "weighted avg       0.85      0.79      0.81       150\n",
      "\n"
     ]
    }
   ],
   "source": [
    "print(classification_report(y_test, y_pred))"
   ]
  },
  {
   "cell_type": "code",
   "execution_count": 32,
   "id": "d0f46063",
   "metadata": {
    "ExecuteTime": {
     "end_time": "2024-03-26T15:05:41.186852Z",
     "start_time": "2024-03-26T15:05:40.650717Z"
    }
   },
   "outputs": [
    {
     "data": {
      "image/png": "[encoded data removed]",
      "text/plain": [
       "<Figure size 640x480 with 1 Axes>"
      ]
     },
     "metadata": {},
     "output_type": "display_data"
    }
   ],
   "source": [
    "_ = plt.hist(model.predict_proba(X_test_scaled)[:,1], 100)"
   ]
  },
  {
   "cell_type": "code",
   "execution_count": null,
   "id": "fe525f2b",
   "metadata": {},
   "outputs": [],
   "source": []
  },
  {
   "cell_type": "code",
   "execution_count": 33,
   "id": "836f0a73",
   "metadata": {
    "ExecuteTime": {
     "end_time": "2024-03-26T15:05:41.557780Z",
     "start_time": "2024-03-26T15:05:41.191555Z"
    }
   },
   "outputs": [
    {
     "data": {
      "image/png": "[encoded data removed]",
      "text/plain": [
       "<Figure size 640x480 with 1 Axes>"
      ]
     },
     "metadata": {},
     "output_type": "display_data"
    }
   ],
   "source": [
    "_ = plt.hist(model.coef_[0], 100)"
   ]
  },
  {
   "cell_type": "code",
   "execution_count": 34,
   "id": "44c3ee4b",
   "metadata": {
    "ExecuteTime": {
     "end_time": "2024-03-26T15:05:41.567432Z",
     "start_time": "2024-03-26T15:05:41.560314Z"
    }
   },
   "outputs": [
    {
     "data": {
      "text/plain": [
       "84"
      ]
     },
     "execution_count": 34,
     "metadata": {},
     "output_type": "execute_result"
    }
   ],
   "source": [
    "sum(model.coef_[0] != 0)"
   ]
  },
  {
   "cell_type": "code",
   "execution_count": 35,
   "id": "d0a6d908",
   "metadata": {
    "ExecuteTime": {
     "end_time": "2024-03-26T15:05:41.573787Z",
     "start_time": "2024-03-26T15:05:41.570237Z"
    }
   },
   "outputs": [],
   "source": [
    "indices = np.argsort(model.coef_[0])[::-1]"
   ]
  },
  {
   "cell_type": "code",
   "execution_count": null,
   "id": "f261c150",
   "metadata": {},
   "outputs": [],
   "source": []
  },
  {
   "cell_type": "code",
   "execution_count": 36,
   "id": "99b64afb",
   "metadata": {
    "ExecuteTime": {
     "end_time": "2024-03-26T15:05:41.893836Z",
     "start_time": "2024-03-26T15:05:41.576430Z"
    }
   },
   "outputs": [
    {
     "data": {
      "image/png": "[encoded data removed]",
      "text/plain": [
       "<Figure size 640x480 with 1 Axes>"
      ]
     },
     "metadata": {},
     "output_type": "display_data"
    }
   ],
   "source": [
    "plt.barh(X_train_scaled.columns[indices][range(20)][::-1], model.coef_[0][indices][range(20)][::-1])\n",
    "plt.title(\"Permutation-based feature importance\")\n",
    "plt.xlabel(\"Importance\")\n",
    "plt.ylabel(\"Feature\")\n",
    "plt.show()"
   ]
  },
  {
   "cell_type": "code",
   "execution_count": 37,
   "id": "8f3c5f0b",
   "metadata": {
    "ExecuteTime": {
     "end_time": "2024-03-26T15:05:42.194763Z",
     "start_time": "2024-03-26T15:05:41.898114Z"
    }
   },
   "outputs": [
    {
     "data": {
      "image/png": "[encoded data removed]",
      "text/plain": [
       "<Figure size 640x480 with 1 Axes>"
      ]
     },
     "metadata": {},
     "output_type": "display_data"
    }
   ],
   "source": [
    "plt.plot(np.log10(model.Cs_), model.scores_[1].T)\n",
    "plt.show()"
   ]
  },
  {
   "cell_type": "code",
   "execution_count": 38,
   "id": "5956b1b8",
   "metadata": {
    "ExecuteTime": {
     "end_time": "2024-03-26T15:05:42.432534Z",
     "start_time": "2024-03-26T15:05:42.201703Z"
    }
   },
   "outputs": [
    {
     "data": {
      "image/png": "[encoded data removed]",
      "text/plain": [
       "<Figure size 640x480 with 1 Axes>"
      ]
     },
     "metadata": {},
     "output_type": "display_data"
    }
   ],
   "source": [
    "plt.plot(np.log10(model.Cs_), np.mean(model.scores_[1].T, axis = 1))\n",
    "plt.show()"
   ]
  },
  {
   "cell_type": "code",
   "execution_count": null,
   "id": "13aeefa8",
   "metadata": {},
   "outputs": [],
   "source": []
  },
  {
   "cell_type": "code",
   "execution_count": null,
   "id": "e4411471",
   "metadata": {},
   "outputs": [],
   "source": []
  },
  {
   "cell_type": "code",
   "execution_count": null,
   "id": "f3775e66",
   "metadata": {},
   "outputs": [],
   "source": []
  },
  {
   "cell_type": "code",
   "execution_count": null,
   "id": "b5477e6b",
   "metadata": {},
   "outputs": [],
   "source": []
  },
  {
   "cell_type": "markdown",
   "id": "480eb858",
   "metadata": {},
   "source": [
    "# Ranodm forest"
   ]
  },
  {
   "cell_type": "code",
   "execution_count": 39,
   "id": "1d02712c",
   "metadata": {
    "ExecuteTime": {
     "end_time": "2024-03-26T15:05:42.567996Z",
     "start_time": "2024-03-26T15:05:42.435255Z"
    }
   },
   "outputs": [],
   "source": [
    "from sklearn.ensemble import RandomForestClassifier\n"
   ]
  },
  {
   "cell_type": "code",
   "execution_count": 40,
   "id": "20f26ebb",
   "metadata": {
    "ExecuteTime": {
     "end_time": "2024-03-26T15:05:42.637088Z",
     "start_time": "2024-03-26T15:05:42.570709Z"
    }
   },
   "outputs": [],
   "source": [
    "X_train = pd.concat([X_train, meta_train], axis=1)\n",
    "X_test = pd.concat([X_test, meta_test], axis=1)"
   ]
  },
  {
   "cell_type": "code",
   "execution_count": 41,
   "id": "11266616",
   "metadata": {
    "ExecuteTime": {
     "end_time": "2024-03-26T15:06:03.354268Z",
     "start_time": "2024-03-26T15:05:42.639732Z"
    }
   },
   "outputs": [],
   "source": [
    "rf_classifier = RandomForestClassifier(n_estimators=1000, random_state=1234, class_weight=\"balanced\")\n",
    "rf_classifier.fit(X_train, y_train)\n",
    "y_pred = rf_classifier.predict(X_test.loc[:, X_train.columns])"
   ]
  },
  {
   "cell_type": "code",
   "execution_count": 42,
   "id": "52f2bcd4",
   "metadata": {
    "ExecuteTime": {
     "end_time": "2024-03-26T15:06:03.361675Z",
     "start_time": "2024-03-26T15:06:03.357317Z"
    }
   },
   "outputs": [],
   "source": [
    "accuracy = accuracy_score(y_test, y_pred)"
   ]
  },
  {
   "cell_type": "code",
   "execution_count": 43,
   "id": "0deb2503",
   "metadata": {
    "ExecuteTime": {
     "end_time": "2024-03-26T15:06:03.372471Z",
     "start_time": "2024-03-26T15:06:03.364419Z"
    }
   },
   "outputs": [
    {
     "data": {
      "text/plain": [
       "0.8533333333333334"
      ]
     },
     "execution_count": 43,
     "metadata": {},
     "output_type": "execute_result"
    }
   ],
   "source": [
    "accuracy"
   ]
  },
  {
   "cell_type": "code",
   "execution_count": 44,
   "id": "80d8956d",
   "metadata": {
    "ExecuteTime": {
     "end_time": "2024-03-26T15:06:03.391741Z",
     "start_time": "2024-03-26T15:06:03.375208Z"
    }
   },
   "outputs": [
    {
     "data": {
      "text/html": [
       "<div>\n",
       "<style scoped>\n",
       "    .dataframe tbody tr th:only-of-type {\n",
       "        vertical-align: middle;\n",
       "    }\n",
       "\n",
       "    .dataframe tbody tr th {\n",
       "        vertical-align: top;\n",
       "    }\n",
       "\n",
       "    .dataframe thead th {\n",
       "        text-align: right;\n",
       "    }\n",
       "</style>\n",
       "<table border=\"1\" class=\"dataframe\">\n",
       "  <thead>\n",
       "    <tr style=\"text-align: right;\">\n",
       "      <th>death_from_disease</th>\n",
       "      <th>0</th>\n",
       "      <th>1</th>\n",
       "    </tr>\n",
       "    <tr>\n",
       "      <th>row_0</th>\n",
       "      <th></th>\n",
       "      <th></th>\n",
       "    </tr>\n",
       "  </thead>\n",
       "  <tbody>\n",
       "    <tr>\n",
       "      <th>0</th>\n",
       "      <td>118</td>\n",
       "      <td>17</td>\n",
       "    </tr>\n",
       "    <tr>\n",
       "      <th>1</th>\n",
       "      <td>5</td>\n",
       "      <td>10</td>\n",
       "    </tr>\n",
       "  </tbody>\n",
       "</table>\n",
       "</div>"
      ],
      "text/plain": [
       "death_from_disease    0   1\n",
       "row_0                      \n",
       "0                   118  17\n",
       "1                     5  10"
      ]
     },
     "execution_count": 44,
     "metadata": {},
     "output_type": "execute_result"
    }
   ],
   "source": [
    "pd.crosstab(y_pred, y_test)"
   ]
  },
  {
   "cell_type": "code",
   "execution_count": 45,
   "id": "ea405a21",
   "metadata": {
    "ExecuteTime": {
     "end_time": "2024-03-26T15:06:03.420922Z",
     "start_time": "2024-03-26T15:06:03.394996Z"
    }
   },
   "outputs": [
    {
     "data": {
      "text/html": [
       "<div>\n",
       "<style scoped>\n",
       "    .dataframe tbody tr th:only-of-type {\n",
       "        vertical-align: middle;\n",
       "    }\n",
       "\n",
       "    .dataframe tbody tr th {\n",
       "        vertical-align: top;\n",
       "    }\n",
       "\n",
       "    .dataframe thead th {\n",
       "        text-align: right;\n",
       "    }\n",
       "</style>\n",
       "<table border=\"1\" class=\"dataframe\">\n",
       "  <thead>\n",
       "    <tr style=\"text-align: right;\">\n",
       "      <th>death_from_disease</th>\n",
       "      <th>0.0</th>\n",
       "      <th>1.0</th>\n",
       "    </tr>\n",
       "    <tr>\n",
       "      <th>high_risk</th>\n",
       "      <th></th>\n",
       "      <th></th>\n",
       "    </tr>\n",
       "  </thead>\n",
       "  <tbody>\n",
       "    <tr>\n",
       "      <th>0.0</th>\n",
       "      <td>100</td>\n",
       "      <td>6</td>\n",
       "    </tr>\n",
       "    <tr>\n",
       "      <th>1.0</th>\n",
       "      <td>23</td>\n",
       "      <td>21</td>\n",
       "    </tr>\n",
       "  </tbody>\n",
       "</table>\n",
       "</div>"
      ],
      "text/plain": [
       "death_from_disease  0.0  1.0\n",
       "high_risk                   \n",
       "0.0                 100    6\n",
       "1.0                  23   21"
      ]
     },
     "execution_count": 45,
     "metadata": {},
     "output_type": "execute_result"
    }
   ],
   "source": [
    "pd.crosstab(meta.loc[y_test.index].high_risk, meta.loc[y_test.index].death_from_disease)"
   ]
  },
  {
   "cell_type": "code",
   "execution_count": 46,
   "id": "5052d3f0",
   "metadata": {
    "ExecuteTime": {
     "end_time": "2024-03-26T15:06:03.439022Z",
     "start_time": "2024-03-26T15:06:03.424270Z"
    }
   },
   "outputs": [
    {
     "name": "stdout",
     "output_type": "stream",
     "text": [
      "              precision    recall  f1-score   support\n",
      "\n",
      "           0       0.87      0.96      0.91       123\n",
      "           1       0.67      0.37      0.48        27\n",
      "\n",
      "    accuracy                           0.85       150\n",
      "   macro avg       0.77      0.66      0.70       150\n",
      "weighted avg       0.84      0.85      0.84       150\n",
      "\n"
     ]
    }
   ],
   "source": [
    "print(classification_report(y_test, y_pred))"
   ]
  },
  {
   "cell_type": "code",
   "execution_count": 47,
   "id": "1db11633",
   "metadata": {
    "ExecuteTime": {
     "end_time": "2024-03-26T15:06:03.923589Z",
     "start_time": "2024-03-26T15:06:03.442014Z"
    }
   },
   "outputs": [],
   "source": [
    "importances = rf_classifier.feature_importances_\n",
    "\n",
    "# Sort feature importances in descending order\n",
    "indices = np.argsort(importances)[::-1]"
   ]
  },
  {
   "cell_type": "code",
   "execution_count": 48,
   "id": "f0746bce",
   "metadata": {
    "ExecuteTime": {
     "end_time": "2024-03-26T15:06:03.937031Z",
     "start_time": "2024-03-26T15:06:03.926211Z"
    }
   },
   "outputs": [
    {
     "name": "stdout",
     "output_type": "stream",
     "text": [
      "Feature ranking:\n",
      "1. PGM2L1: feature 11439 (0.006877)\n",
      "2. CNIH4: feature 2467 (0.006185)\n",
      "3. PHLDB1: feature 11491 (0.005247)\n",
      "4. LOC100288145: feature 7822 (0.003988)\n",
      "5. AGRN: feature 356 (0.003877)\n",
      "6. MRPL11: feature 9861 (0.003876)\n",
      "7. TMCO1: feature 15639 (0.003292)\n",
      "8. NPM1P9: feature 10641 (0.003098)\n",
      "9. LOC653447: feature 8785 (0.002993)\n",
      "10. CCDC86: feature 1788 (0.002982)\n",
      "11. ELK1: feature 3802 (0.002970)\n",
      "12. BAZ2B: feature 1204 (0.002949)\n",
      "13. LOC644390: feature 8622 (0.002860)\n",
      "14. SLBP: feature 14191 (0.002854)\n",
      "15. POLE3: feature 11807 (0.002838)\n",
      "16. HNRNPC: feature 6014 (0.002730)\n",
      "17. SNRPE: feature 14662 (0.002684)\n",
      "18. GAR1: feature 5062 (0.002622)\n",
      "19. HSD17B3: feature 6115 (0.002495)\n",
      "20. NUP37: feature 10811 (0.002439)\n"
     ]
    }
   ],
   "source": [
    "# Print the feature ranking\n",
    "print(\"Feature ranking:\")\n",
    "for f in range(20):\n",
    "    print(\"%d. %s: feature %d (%f)\" % (f + 1, X_train.columns[indices[f]], indices[f], importances[indices[f]]))"
   ]
  },
  {
   "cell_type": "code",
   "execution_count": 49,
   "id": "2c3f73b6",
   "metadata": {
    "ExecuteTime": {
     "end_time": "2024-03-26T15:06:04.304882Z",
     "start_time": "2024-03-26T15:06:03.940102Z"
    }
   },
   "outputs": [
    {
     "data": {
      "image/png": "[encoded data removed]",
      "text/plain": [
       "<Figure size 640x480 with 1 Axes>"
      ]
     },
     "metadata": {},
     "output_type": "display_data"
    }
   ],
   "source": [
    "plt.barh(X_train.columns[indices][range(20)][::-1], importances[indices][range(20)][::-1])\n",
    "plt.title(\"Permutation-based feature importance\")\n",
    "plt.xlabel(\"Importance\")\n",
    "plt.ylabel(\"Feature\")\n",
    "plt.show()"
   ]
  },
  {
   "cell_type": "code",
   "execution_count": null,
   "id": "58c24c48",
   "metadata": {},
   "outputs": [],
   "source": []
  },
  {
   "cell_type": "code",
   "execution_count": null,
   "id": "bc5501f5",
   "metadata": {},
   "outputs": [],
   "source": []
  },
  {
   "cell_type": "code",
   "execution_count": null,
   "id": "c54876b7",
   "metadata": {},
   "outputs": [],
   "source": []
  },
  {
   "cell_type": "code",
   "execution_count": null,
   "id": "5bbb980c",
   "metadata": {},
   "outputs": [],
   "source": []
  },
  {
   "cell_type": "code",
   "execution_count": null,
   "id": "92f4150c",
   "metadata": {},
   "outputs": [],
   "source": []
  },
  {
   "cell_type": "code",
   "execution_count": null,
   "id": "fa1fdf97",
   "metadata": {},
   "outputs": [],
   "source": []
  },
  {
   "cell_type": "code",
   "execution_count": null,
   "id": "bd54cb20",
   "metadata": {},
   "outputs": [],
   "source": []
  }
 ],
 "metadata": {
  "kernelspec": {
   "display_name": "Python 3 (ipykernel)",
   "language": "python",
   "name": "python3"
  },
  "language_info": {
   "codemirror_mode": {
    "name": "ipython",
    "version": 3
   },
   "file_extension": ".py",
   "mimetype": "text/x-python",
   "name": "python",
   "nbconvert_exporter": "python",
   "pygments_lexer": "ipython3",
   "version": "3.10.7"
  }
 },
 "nbformat": 4,
 "nbformat_minor": 5
}
