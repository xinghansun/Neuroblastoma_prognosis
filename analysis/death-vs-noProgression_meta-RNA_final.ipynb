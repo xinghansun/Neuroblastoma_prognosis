{
 "cells": [
  {
   "cell_type": "code",
   "execution_count": 1,
   "id": "9f87386f",
   "metadata": {
    "ExecuteTime": {
     "end_time": "2024-03-27T19:31:43.485026Z",
     "start_time": "2024-03-27T19:31:41.503603Z"
    }
   },
   "outputs": [],
   "source": [
    "import gzip\n",
    "\n",
    "import pandas as pd\n",
    "import numpy as np\n",
    "\n",
    "from sklearn.model_selection import train_test_split\n",
    "from sklearn.metrics import roc_auc_score\n",
    "from sklearn.preprocessing import MinMaxScaler, StandardScaler\n",
    "\n",
    "from matplotlib import pyplot as plt"
   ]
  },
  {
   "cell_type": "markdown",
   "id": "6f8050eb",
   "metadata": {},
   "source": [
    "# Preprocessing"
   ]
  },
  {
   "cell_type": "markdown",
   "id": "3aadae97",
   "metadata": {},
   "source": [
    "## Meta data"
   ]
  },
  {
   "cell_type": "code",
   "execution_count": 2,
   "id": "de7ec617",
   "metadata": {
    "ExecuteTime": {
     "end_time": "2024-03-27T19:31:43.495443Z",
     "start_time": "2024-03-27T19:31:43.488241Z"
    }
   },
   "outputs": [],
   "source": [
    "def read_geo_series_matrix(file_path):\n",
    "    cols = {}\n",
    "    with gzip.open(file_path, 'rt') as f:\n",
    "        for line in f:\n",
    "            if line.startswith(\"!Sample_title\"):\n",
    "                sampleId = [i.strip('\"') for i in line.split()[1:]]\n",
    "                cols[\"sampleId\"] = sampleId\n",
    "            elif line.startswith(\"!Sample_characteristics_ch1\"):\n",
    "                _ = line[28:].strip().strip('\"').split('\"\\t\"')\n",
    "                category = _[0].split(\": \")[0].replace(\" \", \"_\")\n",
    "                values = [i.split(\": \")[1] for i in _]\n",
    "                cols.update({category: values})\n",
    "    \n",
    "    return pd.DataFrame(cols)"
   ]
  },
  {
   "cell_type": "code",
   "execution_count": 3,
   "id": "3a03c6ab",
   "metadata": {
    "ExecuteTime": {
     "end_time": "2024-03-27T19:31:43.513488Z",
     "start_time": "2024-03-27T19:31:43.498083Z"
    }
   },
   "outputs": [
    {
     "data": {
      "text/plain": [
       "(498, 11)"
      ]
     },
     "execution_count": 3,
     "metadata": {},
     "output_type": "execute_result"
    }
   ],
   "source": [
    "meta = read_geo_series_matrix(\"../rawData/GSE49711_series_matrix.txt.gz\")\n",
    "meta.index = meta.sampleId\n",
    "meta.shape"
   ]
  },
  {
   "cell_type": "code",
   "execution_count": 4,
   "id": "046f633f",
   "metadata": {
    "ExecuteTime": {
     "end_time": "2024-03-27T19:31:43.524206Z",
     "start_time": "2024-03-27T19:31:43.517105Z"
    }
   },
   "outputs": [],
   "source": [
    "meta = meta.loc[meta.death_from_disease.isin([\"0\", \"1\"])]\n",
    "meta = meta.loc[(meta.death_from_disease == \"1\") | ((meta.death_from_disease == \"0\") & (meta.progression == \"0\"))]\n",
    "meta.shape"
   ]
  },
  {
   "cell_type": "code",
   "execution_count": 5,
   "id": "51352e90",
   "metadata": {
    "ExecuteTime": {
     "end_time": "2024-03-27T19:31:43.531857Z",
     "start_time": "2024-03-27T19:31:43.526423Z"
    }
   },
   "outputs": [
    {
     "data": {
      "text/plain": [
       "0    315\n",
       "1    105\n",
       "Name: death_from_disease, dtype: int64"
      ]
     },
     "execution_count": 5,
     "metadata": {},
     "output_type": "execute_result"
    }
   ],
   "source": [
    "meta.death_from_disease.value_counts()"
   ]
  },
  {
   "cell_type": "code",
   "execution_count": 6,
   "id": "d52624bb",
   "metadata": {
    "ExecuteTime": {
     "end_time": "2024-03-27T19:31:43.552108Z",
     "start_time": "2024-03-27T19:31:43.534208Z"
    }
   },
   "outputs": [
    {
     "data": {
      "text/html": [
       "<div>\n",
       "<style scoped>\n",
       "    .dataframe tbody tr th:only-of-type {\n",
       "        vertical-align: middle;\n",
       "    }\n",
       "\n",
       "    .dataframe tbody tr th {\n",
       "        vertical-align: top;\n",
       "    }\n",
       "\n",
       "    .dataframe thead th {\n",
       "        text-align: right;\n",
       "    }\n",
       "</style>\n",
       "<table border=\"1\" class=\"dataframe\">\n",
       "  <thead>\n",
       "    <tr style=\"text-align: right;\">\n",
       "      <th>death_from_disease</th>\n",
       "      <th>0</th>\n",
       "      <th>1</th>\n",
       "    </tr>\n",
       "    <tr>\n",
       "      <th>inss_stage</th>\n",
       "      <th></th>\n",
       "      <th></th>\n",
       "    </tr>\n",
       "  </thead>\n",
       "  <tbody>\n",
       "    <tr>\n",
       "      <th>1</th>\n",
       "      <td>112</td>\n",
       "      <td>1</td>\n",
       "    </tr>\n",
       "    <tr>\n",
       "      <th>2</th>\n",
       "      <td>59</td>\n",
       "      <td>4</td>\n",
       "    </tr>\n",
       "    <tr>\n",
       "      <th>3</th>\n",
       "      <td>36</td>\n",
       "      <td>14</td>\n",
       "    </tr>\n",
       "    <tr>\n",
       "      <th>4</th>\n",
       "      <td>68</td>\n",
       "      <td>82</td>\n",
       "    </tr>\n",
       "    <tr>\n",
       "      <th>4S</th>\n",
       "      <td>40</td>\n",
       "      <td>4</td>\n",
       "    </tr>\n",
       "  </tbody>\n",
       "</table>\n",
       "</div>"
      ],
      "text/plain": [
       "death_from_disease    0   1\n",
       "inss_stage                 \n",
       "1                   112   1\n",
       "2                    59   4\n",
       "3                    36  14\n",
       "4                    68  82\n",
       "4S                   40   4"
      ]
     },
     "execution_count": 6,
     "metadata": {},
     "output_type": "execute_result"
    }
   ],
   "source": [
    "pd.crosstab(meta.inss_stage, meta.death_from_disease)"
   ]
  },
  {
   "cell_type": "code",
   "execution_count": 7,
   "id": "950a8a28",
   "metadata": {
    "ExecuteTime": {
     "end_time": "2024-03-27T19:31:43.568458Z",
     "start_time": "2024-03-27T19:31:43.554607Z"
    }
   },
   "outputs": [
    {
     "data": {
      "text/html": [
       "<div>\n",
       "<style scoped>\n",
       "    .dataframe tbody tr th:only-of-type {\n",
       "        vertical-align: middle;\n",
       "    }\n",
       "\n",
       "    .dataframe tbody tr th {\n",
       "        vertical-align: top;\n",
       "    }\n",
       "\n",
       "    .dataframe thead th {\n",
       "        text-align: right;\n",
       "    }\n",
       "</style>\n",
       "<table border=\"1\" class=\"dataframe\">\n",
       "  <thead>\n",
       "    <tr style=\"text-align: right;\">\n",
       "      <th>death_from_disease</th>\n",
       "      <th>0</th>\n",
       "      <th>1</th>\n",
       "    </tr>\n",
       "    <tr>\n",
       "      <th>high_risk</th>\n",
       "      <th></th>\n",
       "      <th></th>\n",
       "    </tr>\n",
       "  </thead>\n",
       "  <tbody>\n",
       "    <tr>\n",
       "      <th>0</th>\n",
       "      <td>259</td>\n",
       "      <td>13</td>\n",
       "    </tr>\n",
       "    <tr>\n",
       "      <th>1</th>\n",
       "      <td>56</td>\n",
       "      <td>92</td>\n",
       "    </tr>\n",
       "  </tbody>\n",
       "</table>\n",
       "</div>"
      ],
      "text/plain": [
       "death_from_disease    0   1\n",
       "high_risk                  \n",
       "0                   259  13\n",
       "1                    56  92"
      ]
     },
     "execution_count": 7,
     "metadata": {},
     "output_type": "execute_result"
    }
   ],
   "source": [
    "pd.crosstab(meta.high_risk, meta.death_from_disease)"
   ]
  },
  {
   "cell_type": "code",
   "execution_count": 8,
   "id": "115e30d2",
   "metadata": {
    "ExecuteTime": {
     "end_time": "2024-03-27T19:31:43.577072Z",
     "start_time": "2024-03-27T19:31:43.570616Z"
    }
   },
   "outputs": [],
   "source": [
    "meta.Sex.replace({\"M\":1, \"F\":0}, inplace=True)\n",
    "meta.replace({\"N/A\":np.nan}, inplace=True)"
   ]
  },
  {
   "cell_type": "code",
   "execution_count": 9,
   "id": "afde69ff",
   "metadata": {
    "ExecuteTime": {
     "end_time": "2024-03-27T19:31:43.584259Z",
     "start_time": "2024-03-27T19:31:43.579126Z"
    }
   },
   "outputs": [],
   "source": [
    "stage_dummy = pd.get_dummies(meta.inss_stage, prefix='inss_stage')\n",
    "meta = pd.concat([meta, stage_dummy], axis=1)"
   ]
  },
  {
   "cell_type": "code",
   "execution_count": 10,
   "id": "6cd3c21e",
   "metadata": {
    "ExecuteTime": {
     "end_time": "2024-03-27T19:31:43.594222Z",
     "start_time": "2024-03-27T19:31:43.590215Z"
    }
   },
   "outputs": [],
   "source": [
    "meta = meta[[\"Sex\", \"age_at_diagnosis\", \"high_risk\", \n",
    "               \"death_from_disease\"\n",
    "              ]]"
   ]
  },
  {
   "cell_type": "code",
   "execution_count": 11,
   "id": "f2247581",
   "metadata": {
    "ExecuteTime": {
     "end_time": "2024-03-27T19:31:43.600232Z",
     "start_time": "2024-03-27T19:31:43.596550Z"
    }
   },
   "outputs": [],
   "source": [
    "meta.dropna(inplace=True)"
   ]
  },
  {
   "cell_type": "code",
   "execution_count": 12,
   "id": "d61993ca",
   "metadata": {
    "ExecuteTime": {
     "end_time": "2024-03-27T19:31:43.606064Z",
     "start_time": "2024-03-27T19:31:43.602379Z"
    }
   },
   "outputs": [],
   "source": [
    "meta = meta.astype(\"double\")"
   ]
  },
  {
   "cell_type": "code",
   "execution_count": 13,
   "id": "6b209e2c",
   "metadata": {
    "ExecuteTime": {
     "end_time": "2024-03-27T19:31:43.617911Z",
     "start_time": "2024-03-27T19:31:43.608308Z"
    }
   },
   "outputs": [
    {
     "data": {
      "text/html": [
       "<div>\n",
       "<style scoped>\n",
       "    .dataframe tbody tr th:only-of-type {\n",
       "        vertical-align: middle;\n",
       "    }\n",
       "\n",
       "    .dataframe tbody tr th {\n",
       "        vertical-align: top;\n",
       "    }\n",
       "\n",
       "    .dataframe thead th {\n",
       "        text-align: right;\n",
       "    }\n",
       "</style>\n",
       "<table border=\"1\" class=\"dataframe\">\n",
       "  <thead>\n",
       "    <tr style=\"text-align: right;\">\n",
       "      <th></th>\n",
       "      <th>Sex</th>\n",
       "      <th>age_at_diagnosis</th>\n",
       "      <th>high_risk</th>\n",
       "      <th>death_from_disease</th>\n",
       "    </tr>\n",
       "    <tr>\n",
       "      <th>sampleId</th>\n",
       "      <th></th>\n",
       "      <th></th>\n",
       "      <th></th>\n",
       "      <th></th>\n",
       "    </tr>\n",
       "  </thead>\n",
       "  <tbody>\n",
       "    <tr>\n",
       "      <th>SEQC_NB001</th>\n",
       "      <td>1.0</td>\n",
       "      <td>987.0</td>\n",
       "      <td>1.0</td>\n",
       "      <td>1.0</td>\n",
       "    </tr>\n",
       "    <tr>\n",
       "      <th>SEQC_NB002</th>\n",
       "      <td>1.0</td>\n",
       "      <td>1808.0</td>\n",
       "      <td>1.0</td>\n",
       "      <td>1.0</td>\n",
       "    </tr>\n",
       "    <tr>\n",
       "      <th>SEQC_NB003</th>\n",
       "      <td>0.0</td>\n",
       "      <td>625.0</td>\n",
       "      <td>1.0</td>\n",
       "      <td>1.0</td>\n",
       "    </tr>\n",
       "    <tr>\n",
       "      <th>SEQC_NB004</th>\n",
       "      <td>0.0</td>\n",
       "      <td>335.0</td>\n",
       "      <td>1.0</td>\n",
       "      <td>0.0</td>\n",
       "    </tr>\n",
       "    <tr>\n",
       "      <th>SEQC_NB005</th>\n",
       "      <td>0.0</td>\n",
       "      <td>536.0</td>\n",
       "      <td>1.0</td>\n",
       "      <td>1.0</td>\n",
       "    </tr>\n",
       "  </tbody>\n",
       "</table>\n",
       "</div>"
      ],
      "text/plain": [
       "            Sex  age_at_diagnosis  high_risk  death_from_disease\n",
       "sampleId                                                        \n",
       "SEQC_NB001  1.0             987.0        1.0                 1.0\n",
       "SEQC_NB002  1.0            1808.0        1.0                 1.0\n",
       "SEQC_NB003  0.0             625.0        1.0                 1.0\n",
       "SEQC_NB004  0.0             335.0        1.0                 0.0\n",
       "SEQC_NB005  0.0             536.0        1.0                 1.0"
      ]
     },
     "execution_count": 13,
     "metadata": {},
     "output_type": "execute_result"
    }
   ],
   "source": [
    "meta.head()"
   ]
  },
  {
   "cell_type": "code",
   "execution_count": null,
   "id": "2fbafb6a",
   "metadata": {},
   "outputs": [],
   "source": []
  },
  {
   "cell_type": "markdown",
   "id": "196ae431",
   "metadata": {},
   "source": [
    "## Gene level"
   ]
  },
  {
   "cell_type": "code",
   "execution_count": 14,
   "id": "471e3f5d",
   "metadata": {
    "ExecuteTime": {
     "end_time": "2024-03-27T19:31:48.503787Z",
     "start_time": "2024-03-27T19:31:43.620146Z"
    }
   },
   "outputs": [],
   "source": [
    "rna = pd.read_table(\"../rawData/GSE49711_SEQC_NB_TAV_G_log2.final.txt.gz\")\n",
    "rna = rna[~ rna.Gene.str.contains(\"[a-z]\")]\n",
    "rna.drop([\"Gene_set\",\"NCBI_gene_ID\",\"RefSeq_transcript_ID\",\"Chromosome\",\"Strand\",\"Start\",\"End\"], axis=1, inplace=True)\n",
    "X = rna.iloc[:,1:].transpose()\n",
    "X.columns = rna.Gene"
   ]
  },
  {
   "cell_type": "code",
   "execution_count": 15,
   "id": "f52bdc51",
   "metadata": {
    "ExecuteTime": {
     "end_time": "2024-03-27T19:31:48.559287Z",
     "start_time": "2024-03-27T19:31:48.506363Z"
    }
   },
   "outputs": [],
   "source": [
    "X = X.loc[meta.index] # keep only samples with valid Ys"
   ]
  },
  {
   "cell_type": "code",
   "execution_count": 16,
   "id": "aace9141",
   "metadata": {
    "ExecuteTime": {
     "end_time": "2024-03-27T19:31:48.592704Z",
     "start_time": "2024-03-27T19:31:48.561568Z"
    }
   },
   "outputs": [],
   "source": [
    "X_train, X_, y_train, y_ = train_test_split(X, meta.death_from_disease.astype(\"int\"), test_size=0.3, random_state=1234)"
   ]
  },
  {
   "cell_type": "code",
   "execution_count": 17,
   "id": "426eff17",
   "metadata": {
    "ExecuteTime": {
     "end_time": "2024-03-27T19:31:48.612418Z",
     "start_time": "2024-03-27T19:31:48.595123Z"
    }
   },
   "outputs": [],
   "source": [
    "X_val, X_test, y_val, y_test = train_test_split(X_, y_, test_size = 0.5, random_state=1234)"
   ]
  },
  {
   "cell_type": "markdown",
   "id": "248bb4de",
   "metadata": {},
   "source": [
    "# QC"
   ]
  },
  {
   "cell_type": "code",
   "execution_count": 18,
   "id": "6177e57b",
   "metadata": {
    "ExecuteTime": {
     "end_time": "2024-03-27T19:31:49.562319Z",
     "start_time": "2024-03-27T19:31:48.614750Z"
    }
   },
   "outputs": [
    {
     "data": {
      "text/plain": [
       "<Axes: >"
      ]
     },
     "execution_count": 18,
     "metadata": {},
     "output_type": "execute_result"
    },
    {
     "data": {
      "image/png": "[encoded data removed]",
      "text/plain": [
       "<Figure size 640x480 with 1 Axes>"
      ]
     },
     "metadata": {},
     "output_type": "display_data"
    }
   ],
   "source": [
    "X_train.median().hist(bins=100)"
   ]
  },
  {
   "cell_type": "code",
   "execution_count": 19,
   "id": "03d99444",
   "metadata": {
    "ExecuteTime": {
     "end_time": "2024-03-27T19:31:50.121837Z",
     "start_time": "2024-03-27T19:31:49.564629Z"
    }
   },
   "outputs": [],
   "source": [
    "X_train = X_train.loc[:, X_train.median() > 5]"
   ]
  },
  {
   "cell_type": "code",
   "execution_count": 20,
   "id": "5020b4d7",
   "metadata": {
    "ExecuteTime": {
     "end_time": "2024-03-27T19:31:50.129426Z",
     "start_time": "2024-03-27T19:31:50.124332Z"
    }
   },
   "outputs": [
    {
     "data": {
      "text/plain": [
       "(294, 17694)"
      ]
     },
     "execution_count": 20,
     "metadata": {},
     "output_type": "execute_result"
    }
   ],
   "source": [
    "X_train.shape"
   ]
  },
  {
   "cell_type": "code",
   "execution_count": 21,
   "id": "377b7688",
   "metadata": {
    "ExecuteTime": {
     "end_time": "2024-03-27T19:31:50.161164Z",
     "start_time": "2024-03-27T19:31:50.131963Z"
    }
   },
   "outputs": [
    {
     "data": {
      "text/html": [
       "<div>\n",
       "<style scoped>\n",
       "    .dataframe tbody tr th:only-of-type {\n",
       "        vertical-align: middle;\n",
       "    }\n",
       "\n",
       "    .dataframe tbody tr th {\n",
       "        vertical-align: top;\n",
       "    }\n",
       "\n",
       "    .dataframe thead th {\n",
       "        text-align: right;\n",
       "    }\n",
       "</style>\n",
       "<table border=\"1\" class=\"dataframe\">\n",
       "  <thead>\n",
       "    <tr style=\"text-align: right;\">\n",
       "      <th>Gene</th>\n",
       "      <th>A1BGAS</th>\n",
       "      <th>A2BP1</th>\n",
       "      <th>A2LD1</th>\n",
       "      <th>A2M</th>\n",
       "      <th>A2ML1</th>\n",
       "      <th>A2MP1</th>\n",
       "      <th>A4GALT</th>\n",
       "      <th>A4GNT</th>\n",
       "      <th>AAAS</th>\n",
       "      <th>AACS</th>\n",
       "      <th>...</th>\n",
       "      <th>ZWILCH</th>\n",
       "      <th>ZWINT</th>\n",
       "      <th>ZXDA</th>\n",
       "      <th>ZXDB</th>\n",
       "      <th>ZXDC</th>\n",
       "      <th>ZYG11A</th>\n",
       "      <th>ZYG11B</th>\n",
       "      <th>ZYX</th>\n",
       "      <th>ZZEF1</th>\n",
       "      <th>ZZZ3</th>\n",
       "    </tr>\n",
       "    <tr>\n",
       "      <th>sampleId</th>\n",
       "      <th></th>\n",
       "      <th></th>\n",
       "      <th></th>\n",
       "      <th></th>\n",
       "      <th></th>\n",
       "      <th></th>\n",
       "      <th></th>\n",
       "      <th></th>\n",
       "      <th></th>\n",
       "      <th></th>\n",
       "      <th></th>\n",
       "      <th></th>\n",
       "      <th></th>\n",
       "      <th></th>\n",
       "      <th></th>\n",
       "      <th></th>\n",
       "      <th></th>\n",
       "      <th></th>\n",
       "      <th></th>\n",
       "      <th></th>\n",
       "      <th></th>\n",
       "    </tr>\n",
       "  </thead>\n",
       "  <tbody>\n",
       "    <tr>\n",
       "      <th>SEQC_NB040</th>\n",
       "      <td>16.9214</td>\n",
       "      <td>17.2464</td>\n",
       "      <td>14.1417</td>\n",
       "      <td>22.0852</td>\n",
       "      <td>11.7876</td>\n",
       "      <td>13.0336</td>\n",
       "      <td>17.1819</td>\n",
       "      <td>10.6736</td>\n",
       "      <td>19.9266</td>\n",
       "      <td>18.3365</td>\n",
       "      <td>...</td>\n",
       "      <td>18.1323</td>\n",
       "      <td>16.9260</td>\n",
       "      <td>14.9269</td>\n",
       "      <td>16.1530</td>\n",
       "      <td>18.4369</td>\n",
       "      <td>11.0879</td>\n",
       "      <td>19.6466</td>\n",
       "      <td>20.4251</td>\n",
       "      <td>19.4628</td>\n",
       "      <td>18.5454</td>\n",
       "    </tr>\n",
       "    <tr>\n",
       "      <th>SEQC_NB072</th>\n",
       "      <td>16.0839</td>\n",
       "      <td>20.2916</td>\n",
       "      <td>14.5879</td>\n",
       "      <td>20.9280</td>\n",
       "      <td>12.1853</td>\n",
       "      <td>10.3161</td>\n",
       "      <td>15.5437</td>\n",
       "      <td>9.0993</td>\n",
       "      <td>19.6639</td>\n",
       "      <td>17.8574</td>\n",
       "      <td>...</td>\n",
       "      <td>18.6598</td>\n",
       "      <td>18.5681</td>\n",
       "      <td>14.4482</td>\n",
       "      <td>16.0062</td>\n",
       "      <td>18.7155</td>\n",
       "      <td>8.7723</td>\n",
       "      <td>19.6248</td>\n",
       "      <td>19.7722</td>\n",
       "      <td>19.6033</td>\n",
       "      <td>18.7152</td>\n",
       "    </tr>\n",
       "    <tr>\n",
       "      <th>SEQC_NB488</th>\n",
       "      <td>15.4718</td>\n",
       "      <td>18.7533</td>\n",
       "      <td>14.1369</td>\n",
       "      <td>21.5085</td>\n",
       "      <td>0.0000</td>\n",
       "      <td>0.0000</td>\n",
       "      <td>15.4508</td>\n",
       "      <td>0.0000</td>\n",
       "      <td>19.7524</td>\n",
       "      <td>17.8885</td>\n",
       "      <td>...</td>\n",
       "      <td>19.1890</td>\n",
       "      <td>18.8260</td>\n",
       "      <td>15.1024</td>\n",
       "      <td>16.0536</td>\n",
       "      <td>18.2013</td>\n",
       "      <td>12.8781</td>\n",
       "      <td>18.7069</td>\n",
       "      <td>18.5950</td>\n",
       "      <td>18.0696</td>\n",
       "      <td>18.5557</td>\n",
       "    </tr>\n",
       "    <tr>\n",
       "      <th>SEQC_NB194</th>\n",
       "      <td>16.5012</td>\n",
       "      <td>17.5480</td>\n",
       "      <td>14.6940</td>\n",
       "      <td>20.9406</td>\n",
       "      <td>0.0000</td>\n",
       "      <td>11.6724</td>\n",
       "      <td>15.4061</td>\n",
       "      <td>0.0000</td>\n",
       "      <td>19.7109</td>\n",
       "      <td>18.6228</td>\n",
       "      <td>...</td>\n",
       "      <td>18.3684</td>\n",
       "      <td>19.4462</td>\n",
       "      <td>15.0912</td>\n",
       "      <td>16.4076</td>\n",
       "      <td>18.3678</td>\n",
       "      <td>10.2605</td>\n",
       "      <td>18.8465</td>\n",
       "      <td>19.7943</td>\n",
       "      <td>19.2193</td>\n",
       "      <td>18.4731</td>\n",
       "    </tr>\n",
       "    <tr>\n",
       "      <th>SEQC_NB482</th>\n",
       "      <td>16.2520</td>\n",
       "      <td>20.1890</td>\n",
       "      <td>15.3050</td>\n",
       "      <td>21.5943</td>\n",
       "      <td>12.1800</td>\n",
       "      <td>12.1682</td>\n",
       "      <td>15.6356</td>\n",
       "      <td>11.3361</td>\n",
       "      <td>20.2317</td>\n",
       "      <td>18.4132</td>\n",
       "      <td>...</td>\n",
       "      <td>18.4065</td>\n",
       "      <td>18.4758</td>\n",
       "      <td>14.6793</td>\n",
       "      <td>15.8586</td>\n",
       "      <td>18.8062</td>\n",
       "      <td>9.7608</td>\n",
       "      <td>19.3758</td>\n",
       "      <td>20.0152</td>\n",
       "      <td>19.4243</td>\n",
       "      <td>18.5972</td>\n",
       "    </tr>\n",
       "    <tr>\n",
       "      <th>...</th>\n",
       "      <td>...</td>\n",
       "      <td>...</td>\n",
       "      <td>...</td>\n",
       "      <td>...</td>\n",
       "      <td>...</td>\n",
       "      <td>...</td>\n",
       "      <td>...</td>\n",
       "      <td>...</td>\n",
       "      <td>...</td>\n",
       "      <td>...</td>\n",
       "      <td>...</td>\n",
       "      <td>...</td>\n",
       "      <td>...</td>\n",
       "      <td>...</td>\n",
       "      <td>...</td>\n",
       "      <td>...</td>\n",
       "      <td>...</td>\n",
       "      <td>...</td>\n",
       "      <td>...</td>\n",
       "      <td>...</td>\n",
       "      <td>...</td>\n",
       "    </tr>\n",
       "    <tr>\n",
       "      <th>SEQC_NB239</th>\n",
       "      <td>17.0500</td>\n",
       "      <td>20.2921</td>\n",
       "      <td>12.5961</td>\n",
       "      <td>20.5891</td>\n",
       "      <td>10.9143</td>\n",
       "      <td>11.6394</td>\n",
       "      <td>14.9071</td>\n",
       "      <td>11.2377</td>\n",
       "      <td>19.6256</td>\n",
       "      <td>17.4495</td>\n",
       "      <td>...</td>\n",
       "      <td>18.3647</td>\n",
       "      <td>17.2641</td>\n",
       "      <td>15.5657</td>\n",
       "      <td>16.5898</td>\n",
       "      <td>18.1298</td>\n",
       "      <td>9.1919</td>\n",
       "      <td>19.4643</td>\n",
       "      <td>19.8513</td>\n",
       "      <td>19.0780</td>\n",
       "      <td>18.8069</td>\n",
       "    </tr>\n",
       "    <tr>\n",
       "      <th>SEQC_NB056</th>\n",
       "      <td>16.2465</td>\n",
       "      <td>18.7481</td>\n",
       "      <td>14.5697</td>\n",
       "      <td>21.9174</td>\n",
       "      <td>9.7166</td>\n",
       "      <td>12.5243</td>\n",
       "      <td>16.1371</td>\n",
       "      <td>11.6464</td>\n",
       "      <td>19.8621</td>\n",
       "      <td>18.2074</td>\n",
       "      <td>...</td>\n",
       "      <td>18.6634</td>\n",
       "      <td>18.4127</td>\n",
       "      <td>14.7022</td>\n",
       "      <td>16.1277</td>\n",
       "      <td>18.6879</td>\n",
       "      <td>0.0000</td>\n",
       "      <td>19.8287</td>\n",
       "      <td>20.0065</td>\n",
       "      <td>19.6425</td>\n",
       "      <td>19.2073</td>\n",
       "    </tr>\n",
       "    <tr>\n",
       "      <th>SEQC_NB344</th>\n",
       "      <td>16.3053</td>\n",
       "      <td>19.5447</td>\n",
       "      <td>14.7848</td>\n",
       "      <td>20.4421</td>\n",
       "      <td>9.7949</td>\n",
       "      <td>11.1724</td>\n",
       "      <td>14.3122</td>\n",
       "      <td>10.5518</td>\n",
       "      <td>20.0238</td>\n",
       "      <td>17.9631</td>\n",
       "      <td>...</td>\n",
       "      <td>17.8767</td>\n",
       "      <td>17.3381</td>\n",
       "      <td>14.4554</td>\n",
       "      <td>15.4317</td>\n",
       "      <td>18.5616</td>\n",
       "      <td>8.6689</td>\n",
       "      <td>19.6524</td>\n",
       "      <td>20.0438</td>\n",
       "      <td>19.1407</td>\n",
       "      <td>18.5329</td>\n",
       "    </tr>\n",
       "    <tr>\n",
       "      <th>SEQC_NB249</th>\n",
       "      <td>17.6721</td>\n",
       "      <td>18.6370</td>\n",
       "      <td>15.2416</td>\n",
       "      <td>20.9661</td>\n",
       "      <td>8.6598</td>\n",
       "      <td>13.1937</td>\n",
       "      <td>15.5545</td>\n",
       "      <td>9.7546</td>\n",
       "      <td>19.7356</td>\n",
       "      <td>18.6813</td>\n",
       "      <td>...</td>\n",
       "      <td>17.9321</td>\n",
       "      <td>17.5084</td>\n",
       "      <td>15.6987</td>\n",
       "      <td>16.7427</td>\n",
       "      <td>18.3260</td>\n",
       "      <td>0.0000</td>\n",
       "      <td>19.0410</td>\n",
       "      <td>20.0328</td>\n",
       "      <td>18.5994</td>\n",
       "      <td>18.7019</td>\n",
       "    </tr>\n",
       "    <tr>\n",
       "      <th>SEQC_NB353</th>\n",
       "      <td>16.5803</td>\n",
       "      <td>19.2375</td>\n",
       "      <td>15.1755</td>\n",
       "      <td>22.6519</td>\n",
       "      <td>12.2114</td>\n",
       "      <td>12.8844</td>\n",
       "      <td>16.8825</td>\n",
       "      <td>9.4744</td>\n",
       "      <td>19.4765</td>\n",
       "      <td>18.2551</td>\n",
       "      <td>...</td>\n",
       "      <td>18.4369</td>\n",
       "      <td>18.6899</td>\n",
       "      <td>14.9134</td>\n",
       "      <td>15.9530</td>\n",
       "      <td>18.3882</td>\n",
       "      <td>11.5295</td>\n",
       "      <td>19.4320</td>\n",
       "      <td>20.5662</td>\n",
       "      <td>18.1068</td>\n",
       "      <td>18.3149</td>\n",
       "    </tr>\n",
       "  </tbody>\n",
       "</table>\n",
       "<p>294 rows × 17694 columns</p>\n",
       "</div>"
      ],
      "text/plain": [
       "Gene         A1BGAS    A2BP1    A2LD1      A2M    A2ML1    A2MP1   A4GALT  \\\n",
       "sampleId                                                                    \n",
       "SEQC_NB040  16.9214  17.2464  14.1417  22.0852  11.7876  13.0336  17.1819   \n",
       "SEQC_NB072  16.0839  20.2916  14.5879  20.9280  12.1853  10.3161  15.5437   \n",
       "SEQC_NB488  15.4718  18.7533  14.1369  21.5085   0.0000   0.0000  15.4508   \n",
       "SEQC_NB194  16.5012  17.5480  14.6940  20.9406   0.0000  11.6724  15.4061   \n",
       "SEQC_NB482  16.2520  20.1890  15.3050  21.5943  12.1800  12.1682  15.6356   \n",
       "...             ...      ...      ...      ...      ...      ...      ...   \n",
       "SEQC_NB239  17.0500  20.2921  12.5961  20.5891  10.9143  11.6394  14.9071   \n",
       "SEQC_NB056  16.2465  18.7481  14.5697  21.9174   9.7166  12.5243  16.1371   \n",
       "SEQC_NB344  16.3053  19.5447  14.7848  20.4421   9.7949  11.1724  14.3122   \n",
       "SEQC_NB249  17.6721  18.6370  15.2416  20.9661   8.6598  13.1937  15.5545   \n",
       "SEQC_NB353  16.5803  19.2375  15.1755  22.6519  12.2114  12.8844  16.8825   \n",
       "\n",
       "Gene          A4GNT     AAAS     AACS  ...   ZWILCH    ZWINT     ZXDA  \\\n",
       "sampleId                               ...                              \n",
       "SEQC_NB040  10.6736  19.9266  18.3365  ...  18.1323  16.9260  14.9269   \n",
       "SEQC_NB072   9.0993  19.6639  17.8574  ...  18.6598  18.5681  14.4482   \n",
       "SEQC_NB488   0.0000  19.7524  17.8885  ...  19.1890  18.8260  15.1024   \n",
       "SEQC_NB194   0.0000  19.7109  18.6228  ...  18.3684  19.4462  15.0912   \n",
       "SEQC_NB482  11.3361  20.2317  18.4132  ...  18.4065  18.4758  14.6793   \n",
       "...             ...      ...      ...  ...      ...      ...      ...   \n",
       "SEQC_NB239  11.2377  19.6256  17.4495  ...  18.3647  17.2641  15.5657   \n",
       "SEQC_NB056  11.6464  19.8621  18.2074  ...  18.6634  18.4127  14.7022   \n",
       "SEQC_NB344  10.5518  20.0238  17.9631  ...  17.8767  17.3381  14.4554   \n",
       "SEQC_NB249   9.7546  19.7356  18.6813  ...  17.9321  17.5084  15.6987   \n",
       "SEQC_NB353   9.4744  19.4765  18.2551  ...  18.4369  18.6899  14.9134   \n",
       "\n",
       "Gene           ZXDB     ZXDC   ZYG11A   ZYG11B      ZYX    ZZEF1     ZZZ3  \n",
       "sampleId                                                                   \n",
       "SEQC_NB040  16.1530  18.4369  11.0879  19.6466  20.4251  19.4628  18.5454  \n",
       "SEQC_NB072  16.0062  18.7155   8.7723  19.6248  19.7722  19.6033  18.7152  \n",
       "SEQC_NB488  16.0536  18.2013  12.8781  18.7069  18.5950  18.0696  18.5557  \n",
       "SEQC_NB194  16.4076  18.3678  10.2605  18.8465  19.7943  19.2193  18.4731  \n",
       "SEQC_NB482  15.8586  18.8062   9.7608  19.3758  20.0152  19.4243  18.5972  \n",
       "...             ...      ...      ...      ...      ...      ...      ...  \n",
       "SEQC_NB239  16.5898  18.1298   9.1919  19.4643  19.8513  19.0780  18.8069  \n",
       "SEQC_NB056  16.1277  18.6879   0.0000  19.8287  20.0065  19.6425  19.2073  \n",
       "SEQC_NB344  15.4317  18.5616   8.6689  19.6524  20.0438  19.1407  18.5329  \n",
       "SEQC_NB249  16.7427  18.3260   0.0000  19.0410  20.0328  18.5994  18.7019  \n",
       "SEQC_NB353  15.9530  18.3882  11.5295  19.4320  20.5662  18.1068  18.3149  \n",
       "\n",
       "[294 rows x 17694 columns]"
      ]
     },
     "execution_count": 21,
     "metadata": {},
     "output_type": "execute_result"
    }
   ],
   "source": [
    "X_train"
   ]
  },
  {
   "cell_type": "code",
   "execution_count": 22,
   "id": "88515902",
   "metadata": {
    "ExecuteTime": {
     "end_time": "2024-03-27T19:31:50.479753Z",
     "start_time": "2024-03-27T19:31:50.163196Z"
    }
   },
   "outputs": [],
   "source": [
    "scaler = StandardScaler()\n",
    "X_train_scaled = scaler.fit_transform(X_train)\n",
    "X_train_scaled = pd.DataFrame(X_train_scaled, index=X_train.index, columns=X_train.columns)"
   ]
  },
  {
   "cell_type": "code",
   "execution_count": 23,
   "id": "a0742fb1",
   "metadata": {
    "ExecuteTime": {
     "end_time": "2024-03-27T19:31:50.626161Z",
     "start_time": "2024-03-27T19:31:50.482443Z"
    }
   },
   "outputs": [],
   "source": [
    "X_val_scaled = scaler.transform(X_val.loc[:, X_train.columns])\n",
    "X_val_scaled = pd.DataFrame(X_val_scaled, index=X_val.index, columns=X_train.columns)"
   ]
  },
  {
   "cell_type": "code",
   "execution_count": 24,
   "id": "985e3d9b",
   "metadata": {
    "ExecuteTime": {
     "end_time": "2024-03-27T19:31:50.766528Z",
     "start_time": "2024-03-27T19:31:50.628726Z"
    }
   },
   "outputs": [],
   "source": [
    "X_test_scaled = scaler.transform(X_test.loc[:, X_train.columns])\n",
    "X_test_scaled = pd.DataFrame(X_test_scaled, index=X_test.index, columns=X_train.columns)"
   ]
  },
  {
   "cell_type": "code",
   "execution_count": null,
   "id": "e632a0de",
   "metadata": {},
   "outputs": [],
   "source": []
  },
  {
   "cell_type": "code",
   "execution_count": null,
   "id": "848bbca7",
   "metadata": {
    "ExecuteTime": {
     "end_time": "2024-03-24T21:14:29.922489Z",
     "start_time": "2024-03-24T21:14:29.918939Z"
    }
   },
   "outputs": [],
   "source": []
  },
  {
   "cell_type": "code",
   "execution_count": 25,
   "id": "fd02bd68",
   "metadata": {
    "ExecuteTime": {
     "end_time": "2024-03-27T19:31:50.775179Z",
     "start_time": "2024-03-27T19:31:50.768961Z"
    }
   },
   "outputs": [],
   "source": [
    "meta_train = meta.loc[X_train.index]\n",
    "age_scaler = StandardScaler()\n",
    "age_at_diagnosis = age_scaler.fit_transform(np.array(meta_train.age_at_diagnosis).reshape(-1, 1))\n",
    "meta_train.age_at_diagnosis = age_at_diagnosis\n",
    "meta_train.drop([\"death_from_disease\", \"high_risk\"], axis = 1, inplace=True)"
   ]
  },
  {
   "cell_type": "code",
   "execution_count": 26,
   "id": "0498aebd",
   "metadata": {
    "ExecuteTime": {
     "end_time": "2024-03-27T19:31:50.815178Z",
     "start_time": "2024-03-27T19:31:50.777626Z"
    }
   },
   "outputs": [],
   "source": [
    "X_train_scaled = pd.concat([X_train_scaled, meta_train], axis=1)"
   ]
  },
  {
   "cell_type": "code",
   "execution_count": null,
   "id": "8af456d3",
   "metadata": {},
   "outputs": [],
   "source": []
  },
  {
   "cell_type": "code",
   "execution_count": 27,
   "id": "35657c5d",
   "metadata": {
    "ExecuteTime": {
     "end_time": "2024-03-27T19:31:50.824135Z",
     "start_time": "2024-03-27T19:31:50.817607Z"
    }
   },
   "outputs": [],
   "source": [
    "meta_val = meta.loc[X_val.index]\n",
    "age_at_diagnosis = age_scaler.transform(np.array(meta_val.age_at_diagnosis).reshape(-1, 1))\n",
    "meta_val.age_at_diagnosis = age_at_diagnosis\n",
    "meta_val.drop([\"death_from_disease\", \"high_risk\"], axis = 1, inplace=True)"
   ]
  },
  {
   "cell_type": "code",
   "execution_count": 28,
   "id": "bbbbddff",
   "metadata": {
    "ExecuteTime": {
     "end_time": "2024-03-27T19:31:50.842288Z",
     "start_time": "2024-03-27T19:31:50.834953Z"
    }
   },
   "outputs": [],
   "source": [
    "X_val_scaled = pd.concat([X_val_scaled, meta_val], axis=1)"
   ]
  },
  {
   "cell_type": "code",
   "execution_count": null,
   "id": "4391bff4",
   "metadata": {},
   "outputs": [],
   "source": []
  },
  {
   "cell_type": "code",
   "execution_count": 29,
   "id": "ee2be2d3",
   "metadata": {
    "ExecuteTime": {
     "end_time": "2024-03-27T19:31:50.849762Z",
     "start_time": "2024-03-27T19:31:50.844510Z"
    }
   },
   "outputs": [],
   "source": [
    "meta_test = meta.loc[X_test.index]\n",
    "age_at_diagnosis = age_scaler.transform(np.array(meta_test.age_at_diagnosis).reshape(-1, 1))\n",
    "meta_test.age_at_diagnosis = age_at_diagnosis\n",
    "meta_test.drop([\"death_from_disease\", \"high_risk\"], axis = 1, inplace=True)"
   ]
  },
  {
   "cell_type": "code",
   "execution_count": 30,
   "id": "5f49f5f7",
   "metadata": {
    "ExecuteTime": {
     "end_time": "2024-03-27T19:31:50.858685Z",
     "start_time": "2024-03-27T19:31:50.851711Z"
    }
   },
   "outputs": [],
   "source": [
    "X_test_scaled = pd.concat([X_test_scaled, meta_test], axis=1)"
   ]
  },
  {
   "cell_type": "code",
   "execution_count": null,
   "id": "e49c0caf",
   "metadata": {},
   "outputs": [],
   "source": []
  },
  {
   "cell_type": "markdown",
   "id": "21f69757",
   "metadata": {},
   "source": [
    "# L1 Logistic regression"
   ]
  },
  {
   "cell_type": "code",
   "execution_count": 31,
   "id": "e6a3b207",
   "metadata": {
    "ExecuteTime": {
     "end_time": "2024-03-27T19:31:50.900669Z",
     "start_time": "2024-03-27T19:31:50.861083Z"
    }
   },
   "outputs": [],
   "source": [
    "from sklearn.linear_model import LogisticRegression, LogisticRegressionCV\n",
    "from sklearn.metrics import accuracy_score, classification_report"
   ]
  },
  {
   "cell_type": "code",
   "execution_count": 32,
   "id": "f2afa29c",
   "metadata": {
    "ExecuteTime": {
     "end_time": "2024-03-27T19:32:16.371537Z",
     "start_time": "2024-03-27T19:31:50.903187Z"
    }
   },
   "outputs": [
    {
     "data": {
      "text/html": [
       "<style>#sk-container-id-1 {color: black;background-color: white;}#sk-container-id-1 pre{padding: 0;}#sk-container-id-1 div.sk-toggleable {background-color: white;}#sk-container-id-1 label.sk-toggleable__label {cursor: pointer;display: block;width: 100%;margin-bottom: 0;padding: 0.3em;box-sizing: border-box;text-align: center;}#sk-container-id-1 label.sk-toggleable__label-arrow:before {content: \"▸\";float: left;margin-right: 0.25em;color: #696969;}#sk-container-id-1 label.sk-toggleable__label-arrow:hover:before {color: black;}#sk-container-id-1 div.sk-estimator:hover label.sk-toggleable__label-arrow:before {color: black;}#sk-container-id-1 div.sk-toggleable__content {max-height: 0;max-width: 0;overflow: hidden;text-align: left;background-color: #f0f8ff;}#sk-container-id-1 div.sk-toggleable__content pre {margin: 0.2em;color: black;border-radius: 0.25em;background-color: #f0f8ff;}#sk-container-id-1 input.sk-toggleable__control:checked~div.sk-toggleable__content {max-height: 200px;max-width: 100%;overflow: auto;}#sk-container-id-1 input.sk-toggleable__control:checked~label.sk-toggleable__label-arrow:before {content: \"▾\";}#sk-container-id-1 div.sk-estimator input.sk-toggleable__control:checked~label.sk-toggleable__label {background-color: #d4ebff;}#sk-container-id-1 div.sk-label input.sk-toggleable__control:checked~label.sk-toggleable__label {background-color: #d4ebff;}#sk-container-id-1 input.sk-hidden--visually {border: 0;clip: rect(1px 1px 1px 1px);clip: rect(1px, 1px, 1px, 1px);height: 1px;margin: -1px;overflow: hidden;padding: 0;position: absolute;width: 1px;}#sk-container-id-1 div.sk-estimator {font-family: monospace;background-color: #f0f8ff;border: 1px dotted black;border-radius: 0.25em;box-sizing: border-box;margin-bottom: 0.5em;}#sk-container-id-1 div.sk-estimator:hover {background-color: #d4ebff;}#sk-container-id-1 div.sk-parallel-item::after {content: \"\";width: 100%;border-bottom: 1px solid gray;flex-grow: 1;}#sk-container-id-1 div.sk-label:hover label.sk-toggleable__label {background-color: #d4ebff;}#sk-container-id-1 div.sk-serial::before {content: \"\";position: absolute;border-left: 1px solid gray;box-sizing: border-box;top: 0;bottom: 0;left: 50%;z-index: 0;}#sk-container-id-1 div.sk-serial {display: flex;flex-direction: column;align-items: center;background-color: white;padding-right: 0.2em;padding-left: 0.2em;position: relative;}#sk-container-id-1 div.sk-item {position: relative;z-index: 1;}#sk-container-id-1 div.sk-parallel {display: flex;align-items: stretch;justify-content: center;background-color: white;position: relative;}#sk-container-id-1 div.sk-item::before, #sk-container-id-1 div.sk-parallel-item::before {content: \"\";position: absolute;border-left: 1px solid gray;box-sizing: border-box;top: 0;bottom: 0;left: 50%;z-index: -1;}#sk-container-id-1 div.sk-parallel-item {display: flex;flex-direction: column;z-index: 1;position: relative;background-color: white;}#sk-container-id-1 div.sk-parallel-item:first-child::after {align-self: flex-end;width: 50%;}#sk-container-id-1 div.sk-parallel-item:last-child::after {align-self: flex-start;width: 50%;}#sk-container-id-1 div.sk-parallel-item:only-child::after {width: 0;}#sk-container-id-1 div.sk-dashed-wrapped {border: 1px dashed gray;margin: 0 0.4em 0.5em 0.4em;box-sizing: border-box;padding-bottom: 0.4em;background-color: white;}#sk-container-id-1 div.sk-label label {font-family: monospace;font-weight: bold;display: inline-block;line-height: 1.2em;}#sk-container-id-1 div.sk-label-container {text-align: center;}#sk-container-id-1 div.sk-container {/* jupyter's `normalize.less` sets `[hidden] { display: none; }` but bootstrap.min.css set `[hidden] { display: none !important; }` so we also need the `!important` here to be able to override the default hidden behavior on the sphinx rendered scikit-learn.org. See: https://github.com/scikit-learn/scikit-learn/issues/21755 */display: inline-block !important;position: relative;}#sk-container-id-1 div.sk-text-repr-fallback {display: none;}</style><div id=\"sk-container-id-1\" class=\"sk-top-container\"><div class=\"sk-text-repr-fallback\"><pre>LogisticRegressionCV(Cs=30, class_weight={0: 1, 1: 100}, cv=5, n_jobs=4,\n",
       "                     penalty=&#x27;l1&#x27;, random_state=1234, solver=&#x27;liblinear&#x27;)</pre><b>In a Jupyter environment, please rerun this cell to show the HTML representation or trust the notebook. <br />On GitHub, the HTML representation is unable to render, please try loading this page with nbviewer.org.</b></div><div class=\"sk-container\" hidden><div class=\"sk-item\"><div class=\"sk-estimator sk-toggleable\"><input class=\"sk-toggleable__control sk-hidden--visually\" id=\"sk-estimator-id-1\" type=\"checkbox\" checked><label for=\"sk-estimator-id-1\" class=\"sk-toggleable__label sk-toggleable__label-arrow\">LogisticRegressionCV</label><div class=\"sk-toggleable__content\"><pre>LogisticRegressionCV(Cs=30, class_weight={0: 1, 1: 100}, cv=5, n_jobs=4,\n",
       "                     penalty=&#x27;l1&#x27;, random_state=1234, solver=&#x27;liblinear&#x27;)</pre></div></div></div></div></div>"
      ],
      "text/plain": [
       "LogisticRegressionCV(Cs=30, class_weight={0: 1, 1: 100}, cv=5, n_jobs=4,\n",
       "                     penalty='l1', random_state=1234, solver='liblinear')"
      ]
     },
     "execution_count": 32,
     "metadata": {},
     "output_type": "execute_result"
    }
   ],
   "source": [
    "model = LogisticRegressionCV(penalty='l1', solver='liblinear', cv = 5, random_state=1234, Cs= 30, class_weight={0:1,1:100}, n_jobs= 4)\n",
    "model.fit(X_train_scaled, y_train)"
   ]
  },
  {
   "cell_type": "code",
   "execution_count": 33,
   "id": "7211923b",
   "metadata": {
    "ExecuteTime": {
     "end_time": "2024-03-27T19:32:16.514903Z",
     "start_time": "2024-03-27T19:32:16.374529Z"
    }
   },
   "outputs": [],
   "source": [
    "# Make predictions on the val set\n",
    "y_pred = model.predict(X_val_scaled)\n",
    "\n",
    "# Evaluate the model\n",
    "accuracy = accuracy_score(y_val, y_pred)"
   ]
  },
  {
   "cell_type": "code",
   "execution_count": 34,
   "id": "5bfe753e",
   "metadata": {
    "ExecuteTime": {
     "end_time": "2024-03-27T19:32:16.523635Z",
     "start_time": "2024-03-27T19:32:16.519075Z"
    }
   },
   "outputs": [
    {
     "data": {
      "text/plain": [
       "0.8095238095238095"
      ]
     },
     "execution_count": 34,
     "metadata": {},
     "output_type": "execute_result"
    }
   ],
   "source": [
    "accuracy"
   ]
  },
  {
   "cell_type": "code",
   "execution_count": 35,
   "id": "8880d442",
   "metadata": {
    "ExecuteTime": {
     "end_time": "2024-03-27T19:32:16.534697Z",
     "start_time": "2024-03-27T19:32:16.526203Z"
    }
   },
   "outputs": [
    {
     "data": {
      "text/plain": [
       "0.8666666666666667"
      ]
     },
     "execution_count": 35,
     "metadata": {},
     "output_type": "execute_result"
    }
   ],
   "source": [
    "roc_auc_score(y_val, y_pred)"
   ]
  },
  {
   "cell_type": "code",
   "execution_count": 36,
   "id": "60933ca9",
   "metadata": {
    "ExecuteTime": {
     "end_time": "2024-03-27T19:32:16.562487Z",
     "start_time": "2024-03-27T19:32:16.537595Z"
    }
   },
   "outputs": [
    {
     "data": {
      "text/html": [
       "<div>\n",
       "<style scoped>\n",
       "    .dataframe tbody tr th:only-of-type {\n",
       "        vertical-align: middle;\n",
       "    }\n",
       "\n",
       "    .dataframe tbody tr th {\n",
       "        vertical-align: top;\n",
       "    }\n",
       "\n",
       "    .dataframe thead th {\n",
       "        text-align: right;\n",
       "    }\n",
       "</style>\n",
       "<table border=\"1\" class=\"dataframe\">\n",
       "  <thead>\n",
       "    <tr style=\"text-align: right;\">\n",
       "      <th>death_from_disease</th>\n",
       "      <th>0</th>\n",
       "      <th>1</th>\n",
       "    </tr>\n",
       "    <tr>\n",
       "      <th>row_0</th>\n",
       "      <th></th>\n",
       "      <th></th>\n",
       "    </tr>\n",
       "  </thead>\n",
       "  <tbody>\n",
       "    <tr>\n",
       "      <th>0</th>\n",
       "      <td>33</td>\n",
       "      <td>0</td>\n",
       "    </tr>\n",
       "    <tr>\n",
       "      <th>1</th>\n",
       "      <td>12</td>\n",
       "      <td>18</td>\n",
       "    </tr>\n",
       "  </tbody>\n",
       "</table>\n",
       "</div>"
      ],
      "text/plain": [
       "death_from_disease   0   1\n",
       "row_0                     \n",
       "0                   33   0\n",
       "1                   12  18"
      ]
     },
     "execution_count": 36,
     "metadata": {},
     "output_type": "execute_result"
    }
   ],
   "source": [
    "pd.crosstab(y_pred, y_val)"
   ]
  },
  {
   "cell_type": "code",
   "execution_count": 37,
   "id": "47d71056",
   "metadata": {
    "ExecuteTime": {
     "end_time": "2024-03-27T19:32:16.582459Z",
     "start_time": "2024-03-27T19:32:16.564932Z"
    }
   },
   "outputs": [
    {
     "data": {
      "text/html": [
       "<div>\n",
       "<style scoped>\n",
       "    .dataframe tbody tr th:only-of-type {\n",
       "        vertical-align: middle;\n",
       "    }\n",
       "\n",
       "    .dataframe tbody tr th {\n",
       "        vertical-align: top;\n",
       "    }\n",
       "\n",
       "    .dataframe thead th {\n",
       "        text-align: right;\n",
       "    }\n",
       "</style>\n",
       "<table border=\"1\" class=\"dataframe\">\n",
       "  <thead>\n",
       "    <tr style=\"text-align: right;\">\n",
       "      <th>death_from_disease</th>\n",
       "      <th>0.0</th>\n",
       "      <th>1.0</th>\n",
       "    </tr>\n",
       "    <tr>\n",
       "      <th>high_risk</th>\n",
       "      <th></th>\n",
       "      <th></th>\n",
       "    </tr>\n",
       "  </thead>\n",
       "  <tbody>\n",
       "    <tr>\n",
       "      <th>0.0</th>\n",
       "      <td>33</td>\n",
       "      <td>3</td>\n",
       "    </tr>\n",
       "    <tr>\n",
       "      <th>1.0</th>\n",
       "      <td>12</td>\n",
       "      <td>15</td>\n",
       "    </tr>\n",
       "  </tbody>\n",
       "</table>\n",
       "</div>"
      ],
      "text/plain": [
       "death_from_disease  0.0  1.0\n",
       "high_risk                   \n",
       "0.0                  33    3\n",
       "1.0                  12   15"
      ]
     },
     "execution_count": 37,
     "metadata": {},
     "output_type": "execute_result"
    }
   ],
   "source": [
    "pd.crosstab(meta.loc[y_val.index].high_risk, meta.loc[y_val.index].death_from_disease)"
   ]
  },
  {
   "cell_type": "code",
   "execution_count": 38,
   "id": "434edf11",
   "metadata": {
    "ExecuteTime": {
     "end_time": "2024-03-27T19:32:16.596171Z",
     "start_time": "2024-03-27T19:32:16.585006Z"
    }
   },
   "outputs": [
    {
     "name": "stdout",
     "output_type": "stream",
     "text": [
      "              precision    recall  f1-score   support\n",
      "\n",
      "           0       1.00      0.73      0.85        45\n",
      "           1       0.60      1.00      0.75        18\n",
      "\n",
      "    accuracy                           0.81        63\n",
      "   macro avg       0.80      0.87      0.80        63\n",
      "weighted avg       0.89      0.81      0.82        63\n",
      "\n"
     ]
    }
   ],
   "source": [
    "print(classification_report(y_val, y_pred))"
   ]
  },
  {
   "cell_type": "code",
   "execution_count": 39,
   "id": "d0f46063",
   "metadata": {
    "ExecuteTime": {
     "end_time": "2024-03-27T19:32:17.055001Z",
     "start_time": "2024-03-27T19:32:16.598574Z"
    }
   },
   "outputs": [
    {
     "data": {
      "image/png": "[encoded data removed]",
      "text/plain": [
       "<Figure size 640x480 with 1 Axes>"
      ]
     },
     "metadata": {},
     "output_type": "display_data"
    }
   ],
   "source": [
    "_ = plt.hist(model.predict_proba(X_val_scaled)[:,1], 100)"
   ]
  },
  {
   "cell_type": "code",
   "execution_count": null,
   "id": "fe525f2b",
   "metadata": {},
   "outputs": [],
   "source": []
  },
  {
   "cell_type": "code",
   "execution_count": 40,
   "id": "836f0a73",
   "metadata": {
    "ExecuteTime": {
     "end_time": "2024-03-27T19:32:17.388292Z",
     "start_time": "2024-03-27T19:32:17.057130Z"
    }
   },
   "outputs": [
    {
     "data": {
      "image/png": "[encoded data removed]",
      "text/plain": [
       "<Figure size 640x480 with 1 Axes>"
      ]
     },
     "metadata": {},
     "output_type": "display_data"
    }
   ],
   "source": [
    "_ = plt.hist(model.coef_[0], 100)"
   ]
  },
  {
   "cell_type": "code",
   "execution_count": 41,
   "id": "44c3ee4b",
   "metadata": {
    "ExecuteTime": {
     "end_time": "2024-03-27T19:32:17.397399Z",
     "start_time": "2024-03-27T19:32:17.390663Z"
    }
   },
   "outputs": [
    {
     "data": {
      "text/plain": [
       "88"
      ]
     },
     "execution_count": 41,
     "metadata": {},
     "output_type": "execute_result"
    }
   ],
   "source": [
    "sum(model.coef_[0] != 0)"
   ]
  },
  {
   "cell_type": "code",
   "execution_count": 42,
   "id": "d0a6d908",
   "metadata": {
    "ExecuteTime": {
     "end_time": "2024-03-27T19:32:17.402864Z",
     "start_time": "2024-03-27T19:32:17.399614Z"
    }
   },
   "outputs": [],
   "source": [
    "indices = np.argsort(model.coef_[0])[::-1]"
   ]
  },
  {
   "cell_type": "code",
   "execution_count": null,
   "id": "f261c150",
   "metadata": {},
   "outputs": [],
   "source": []
  },
  {
   "cell_type": "code",
   "execution_count": 43,
   "id": "99b64afb",
   "metadata": {
    "ExecuteTime": {
     "end_time": "2024-03-27T19:32:17.697844Z",
     "start_time": "2024-03-27T19:32:17.405344Z"
    }
   },
   "outputs": [
    {
     "data": {
      "image/png": "[encoded data removed]",
      "text/plain": [
       "<Figure size 640x480 with 1 Axes>"
      ]
     },
     "metadata": {},
     "output_type": "display_data"
    }
   ],
   "source": [
    "plt.barh(X_train_scaled.columns[indices][range(20)][::-1], model.coef_[0][indices][range(20)][::-1])\n",
    "plt.title(\"Permutation-based feature importance\")\n",
    "plt.xlabel(\"Importance\")\n",
    "plt.ylabel(\"Feature\")\n",
    "plt.show()"
   ]
  },
  {
   "cell_type": "code",
   "execution_count": 44,
   "id": "8f3c5f0b",
   "metadata": {
    "ExecuteTime": {
     "end_time": "2024-03-27T19:32:17.882212Z",
     "start_time": "2024-03-27T19:32:17.700243Z"
    }
   },
   "outputs": [
    {
     "data": {
      "image/png": "[encoded data removed]",
      "text/plain": [
       "<Figure size 640x480 with 1 Axes>"
      ]
     },
     "metadata": {},
     "output_type": "display_data"
    }
   ],
   "source": [
    "plt.plot(np.log10(model.Cs_), model.scores_[1].T)\n",
    "plt.show()"
   ]
  },
  {
   "cell_type": "code",
   "execution_count": 45,
   "id": "5956b1b8",
   "metadata": {
    "ExecuteTime": {
     "end_time": "2024-03-27T19:32:18.067574Z",
     "start_time": "2024-03-27T19:32:17.884697Z"
    }
   },
   "outputs": [
    {
     "data": {
      "image/png": "[encoded data removed]",
      "text/plain": [
       "<Figure size 640x480 with 1 Axes>"
      ]
     },
     "metadata": {},
     "output_type": "display_data"
    }
   ],
   "source": [
    "plt.plot(np.log10(model.Cs_), np.mean(model.scores_[1].T, axis = 1))\n",
    "plt.show()"
   ]
  },
  {
   "cell_type": "code",
   "execution_count": null,
   "id": "13aeefa8",
   "metadata": {},
   "outputs": [],
   "source": []
  },
  {
   "cell_type": "code",
   "execution_count": null,
   "id": "e4411471",
   "metadata": {},
   "outputs": [],
   "source": []
  },
  {
   "cell_type": "code",
   "execution_count": null,
   "id": "f3775e66",
   "metadata": {},
   "outputs": [],
   "source": []
  },
  {
   "cell_type": "code",
   "execution_count": null,
   "id": "b5477e6b",
   "metadata": {},
   "outputs": [],
   "source": []
  },
  {
   "cell_type": "markdown",
   "id": "480eb858",
   "metadata": {},
   "source": [
    "# Ranodm forest"
   ]
  },
  {
   "cell_type": "code",
   "execution_count": 46,
   "id": "1d02712c",
   "metadata": {
    "ExecuteTime": {
     "end_time": "2024-03-27T19:32:18.250134Z",
     "start_time": "2024-03-27T19:32:18.070057Z"
    }
   },
   "outputs": [],
   "source": [
    "from sklearn.ensemble import RandomForestClassifier\n"
   ]
  },
  {
   "cell_type": "code",
   "execution_count": 47,
   "id": "20f26ebb",
   "metadata": {
    "ExecuteTime": {
     "end_time": "2024-03-27T19:32:18.309283Z",
     "start_time": "2024-03-27T19:32:18.252953Z"
    }
   },
   "outputs": [],
   "source": [
    "X_train = pd.concat([X_train, meta_train], axis=1)\n",
    "X_val = pd.concat([X_val, meta_val], axis=1)\n",
    "X_test = pd.concat([X_test, meta_test], axis = 1)"
   ]
  },
  {
   "cell_type": "code",
   "execution_count": 48,
   "id": "11266616",
   "metadata": {
    "ExecuteTime": {
     "end_time": "2024-03-27T19:32:23.021446Z",
     "start_time": "2024-03-27T19:32:18.312135Z"
    }
   },
   "outputs": [
    {
     "data": {
      "text/html": [
       "<style>#sk-container-id-2 {color: black;background-color: white;}#sk-container-id-2 pre{padding: 0;}#sk-container-id-2 div.sk-toggleable {background-color: white;}#sk-container-id-2 label.sk-toggleable__label {cursor: pointer;display: block;width: 100%;margin-bottom: 0;padding: 0.3em;box-sizing: border-box;text-align: center;}#sk-container-id-2 label.sk-toggleable__label-arrow:before {content: \"▸\";float: left;margin-right: 0.25em;color: #696969;}#sk-container-id-2 label.sk-toggleable__label-arrow:hover:before {color: black;}#sk-container-id-2 div.sk-estimator:hover label.sk-toggleable__label-arrow:before {color: black;}#sk-container-id-2 div.sk-toggleable__content {max-height: 0;max-width: 0;overflow: hidden;text-align: left;background-color: #f0f8ff;}#sk-container-id-2 div.sk-toggleable__content pre {margin: 0.2em;color: black;border-radius: 0.25em;background-color: #f0f8ff;}#sk-container-id-2 input.sk-toggleable__control:checked~div.sk-toggleable__content {max-height: 200px;max-width: 100%;overflow: auto;}#sk-container-id-2 input.sk-toggleable__control:checked~label.sk-toggleable__label-arrow:before {content: \"▾\";}#sk-container-id-2 div.sk-estimator input.sk-toggleable__control:checked~label.sk-toggleable__label {background-color: #d4ebff;}#sk-container-id-2 div.sk-label input.sk-toggleable__control:checked~label.sk-toggleable__label {background-color: #d4ebff;}#sk-container-id-2 input.sk-hidden--visually {border: 0;clip: rect(1px 1px 1px 1px);clip: rect(1px, 1px, 1px, 1px);height: 1px;margin: -1px;overflow: hidden;padding: 0;position: absolute;width: 1px;}#sk-container-id-2 div.sk-estimator {font-family: monospace;background-color: #f0f8ff;border: 1px dotted black;border-radius: 0.25em;box-sizing: border-box;margin-bottom: 0.5em;}#sk-container-id-2 div.sk-estimator:hover {background-color: #d4ebff;}#sk-container-id-2 div.sk-parallel-item::after {content: \"\";width: 100%;border-bottom: 1px solid gray;flex-grow: 1;}#sk-container-id-2 div.sk-label:hover label.sk-toggleable__label {background-color: #d4ebff;}#sk-container-id-2 div.sk-serial::before {content: \"\";position: absolute;border-left: 1px solid gray;box-sizing: border-box;top: 0;bottom: 0;left: 50%;z-index: 0;}#sk-container-id-2 div.sk-serial {display: flex;flex-direction: column;align-items: center;background-color: white;padding-right: 0.2em;padding-left: 0.2em;position: relative;}#sk-container-id-2 div.sk-item {position: relative;z-index: 1;}#sk-container-id-2 div.sk-parallel {display: flex;align-items: stretch;justify-content: center;background-color: white;position: relative;}#sk-container-id-2 div.sk-item::before, #sk-container-id-2 div.sk-parallel-item::before {content: \"\";position: absolute;border-left: 1px solid gray;box-sizing: border-box;top: 0;bottom: 0;left: 50%;z-index: -1;}#sk-container-id-2 div.sk-parallel-item {display: flex;flex-direction: column;z-index: 1;position: relative;background-color: white;}#sk-container-id-2 div.sk-parallel-item:first-child::after {align-self: flex-end;width: 50%;}#sk-container-id-2 div.sk-parallel-item:last-child::after {align-self: flex-start;width: 50%;}#sk-container-id-2 div.sk-parallel-item:only-child::after {width: 0;}#sk-container-id-2 div.sk-dashed-wrapped {border: 1px dashed gray;margin: 0 0.4em 0.5em 0.4em;box-sizing: border-box;padding-bottom: 0.4em;background-color: white;}#sk-container-id-2 div.sk-label label {font-family: monospace;font-weight: bold;display: inline-block;line-height: 1.2em;}#sk-container-id-2 div.sk-label-container {text-align: center;}#sk-container-id-2 div.sk-container {/* jupyter's `normalize.less` sets `[hidden] { display: none; }` but bootstrap.min.css set `[hidden] { display: none !important; }` so we also need the `!important` here to be able to override the default hidden behavior on the sphinx rendered scikit-learn.org. See: https://github.com/scikit-learn/scikit-learn/issues/21755 */display: inline-block !important;position: relative;}#sk-container-id-2 div.sk-text-repr-fallback {display: none;}</style><div id=\"sk-container-id-2\" class=\"sk-top-container\"><div class=\"sk-text-repr-fallback\"><pre>RandomForestClassifier(class_weight={0: 1, 1: 100}, n_estimators=1000, n_jobs=4,\n",
       "                       random_state=1234)</pre><b>In a Jupyter environment, please rerun this cell to show the HTML representation or trust the notebook. <br />On GitHub, the HTML representation is unable to render, please try loading this page with nbviewer.org.</b></div><div class=\"sk-container\" hidden><div class=\"sk-item\"><div class=\"sk-estimator sk-toggleable\"><input class=\"sk-toggleable__control sk-hidden--visually\" id=\"sk-estimator-id-2\" type=\"checkbox\" checked><label for=\"sk-estimator-id-2\" class=\"sk-toggleable__label sk-toggleable__label-arrow\">RandomForestClassifier</label><div class=\"sk-toggleable__content\"><pre>RandomForestClassifier(class_weight={0: 1, 1: 100}, n_estimators=1000, n_jobs=4,\n",
       "                       random_state=1234)</pre></div></div></div></div></div>"
      ],
      "text/plain": [
       "RandomForestClassifier(class_weight={0: 1, 1: 100}, n_estimators=1000, n_jobs=4,\n",
       "                       random_state=1234)"
      ]
     },
     "execution_count": 48,
     "metadata": {},
     "output_type": "execute_result"
    }
   ],
   "source": [
    "rf_classifier = RandomForestClassifier(n_estimators=1000, random_state=1234, class_weight={0:1, 1:100}, n_jobs=4)\n",
    "rf_classifier.fit(X_train, y_train)"
   ]
  },
  {
   "cell_type": "code",
   "execution_count": 49,
   "id": "52f2bcd4",
   "metadata": {
    "ExecuteTime": {
     "end_time": "2024-03-27T19:32:23.326043Z",
     "start_time": "2024-03-27T19:32:23.023819Z"
    }
   },
   "outputs": [],
   "source": [
    "y_pred = rf_classifier.predict(X_val.loc[:, X_train.columns])\n",
    "accuracy = accuracy_score(y_val, y_pred)"
   ]
  },
  {
   "cell_type": "code",
   "execution_count": 50,
   "id": "0deb2503",
   "metadata": {
    "ExecuteTime": {
     "end_time": "2024-03-27T19:32:23.332961Z",
     "start_time": "2024-03-27T19:32:23.328628Z"
    }
   },
   "outputs": [
    {
     "data": {
      "text/plain": [
       "0.6507936507936508"
      ]
     },
     "execution_count": 50,
     "metadata": {},
     "output_type": "execute_result"
    }
   ],
   "source": [
    "accuracy"
   ]
  },
  {
   "cell_type": "code",
   "execution_count": 51,
   "id": "51aa748b",
   "metadata": {
    "ExecuteTime": {
     "end_time": "2024-03-27T19:32:23.342259Z",
     "start_time": "2024-03-27T19:32:23.335712Z"
    }
   },
   "outputs": [
    {
     "data": {
      "text/plain": [
       "0.5222222222222221"
      ]
     },
     "execution_count": 51,
     "metadata": {},
     "output_type": "execute_result"
    }
   ],
   "source": [
    "roc_auc_score(y_val, y_pred)"
   ]
  },
  {
   "cell_type": "code",
   "execution_count": 52,
   "id": "80d8956d",
   "metadata": {
    "ExecuteTime": {
     "end_time": "2024-03-27T19:32:23.358418Z",
     "start_time": "2024-03-27T19:32:23.344598Z"
    }
   },
   "outputs": [
    {
     "data": {
      "text/html": [
       "<div>\n",
       "<style scoped>\n",
       "    .dataframe tbody tr th:only-of-type {\n",
       "        vertical-align: middle;\n",
       "    }\n",
       "\n",
       "    .dataframe tbody tr th {\n",
       "        vertical-align: top;\n",
       "    }\n",
       "\n",
       "    .dataframe thead th {\n",
       "        text-align: right;\n",
       "    }\n",
       "</style>\n",
       "<table border=\"1\" class=\"dataframe\">\n",
       "  <thead>\n",
       "    <tr style=\"text-align: right;\">\n",
       "      <th>death_from_disease</th>\n",
       "      <th>0</th>\n",
       "      <th>1</th>\n",
       "    </tr>\n",
       "    <tr>\n",
       "      <th>row_0</th>\n",
       "      <th></th>\n",
       "      <th></th>\n",
       "    </tr>\n",
       "  </thead>\n",
       "  <tbody>\n",
       "    <tr>\n",
       "      <th>0</th>\n",
       "      <td>37</td>\n",
       "      <td>14</td>\n",
       "    </tr>\n",
       "    <tr>\n",
       "      <th>1</th>\n",
       "      <td>8</td>\n",
       "      <td>4</td>\n",
       "    </tr>\n",
       "  </tbody>\n",
       "</table>\n",
       "</div>"
      ],
      "text/plain": [
       "death_from_disease   0   1\n",
       "row_0                     \n",
       "0                   37  14\n",
       "1                    8   4"
      ]
     },
     "execution_count": 52,
     "metadata": {},
     "output_type": "execute_result"
    }
   ],
   "source": [
    "pd.crosstab(y_pred, y_val)"
   ]
  },
  {
   "cell_type": "code",
   "execution_count": 53,
   "id": "ea405a21",
   "metadata": {
    "ExecuteTime": {
     "end_time": "2024-03-27T19:32:23.376535Z",
     "start_time": "2024-03-27T19:32:23.360487Z"
    }
   },
   "outputs": [
    {
     "data": {
      "text/html": [
       "<div>\n",
       "<style scoped>\n",
       "    .dataframe tbody tr th:only-of-type {\n",
       "        vertical-align: middle;\n",
       "    }\n",
       "\n",
       "    .dataframe tbody tr th {\n",
       "        vertical-align: top;\n",
       "    }\n",
       "\n",
       "    .dataframe thead th {\n",
       "        text-align: right;\n",
       "    }\n",
       "</style>\n",
       "<table border=\"1\" class=\"dataframe\">\n",
       "  <thead>\n",
       "    <tr style=\"text-align: right;\">\n",
       "      <th>death_from_disease</th>\n",
       "      <th>0.0</th>\n",
       "      <th>1.0</th>\n",
       "    </tr>\n",
       "    <tr>\n",
       "      <th>high_risk</th>\n",
       "      <th></th>\n",
       "      <th></th>\n",
       "    </tr>\n",
       "  </thead>\n",
       "  <tbody>\n",
       "    <tr>\n",
       "      <th>0.0</th>\n",
       "      <td>33</td>\n",
       "      <td>3</td>\n",
       "    </tr>\n",
       "    <tr>\n",
       "      <th>1.0</th>\n",
       "      <td>12</td>\n",
       "      <td>15</td>\n",
       "    </tr>\n",
       "  </tbody>\n",
       "</table>\n",
       "</div>"
      ],
      "text/plain": [
       "death_from_disease  0.0  1.0\n",
       "high_risk                   \n",
       "0.0                  33    3\n",
       "1.0                  12   15"
      ]
     },
     "execution_count": 53,
     "metadata": {},
     "output_type": "execute_result"
    }
   ],
   "source": [
    "pd.crosstab(meta.loc[y_val.index].high_risk, meta.loc[y_val.index].death_from_disease)"
   ]
  },
  {
   "cell_type": "code",
   "execution_count": 54,
   "id": "5052d3f0",
   "metadata": {
    "ExecuteTime": {
     "end_time": "2024-03-27T19:32:23.389033Z",
     "start_time": "2024-03-27T19:32:23.379183Z"
    }
   },
   "outputs": [
    {
     "name": "stdout",
     "output_type": "stream",
     "text": [
      "              precision    recall  f1-score   support\n",
      "\n",
      "           0       0.73      0.82      0.77        45\n",
      "           1       0.33      0.22      0.27        18\n",
      "\n",
      "    accuracy                           0.65        63\n",
      "   macro avg       0.53      0.52      0.52        63\n",
      "weighted avg       0.61      0.65      0.63        63\n",
      "\n"
     ]
    }
   ],
   "source": [
    "print(classification_report(y_val, y_pred))"
   ]
  },
  {
   "cell_type": "code",
   "execution_count": 55,
   "id": "1db11633",
   "metadata": {
    "ExecuteTime": {
     "end_time": "2024-03-27T19:32:23.691428Z",
     "start_time": "2024-03-27T19:32:23.391357Z"
    }
   },
   "outputs": [],
   "source": [
    "importances = rf_classifier.feature_importances_\n",
    "\n",
    "# Sort feature importances in descending order\n",
    "indices = np.argsort(importances)[::-1]"
   ]
  },
  {
   "cell_type": "code",
   "execution_count": 56,
   "id": "f0746bce",
   "metadata": {
    "ExecuteTime": {
     "end_time": "2024-03-27T19:32:23.698183Z",
     "start_time": "2024-03-27T19:32:23.693983Z"
    }
   },
   "outputs": [
    {
     "name": "stdout",
     "output_type": "stream",
     "text": [
      "Feature ranking:\n",
      "1. PGM2L1: feature 11441 (0.010454)\n",
      "2. PMP22: feature 11754 (0.006427)\n",
      "3. SLC25A5P2: feature 14313 (0.006084)\n",
      "4. SLC25A5: feature 14311 (0.005888)\n",
      "5. TMEM191C: feature 15748 (0.005883)\n",
      "6. PIRT: feature 11575 (0.005501)\n",
      "7. PRMT5: feature 12121 (0.005366)\n",
      "8. DDX39: feature 3135 (0.005323)\n",
      "9. CAMTA1: feature 1571 (0.005311)\n",
      "10. TMOD2: feature 15854 (0.005036)\n",
      "11. LOC442777: feature 8483 (0.004608)\n",
      "12. SSRP1: feature 14942 (0.004224)\n",
      "13. VRK1: feature 16757 (0.003990)\n",
      "14. UBL5: feature 16459 (0.003981)\n",
      "15. MRPS18C: feature 9915 (0.003846)\n",
      "16. LOC100286976: feature 7752 (0.003814)\n",
      "17. PLXNA4: feature 11739 (0.003779)\n",
      "18. PHLDB1: feature 11493 (0.003755)\n",
      "19. MRPL11: feature 9862 (0.003720)\n",
      "20. LOC100287215: feature 7772 (0.003700)\n"
     ]
    }
   ],
   "source": [
    "# Print the feature ranking\n",
    "print(\"Feature ranking:\")\n",
    "for f in range(20):\n",
    "    print(\"%d. %s: feature %d (%f)\" % (f + 1, X_train.columns[indices[f]], indices[f], importances[indices[f]]))"
   ]
  },
  {
   "cell_type": "code",
   "execution_count": 57,
   "id": "e908d29c",
   "metadata": {
    "ExecuteTime": {
     "end_time": "2024-03-27T19:32:23.879180Z",
     "start_time": "2024-03-27T19:32:23.700633Z"
    }
   },
   "outputs": [
    {
     "data": {
      "text/plain": [
       "[<matplotlib.lines.Line2D at 0x12c058c10>]"
      ]
     },
     "execution_count": 57,
     "metadata": {},
     "output_type": "execute_result"
    },
    {
     "data": {
      "image/png": "[encoded data removed]",
      "text/plain": [
       "<Figure size 640x480 with 1 Axes>"
      ]
     },
     "metadata": {},
     "output_type": "display_data"
    }
   ],
   "source": [
    "plt.plot(importances[indices][range(1000)])"
   ]
  },
  {
   "cell_type": "code",
   "execution_count": 58,
   "id": "2c3f73b6",
   "metadata": {
    "ExecuteTime": {
     "end_time": "2024-03-27T19:32:24.169668Z",
     "start_time": "2024-03-27T19:32:23.881426Z"
    }
   },
   "outputs": [
    {
     "data": {
      "image/png": "[encoded data removed]",
      "text/plain": [
       "<Figure size 640x480 with 1 Axes>"
      ]
     },
     "metadata": {},
     "output_type": "display_data"
    }
   ],
   "source": [
    "plt.barh(X_train.columns[indices][range(20)][::-1], importances[indices][range(20)][::-1])\n",
    "plt.title(\"Permutation-based feature importance\")\n",
    "plt.xlabel(\"Importance\")\n",
    "plt.ylabel(\"Feature\")\n",
    "plt.show()"
   ]
  },
  {
   "cell_type": "code",
   "execution_count": null,
   "id": "58c24c48",
   "metadata": {},
   "outputs": [],
   "source": []
  },
  {
   "cell_type": "code",
   "execution_count": null,
   "id": "bc5501f5",
   "metadata": {},
   "outputs": [],
   "source": []
  },
  {
   "cell_type": "code",
   "execution_count": 64,
   "id": "51dd654d",
   "metadata": {
    "ExecuteTime": {
     "end_time": "2024-03-27T19:32:25.708404Z",
     "start_time": "2024-03-27T19:32:25.705162Z"
    }
   },
   "outputs": [],
   "source": [
    "from sklearn.metrics import f1_score\n"
   ]
  },
  {
   "cell_type": "code",
   "execution_count": 67,
   "id": "c54876b7",
   "metadata": {
    "ExecuteTime": {
     "end_time": "2024-03-27T19:47:14.929816Z",
     "start_time": "2024-03-27T19:47:14.536230Z"
    }
   },
   "outputs": [
    {
     "name": "stdout",
     "output_type": "stream",
     "text": [
      "L1 test acc: 0.8571428571428571\n",
      "L1 test auc: 0.9117647058823529\n",
      "L1 test f1: 0.7272727272727273\n"
     ]
    }
   ],
   "source": [
    "print(\"L1 test acc:\", accuracy_score(y_test, model.predict(X_test_scaled)))\n",
    "print(\"L1 test auc:\", roc_auc_score(y_test, model.predict(X_test_scaled)))\n",
    "print(\"L1 test f1:\", f1_score(y_test, model.predict(X_test_scaled)))"
   ]
  },
  {
   "cell_type": "code",
   "execution_count": 68,
   "id": "613f3dc1",
   "metadata": {
    "ExecuteTime": {
     "end_time": "2024-03-27T19:47:15.802843Z",
     "start_time": "2024-03-27T19:47:15.412859Z"
    }
   },
   "outputs": [
    {
     "name": "stdout",
     "output_type": "stream",
     "text": [
      "L1 val acc: 0.8095238095238095\n",
      "L1 val auc: 0.8666666666666667\n",
      "L1 val f1: 0.7499999999999999\n"
     ]
    }
   ],
   "source": [
    "print(\"L1 val acc:\", accuracy_score(y_val, model.predict(X_val_scaled)))\n",
    "print(\"L1 val auc:\", roc_auc_score(y_val, model.predict(X_val_scaled)))\n",
    "print(\"L1 val f1:\", f1_score(y_val, model.predict(X_val_scaled)))"
   ]
  },
  {
   "cell_type": "code",
   "execution_count": 61,
   "id": "c0fc7571",
   "metadata": {
    "ExecuteTime": {
     "end_time": "2024-03-27T19:32:24.832822Z",
     "start_time": "2024-03-27T19:32:24.696165Z"
    }
   },
   "outputs": [
    {
     "data": {
      "text/html": [
       "<div>\n",
       "<style scoped>\n",
       "    .dataframe tbody tr th:only-of-type {\n",
       "        vertical-align: middle;\n",
       "    }\n",
       "\n",
       "    .dataframe tbody tr th {\n",
       "        vertical-align: top;\n",
       "    }\n",
       "\n",
       "    .dataframe thead th {\n",
       "        text-align: right;\n",
       "    }\n",
       "</style>\n",
       "<table border=\"1\" class=\"dataframe\">\n",
       "  <thead>\n",
       "    <tr style=\"text-align: right;\">\n",
       "      <th>death_from_disease</th>\n",
       "      <th>0</th>\n",
       "      <th>1</th>\n",
       "    </tr>\n",
       "    <tr>\n",
       "      <th>row_0</th>\n",
       "      <th></th>\n",
       "      <th></th>\n",
       "    </tr>\n",
       "  </thead>\n",
       "  <tbody>\n",
       "    <tr>\n",
       "      <th>0</th>\n",
       "      <td>42</td>\n",
       "      <td>0</td>\n",
       "    </tr>\n",
       "    <tr>\n",
       "      <th>1</th>\n",
       "      <td>9</td>\n",
       "      <td>12</td>\n",
       "    </tr>\n",
       "  </tbody>\n",
       "</table>\n",
       "</div>"
      ],
      "text/plain": [
       "death_from_disease   0   1\n",
       "row_0                     \n",
       "0                   42   0\n",
       "1                    9  12"
      ]
     },
     "execution_count": 61,
     "metadata": {},
     "output_type": "execute_result"
    }
   ],
   "source": [
    "pd.crosstab(model.predict(X_test_scaled), y_test)"
   ]
  },
  {
   "cell_type": "code",
   "execution_count": 69,
   "id": "5bbb980c",
   "metadata": {
    "ExecuteTime": {
     "end_time": "2024-03-27T19:47:18.110798Z",
     "start_time": "2024-03-27T19:47:17.220249Z"
    }
   },
   "outputs": [
    {
     "name": "stdout",
     "output_type": "stream",
     "text": [
      "RF test acc: 0.8412698412698413\n",
      "RF test auc: 0.678921568627451\n",
      "RF test f1: 0.5\n"
     ]
    }
   ],
   "source": [
    "print(\"RF test acc:\", accuracy_score(y_test, rf_classifier.predict(X_test.loc[:, X_train.columns])))\n",
    "print(\"RF test auc:\", roc_auc_score(y_test, rf_classifier.predict(X_test.loc[:, X_train.columns])))\n",
    "print(\"RF test f1:\", f1_score(y_test, rf_classifier.predict(X_test.loc[:, X_train.columns])))"
   ]
  },
  {
   "cell_type": "code",
   "execution_count": 70,
   "id": "44e729c4",
   "metadata": {
    "ExecuteTime": {
     "end_time": "2024-03-27T19:47:19.047192Z",
     "start_time": "2024-03-27T19:47:18.161783Z"
    }
   },
   "outputs": [
    {
     "name": "stdout",
     "output_type": "stream",
     "text": [
      "RF val acc: 0.6507936507936508\n",
      "RF val auc: 0.5222222222222221\n",
      "RF val f1: 0.26666666666666666\n"
     ]
    }
   ],
   "source": [
    "print(\"RF val acc:\", accuracy_score(y_val, rf_classifier.predict(X_val.loc[:, X_train.columns])))\n",
    "print(\"RF val auc:\", roc_auc_score(y_val, rf_classifier.predict(X_val.loc[:, X_train.columns])))\n",
    "print(\"RF val f1:\", f1_score(y_val, rf_classifier.predict(X_val.loc[:, X_train.columns])))"
   ]
  },
  {
   "cell_type": "code",
   "execution_count": 63,
   "id": "fa1fdf97",
   "metadata": {
    "ExecuteTime": {
     "end_time": "2024-03-27T19:32:25.702682Z",
     "start_time": "2024-03-27T19:32:25.412312Z"
    }
   },
   "outputs": [
    {
     "data": {
      "text/html": [
       "<div>\n",
       "<style scoped>\n",
       "    .dataframe tbody tr th:only-of-type {\n",
       "        vertical-align: middle;\n",
       "    }\n",
       "\n",
       "    .dataframe tbody tr th {\n",
       "        vertical-align: top;\n",
       "    }\n",
       "\n",
       "    .dataframe thead th {\n",
       "        text-align: right;\n",
       "    }\n",
       "</style>\n",
       "<table border=\"1\" class=\"dataframe\">\n",
       "  <thead>\n",
       "    <tr style=\"text-align: right;\">\n",
       "      <th>death_from_disease</th>\n",
       "      <th>0</th>\n",
       "      <th>1</th>\n",
       "    </tr>\n",
       "    <tr>\n",
       "      <th>row_0</th>\n",
       "      <th></th>\n",
       "      <th></th>\n",
       "    </tr>\n",
       "  </thead>\n",
       "  <tbody>\n",
       "    <tr>\n",
       "      <th>0</th>\n",
       "      <td>48</td>\n",
       "      <td>7</td>\n",
       "    </tr>\n",
       "    <tr>\n",
       "      <th>1</th>\n",
       "      <td>3</td>\n",
       "      <td>5</td>\n",
       "    </tr>\n",
       "  </tbody>\n",
       "</table>\n",
       "</div>"
      ],
      "text/plain": [
       "death_from_disease   0  1\n",
       "row_0                    \n",
       "0                   48  7\n",
       "1                    3  5"
      ]
     },
     "execution_count": 63,
     "metadata": {},
     "output_type": "execute_result"
    }
   ],
   "source": [
    "pd.crosstab(rf_classifier.predict(X_test.loc[:, X_train.columns]), y_test)"
   ]
  },
  {
   "cell_type": "code",
   "execution_count": null,
   "id": "6e178076",
   "metadata": {},
   "outputs": [],
   "source": []
  },
  {
   "cell_type": "code",
   "execution_count": 65,
   "id": "dc15584f",
   "metadata": {
    "ExecuteTime": {
     "end_time": "2024-03-27T19:32:25.838636Z",
     "start_time": "2024-03-27T19:32:25.711060Z"
    }
   },
   "outputs": [
    {
     "data": {
      "text/plain": [
       "0.7272727272727273"
      ]
     },
     "execution_count": 65,
     "metadata": {},
     "output_type": "execute_result"
    }
   ],
   "source": [
    "f1_score(y_test, model.predict(X_test_scaled))\n"
   ]
  },
  {
   "cell_type": "code",
   "execution_count": 66,
   "id": "bd54cb20",
   "metadata": {
    "ExecuteTime": {
     "end_time": "2024-03-27T19:32:26.146994Z",
     "start_time": "2024-03-27T19:32:25.841197Z"
    }
   },
   "outputs": [
    {
     "data": {
      "text/plain": [
       "0.5"
      ]
     },
     "execution_count": 66,
     "metadata": {},
     "output_type": "execute_result"
    }
   ],
   "source": [
    "f1_score(y_test, rf_classifier.predict(X_test.loc[:, X_train.columns]))"
   ]
  },
  {
   "cell_type": "markdown",
   "id": "94d720f4",
   "metadata": {},
   "source": [
    "https://www.ncbi.nlm.nih.gov/pmc/articles/PMC4290828/"
   ]
  },
  {
   "cell_type": "code",
   "execution_count": null,
   "id": "f0fb86de",
   "metadata": {},
   "outputs": [],
   "source": []
  },
  {
   "cell_type": "code",
   "execution_count": null,
   "id": "788b31c3",
   "metadata": {},
   "outputs": [],
   "source": []
  },
  {
   "cell_type": "code",
   "execution_count": 71,
   "id": "e1b0f63f",
   "metadata": {
    "ExecuteTime": {
     "end_time": "2024-03-27T20:01:59.509796Z",
     "start_time": "2024-03-27T20:01:59.506763Z"
    }
   },
   "outputs": [],
   "source": [
    "# acc, auc, f1\n",
    "lr_val_scores = [0.81, 0.87, 0.75]\n",
    "lr_test_scores = [0.86, 0.91, 0.73]\n",
    "\n",
    "rf_val_scores = [0.65, 0.52, 0.27]\n",
    "rf_test_scores = [0.84, 0.68, 0.5]"
   ]
  },
  {
   "cell_type": "code",
   "execution_count": null,
   "id": "6cdc6181",
   "metadata": {},
   "outputs": [],
   "source": []
  }
 ],
 "metadata": {
  "kernelspec": {
   "display_name": "Python 3 (ipykernel)",
   "language": "python",
   "name": "python3"
  },
  "language_info": {
   "codemirror_mode": {
    "name": "ipython",
    "version": 3
   },
   "file_extension": ".py",
   "mimetype": "text/x-python",
   "name": "python",
   "nbconvert_exporter": "python",
   "pygments_lexer": "ipython3",
   "version": "3.10.7"
  }
 },
 "nbformat": 4,
 "nbformat_minor": 5
}
