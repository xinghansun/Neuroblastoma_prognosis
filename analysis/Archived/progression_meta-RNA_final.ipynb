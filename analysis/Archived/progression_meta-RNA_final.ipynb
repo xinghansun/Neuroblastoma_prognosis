{
 "cells": [
  {
   "cell_type": "code",
   "execution_count": 1,
   "id": "9f87386f",
   "metadata": {
    "ExecuteTime": {
     "end_time": "2024-03-26T15:50:32.667542Z",
     "start_time": "2024-03-26T15:50:31.369459Z"
    }
   },
   "outputs": [],
   "source": [
    "import gzip\n",
    "\n",
    "import pandas as pd\n",
    "import numpy as np\n",
    "\n",
    "from sklearn.model_selection import train_test_split\n",
    "from sklearn.preprocessing import MinMaxScaler, StandardScaler\n",
    "\n",
    "from matplotlib import pyplot as plt"
   ]
  },
  {
   "cell_type": "markdown",
   "id": "6f8050eb",
   "metadata": {},
   "source": [
    "# Preprocessing"
   ]
  },
  {
   "cell_type": "markdown",
   "id": "3aadae97",
   "metadata": {},
   "source": [
    "## Meta data"
   ]
  },
  {
   "cell_type": "code",
   "execution_count": 2,
   "id": "de7ec617",
   "metadata": {
    "ExecuteTime": {
     "end_time": "2024-03-26T15:50:33.966056Z",
     "start_time": "2024-03-26T15:50:33.960697Z"
    }
   },
   "outputs": [],
   "source": [
    "def read_geo_series_matrix(file_path):\n",
    "    cols = {}\n",
    "    with gzip.open(file_path, 'rt') as f:\n",
    "        for line in f:\n",
    "            if line.startswith(\"!Sample_title\"):\n",
    "                sampleId = [i.strip('\"') for i in line.split()[1:]]\n",
    "                cols[\"sampleId\"] = sampleId\n",
    "            elif line.startswith(\"!Sample_characteristics_ch1\"):\n",
    "                _ = line[28:].strip().strip('\"').split('\"\\t\"')\n",
    "                category = _[0].split(\": \")[0].replace(\" \", \"_\")\n",
    "                values = [i.split(\": \")[1] for i in _]\n",
    "                cols.update({category: values})\n",
    "    \n",
    "    return pd.DataFrame(cols)"
   ]
  },
  {
   "cell_type": "code",
   "execution_count": 3,
   "id": "3a03c6ab",
   "metadata": {
    "ExecuteTime": {
     "end_time": "2024-03-26T15:50:34.551176Z",
     "start_time": "2024-03-26T15:50:34.537143Z"
    }
   },
   "outputs": [
    {
     "data": {
      "text/plain": [
       "(498, 11)"
      ]
     },
     "execution_count": 3,
     "metadata": {},
     "output_type": "execute_result"
    }
   ],
   "source": [
    "meta = read_geo_series_matrix(\"../rawData/GSE49711_series_matrix.txt.gz\")\n",
    "meta.index = meta.sampleId\n",
    "meta.shape"
   ]
  },
  {
   "cell_type": "code",
   "execution_count": 4,
   "id": "046f633f",
   "metadata": {
    "ExecuteTime": {
     "end_time": "2024-03-26T15:50:35.156147Z",
     "start_time": "2024-03-26T15:50:35.150462Z"
    }
   },
   "outputs": [
    {
     "data": {
      "text/plain": [
       "(498, 11)"
      ]
     },
     "execution_count": 4,
     "metadata": {},
     "output_type": "execute_result"
    }
   ],
   "source": [
    "meta = meta.loc[meta.progression.isin([\"0\", \"1\"])]\n",
    "meta.shape"
   ]
  },
  {
   "cell_type": "code",
   "execution_count": 5,
   "id": "d52624bb",
   "metadata": {
    "ExecuteTime": {
     "end_time": "2024-03-26T15:50:35.683554Z",
     "start_time": "2024-03-26T15:50:35.664495Z"
    }
   },
   "outputs": [
    {
     "data": {
      "text/html": [
       "<div>\n",
       "<style scoped>\n",
       "    .dataframe tbody tr th:only-of-type {\n",
       "        vertical-align: middle;\n",
       "    }\n",
       "\n",
       "    .dataframe tbody tr th {\n",
       "        vertical-align: top;\n",
       "    }\n",
       "\n",
       "    .dataframe thead th {\n",
       "        text-align: right;\n",
       "    }\n",
       "</style>\n",
       "<table border=\"1\" class=\"dataframe\">\n",
       "  <thead>\n",
       "    <tr style=\"text-align: right;\">\n",
       "      <th>progression</th>\n",
       "      <th>0</th>\n",
       "      <th>1</th>\n",
       "    </tr>\n",
       "    <tr>\n",
       "      <th>inss_stage</th>\n",
       "      <th></th>\n",
       "      <th></th>\n",
       "    </tr>\n",
       "  </thead>\n",
       "  <tbody>\n",
       "    <tr>\n",
       "      <th>1</th>\n",
       "      <td>112</td>\n",
       "      <td>9</td>\n",
       "    </tr>\n",
       "    <tr>\n",
       "      <th>2</th>\n",
       "      <td>59</td>\n",
       "      <td>19</td>\n",
       "    </tr>\n",
       "    <tr>\n",
       "      <th>3</th>\n",
       "      <td>36</td>\n",
       "      <td>27</td>\n",
       "    </tr>\n",
       "    <tr>\n",
       "      <th>4</th>\n",
       "      <td>68</td>\n",
       "      <td>115</td>\n",
       "    </tr>\n",
       "    <tr>\n",
       "      <th>4S</th>\n",
       "      <td>40</td>\n",
       "      <td>13</td>\n",
       "    </tr>\n",
       "  </tbody>\n",
       "</table>\n",
       "</div>"
      ],
      "text/plain": [
       "progression    0    1\n",
       "inss_stage           \n",
       "1            112    9\n",
       "2             59   19\n",
       "3             36   27\n",
       "4             68  115\n",
       "4S            40   13"
      ]
     },
     "execution_count": 5,
     "metadata": {},
     "output_type": "execute_result"
    }
   ],
   "source": [
    "pd.crosstab(meta.inss_stage, meta.progression)"
   ]
  },
  {
   "cell_type": "code",
   "execution_count": 6,
   "id": "950a8a28",
   "metadata": {
    "ExecuteTime": {
     "end_time": "2024-03-26T15:50:37.735379Z",
     "start_time": "2024-03-26T15:50:37.720463Z"
    }
   },
   "outputs": [
    {
     "data": {
      "text/html": [
       "<div>\n",
       "<style scoped>\n",
       "    .dataframe tbody tr th:only-of-type {\n",
       "        vertical-align: middle;\n",
       "    }\n",
       "\n",
       "    .dataframe tbody tr th {\n",
       "        vertical-align: top;\n",
       "    }\n",
       "\n",
       "    .dataframe thead th {\n",
       "        text-align: right;\n",
       "    }\n",
       "</style>\n",
       "<table border=\"1\" class=\"dataframe\">\n",
       "  <thead>\n",
       "    <tr style=\"text-align: right;\">\n",
       "      <th>progression</th>\n",
       "      <th>0</th>\n",
       "      <th>1</th>\n",
       "    </tr>\n",
       "    <tr>\n",
       "      <th>high_risk</th>\n",
       "      <th></th>\n",
       "      <th></th>\n",
       "    </tr>\n",
       "  </thead>\n",
       "  <tbody>\n",
       "    <tr>\n",
       "      <th>0</th>\n",
       "      <td>259</td>\n",
       "      <td>63</td>\n",
       "    </tr>\n",
       "    <tr>\n",
       "      <th>1</th>\n",
       "      <td>56</td>\n",
       "      <td>120</td>\n",
       "    </tr>\n",
       "  </tbody>\n",
       "</table>\n",
       "</div>"
      ],
      "text/plain": [
       "progression    0    1\n",
       "high_risk            \n",
       "0            259   63\n",
       "1             56  120"
      ]
     },
     "execution_count": 6,
     "metadata": {},
     "output_type": "execute_result"
    }
   ],
   "source": [
    "pd.crosstab(meta.high_risk, meta.progression)"
   ]
  },
  {
   "cell_type": "code",
   "execution_count": 7,
   "id": "115e30d2",
   "metadata": {
    "ExecuteTime": {
     "end_time": "2024-03-26T15:50:38.316919Z",
     "start_time": "2024-03-26T15:50:38.309082Z"
    }
   },
   "outputs": [],
   "source": [
    "meta.Sex.replace({\"M\":1, \"F\":0}, inplace=True)\n",
    "meta.replace({\"N/A\":np.nan}, inplace=True)"
   ]
  },
  {
   "cell_type": "code",
   "execution_count": 8,
   "id": "afde69ff",
   "metadata": {
    "ExecuteTime": {
     "end_time": "2024-03-26T15:50:38.829194Z",
     "start_time": "2024-03-26T15:50:38.823899Z"
    }
   },
   "outputs": [],
   "source": [
    "stage_dummy = pd.get_dummies(meta.inss_stage, prefix='inss_stage')\n",
    "meta = pd.concat([meta, stage_dummy], axis=1)"
   ]
  },
  {
   "cell_type": "code",
   "execution_count": 9,
   "id": "6cd3c21e",
   "metadata": {
    "ExecuteTime": {
     "end_time": "2024-03-26T15:50:39.364627Z",
     "start_time": "2024-03-26T15:50:39.360629Z"
    }
   },
   "outputs": [],
   "source": [
    "meta = meta[[\"Sex\", \"age_at_diagnosis\", \"high_risk\", \n",
    "               \"progression\"\n",
    "              ]]"
   ]
  },
  {
   "cell_type": "code",
   "execution_count": 10,
   "id": "b8dafa43",
   "metadata": {
    "ExecuteTime": {
     "end_time": "2024-03-26T15:50:40.139308Z",
     "start_time": "2024-03-26T15:50:40.135442Z"
    }
   },
   "outputs": [],
   "source": [
    "meta.dropna(inplace=True)"
   ]
  },
  {
   "cell_type": "code",
   "execution_count": 11,
   "id": "d61993ca",
   "metadata": {
    "ExecuteTime": {
     "end_time": "2024-03-26T15:50:40.683965Z",
     "start_time": "2024-03-26T15:50:40.680638Z"
    }
   },
   "outputs": [],
   "source": [
    "meta = meta.astype(\"double\")"
   ]
  },
  {
   "cell_type": "code",
   "execution_count": 12,
   "id": "6b209e2c",
   "metadata": {
    "ExecuteTime": {
     "end_time": "2024-03-26T15:50:41.250265Z",
     "start_time": "2024-03-26T15:50:41.240102Z"
    }
   },
   "outputs": [
    {
     "data": {
      "text/html": [
       "<div>\n",
       "<style scoped>\n",
       "    .dataframe tbody tr th:only-of-type {\n",
       "        vertical-align: middle;\n",
       "    }\n",
       "\n",
       "    .dataframe tbody tr th {\n",
       "        vertical-align: top;\n",
       "    }\n",
       "\n",
       "    .dataframe thead th {\n",
       "        text-align: right;\n",
       "    }\n",
       "</style>\n",
       "<table border=\"1\" class=\"dataframe\">\n",
       "  <thead>\n",
       "    <tr style=\"text-align: right;\">\n",
       "      <th></th>\n",
       "      <th>Sex</th>\n",
       "      <th>age_at_diagnosis</th>\n",
       "      <th>high_risk</th>\n",
       "      <th>progression</th>\n",
       "    </tr>\n",
       "    <tr>\n",
       "      <th>sampleId</th>\n",
       "      <th></th>\n",
       "      <th></th>\n",
       "      <th></th>\n",
       "      <th></th>\n",
       "    </tr>\n",
       "  </thead>\n",
       "  <tbody>\n",
       "    <tr>\n",
       "      <th>SEQC_NB001</th>\n",
       "      <td>1.0</td>\n",
       "      <td>987.0</td>\n",
       "      <td>1.0</td>\n",
       "      <td>1.0</td>\n",
       "    </tr>\n",
       "    <tr>\n",
       "      <th>SEQC_NB002</th>\n",
       "      <td>1.0</td>\n",
       "      <td>1808.0</td>\n",
       "      <td>1.0</td>\n",
       "      <td>1.0</td>\n",
       "    </tr>\n",
       "    <tr>\n",
       "      <th>SEQC_NB003</th>\n",
       "      <td>0.0</td>\n",
       "      <td>625.0</td>\n",
       "      <td>1.0</td>\n",
       "      <td>1.0</td>\n",
       "    </tr>\n",
       "    <tr>\n",
       "      <th>SEQC_NB004</th>\n",
       "      <td>0.0</td>\n",
       "      <td>335.0</td>\n",
       "      <td>1.0</td>\n",
       "      <td>0.0</td>\n",
       "    </tr>\n",
       "    <tr>\n",
       "      <th>SEQC_NB005</th>\n",
       "      <td>0.0</td>\n",
       "      <td>536.0</td>\n",
       "      <td>1.0</td>\n",
       "      <td>1.0</td>\n",
       "    </tr>\n",
       "  </tbody>\n",
       "</table>\n",
       "</div>"
      ],
      "text/plain": [
       "            Sex  age_at_diagnosis  high_risk  progression\n",
       "sampleId                                                 \n",
       "SEQC_NB001  1.0             987.0        1.0          1.0\n",
       "SEQC_NB002  1.0            1808.0        1.0          1.0\n",
       "SEQC_NB003  0.0             625.0        1.0          1.0\n",
       "SEQC_NB004  0.0             335.0        1.0          0.0\n",
       "SEQC_NB005  0.0             536.0        1.0          1.0"
      ]
     },
     "execution_count": 12,
     "metadata": {},
     "output_type": "execute_result"
    }
   ],
   "source": [
    "meta.head()"
   ]
  },
  {
   "cell_type": "code",
   "execution_count": null,
   "id": "2fbafb6a",
   "metadata": {},
   "outputs": [],
   "source": []
  },
  {
   "cell_type": "markdown",
   "id": "196ae431",
   "metadata": {},
   "source": [
    "## Gene level"
   ]
  },
  {
   "cell_type": "code",
   "execution_count": 13,
   "id": "471e3f5d",
   "metadata": {
    "ExecuteTime": {
     "end_time": "2024-03-26T15:50:48.276061Z",
     "start_time": "2024-03-26T15:50:43.871741Z"
    }
   },
   "outputs": [],
   "source": [
    "rna = pd.read_table(\"../rawData/GSE49711_SEQC_NB_TAV_G_log2.final.txt.gz\")\n",
    "rna = rna[~ rna.Gene.str.contains(\"[a-z]\")]\n",
    "rna.drop([\"Gene_set\",\"NCBI_gene_ID\",\"RefSeq_transcript_ID\",\"Chromosome\",\"Strand\",\"Start\",\"End\"], axis=1, inplace=True)\n",
    "X = rna.iloc[:,1:].transpose()\n",
    "X.columns = rna.Gene"
   ]
  },
  {
   "cell_type": "code",
   "execution_count": 14,
   "id": "f52bdc51",
   "metadata": {
    "ExecuteTime": {
     "end_time": "2024-03-26T15:50:48.336495Z",
     "start_time": "2024-03-26T15:50:48.279426Z"
    }
   },
   "outputs": [],
   "source": [
    "X = X.loc[meta.index] # keep only samples with valid Ys"
   ]
  },
  {
   "cell_type": "code",
   "execution_count": 15,
   "id": "aace9141",
   "metadata": {
    "ExecuteTime": {
     "end_time": "2024-03-26T15:50:48.376716Z",
     "start_time": "2024-03-26T15:50:48.338841Z"
    }
   },
   "outputs": [],
   "source": [
    "X_train, X_test, y_train, y_test = train_test_split(X, meta.progression.astype(\"int\"), test_size=0.3, random_state=1234)"
   ]
  },
  {
   "cell_type": "code",
   "execution_count": null,
   "id": "40e5f1e5",
   "metadata": {},
   "outputs": [],
   "source": []
  },
  {
   "cell_type": "markdown",
   "id": "248bb4de",
   "metadata": {},
   "source": [
    "# QC"
   ]
  },
  {
   "cell_type": "code",
   "execution_count": 16,
   "id": "6177e57b",
   "metadata": {
    "ExecuteTime": {
     "end_time": "2024-03-26T15:50:49.479493Z",
     "start_time": "2024-03-26T15:50:48.380100Z"
    }
   },
   "outputs": [
    {
     "data": {
      "text/plain": [
       "<Axes: >"
      ]
     },
     "execution_count": 16,
     "metadata": {},
     "output_type": "execute_result"
    },
    {
     "data": {
      "image/png": "[encoded data removed]",
      "text/plain": [
       "<Figure size 640x480 with 1 Axes>"
      ]
     },
     "metadata": {},
     "output_type": "display_data"
    }
   ],
   "source": [
    "X_train.median().hist(bins=100)"
   ]
  },
  {
   "cell_type": "code",
   "execution_count": 17,
   "id": "03d99444",
   "metadata": {
    "ExecuteTime": {
     "end_time": "2024-03-26T15:50:50.193540Z",
     "start_time": "2024-03-26T15:50:49.482662Z"
    }
   },
   "outputs": [],
   "source": [
    "X_train = X_train.loc[:, X_train.median() > 5]"
   ]
  },
  {
   "cell_type": "code",
   "execution_count": 18,
   "id": "5020b4d7",
   "metadata": {
    "ExecuteTime": {
     "end_time": "2024-03-26T15:50:50.200512Z",
     "start_time": "2024-03-26T15:50:50.195784Z"
    }
   },
   "outputs": [
    {
     "data": {
      "text/plain": [
       "(348, 17690)"
      ]
     },
     "execution_count": 18,
     "metadata": {},
     "output_type": "execute_result"
    }
   ],
   "source": [
    "X_train.shape"
   ]
  },
  {
   "cell_type": "code",
   "execution_count": 19,
   "id": "377b7688",
   "metadata": {
    "ExecuteTime": {
     "end_time": "2024-03-26T15:50:50.237388Z",
     "start_time": "2024-03-26T15:50:50.203843Z"
    }
   },
   "outputs": [
    {
     "data": {
      "text/html": [
       "<div>\n",
       "<style scoped>\n",
       "    .dataframe tbody tr th:only-of-type {\n",
       "        vertical-align: middle;\n",
       "    }\n",
       "\n",
       "    .dataframe tbody tr th {\n",
       "        vertical-align: top;\n",
       "    }\n",
       "\n",
       "    .dataframe thead th {\n",
       "        text-align: right;\n",
       "    }\n",
       "</style>\n",
       "<table border=\"1\" class=\"dataframe\">\n",
       "  <thead>\n",
       "    <tr style=\"text-align: right;\">\n",
       "      <th>Gene</th>\n",
       "      <th>A1BGAS</th>\n",
       "      <th>A2BP1</th>\n",
       "      <th>A2LD1</th>\n",
       "      <th>A2M</th>\n",
       "      <th>A2ML1</th>\n",
       "      <th>A2MP1</th>\n",
       "      <th>A4GALT</th>\n",
       "      <th>A4GNT</th>\n",
       "      <th>AAAS</th>\n",
       "      <th>AACS</th>\n",
       "      <th>...</th>\n",
       "      <th>ZWILCH</th>\n",
       "      <th>ZWINT</th>\n",
       "      <th>ZXDA</th>\n",
       "      <th>ZXDB</th>\n",
       "      <th>ZXDC</th>\n",
       "      <th>ZYG11A</th>\n",
       "      <th>ZYG11B</th>\n",
       "      <th>ZYX</th>\n",
       "      <th>ZZEF1</th>\n",
       "      <th>ZZZ3</th>\n",
       "    </tr>\n",
       "    <tr>\n",
       "      <th>sampleId</th>\n",
       "      <th></th>\n",
       "      <th></th>\n",
       "      <th></th>\n",
       "      <th></th>\n",
       "      <th></th>\n",
       "      <th></th>\n",
       "      <th></th>\n",
       "      <th></th>\n",
       "      <th></th>\n",
       "      <th></th>\n",
       "      <th></th>\n",
       "      <th></th>\n",
       "      <th></th>\n",
       "      <th></th>\n",
       "      <th></th>\n",
       "      <th></th>\n",
       "      <th></th>\n",
       "      <th></th>\n",
       "      <th></th>\n",
       "      <th></th>\n",
       "      <th></th>\n",
       "    </tr>\n",
       "  </thead>\n",
       "  <tbody>\n",
       "    <tr>\n",
       "      <th>SEQC_NB102</th>\n",
       "      <td>16.7357</td>\n",
       "      <td>17.9114</td>\n",
       "      <td>14.0537</td>\n",
       "      <td>21.9081</td>\n",
       "      <td>0.0000</td>\n",
       "      <td>12.0024</td>\n",
       "      <td>15.6537</td>\n",
       "      <td>9.0301</td>\n",
       "      <td>19.4758</td>\n",
       "      <td>18.0972</td>\n",
       "      <td>...</td>\n",
       "      <td>18.3833</td>\n",
       "      <td>17.6296</td>\n",
       "      <td>14.6009</td>\n",
       "      <td>16.2632</td>\n",
       "      <td>17.9572</td>\n",
       "      <td>7.7186</td>\n",
       "      <td>19.4822</td>\n",
       "      <td>20.7294</td>\n",
       "      <td>19.3656</td>\n",
       "      <td>18.1493</td>\n",
       "    </tr>\n",
       "    <tr>\n",
       "      <th>SEQC_NB224</th>\n",
       "      <td>17.5139</td>\n",
       "      <td>11.3959</td>\n",
       "      <td>16.5787</td>\n",
       "      <td>20.2727</td>\n",
       "      <td>0.0000</td>\n",
       "      <td>13.5738</td>\n",
       "      <td>13.7903</td>\n",
       "      <td>10.9309</td>\n",
       "      <td>19.1799</td>\n",
       "      <td>18.4042</td>\n",
       "      <td>...</td>\n",
       "      <td>19.5266</td>\n",
       "      <td>18.6532</td>\n",
       "      <td>14.6978</td>\n",
       "      <td>16.0329</td>\n",
       "      <td>17.8711</td>\n",
       "      <td>11.2946</td>\n",
       "      <td>19.6499</td>\n",
       "      <td>21.4965</td>\n",
       "      <td>18.4547</td>\n",
       "      <td>17.7847</td>\n",
       "    </tr>\n",
       "    <tr>\n",
       "      <th>SEQC_NB421</th>\n",
       "      <td>16.0350</td>\n",
       "      <td>20.0305</td>\n",
       "      <td>13.1467</td>\n",
       "      <td>21.5514</td>\n",
       "      <td>12.1984</td>\n",
       "      <td>10.5201</td>\n",
       "      <td>15.0216</td>\n",
       "      <td>0.0000</td>\n",
       "      <td>20.5388</td>\n",
       "      <td>18.2440</td>\n",
       "      <td>...</td>\n",
       "      <td>18.4143</td>\n",
       "      <td>19.8538</td>\n",
       "      <td>13.4772</td>\n",
       "      <td>14.9664</td>\n",
       "      <td>18.8289</td>\n",
       "      <td>0.0000</td>\n",
       "      <td>19.3372</td>\n",
       "      <td>20.5858</td>\n",
       "      <td>19.0560</td>\n",
       "      <td>18.6560</td>\n",
       "    </tr>\n",
       "    <tr>\n",
       "      <th>SEQC_NB034</th>\n",
       "      <td>17.6475</td>\n",
       "      <td>18.7384</td>\n",
       "      <td>15.4725</td>\n",
       "      <td>21.1799</td>\n",
       "      <td>12.8712</td>\n",
       "      <td>10.0195</td>\n",
       "      <td>14.7543</td>\n",
       "      <td>10.4171</td>\n",
       "      <td>19.4232</td>\n",
       "      <td>17.7432</td>\n",
       "      <td>...</td>\n",
       "      <td>18.0296</td>\n",
       "      <td>17.4029</td>\n",
       "      <td>15.5527</td>\n",
       "      <td>16.9900</td>\n",
       "      <td>18.2565</td>\n",
       "      <td>11.7547</td>\n",
       "      <td>19.8198</td>\n",
       "      <td>20.4625</td>\n",
       "      <td>18.8839</td>\n",
       "      <td>18.4661</td>\n",
       "    </tr>\n",
       "    <tr>\n",
       "      <th>SEQC_NB141</th>\n",
       "      <td>16.9045</td>\n",
       "      <td>19.1381</td>\n",
       "      <td>14.7052</td>\n",
       "      <td>20.6958</td>\n",
       "      <td>0.0000</td>\n",
       "      <td>10.2827</td>\n",
       "      <td>15.6099</td>\n",
       "      <td>10.0843</td>\n",
       "      <td>19.5975</td>\n",
       "      <td>18.1687</td>\n",
       "      <td>...</td>\n",
       "      <td>18.0212</td>\n",
       "      <td>18.8623</td>\n",
       "      <td>14.7029</td>\n",
       "      <td>16.0657</td>\n",
       "      <td>18.3429</td>\n",
       "      <td>0.0000</td>\n",
       "      <td>19.7591</td>\n",
       "      <td>19.9604</td>\n",
       "      <td>19.5410</td>\n",
       "      <td>19.1973</td>\n",
       "    </tr>\n",
       "    <tr>\n",
       "      <th>...</th>\n",
       "      <td>...</td>\n",
       "      <td>...</td>\n",
       "      <td>...</td>\n",
       "      <td>...</td>\n",
       "      <td>...</td>\n",
       "      <td>...</td>\n",
       "      <td>...</td>\n",
       "      <td>...</td>\n",
       "      <td>...</td>\n",
       "      <td>...</td>\n",
       "      <td>...</td>\n",
       "      <td>...</td>\n",
       "      <td>...</td>\n",
       "      <td>...</td>\n",
       "      <td>...</td>\n",
       "      <td>...</td>\n",
       "      <td>...</td>\n",
       "      <td>...</td>\n",
       "      <td>...</td>\n",
       "      <td>...</td>\n",
       "      <td>...</td>\n",
       "    </tr>\n",
       "    <tr>\n",
       "      <th>SEQC_NB205</th>\n",
       "      <td>16.5643</td>\n",
       "      <td>19.4674</td>\n",
       "      <td>14.5277</td>\n",
       "      <td>22.6085</td>\n",
       "      <td>0.0000</td>\n",
       "      <td>11.3414</td>\n",
       "      <td>15.4838</td>\n",
       "      <td>0.0000</td>\n",
       "      <td>19.7447</td>\n",
       "      <td>18.5969</td>\n",
       "      <td>...</td>\n",
       "      <td>18.4851</td>\n",
       "      <td>18.7221</td>\n",
       "      <td>13.5734</td>\n",
       "      <td>15.1146</td>\n",
       "      <td>18.6445</td>\n",
       "      <td>8.8280</td>\n",
       "      <td>19.6722</td>\n",
       "      <td>20.8143</td>\n",
       "      <td>18.3852</td>\n",
       "      <td>18.4585</td>\n",
       "    </tr>\n",
       "    <tr>\n",
       "      <th>SEQC_NB054</th>\n",
       "      <td>16.6492</td>\n",
       "      <td>19.5313</td>\n",
       "      <td>14.2535</td>\n",
       "      <td>21.6060</td>\n",
       "      <td>13.1517</td>\n",
       "      <td>12.1404</td>\n",
       "      <td>15.4274</td>\n",
       "      <td>11.4453</td>\n",
       "      <td>19.8313</td>\n",
       "      <td>18.5733</td>\n",
       "      <td>...</td>\n",
       "      <td>17.4503</td>\n",
       "      <td>17.9483</td>\n",
       "      <td>15.2092</td>\n",
       "      <td>17.0717</td>\n",
       "      <td>18.2799</td>\n",
       "      <td>10.3980</td>\n",
       "      <td>20.3791</td>\n",
       "      <td>19.9456</td>\n",
       "      <td>19.6730</td>\n",
       "      <td>18.9018</td>\n",
       "    </tr>\n",
       "    <tr>\n",
       "      <th>SEQC_NB295</th>\n",
       "      <td>17.2579</td>\n",
       "      <td>18.9859</td>\n",
       "      <td>15.1080</td>\n",
       "      <td>24.1130</td>\n",
       "      <td>11.6267</td>\n",
       "      <td>0.0000</td>\n",
       "      <td>13.5970</td>\n",
       "      <td>13.6984</td>\n",
       "      <td>19.9612</td>\n",
       "      <td>18.0283</td>\n",
       "      <td>...</td>\n",
       "      <td>18.2514</td>\n",
       "      <td>18.3063</td>\n",
       "      <td>15.1859</td>\n",
       "      <td>16.6240</td>\n",
       "      <td>18.7040</td>\n",
       "      <td>12.1890</td>\n",
       "      <td>19.1276</td>\n",
       "      <td>18.4553</td>\n",
       "      <td>18.9061</td>\n",
       "      <td>18.7622</td>\n",
       "    </tr>\n",
       "    <tr>\n",
       "      <th>SEQC_NB212</th>\n",
       "      <td>16.8228</td>\n",
       "      <td>20.0859</td>\n",
       "      <td>14.9854</td>\n",
       "      <td>20.3897</td>\n",
       "      <td>12.4722</td>\n",
       "      <td>11.3602</td>\n",
       "      <td>14.5623</td>\n",
       "      <td>12.1611</td>\n",
       "      <td>19.8502</td>\n",
       "      <td>18.6534</td>\n",
       "      <td>...</td>\n",
       "      <td>19.2141</td>\n",
       "      <td>19.0378</td>\n",
       "      <td>14.9486</td>\n",
       "      <td>16.2247</td>\n",
       "      <td>18.4007</td>\n",
       "      <td>7.8332</td>\n",
       "      <td>19.5128</td>\n",
       "      <td>19.6546</td>\n",
       "      <td>19.3572</td>\n",
       "      <td>18.6881</td>\n",
       "    </tr>\n",
       "    <tr>\n",
       "      <th>SEQC_NB304</th>\n",
       "      <td>15.9541</td>\n",
       "      <td>18.8526</td>\n",
       "      <td>14.9889</td>\n",
       "      <td>19.8396</td>\n",
       "      <td>0.0000</td>\n",
       "      <td>9.6691</td>\n",
       "      <td>14.2725</td>\n",
       "      <td>11.0242</td>\n",
       "      <td>19.5408</td>\n",
       "      <td>18.5247</td>\n",
       "      <td>...</td>\n",
       "      <td>19.1561</td>\n",
       "      <td>19.4431</td>\n",
       "      <td>14.9102</td>\n",
       "      <td>16.6080</td>\n",
       "      <td>17.9482</td>\n",
       "      <td>9.7589</td>\n",
       "      <td>19.2280</td>\n",
       "      <td>19.8744</td>\n",
       "      <td>18.9968</td>\n",
       "      <td>18.7583</td>\n",
       "    </tr>\n",
       "  </tbody>\n",
       "</table>\n",
       "<p>348 rows × 17690 columns</p>\n",
       "</div>"
      ],
      "text/plain": [
       "Gene         A1BGAS    A2BP1    A2LD1      A2M    A2ML1    A2MP1   A4GALT  \\\n",
       "sampleId                                                                    \n",
       "SEQC_NB102  16.7357  17.9114  14.0537  21.9081   0.0000  12.0024  15.6537   \n",
       "SEQC_NB224  17.5139  11.3959  16.5787  20.2727   0.0000  13.5738  13.7903   \n",
       "SEQC_NB421  16.0350  20.0305  13.1467  21.5514  12.1984  10.5201  15.0216   \n",
       "SEQC_NB034  17.6475  18.7384  15.4725  21.1799  12.8712  10.0195  14.7543   \n",
       "SEQC_NB141  16.9045  19.1381  14.7052  20.6958   0.0000  10.2827  15.6099   \n",
       "...             ...      ...      ...      ...      ...      ...      ...   \n",
       "SEQC_NB205  16.5643  19.4674  14.5277  22.6085   0.0000  11.3414  15.4838   \n",
       "SEQC_NB054  16.6492  19.5313  14.2535  21.6060  13.1517  12.1404  15.4274   \n",
       "SEQC_NB295  17.2579  18.9859  15.1080  24.1130  11.6267   0.0000  13.5970   \n",
       "SEQC_NB212  16.8228  20.0859  14.9854  20.3897  12.4722  11.3602  14.5623   \n",
       "SEQC_NB304  15.9541  18.8526  14.9889  19.8396   0.0000   9.6691  14.2725   \n",
       "\n",
       "Gene          A4GNT     AAAS     AACS  ...   ZWILCH    ZWINT     ZXDA  \\\n",
       "sampleId                               ...                              \n",
       "SEQC_NB102   9.0301  19.4758  18.0972  ...  18.3833  17.6296  14.6009   \n",
       "SEQC_NB224  10.9309  19.1799  18.4042  ...  19.5266  18.6532  14.6978   \n",
       "SEQC_NB421   0.0000  20.5388  18.2440  ...  18.4143  19.8538  13.4772   \n",
       "SEQC_NB034  10.4171  19.4232  17.7432  ...  18.0296  17.4029  15.5527   \n",
       "SEQC_NB141  10.0843  19.5975  18.1687  ...  18.0212  18.8623  14.7029   \n",
       "...             ...      ...      ...  ...      ...      ...      ...   \n",
       "SEQC_NB205   0.0000  19.7447  18.5969  ...  18.4851  18.7221  13.5734   \n",
       "SEQC_NB054  11.4453  19.8313  18.5733  ...  17.4503  17.9483  15.2092   \n",
       "SEQC_NB295  13.6984  19.9612  18.0283  ...  18.2514  18.3063  15.1859   \n",
       "SEQC_NB212  12.1611  19.8502  18.6534  ...  19.2141  19.0378  14.9486   \n",
       "SEQC_NB304  11.0242  19.5408  18.5247  ...  19.1561  19.4431  14.9102   \n",
       "\n",
       "Gene           ZXDB     ZXDC   ZYG11A   ZYG11B      ZYX    ZZEF1     ZZZ3  \n",
       "sampleId                                                                   \n",
       "SEQC_NB102  16.2632  17.9572   7.7186  19.4822  20.7294  19.3656  18.1493  \n",
       "SEQC_NB224  16.0329  17.8711  11.2946  19.6499  21.4965  18.4547  17.7847  \n",
       "SEQC_NB421  14.9664  18.8289   0.0000  19.3372  20.5858  19.0560  18.6560  \n",
       "SEQC_NB034  16.9900  18.2565  11.7547  19.8198  20.4625  18.8839  18.4661  \n",
       "SEQC_NB141  16.0657  18.3429   0.0000  19.7591  19.9604  19.5410  19.1973  \n",
       "...             ...      ...      ...      ...      ...      ...      ...  \n",
       "SEQC_NB205  15.1146  18.6445   8.8280  19.6722  20.8143  18.3852  18.4585  \n",
       "SEQC_NB054  17.0717  18.2799  10.3980  20.3791  19.9456  19.6730  18.9018  \n",
       "SEQC_NB295  16.6240  18.7040  12.1890  19.1276  18.4553  18.9061  18.7622  \n",
       "SEQC_NB212  16.2247  18.4007   7.8332  19.5128  19.6546  19.3572  18.6881  \n",
       "SEQC_NB304  16.6080  17.9482   9.7589  19.2280  19.8744  18.9968  18.7583  \n",
       "\n",
       "[348 rows x 17690 columns]"
      ]
     },
     "execution_count": 19,
     "metadata": {},
     "output_type": "execute_result"
    }
   ],
   "source": [
    "X_train"
   ]
  },
  {
   "cell_type": "code",
   "execution_count": 20,
   "id": "88515902",
   "metadata": {
    "ExecuteTime": {
     "end_time": "2024-03-26T15:50:50.881154Z",
     "start_time": "2024-03-26T15:50:50.551197Z"
    }
   },
   "outputs": [],
   "source": [
    "scaler = StandardScaler()\n",
    "X_train_scaled = scaler.fit_transform(X_train)\n",
    "X_train_scaled = pd.DataFrame(X_train_scaled, index=X_train.index, columns=X_train.columns)"
   ]
  },
  {
   "cell_type": "code",
   "execution_count": 21,
   "id": "985e3d9b",
   "metadata": {
    "ExecuteTime": {
     "end_time": "2024-03-26T15:50:51.319706Z",
     "start_time": "2024-03-26T15:50:51.141299Z"
    }
   },
   "outputs": [],
   "source": [
    "X_test_scaled = scaler.transform(X_test.loc[:, X_train.columns])\n",
    "X_test_scaled = pd.DataFrame(X_test_scaled, index=X_test.index, columns=X_train.columns)"
   ]
  },
  {
   "cell_type": "code",
   "execution_count": null,
   "id": "e632a0de",
   "metadata": {},
   "outputs": [],
   "source": []
  },
  {
   "cell_type": "code",
   "execution_count": null,
   "id": "848bbca7",
   "metadata": {
    "ExecuteTime": {
     "end_time": "2024-03-24T21:14:29.922489Z",
     "start_time": "2024-03-24T21:14:29.918939Z"
    }
   },
   "outputs": [],
   "source": []
  },
  {
   "cell_type": "code",
   "execution_count": 22,
   "id": "fd02bd68",
   "metadata": {
    "ExecuteTime": {
     "end_time": "2024-03-26T15:50:52.638021Z",
     "start_time": "2024-03-26T15:50:52.631662Z"
    }
   },
   "outputs": [],
   "source": [
    "meta_train = meta.loc[X_train.index]\n",
    "age_scaler = StandardScaler()\n",
    "age_at_diagnosis = age_scaler.fit_transform(np.array(meta_train.age_at_diagnosis).reshape(-1, 1))\n",
    "meta_train.age_at_diagnosis = age_at_diagnosis\n",
    "meta_train.drop([\"progression\", \"high_risk\"], axis = 1, inplace=True)"
   ]
  },
  {
   "cell_type": "code",
   "execution_count": 23,
   "id": "0498aebd",
   "metadata": {
    "ExecuteTime": {
     "end_time": "2024-03-26T15:50:53.217342Z",
     "start_time": "2024-03-26T15:50:53.175645Z"
    }
   },
   "outputs": [],
   "source": [
    "X_train_scaled = pd.concat([X_train_scaled, meta_train], axis=1)"
   ]
  },
  {
   "cell_type": "code",
   "execution_count": 24,
   "id": "ee2be2d3",
   "metadata": {
    "ExecuteTime": {
     "end_time": "2024-03-26T15:50:53.701644Z",
     "start_time": "2024-03-26T15:50:53.695717Z"
    }
   },
   "outputs": [],
   "source": [
    "meta_test = meta.loc[X_test.index]\n",
    "age_at_diagnosis = age_scaler.transform(np.array(meta_test.age_at_diagnosis).reshape(-1, 1))\n",
    "meta_test.age_at_diagnosis = age_at_diagnosis\n",
    "meta_test.drop([\"progression\", \"high_risk\"], axis = 1, inplace=True)"
   ]
  },
  {
   "cell_type": "code",
   "execution_count": 25,
   "id": "5f49f5f7",
   "metadata": {
    "ExecuteTime": {
     "end_time": "2024-03-26T15:50:54.293188Z",
     "start_time": "2024-03-26T15:50:54.278949Z"
    }
   },
   "outputs": [],
   "source": [
    "X_test_scaled = pd.concat([X_test_scaled, meta_test], axis=1)"
   ]
  },
  {
   "cell_type": "code",
   "execution_count": null,
   "id": "93b7a3bd",
   "metadata": {},
   "outputs": [],
   "source": []
  },
  {
   "cell_type": "markdown",
   "id": "21f69757",
   "metadata": {},
   "source": [
    "# L1 Logistic regression"
   ]
  },
  {
   "cell_type": "code",
   "execution_count": 26,
   "id": "e6a3b207",
   "metadata": {
    "ExecuteTime": {
     "end_time": "2024-03-26T15:50:55.666019Z",
     "start_time": "2024-03-26T15:50:55.639346Z"
    }
   },
   "outputs": [],
   "source": [
    "from sklearn.linear_model import LogisticRegression, LogisticRegressionCV\n",
    "from sklearn.metrics import accuracy_score, classification_report"
   ]
  },
  {
   "cell_type": "code",
   "execution_count": 27,
   "id": "f2afa29c",
   "metadata": {
    "ExecuteTime": {
     "end_time": "2024-03-26T15:51:29.029726Z",
     "start_time": "2024-03-26T15:50:56.103159Z"
    }
   },
   "outputs": [],
   "source": [
    "model = LogisticRegressionCV(penalty='l1', solver='liblinear', cv = 5, random_state=1234, Cs= 20, class_weight=\"balanced\")\n",
    "model.fit(X_train_scaled, y_train)\n",
    "\n",
    "# Make predictions on the test set\n",
    "y_pred = model.predict(X_test_scaled)\n",
    "\n",
    "# Evaluate the model\n",
    "accuracy = accuracy_score(y_test, y_pred)"
   ]
  },
  {
   "cell_type": "code",
   "execution_count": 28,
   "id": "5bfe753e",
   "metadata": {
    "ExecuteTime": {
     "end_time": "2024-03-26T15:51:29.039071Z",
     "start_time": "2024-03-26T15:51:29.033248Z"
    }
   },
   "outputs": [
    {
     "data": {
      "text/plain": [
       "0.7666666666666667"
      ]
     },
     "execution_count": 28,
     "metadata": {},
     "output_type": "execute_result"
    }
   ],
   "source": [
    "accuracy"
   ]
  },
  {
   "cell_type": "code",
   "execution_count": 29,
   "id": "60933ca9",
   "metadata": {
    "ExecuteTime": {
     "end_time": "2024-03-26T15:51:29.064058Z",
     "start_time": "2024-03-26T15:51:29.043049Z"
    }
   },
   "outputs": [
    {
     "data": {
      "text/html": [
       "<div>\n",
       "<style scoped>\n",
       "    .dataframe tbody tr th:only-of-type {\n",
       "        vertical-align: middle;\n",
       "    }\n",
       "\n",
       "    .dataframe tbody tr th {\n",
       "        vertical-align: top;\n",
       "    }\n",
       "\n",
       "    .dataframe thead th {\n",
       "        text-align: right;\n",
       "    }\n",
       "</style>\n",
       "<table border=\"1\" class=\"dataframe\">\n",
       "  <thead>\n",
       "    <tr style=\"text-align: right;\">\n",
       "      <th>progression</th>\n",
       "      <th>0</th>\n",
       "      <th>1</th>\n",
       "    </tr>\n",
       "    <tr>\n",
       "      <th>row_0</th>\n",
       "      <th></th>\n",
       "      <th></th>\n",
       "    </tr>\n",
       "  </thead>\n",
       "  <tbody>\n",
       "    <tr>\n",
       "      <th>0</th>\n",
       "      <td>81</td>\n",
       "      <td>21</td>\n",
       "    </tr>\n",
       "    <tr>\n",
       "      <th>1</th>\n",
       "      <td>14</td>\n",
       "      <td>34</td>\n",
       "    </tr>\n",
       "  </tbody>\n",
       "</table>\n",
       "</div>"
      ],
      "text/plain": [
       "progression   0   1\n",
       "row_0              \n",
       "0            81  21\n",
       "1            14  34"
      ]
     },
     "execution_count": 29,
     "metadata": {},
     "output_type": "execute_result"
    }
   ],
   "source": [
    "pd.crosstab(y_pred, y_test)"
   ]
  },
  {
   "cell_type": "code",
   "execution_count": 30,
   "id": "47d71056",
   "metadata": {
    "ExecuteTime": {
     "end_time": "2024-03-26T15:51:29.102213Z",
     "start_time": "2024-03-26T15:51:29.071255Z"
    }
   },
   "outputs": [
    {
     "data": {
      "text/html": [
       "<div>\n",
       "<style scoped>\n",
       "    .dataframe tbody tr th:only-of-type {\n",
       "        vertical-align: middle;\n",
       "    }\n",
       "\n",
       "    .dataframe tbody tr th {\n",
       "        vertical-align: top;\n",
       "    }\n",
       "\n",
       "    .dataframe thead th {\n",
       "        text-align: right;\n",
       "    }\n",
       "</style>\n",
       "<table border=\"1\" class=\"dataframe\">\n",
       "  <thead>\n",
       "    <tr style=\"text-align: right;\">\n",
       "      <th>progression</th>\n",
       "      <th>0.0</th>\n",
       "      <th>1.0</th>\n",
       "    </tr>\n",
       "    <tr>\n",
       "      <th>high_risk</th>\n",
       "      <th></th>\n",
       "      <th></th>\n",
       "    </tr>\n",
       "  </thead>\n",
       "  <tbody>\n",
       "    <tr>\n",
       "      <th>0.0</th>\n",
       "      <td>82</td>\n",
       "      <td>24</td>\n",
       "    </tr>\n",
       "    <tr>\n",
       "      <th>1.0</th>\n",
       "      <td>13</td>\n",
       "      <td>31</td>\n",
       "    </tr>\n",
       "  </tbody>\n",
       "</table>\n",
       "</div>"
      ],
      "text/plain": [
       "progression  0.0  1.0\n",
       "high_risk            \n",
       "0.0           82   24\n",
       "1.0           13   31"
      ]
     },
     "execution_count": 30,
     "metadata": {},
     "output_type": "execute_result"
    }
   ],
   "source": [
    "pd.crosstab(meta.loc[y_test.index].high_risk, meta.loc[y_test.index].progression)"
   ]
  },
  {
   "cell_type": "code",
   "execution_count": 31,
   "id": "434edf11",
   "metadata": {
    "ExecuteTime": {
     "end_time": "2024-03-26T15:51:29.127111Z",
     "start_time": "2024-03-26T15:51:29.105588Z"
    }
   },
   "outputs": [
    {
     "name": "stdout",
     "output_type": "stream",
     "text": [
      "              precision    recall  f1-score   support\n",
      "\n",
      "           0       0.79      0.85      0.82        95\n",
      "           1       0.71      0.62      0.66        55\n",
      "\n",
      "    accuracy                           0.77       150\n",
      "   macro avg       0.75      0.74      0.74       150\n",
      "weighted avg       0.76      0.77      0.76       150\n",
      "\n"
     ]
    }
   ],
   "source": [
    "print(classification_report(y_test, y_pred))"
   ]
  },
  {
   "cell_type": "code",
   "execution_count": 32,
   "id": "d0f46063",
   "metadata": {
    "ExecuteTime": {
     "end_time": "2024-03-26T15:51:29.702004Z",
     "start_time": "2024-03-26T15:51:29.130914Z"
    }
   },
   "outputs": [
    {
     "data": {
      "image/png": "[encoded data removed]",
      "text/plain": [
       "<Figure size 640x480 with 1 Axes>"
      ]
     },
     "metadata": {},
     "output_type": "display_data"
    }
   ],
   "source": [
    "_ = plt.hist(model.predict_proba(X_test_scaled)[:,1], 100)"
   ]
  },
  {
   "cell_type": "code",
   "execution_count": 33,
   "id": "836f0a73",
   "metadata": {
    "ExecuteTime": {
     "end_time": "2024-03-26T15:51:30.116804Z",
     "start_time": "2024-03-26T15:51:29.705258Z"
    }
   },
   "outputs": [
    {
     "data": {
      "image/png": "[encoded data removed]",
      "text/plain": [
       "<Figure size 640x480 with 1 Axes>"
      ]
     },
     "metadata": {},
     "output_type": "display_data"
    }
   ],
   "source": [
    "_ = plt.hist(model.coef_[0], 100)"
   ]
  },
  {
   "cell_type": "code",
   "execution_count": 34,
   "id": "44c3ee4b",
   "metadata": {
    "ExecuteTime": {
     "end_time": "2024-03-26T15:51:30.128812Z",
     "start_time": "2024-03-26T15:51:30.120068Z"
    }
   },
   "outputs": [
    {
     "data": {
      "text/plain": [
       "351"
      ]
     },
     "execution_count": 34,
     "metadata": {},
     "output_type": "execute_result"
    }
   ],
   "source": [
    "sum(model.coef_[0] != 0)"
   ]
  },
  {
   "cell_type": "code",
   "execution_count": 35,
   "id": "d0a6d908",
   "metadata": {
    "ExecuteTime": {
     "end_time": "2024-03-26T15:51:30.138034Z",
     "start_time": "2024-03-26T15:51:30.133814Z"
    }
   },
   "outputs": [],
   "source": [
    "indices = np.argsort(model.coef_[0])[::-1]"
   ]
  },
  {
   "cell_type": "code",
   "execution_count": null,
   "id": "f261c150",
   "metadata": {},
   "outputs": [],
   "source": []
  },
  {
   "cell_type": "code",
   "execution_count": 36,
   "id": "99b64afb",
   "metadata": {
    "ExecuteTime": {
     "end_time": "2024-03-26T15:51:30.487558Z",
     "start_time": "2024-03-26T15:51:30.150918Z"
    }
   },
   "outputs": [
    {
     "data": {
      "image/png": "[encoded data removed]",
      "text/plain": [
       "<Figure size 640x480 with 1 Axes>"
      ]
     },
     "metadata": {},
     "output_type": "display_data"
    }
   ],
   "source": [
    "plt.barh(X_train_scaled.columns[indices][range(20)][::-1], model.coef_[0][indices][range(20)][::-1])\n",
    "plt.title(\"Permutation-based feature importance\")\n",
    "plt.xlabel(\"Importance\")\n",
    "plt.ylabel(\"Feature\")\n",
    "plt.show()"
   ]
  },
  {
   "cell_type": "code",
   "execution_count": 37,
   "id": "8f3c5f0b",
   "metadata": {
    "ExecuteTime": {
     "end_time": "2024-03-26T15:51:30.677473Z",
     "start_time": "2024-03-26T15:51:30.490342Z"
    }
   },
   "outputs": [
    {
     "data": {
      "image/png": "[encoded data removed]",
      "text/plain": [
       "<Figure size 640x480 with 1 Axes>"
      ]
     },
     "metadata": {},
     "output_type": "display_data"
    }
   ],
   "source": [
    "plt.plot(np.log10(model.Cs_), model.scores_[1].T)\n",
    "plt.show()"
   ]
  },
  {
   "cell_type": "code",
   "execution_count": 38,
   "id": "5956b1b8",
   "metadata": {
    "ExecuteTime": {
     "end_time": "2024-03-26T15:51:30.860394Z",
     "start_time": "2024-03-26T15:51:30.680365Z"
    }
   },
   "outputs": [
    {
     "data": {
      "image/png": "[encoded data removed]",
      "text/plain": [
       "<Figure size 640x480 with 1 Axes>"
      ]
     },
     "metadata": {},
     "output_type": "display_data"
    }
   ],
   "source": [
    "plt.plot(np.log10(model.Cs_), np.mean(model.scores_[1].T, axis = 1))\n",
    "plt.show()"
   ]
  },
  {
   "cell_type": "code",
   "execution_count": null,
   "id": "13aeefa8",
   "metadata": {},
   "outputs": [],
   "source": []
  },
  {
   "cell_type": "code",
   "execution_count": null,
   "id": "e4411471",
   "metadata": {},
   "outputs": [],
   "source": []
  },
  {
   "cell_type": "code",
   "execution_count": null,
   "id": "f3775e66",
   "metadata": {},
   "outputs": [],
   "source": []
  },
  {
   "cell_type": "code",
   "execution_count": null,
   "id": "b5477e6b",
   "metadata": {},
   "outputs": [],
   "source": []
  },
  {
   "cell_type": "markdown",
   "id": "480eb858",
   "metadata": {},
   "source": [
    "# Ranodm forest"
   ]
  },
  {
   "cell_type": "code",
   "execution_count": 39,
   "id": "1d02712c",
   "metadata": {
    "ExecuteTime": {
     "end_time": "2024-03-26T15:51:40.994593Z",
     "start_time": "2024-03-26T15:51:40.949899Z"
    }
   },
   "outputs": [],
   "source": [
    "from sklearn.ensemble import RandomForestClassifier\n"
   ]
  },
  {
   "cell_type": "code",
   "execution_count": 40,
   "id": "20f26ebb",
   "metadata": {
    "ExecuteTime": {
     "end_time": "2024-03-26T15:51:41.745802Z",
     "start_time": "2024-03-26T15:51:41.678369Z"
    }
   },
   "outputs": [],
   "source": [
    "X_train = pd.concat([X_train, meta_train], axis=1)\n",
    "X_test = pd.concat([X_test, meta_test], axis=1)"
   ]
  },
  {
   "cell_type": "code",
   "execution_count": 41,
   "id": "11266616",
   "metadata": {
    "ExecuteTime": {
     "end_time": "2024-03-26T15:52:01.629498Z",
     "start_time": "2024-03-26T15:51:42.318047Z"
    }
   },
   "outputs": [],
   "source": [
    "rf_classifier = RandomForestClassifier(n_estimators=1000, random_state=1234, class_weight = \"balanced\")\n",
    "rf_classifier.fit(X_train, y_train)\n",
    "y_pred = rf_classifier.predict(X_test.loc[:, X_train.columns])"
   ]
  },
  {
   "cell_type": "code",
   "execution_count": 42,
   "id": "52f2bcd4",
   "metadata": {
    "ExecuteTime": {
     "end_time": "2024-03-26T15:52:01.637209Z",
     "start_time": "2024-03-26T15:52:01.632788Z"
    }
   },
   "outputs": [],
   "source": [
    "accuracy = accuracy_score(y_test, y_pred)"
   ]
  },
  {
   "cell_type": "code",
   "execution_count": 43,
   "id": "0deb2503",
   "metadata": {
    "ExecuteTime": {
     "end_time": "2024-03-26T15:52:01.644691Z",
     "start_time": "2024-03-26T15:52:01.639805Z"
    }
   },
   "outputs": [
    {
     "data": {
      "text/plain": [
       "0.8066666666666666"
      ]
     },
     "execution_count": 43,
     "metadata": {},
     "output_type": "execute_result"
    }
   ],
   "source": [
    "accuracy"
   ]
  },
  {
   "cell_type": "code",
   "execution_count": 44,
   "id": "80d8956d",
   "metadata": {
    "ExecuteTime": {
     "end_time": "2024-03-26T15:52:01.663221Z",
     "start_time": "2024-03-26T15:52:01.648475Z"
    }
   },
   "outputs": [
    {
     "data": {
      "text/html": [
       "<div>\n",
       "<style scoped>\n",
       "    .dataframe tbody tr th:only-of-type {\n",
       "        vertical-align: middle;\n",
       "    }\n",
       "\n",
       "    .dataframe tbody tr th {\n",
       "        vertical-align: top;\n",
       "    }\n",
       "\n",
       "    .dataframe thead th {\n",
       "        text-align: right;\n",
       "    }\n",
       "</style>\n",
       "<table border=\"1\" class=\"dataframe\">\n",
       "  <thead>\n",
       "    <tr style=\"text-align: right;\">\n",
       "      <th>progression</th>\n",
       "      <th>0</th>\n",
       "      <th>1</th>\n",
       "    </tr>\n",
       "    <tr>\n",
       "      <th>row_0</th>\n",
       "      <th></th>\n",
       "      <th></th>\n",
       "    </tr>\n",
       "  </thead>\n",
       "  <tbody>\n",
       "    <tr>\n",
       "      <th>0</th>\n",
       "      <td>86</td>\n",
       "      <td>20</td>\n",
       "    </tr>\n",
       "    <tr>\n",
       "      <th>1</th>\n",
       "      <td>9</td>\n",
       "      <td>35</td>\n",
       "    </tr>\n",
       "  </tbody>\n",
       "</table>\n",
       "</div>"
      ],
      "text/plain": [
       "progression   0   1\n",
       "row_0              \n",
       "0            86  20\n",
       "1             9  35"
      ]
     },
     "execution_count": 44,
     "metadata": {},
     "output_type": "execute_result"
    }
   ],
   "source": [
    "pd.crosstab(y_pred, y_test)"
   ]
  },
  {
   "cell_type": "code",
   "execution_count": 45,
   "id": "ea405a21",
   "metadata": {
    "ExecuteTime": {
     "end_time": "2024-03-26T15:52:01.685671Z",
     "start_time": "2024-03-26T15:52:01.666208Z"
    }
   },
   "outputs": [
    {
     "data": {
      "text/html": [
       "<div>\n",
       "<style scoped>\n",
       "    .dataframe tbody tr th:only-of-type {\n",
       "        vertical-align: middle;\n",
       "    }\n",
       "\n",
       "    .dataframe tbody tr th {\n",
       "        vertical-align: top;\n",
       "    }\n",
       "\n",
       "    .dataframe thead th {\n",
       "        text-align: right;\n",
       "    }\n",
       "</style>\n",
       "<table border=\"1\" class=\"dataframe\">\n",
       "  <thead>\n",
       "    <tr style=\"text-align: right;\">\n",
       "      <th>progression</th>\n",
       "      <th>0.0</th>\n",
       "      <th>1.0</th>\n",
       "    </tr>\n",
       "    <tr>\n",
       "      <th>high_risk</th>\n",
       "      <th></th>\n",
       "      <th></th>\n",
       "    </tr>\n",
       "  </thead>\n",
       "  <tbody>\n",
       "    <tr>\n",
       "      <th>0.0</th>\n",
       "      <td>82</td>\n",
       "      <td>24</td>\n",
       "    </tr>\n",
       "    <tr>\n",
       "      <th>1.0</th>\n",
       "      <td>13</td>\n",
       "      <td>31</td>\n",
       "    </tr>\n",
       "  </tbody>\n",
       "</table>\n",
       "</div>"
      ],
      "text/plain": [
       "progression  0.0  1.0\n",
       "high_risk            \n",
       "0.0           82   24\n",
       "1.0           13   31"
      ]
     },
     "execution_count": 45,
     "metadata": {},
     "output_type": "execute_result"
    }
   ],
   "source": [
    "pd.crosstab(meta.loc[y_test.index].high_risk, meta.loc[y_test.index].progression)"
   ]
  },
  {
   "cell_type": "code",
   "execution_count": 46,
   "id": "5052d3f0",
   "metadata": {
    "ExecuteTime": {
     "end_time": "2024-03-26T15:52:01.701176Z",
     "start_time": "2024-03-26T15:52:01.688642Z"
    }
   },
   "outputs": [
    {
     "name": "stdout",
     "output_type": "stream",
     "text": [
      "              precision    recall  f1-score   support\n",
      "\n",
      "           0       0.81      0.91      0.86        95\n",
      "           1       0.80      0.64      0.71        55\n",
      "\n",
      "    accuracy                           0.81       150\n",
      "   macro avg       0.80      0.77      0.78       150\n",
      "weighted avg       0.81      0.81      0.80       150\n",
      "\n"
     ]
    }
   ],
   "source": [
    "print(classification_report(y_test, y_pred))"
   ]
  },
  {
   "cell_type": "code",
   "execution_count": 47,
   "id": "1db11633",
   "metadata": {
    "ExecuteTime": {
     "end_time": "2024-03-26T15:52:02.105448Z",
     "start_time": "2024-03-26T15:52:01.704709Z"
    }
   },
   "outputs": [],
   "source": [
    "importances = rf_classifier.feature_importances_\n",
    "\n",
    "# Sort feature importances in descending order\n",
    "indices = np.argsort(importances)[::-1]"
   ]
  },
  {
   "cell_type": "code",
   "execution_count": 48,
   "id": "f0746bce",
   "metadata": {
    "ExecuteTime": {
     "end_time": "2024-03-26T15:52:02.112267Z",
     "start_time": "2024-03-26T15:52:02.107837Z"
    }
   },
   "outputs": [
    {
     "name": "stdout",
     "output_type": "stream",
     "text": [
      "Feature ranking:\n",
      "1. CNIH4: feature 2467 (0.002794)\n",
      "2. PCNA: feature 11252 (0.002785)\n",
      "3. MRPL11: feature 9861 (0.002723)\n",
      "4. PHLDB1: feature 11491 (0.002550)\n",
      "5. NUDT5: feature 10788 (0.002530)\n",
      "6. MAP7: feature 9359 (0.002331)\n",
      "7. NUP37: feature 10811 (0.002223)\n",
      "8. PMP22: feature 11752 (0.002195)\n",
      "9. BAZ2B: feature 1204 (0.001902)\n",
      "10. RAB3GAP1: feature 12489 (0.001879)\n",
      "11. KIF5A: feature 6943 (0.001831)\n",
      "12. LSM4: feature 9178 (0.001829)\n",
      "13. SSR3: feature 14937 (0.001825)\n",
      "14. SLC25A5: feature 14308 (0.001790)\n",
      "15. CCDC86: feature 1788 (0.001784)\n",
      "16. PGM2L1: feature 11439 (0.001773)\n",
      "17. HNRNPF: feature 6018 (0.001763)\n",
      "18. ELK1: feature 3802 (0.001707)\n",
      "19. PXK: feature 12416 (0.001692)\n",
      "20. PRKACB: feature 12083 (0.001683)\n"
     ]
    }
   ],
   "source": [
    "# Print the feature ranking\n",
    "print(\"Feature ranking:\")\n",
    "for f in range(20):\n",
    "    print(\"%d. %s: feature %d (%f)\" % (f + 1, X_train.columns[indices[f]], indices[f], importances[indices[f]]))"
   ]
  },
  {
   "cell_type": "code",
   "execution_count": 49,
   "id": "2c3f73b6",
   "metadata": {
    "ExecuteTime": {
     "end_time": "2024-03-26T15:52:02.411728Z",
     "start_time": "2024-03-26T15:52:02.114996Z"
    }
   },
   "outputs": [
    {
     "data": {
      "image/png": "[encoded data removed]",
      "text/plain": [
       "<Figure size 640x480 with 1 Axes>"
      ]
     },
     "metadata": {},
     "output_type": "display_data"
    }
   ],
   "source": [
    "plt.barh(X_train.columns[indices][range(20)][::-1], importances[indices][range(20)][::-1])\n",
    "plt.title(\"Permutation-based feature importance\")\n",
    "plt.xlabel(\"Importance\")\n",
    "plt.ylabel(\"Feature\")\n",
    "plt.show()"
   ]
  },
  {
   "cell_type": "code",
   "execution_count": null,
   "id": "58c24c48",
   "metadata": {},
   "outputs": [],
   "source": []
  },
  {
   "cell_type": "code",
   "execution_count": 50,
   "id": "bc5501f5",
   "metadata": {
    "ExecuteTime": {
     "end_time": "2024-03-26T15:52:02.430206Z",
     "start_time": "2024-03-26T15:52:02.416606Z"
    }
   },
   "outputs": [
    {
     "data": {
      "text/html": [
       "<div>\n",
       "<style scoped>\n",
       "    .dataframe tbody tr th:only-of-type {\n",
       "        vertical-align: middle;\n",
       "    }\n",
       "\n",
       "    .dataframe tbody tr th {\n",
       "        vertical-align: top;\n",
       "    }\n",
       "\n",
       "    .dataframe thead th {\n",
       "        text-align: right;\n",
       "    }\n",
       "</style>\n",
       "<table border=\"1\" class=\"dataframe\">\n",
       "  <thead>\n",
       "    <tr style=\"text-align: right;\">\n",
       "      <th></th>\n",
       "      <th>Sex</th>\n",
       "      <th>age_at_diagnosis</th>\n",
       "      <th>high_risk</th>\n",
       "      <th>progression</th>\n",
       "    </tr>\n",
       "    <tr>\n",
       "      <th>sampleId</th>\n",
       "      <th></th>\n",
       "      <th></th>\n",
       "      <th></th>\n",
       "      <th></th>\n",
       "    </tr>\n",
       "  </thead>\n",
       "  <tbody>\n",
       "    <tr>\n",
       "      <th>SEQC_NB001</th>\n",
       "      <td>1.0</td>\n",
       "      <td>987.0</td>\n",
       "      <td>1.0</td>\n",
       "      <td>1.0</td>\n",
       "    </tr>\n",
       "    <tr>\n",
       "      <th>SEQC_NB002</th>\n",
       "      <td>1.0</td>\n",
       "      <td>1808.0</td>\n",
       "      <td>1.0</td>\n",
       "      <td>1.0</td>\n",
       "    </tr>\n",
       "    <tr>\n",
       "      <th>SEQC_NB003</th>\n",
       "      <td>0.0</td>\n",
       "      <td>625.0</td>\n",
       "      <td>1.0</td>\n",
       "      <td>1.0</td>\n",
       "    </tr>\n",
       "    <tr>\n",
       "      <th>SEQC_NB004</th>\n",
       "      <td>0.0</td>\n",
       "      <td>335.0</td>\n",
       "      <td>1.0</td>\n",
       "      <td>0.0</td>\n",
       "    </tr>\n",
       "    <tr>\n",
       "      <th>SEQC_NB005</th>\n",
       "      <td>0.0</td>\n",
       "      <td>536.0</td>\n",
       "      <td>1.0</td>\n",
       "      <td>1.0</td>\n",
       "    </tr>\n",
       "    <tr>\n",
       "      <th>...</th>\n",
       "      <td>...</td>\n",
       "      <td>...</td>\n",
       "      <td>...</td>\n",
       "      <td>...</td>\n",
       "    </tr>\n",
       "    <tr>\n",
       "      <th>SEQC_NB494</th>\n",
       "      <td>1.0</td>\n",
       "      <td>56.0</td>\n",
       "      <td>0.0</td>\n",
       "      <td>0.0</td>\n",
       "    </tr>\n",
       "    <tr>\n",
       "      <th>SEQC_NB495</th>\n",
       "      <td>1.0</td>\n",
       "      <td>163.0</td>\n",
       "      <td>0.0</td>\n",
       "      <td>0.0</td>\n",
       "    </tr>\n",
       "    <tr>\n",
       "      <th>SEQC_NB496</th>\n",
       "      <td>1.0</td>\n",
       "      <td>132.0</td>\n",
       "      <td>0.0</td>\n",
       "      <td>1.0</td>\n",
       "    </tr>\n",
       "    <tr>\n",
       "      <th>SEQC_NB497</th>\n",
       "      <td>0.0</td>\n",
       "      <td>379.0</td>\n",
       "      <td>0.0</td>\n",
       "      <td>0.0</td>\n",
       "    </tr>\n",
       "    <tr>\n",
       "      <th>SEQC_NB498</th>\n",
       "      <td>0.0</td>\n",
       "      <td>530.0</td>\n",
       "      <td>0.0</td>\n",
       "      <td>0.0</td>\n",
       "    </tr>\n",
       "  </tbody>\n",
       "</table>\n",
       "<p>498 rows × 4 columns</p>\n",
       "</div>"
      ],
      "text/plain": [
       "            Sex  age_at_diagnosis  high_risk  progression\n",
       "sampleId                                                 \n",
       "SEQC_NB001  1.0             987.0        1.0          1.0\n",
       "SEQC_NB002  1.0            1808.0        1.0          1.0\n",
       "SEQC_NB003  0.0             625.0        1.0          1.0\n",
       "SEQC_NB004  0.0             335.0        1.0          0.0\n",
       "SEQC_NB005  0.0             536.0        1.0          1.0\n",
       "...         ...               ...        ...          ...\n",
       "SEQC_NB494  1.0              56.0        0.0          0.0\n",
       "SEQC_NB495  1.0             163.0        0.0          0.0\n",
       "SEQC_NB496  1.0             132.0        0.0          1.0\n",
       "SEQC_NB497  0.0             379.0        0.0          0.0\n",
       "SEQC_NB498  0.0             530.0        0.0          0.0\n",
       "\n",
       "[498 rows x 4 columns]"
      ]
     },
     "execution_count": 50,
     "metadata": {},
     "output_type": "execute_result"
    }
   ],
   "source": [
    "meta"
   ]
  },
  {
   "cell_type": "code",
   "execution_count": null,
   "id": "c54876b7",
   "metadata": {},
   "outputs": [],
   "source": []
  },
  {
   "cell_type": "code",
   "execution_count": null,
   "id": "67702da4",
   "metadata": {},
   "outputs": [],
   "source": []
  },
  {
   "cell_type": "code",
   "execution_count": null,
   "id": "6f4f5dec",
   "metadata": {},
   "outputs": [],
   "source": []
  },
  {
   "cell_type": "code",
   "execution_count": null,
   "id": "6557fa1f",
   "metadata": {},
   "outputs": [],
   "source": []
  }
 ],
 "metadata": {
  "kernelspec": {
   "display_name": "Python 3 (ipykernel)",
   "language": "python",
   "name": "python3"
  },
  "language_info": {
   "codemirror_mode": {
    "name": "ipython",
    "version": 3
   },
   "file_extension": ".py",
   "mimetype": "text/x-python",
   "name": "python",
   "nbconvert_exporter": "python",
   "pygments_lexer": "ipython3",
   "version": "3.10.7"
  }
 },
 "nbformat": 4,
 "nbformat_minor": 5
}
