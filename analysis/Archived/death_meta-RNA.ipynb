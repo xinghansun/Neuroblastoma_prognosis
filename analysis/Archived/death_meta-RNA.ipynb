{
 "cells": [
  {
   "cell_type": "code",
   "execution_count": 1,
   "id": "9f87386f",
   "metadata": {
    "ExecuteTime": {
     "end_time": "2024-03-25T01:27:45.359487Z",
     "start_time": "2024-03-25T01:27:43.764993Z"
    }
   },
   "outputs": [],
   "source": [
    "import gzip\n",
    "\n",
    "import pandas as pd\n",
    "import numpy as np\n",
    "\n",
    "from sklearn.model_selection import train_test_split\n",
    "from sklearn.preprocessing import MinMaxScaler, StandardScaler\n",
    "\n",
    "from matplotlib import pyplot as plt"
   ]
  },
  {
   "cell_type": "markdown",
   "id": "6f8050eb",
   "metadata": {},
   "source": [
    "# Preprocessing"
   ]
  },
  {
   "cell_type": "markdown",
   "id": "3aadae97",
   "metadata": {},
   "source": [
    "## Meta data"
   ]
  },
  {
   "cell_type": "code",
   "execution_count": 2,
   "id": "de7ec617",
   "metadata": {
    "ExecuteTime": {
     "end_time": "2024-03-25T01:27:45.369180Z",
     "start_time": "2024-03-25T01:27:45.362874Z"
    }
   },
   "outputs": [],
   "source": [
    "def read_geo_series_matrix(file_path):\n",
    "    cols = {}\n",
    "    with gzip.open(file_path, 'rt') as f:\n",
    "        for line in f:\n",
    "            if line.startswith(\"!Sample_title\"):\n",
    "                sampleId = [i.strip('\"') for i in line.split()[1:]]\n",
    "                cols[\"sampleId\"] = sampleId\n",
    "            elif line.startswith(\"!Sample_characteristics_ch1\"):\n",
    "                _ = line[28:].strip().strip('\"').split('\"\\t\"')\n",
    "                category = _[0].split(\": \")[0].replace(\" \", \"_\")\n",
    "                values = [i.split(\": \")[1] for i in _]\n",
    "                cols.update({category: values})\n",
    "    \n",
    "    return pd.DataFrame(cols)"
   ]
  },
  {
   "cell_type": "code",
   "execution_count": 3,
   "id": "3a03c6ab",
   "metadata": {
    "ExecuteTime": {
     "end_time": "2024-03-25T01:27:45.386451Z",
     "start_time": "2024-03-25T01:27:45.371466Z"
    }
   },
   "outputs": [
    {
     "data": {
      "text/plain": [
       "(498, 11)"
      ]
     },
     "execution_count": 3,
     "metadata": {},
     "output_type": "execute_result"
    }
   ],
   "source": [
    "meta = read_geo_series_matrix(\"../rawData/GSE49711_series_matrix.txt.gz\")\n",
    "meta.index = meta.sampleId\n",
    "meta.shape"
   ]
  },
  {
   "cell_type": "code",
   "execution_count": 4,
   "id": "046f633f",
   "metadata": {
    "ExecuteTime": {
     "end_time": "2024-03-25T01:27:45.396601Z",
     "start_time": "2024-03-25T01:27:45.390528Z"
    }
   },
   "outputs": [
    {
     "data": {
      "text/plain": [
       "(498, 11)"
      ]
     },
     "execution_count": 4,
     "metadata": {},
     "output_type": "execute_result"
    }
   ],
   "source": [
    "meta = meta.loc[meta.death_from_disease.isin([\"0\", \"1\"])]\n",
    "meta.shape"
   ]
  },
  {
   "cell_type": "code",
   "execution_count": 5,
   "id": "d52624bb",
   "metadata": {
    "ExecuteTime": {
     "end_time": "2024-03-25T01:27:45.418288Z",
     "start_time": "2024-03-25T01:27:45.398748Z"
    }
   },
   "outputs": [
    {
     "data": {
      "text/html": [
       "<div>\n",
       "<style scoped>\n",
       "    .dataframe tbody tr th:only-of-type {\n",
       "        vertical-align: middle;\n",
       "    }\n",
       "\n",
       "    .dataframe tbody tr th {\n",
       "        vertical-align: top;\n",
       "    }\n",
       "\n",
       "    .dataframe thead th {\n",
       "        text-align: right;\n",
       "    }\n",
       "</style>\n",
       "<table border=\"1\" class=\"dataframe\">\n",
       "  <thead>\n",
       "    <tr style=\"text-align: right;\">\n",
       "      <th>death_from_disease</th>\n",
       "      <th>0</th>\n",
       "      <th>1</th>\n",
       "    </tr>\n",
       "    <tr>\n",
       "      <th>inss_stage</th>\n",
       "      <th></th>\n",
       "      <th></th>\n",
       "    </tr>\n",
       "  </thead>\n",
       "  <tbody>\n",
       "    <tr>\n",
       "      <th>1</th>\n",
       "      <td>120</td>\n",
       "      <td>1</td>\n",
       "    </tr>\n",
       "    <tr>\n",
       "      <th>2</th>\n",
       "      <td>74</td>\n",
       "      <td>4</td>\n",
       "    </tr>\n",
       "    <tr>\n",
       "      <th>3</th>\n",
       "      <td>49</td>\n",
       "      <td>14</td>\n",
       "    </tr>\n",
       "    <tr>\n",
       "      <th>4</th>\n",
       "      <td>101</td>\n",
       "      <td>82</td>\n",
       "    </tr>\n",
       "    <tr>\n",
       "      <th>4S</th>\n",
       "      <td>49</td>\n",
       "      <td>4</td>\n",
       "    </tr>\n",
       "  </tbody>\n",
       "</table>\n",
       "</div>"
      ],
      "text/plain": [
       "death_from_disease    0   1\n",
       "inss_stage                 \n",
       "1                   120   1\n",
       "2                    74   4\n",
       "3                    49  14\n",
       "4                   101  82\n",
       "4S                   49   4"
      ]
     },
     "execution_count": 5,
     "metadata": {},
     "output_type": "execute_result"
    }
   ],
   "source": [
    "pd.crosstab(meta.inss_stage, meta.death_from_disease)"
   ]
  },
  {
   "cell_type": "code",
   "execution_count": 6,
   "id": "950a8a28",
   "metadata": {
    "ExecuteTime": {
     "end_time": "2024-03-25T01:27:45.436113Z",
     "start_time": "2024-03-25T01:27:45.420645Z"
    }
   },
   "outputs": [
    {
     "data": {
      "text/html": [
       "<div>\n",
       "<style scoped>\n",
       "    .dataframe tbody tr th:only-of-type {\n",
       "        vertical-align: middle;\n",
       "    }\n",
       "\n",
       "    .dataframe tbody tr th {\n",
       "        vertical-align: top;\n",
       "    }\n",
       "\n",
       "    .dataframe thead th {\n",
       "        text-align: right;\n",
       "    }\n",
       "</style>\n",
       "<table border=\"1\" class=\"dataframe\">\n",
       "  <thead>\n",
       "    <tr style=\"text-align: right;\">\n",
       "      <th>death_from_disease</th>\n",
       "      <th>0</th>\n",
       "      <th>1</th>\n",
       "    </tr>\n",
       "    <tr>\n",
       "      <th>high_risk</th>\n",
       "      <th></th>\n",
       "      <th></th>\n",
       "    </tr>\n",
       "  </thead>\n",
       "  <tbody>\n",
       "    <tr>\n",
       "      <th>0</th>\n",
       "      <td>309</td>\n",
       "      <td>13</td>\n",
       "    </tr>\n",
       "    <tr>\n",
       "      <th>1</th>\n",
       "      <td>84</td>\n",
       "      <td>92</td>\n",
       "    </tr>\n",
       "  </tbody>\n",
       "</table>\n",
       "</div>"
      ],
      "text/plain": [
       "death_from_disease    0   1\n",
       "high_risk                  \n",
       "0                   309  13\n",
       "1                    84  92"
      ]
     },
     "execution_count": 6,
     "metadata": {},
     "output_type": "execute_result"
    }
   ],
   "source": [
    "pd.crosstab(meta.high_risk, meta.death_from_disease)"
   ]
  },
  {
   "cell_type": "code",
   "execution_count": 7,
   "id": "115e30d2",
   "metadata": {
    "ExecuteTime": {
     "end_time": "2024-03-25T01:27:45.446246Z",
     "start_time": "2024-03-25T01:27:45.438925Z"
    }
   },
   "outputs": [],
   "source": [
    "meta.Sex.replace({\"M\":1, \"F\":0}, inplace=True)\n",
    "meta.replace({\"N/A\":np.nan}, inplace=True)"
   ]
  },
  {
   "cell_type": "code",
   "execution_count": 8,
   "id": "afde69ff",
   "metadata": {
    "ExecuteTime": {
     "end_time": "2024-03-25T01:27:45.453904Z",
     "start_time": "2024-03-25T01:27:45.448353Z"
    }
   },
   "outputs": [],
   "source": [
    "stage_dummy = pd.get_dummies(meta.inss_stage, prefix='inss_stage')\n",
    "meta = pd.concat([meta, stage_dummy], axis=1)"
   ]
  },
  {
   "cell_type": "code",
   "execution_count": 9,
   "id": "6cd3c21e",
   "metadata": {
    "ExecuteTime": {
     "end_time": "2024-03-25T01:27:45.460584Z",
     "start_time": "2024-03-25T01:27:45.456187Z"
    }
   },
   "outputs": [],
   "source": [
    "meta = meta[[\"Sex\", \"age_at_diagnosis\", \"mycn_status\", \"high_risk\", \n",
    "               \"inss_stage_1\", \"inss_stage_2\", \"inss_stage_3\", \"inss_stage_4\", \"inss_stage_4S\",\n",
    "               \"death_from_disease\"\n",
    "              ]]"
   ]
  },
  {
   "cell_type": "code",
   "execution_count": 10,
   "id": "f2247581",
   "metadata": {
    "ExecuteTime": {
     "end_time": "2024-03-25T01:27:45.471421Z",
     "start_time": "2024-03-25T01:27:45.467506Z"
    }
   },
   "outputs": [],
   "source": [
    "meta.dropna(inplace=True)"
   ]
  },
  {
   "cell_type": "code",
   "execution_count": 11,
   "id": "d61993ca",
   "metadata": {
    "ExecuteTime": {
     "end_time": "2024-03-25T01:27:45.477656Z",
     "start_time": "2024-03-25T01:27:45.474009Z"
    }
   },
   "outputs": [],
   "source": [
    "meta = meta.astype(\"double\")"
   ]
  },
  {
   "cell_type": "code",
   "execution_count": 12,
   "id": "6b209e2c",
   "metadata": {
    "ExecuteTime": {
     "end_time": "2024-03-25T01:27:45.495211Z",
     "start_time": "2024-03-25T01:27:45.479785Z"
    }
   },
   "outputs": [
    {
     "data": {
      "text/html": [
       "<div>\n",
       "<style scoped>\n",
       "    .dataframe tbody tr th:only-of-type {\n",
       "        vertical-align: middle;\n",
       "    }\n",
       "\n",
       "    .dataframe tbody tr th {\n",
       "        vertical-align: top;\n",
       "    }\n",
       "\n",
       "    .dataframe thead th {\n",
       "        text-align: right;\n",
       "    }\n",
       "</style>\n",
       "<table border=\"1\" class=\"dataframe\">\n",
       "  <thead>\n",
       "    <tr style=\"text-align: right;\">\n",
       "      <th></th>\n",
       "      <th>Sex</th>\n",
       "      <th>age_at_diagnosis</th>\n",
       "      <th>mycn_status</th>\n",
       "      <th>high_risk</th>\n",
       "      <th>inss_stage_1</th>\n",
       "      <th>inss_stage_2</th>\n",
       "      <th>inss_stage_3</th>\n",
       "      <th>inss_stage_4</th>\n",
       "      <th>inss_stage_4S</th>\n",
       "      <th>death_from_disease</th>\n",
       "    </tr>\n",
       "    <tr>\n",
       "      <th>sampleId</th>\n",
       "      <th></th>\n",
       "      <th></th>\n",
       "      <th></th>\n",
       "      <th></th>\n",
       "      <th></th>\n",
       "      <th></th>\n",
       "      <th></th>\n",
       "      <th></th>\n",
       "      <th></th>\n",
       "      <th></th>\n",
       "    </tr>\n",
       "  </thead>\n",
       "  <tbody>\n",
       "    <tr>\n",
       "      <th>SEQC_NB001</th>\n",
       "      <td>1.0</td>\n",
       "      <td>987.0</td>\n",
       "      <td>0.0</td>\n",
       "      <td>1.0</td>\n",
       "      <td>0.0</td>\n",
       "      <td>0.0</td>\n",
       "      <td>0.0</td>\n",
       "      <td>1.0</td>\n",
       "      <td>0.0</td>\n",
       "      <td>1.0</td>\n",
       "    </tr>\n",
       "    <tr>\n",
       "      <th>SEQC_NB002</th>\n",
       "      <td>1.0</td>\n",
       "      <td>1808.0</td>\n",
       "      <td>0.0</td>\n",
       "      <td>1.0</td>\n",
       "      <td>0.0</td>\n",
       "      <td>0.0</td>\n",
       "      <td>0.0</td>\n",
       "      <td>1.0</td>\n",
       "      <td>0.0</td>\n",
       "      <td>1.0</td>\n",
       "    </tr>\n",
       "    <tr>\n",
       "      <th>SEQC_NB003</th>\n",
       "      <td>0.0</td>\n",
       "      <td>625.0</td>\n",
       "      <td>1.0</td>\n",
       "      <td>1.0</td>\n",
       "      <td>0.0</td>\n",
       "      <td>0.0</td>\n",
       "      <td>0.0</td>\n",
       "      <td>1.0</td>\n",
       "      <td>0.0</td>\n",
       "      <td>1.0</td>\n",
       "    </tr>\n",
       "    <tr>\n",
       "      <th>SEQC_NB004</th>\n",
       "      <td>0.0</td>\n",
       "      <td>335.0</td>\n",
       "      <td>1.0</td>\n",
       "      <td>1.0</td>\n",
       "      <td>0.0</td>\n",
       "      <td>1.0</td>\n",
       "      <td>0.0</td>\n",
       "      <td>0.0</td>\n",
       "      <td>0.0</td>\n",
       "      <td>0.0</td>\n",
       "    </tr>\n",
       "    <tr>\n",
       "      <th>SEQC_NB005</th>\n",
       "      <td>0.0</td>\n",
       "      <td>536.0</td>\n",
       "      <td>1.0</td>\n",
       "      <td>1.0</td>\n",
       "      <td>0.0</td>\n",
       "      <td>0.0</td>\n",
       "      <td>0.0</td>\n",
       "      <td>1.0</td>\n",
       "      <td>0.0</td>\n",
       "      <td>1.0</td>\n",
       "    </tr>\n",
       "  </tbody>\n",
       "</table>\n",
       "</div>"
      ],
      "text/plain": [
       "            Sex  age_at_diagnosis  mycn_status  high_risk  inss_stage_1  \\\n",
       "sampleId                                                                  \n",
       "SEQC_NB001  1.0             987.0          0.0        1.0           0.0   \n",
       "SEQC_NB002  1.0            1808.0          0.0        1.0           0.0   \n",
       "SEQC_NB003  0.0             625.0          1.0        1.0           0.0   \n",
       "SEQC_NB004  0.0             335.0          1.0        1.0           0.0   \n",
       "SEQC_NB005  0.0             536.0          1.0        1.0           0.0   \n",
       "\n",
       "            inss_stage_2  inss_stage_3  inss_stage_4  inss_stage_4S  \\\n",
       "sampleId                                                              \n",
       "SEQC_NB001           0.0           0.0           1.0            0.0   \n",
       "SEQC_NB002           0.0           0.0           1.0            0.0   \n",
       "SEQC_NB003           0.0           0.0           1.0            0.0   \n",
       "SEQC_NB004           1.0           0.0           0.0            0.0   \n",
       "SEQC_NB005           0.0           0.0           1.0            0.0   \n",
       "\n",
       "            death_from_disease  \n",
       "sampleId                        \n",
       "SEQC_NB001                 1.0  \n",
       "SEQC_NB002                 1.0  \n",
       "SEQC_NB003                 1.0  \n",
       "SEQC_NB004                 0.0  \n",
       "SEQC_NB005                 1.0  "
      ]
     },
     "execution_count": 12,
     "metadata": {},
     "output_type": "execute_result"
    }
   ],
   "source": [
    "meta.head()"
   ]
  },
  {
   "cell_type": "code",
   "execution_count": null,
   "id": "2fbafb6a",
   "metadata": {},
   "outputs": [],
   "source": []
  },
  {
   "cell_type": "markdown",
   "id": "196ae431",
   "metadata": {},
   "source": [
    "## Gene level"
   ]
  },
  {
   "cell_type": "code",
   "execution_count": 13,
   "id": "471e3f5d",
   "metadata": {
    "ExecuteTime": {
     "end_time": "2024-03-25T01:27:50.449059Z",
     "start_time": "2024-03-25T01:27:45.497924Z"
    }
   },
   "outputs": [],
   "source": [
    "rna = pd.read_table(\"../rawData/GSE49711_SEQC_NB_TAV_G_log2.final.txt.gz\")\n",
    "rna = rna[~ rna.Gene.str.contains(\"[a-z]\")]\n",
    "rna.drop([\"Gene_set\",\"NCBI_gene_ID\",\"RefSeq_transcript_ID\",\"Chromosome\",\"Strand\",\"Start\",\"End\"], axis=1, inplace=True)\n",
    "X = rna.iloc[:,1:].transpose()\n",
    "X.columns = rna.Gene"
   ]
  },
  {
   "cell_type": "code",
   "execution_count": 14,
   "id": "f52bdc51",
   "metadata": {
    "ExecuteTime": {
     "end_time": "2024-03-25T01:27:50.511680Z",
     "start_time": "2024-03-25T01:27:50.451792Z"
    }
   },
   "outputs": [],
   "source": [
    "X = X.loc[meta.index] # keep only samples with valid Ys"
   ]
  },
  {
   "cell_type": "code",
   "execution_count": 15,
   "id": "aace9141",
   "metadata": {
    "ExecuteTime": {
     "end_time": "2024-03-25T01:27:50.558171Z",
     "start_time": "2024-03-25T01:27:50.514367Z"
    }
   },
   "outputs": [],
   "source": [
    "X_train, X_test, y_train, y_test = train_test_split(X, meta.death_from_disease.astype(\"int\"), test_size=0.4, random_state=1234)"
   ]
  },
  {
   "cell_type": "code",
   "execution_count": null,
   "id": "426eff17",
   "metadata": {},
   "outputs": [],
   "source": []
  },
  {
   "cell_type": "markdown",
   "id": "248bb4de",
   "metadata": {},
   "source": [
    "# QC"
   ]
  },
  {
   "cell_type": "code",
   "execution_count": 16,
   "id": "6177e57b",
   "metadata": {
    "ExecuteTime": {
     "end_time": "2024-03-25T01:27:51.591051Z",
     "start_time": "2024-03-25T01:27:50.560457Z"
    }
   },
   "outputs": [
    {
     "data": {
      "text/plain": [
       "<Axes: >"
      ]
     },
     "execution_count": 16,
     "metadata": {},
     "output_type": "execute_result"
    },
    {
     "data": {
      "image/png": "[encoded data removed]",
      "text/plain": [
       "<Figure size 640x480 with 1 Axes>"
      ]
     },
     "metadata": {},
     "output_type": "display_data"
    }
   ],
   "source": [
    "X_train.median().hist(bins=100)"
   ]
  },
  {
   "cell_type": "code",
   "execution_count": 17,
   "id": "03d99444",
   "metadata": {
    "ExecuteTime": {
     "end_time": "2024-03-25T01:27:52.198159Z",
     "start_time": "2024-03-25T01:27:51.594296Z"
    }
   },
   "outputs": [],
   "source": [
    "X_train = X_train.loc[:, X_train.median() > 5]"
   ]
  },
  {
   "cell_type": "code",
   "execution_count": 18,
   "id": "5020b4d7",
   "metadata": {
    "ExecuteTime": {
     "end_time": "2024-03-25T01:27:52.207430Z",
     "start_time": "2024-03-25T01:27:52.201091Z"
    }
   },
   "outputs": [
    {
     "data": {
      "text/plain": [
       "(295, 17711)"
      ]
     },
     "execution_count": 18,
     "metadata": {},
     "output_type": "execute_result"
    }
   ],
   "source": [
    "X_train.shape"
   ]
  },
  {
   "cell_type": "code",
   "execution_count": 19,
   "id": "377b7688",
   "metadata": {
    "ExecuteTime": {
     "end_time": "2024-03-25T01:27:52.240131Z",
     "start_time": "2024-03-25T01:27:52.209528Z"
    }
   },
   "outputs": [
    {
     "data": {
      "text/html": [
       "<div>\n",
       "<style scoped>\n",
       "    .dataframe tbody tr th:only-of-type {\n",
       "        vertical-align: middle;\n",
       "    }\n",
       "\n",
       "    .dataframe tbody tr th {\n",
       "        vertical-align: top;\n",
       "    }\n",
       "\n",
       "    .dataframe thead th {\n",
       "        text-align: right;\n",
       "    }\n",
       "</style>\n",
       "<table border=\"1\" class=\"dataframe\">\n",
       "  <thead>\n",
       "    <tr style=\"text-align: right;\">\n",
       "      <th>Gene</th>\n",
       "      <th>A1BGAS</th>\n",
       "      <th>A2BP1</th>\n",
       "      <th>A2LD1</th>\n",
       "      <th>A2M</th>\n",
       "      <th>A2ML1</th>\n",
       "      <th>A2MP1</th>\n",
       "      <th>A4GALT</th>\n",
       "      <th>A4GNT</th>\n",
       "      <th>AAAS</th>\n",
       "      <th>AACS</th>\n",
       "      <th>...</th>\n",
       "      <th>ZWILCH</th>\n",
       "      <th>ZWINT</th>\n",
       "      <th>ZXDA</th>\n",
       "      <th>ZXDB</th>\n",
       "      <th>ZXDC</th>\n",
       "      <th>ZYG11A</th>\n",
       "      <th>ZYG11B</th>\n",
       "      <th>ZYX</th>\n",
       "      <th>ZZEF1</th>\n",
       "      <th>ZZZ3</th>\n",
       "    </tr>\n",
       "    <tr>\n",
       "      <th>sampleId</th>\n",
       "      <th></th>\n",
       "      <th></th>\n",
       "      <th></th>\n",
       "      <th></th>\n",
       "      <th></th>\n",
       "      <th></th>\n",
       "      <th></th>\n",
       "      <th></th>\n",
       "      <th></th>\n",
       "      <th></th>\n",
       "      <th></th>\n",
       "      <th></th>\n",
       "      <th></th>\n",
       "      <th></th>\n",
       "      <th></th>\n",
       "      <th></th>\n",
       "      <th></th>\n",
       "      <th></th>\n",
       "      <th></th>\n",
       "      <th></th>\n",
       "      <th></th>\n",
       "    </tr>\n",
       "  </thead>\n",
       "  <tbody>\n",
       "    <tr>\n",
       "      <th>SEQC_NB146</th>\n",
       "      <td>16.5024</td>\n",
       "      <td>20.0564</td>\n",
       "      <td>15.0841</td>\n",
       "      <td>21.6655</td>\n",
       "      <td>9.8009</td>\n",
       "      <td>12.8555</td>\n",
       "      <td>15.8551</td>\n",
       "      <td>9.1470</td>\n",
       "      <td>19.7981</td>\n",
       "      <td>18.1232</td>\n",
       "      <td>...</td>\n",
       "      <td>18.5765</td>\n",
       "      <td>18.2535</td>\n",
       "      <td>15.3898</td>\n",
       "      <td>16.6328</td>\n",
       "      <td>18.4678</td>\n",
       "      <td>7.8161</td>\n",
       "      <td>19.5133</td>\n",
       "      <td>19.6439</td>\n",
       "      <td>19.4788</td>\n",
       "      <td>18.8513</td>\n",
       "    </tr>\n",
       "    <tr>\n",
       "      <th>SEQC_NB169</th>\n",
       "      <td>16.3556</td>\n",
       "      <td>16.8176</td>\n",
       "      <td>14.1696</td>\n",
       "      <td>20.3013</td>\n",
       "      <td>10.3583</td>\n",
       "      <td>11.4638</td>\n",
       "      <td>16.4427</td>\n",
       "      <td>10.5210</td>\n",
       "      <td>19.6067</td>\n",
       "      <td>18.3675</td>\n",
       "      <td>...</td>\n",
       "      <td>18.9689</td>\n",
       "      <td>18.7735</td>\n",
       "      <td>13.9497</td>\n",
       "      <td>16.1754</td>\n",
       "      <td>17.4339</td>\n",
       "      <td>15.0595</td>\n",
       "      <td>19.0750</td>\n",
       "      <td>20.2097</td>\n",
       "      <td>18.8517</td>\n",
       "      <td>18.7465</td>\n",
       "    </tr>\n",
       "    <tr>\n",
       "      <th>SEQC_NB178</th>\n",
       "      <td>16.5744</td>\n",
       "      <td>19.9334</td>\n",
       "      <td>15.2004</td>\n",
       "      <td>19.5386</td>\n",
       "      <td>11.6829</td>\n",
       "      <td>10.2534</td>\n",
       "      <td>13.8344</td>\n",
       "      <td>9.3267</td>\n",
       "      <td>19.5844</td>\n",
       "      <td>18.3651</td>\n",
       "      <td>...</td>\n",
       "      <td>18.9971</td>\n",
       "      <td>18.8412</td>\n",
       "      <td>14.6071</td>\n",
       "      <td>16.1876</td>\n",
       "      <td>17.9747</td>\n",
       "      <td>8.0051</td>\n",
       "      <td>19.6285</td>\n",
       "      <td>19.5114</td>\n",
       "      <td>19.4049</td>\n",
       "      <td>18.6343</td>\n",
       "    </tr>\n",
       "    <tr>\n",
       "      <th>SEQC_NB148</th>\n",
       "      <td>15.9723</td>\n",
       "      <td>20.6821</td>\n",
       "      <td>13.6735</td>\n",
       "      <td>20.3745</td>\n",
       "      <td>11.7534</td>\n",
       "      <td>10.2431</td>\n",
       "      <td>14.7050</td>\n",
       "      <td>10.0318</td>\n",
       "      <td>20.0699</td>\n",
       "      <td>18.0863</td>\n",
       "      <td>...</td>\n",
       "      <td>18.5875</td>\n",
       "      <td>18.5007</td>\n",
       "      <td>14.7794</td>\n",
       "      <td>16.1984</td>\n",
       "      <td>18.6119</td>\n",
       "      <td>7.7073</td>\n",
       "      <td>19.5750</td>\n",
       "      <td>19.4555</td>\n",
       "      <td>19.1903</td>\n",
       "      <td>18.9590</td>\n",
       "    </tr>\n",
       "    <tr>\n",
       "      <th>SEQC_NB136</th>\n",
       "      <td>16.7822</td>\n",
       "      <td>15.0439</td>\n",
       "      <td>14.4207</td>\n",
       "      <td>21.5849</td>\n",
       "      <td>9.8255</td>\n",
       "      <td>10.0645</td>\n",
       "      <td>16.2768</td>\n",
       "      <td>10.6923</td>\n",
       "      <td>19.9487</td>\n",
       "      <td>18.6586</td>\n",
       "      <td>...</td>\n",
       "      <td>17.9663</td>\n",
       "      <td>18.3867</td>\n",
       "      <td>15.2904</td>\n",
       "      <td>16.8536</td>\n",
       "      <td>18.3172</td>\n",
       "      <td>7.8497</td>\n",
       "      <td>18.8057</td>\n",
       "      <td>19.6194</td>\n",
       "      <td>19.0896</td>\n",
       "      <td>17.9436</td>\n",
       "    </tr>\n",
       "    <tr>\n",
       "      <th>...</th>\n",
       "      <td>...</td>\n",
       "      <td>...</td>\n",
       "      <td>...</td>\n",
       "      <td>...</td>\n",
       "      <td>...</td>\n",
       "      <td>...</td>\n",
       "      <td>...</td>\n",
       "      <td>...</td>\n",
       "      <td>...</td>\n",
       "      <td>...</td>\n",
       "      <td>...</td>\n",
       "      <td>...</td>\n",
       "      <td>...</td>\n",
       "      <td>...</td>\n",
       "      <td>...</td>\n",
       "      <td>...</td>\n",
       "      <td>...</td>\n",
       "      <td>...</td>\n",
       "      <td>...</td>\n",
       "      <td>...</td>\n",
       "      <td>...</td>\n",
       "    </tr>\n",
       "    <tr>\n",
       "      <th>SEQC_NB207</th>\n",
       "      <td>17.3286</td>\n",
       "      <td>17.4852</td>\n",
       "      <td>15.2080</td>\n",
       "      <td>21.4776</td>\n",
       "      <td>11.1628</td>\n",
       "      <td>10.5469</td>\n",
       "      <td>15.1864</td>\n",
       "      <td>10.9370</td>\n",
       "      <td>20.0399</td>\n",
       "      <td>18.8091</td>\n",
       "      <td>...</td>\n",
       "      <td>17.2345</td>\n",
       "      <td>16.6182</td>\n",
       "      <td>15.3670</td>\n",
       "      <td>16.6561</td>\n",
       "      <td>18.6597</td>\n",
       "      <td>13.1425</td>\n",
       "      <td>20.0924</td>\n",
       "      <td>20.8257</td>\n",
       "      <td>19.8991</td>\n",
       "      <td>18.8717</td>\n",
       "    </tr>\n",
       "    <tr>\n",
       "      <th>SEQC_NB054</th>\n",
       "      <td>16.6492</td>\n",
       "      <td>19.5313</td>\n",
       "      <td>14.2535</td>\n",
       "      <td>21.6060</td>\n",
       "      <td>13.1517</td>\n",
       "      <td>12.1404</td>\n",
       "      <td>15.4274</td>\n",
       "      <td>11.4453</td>\n",
       "      <td>19.8313</td>\n",
       "      <td>18.5733</td>\n",
       "      <td>...</td>\n",
       "      <td>17.4503</td>\n",
       "      <td>17.9483</td>\n",
       "      <td>15.2092</td>\n",
       "      <td>17.0717</td>\n",
       "      <td>18.2799</td>\n",
       "      <td>10.3980</td>\n",
       "      <td>20.3791</td>\n",
       "      <td>19.9456</td>\n",
       "      <td>19.6730</td>\n",
       "      <td>18.9018</td>\n",
       "    </tr>\n",
       "    <tr>\n",
       "      <th>SEQC_NB298</th>\n",
       "      <td>17.9505</td>\n",
       "      <td>19.0510</td>\n",
       "      <td>15.8982</td>\n",
       "      <td>23.8811</td>\n",
       "      <td>7.8454</td>\n",
       "      <td>0.0000</td>\n",
       "      <td>14.8744</td>\n",
       "      <td>13.9422</td>\n",
       "      <td>19.8731</td>\n",
       "      <td>18.4631</td>\n",
       "      <td>...</td>\n",
       "      <td>17.8283</td>\n",
       "      <td>17.8293</td>\n",
       "      <td>15.1580</td>\n",
       "      <td>16.2733</td>\n",
       "      <td>18.7405</td>\n",
       "      <td>13.1793</td>\n",
       "      <td>19.4190</td>\n",
       "      <td>19.8722</td>\n",
       "      <td>19.3323</td>\n",
       "      <td>18.7078</td>\n",
       "    </tr>\n",
       "    <tr>\n",
       "      <th>SEQC_NB214</th>\n",
       "      <td>17.2035</td>\n",
       "      <td>18.3766</td>\n",
       "      <td>13.5394</td>\n",
       "      <td>20.1875</td>\n",
       "      <td>7.5338</td>\n",
       "      <td>0.0000</td>\n",
       "      <td>14.4924</td>\n",
       "      <td>0.0000</td>\n",
       "      <td>19.7056</td>\n",
       "      <td>18.7242</td>\n",
       "      <td>...</td>\n",
       "      <td>18.6013</td>\n",
       "      <td>18.3335</td>\n",
       "      <td>15.3984</td>\n",
       "      <td>16.6827</td>\n",
       "      <td>18.3400</td>\n",
       "      <td>7.8543</td>\n",
       "      <td>19.5669</td>\n",
       "      <td>19.2209</td>\n",
       "      <td>18.6990</td>\n",
       "      <td>18.8228</td>\n",
       "    </tr>\n",
       "    <tr>\n",
       "      <th>SEQC_NB307</th>\n",
       "      <td>16.7627</td>\n",
       "      <td>19.5294</td>\n",
       "      <td>14.8268</td>\n",
       "      <td>20.9913</td>\n",
       "      <td>12.1907</td>\n",
       "      <td>0.0000</td>\n",
       "      <td>15.5007</td>\n",
       "      <td>13.4494</td>\n",
       "      <td>19.8173</td>\n",
       "      <td>17.9334</td>\n",
       "      <td>...</td>\n",
       "      <td>17.9383</td>\n",
       "      <td>17.1663</td>\n",
       "      <td>14.6395</td>\n",
       "      <td>16.1795</td>\n",
       "      <td>18.1233</td>\n",
       "      <td>11.3560</td>\n",
       "      <td>19.6714</td>\n",
       "      <td>19.9715</td>\n",
       "      <td>19.2907</td>\n",
       "      <td>18.8574</td>\n",
       "    </tr>\n",
       "  </tbody>\n",
       "</table>\n",
       "<p>295 rows × 17711 columns</p>\n",
       "</div>"
      ],
      "text/plain": [
       "Gene         A1BGAS    A2BP1    A2LD1      A2M    A2ML1    A2MP1   A4GALT  \\\n",
       "sampleId                                                                    \n",
       "SEQC_NB146  16.5024  20.0564  15.0841  21.6655   9.8009  12.8555  15.8551   \n",
       "SEQC_NB169  16.3556  16.8176  14.1696  20.3013  10.3583  11.4638  16.4427   \n",
       "SEQC_NB178  16.5744  19.9334  15.2004  19.5386  11.6829  10.2534  13.8344   \n",
       "SEQC_NB148  15.9723  20.6821  13.6735  20.3745  11.7534  10.2431  14.7050   \n",
       "SEQC_NB136  16.7822  15.0439  14.4207  21.5849   9.8255  10.0645  16.2768   \n",
       "...             ...      ...      ...      ...      ...      ...      ...   \n",
       "SEQC_NB207  17.3286  17.4852  15.2080  21.4776  11.1628  10.5469  15.1864   \n",
       "SEQC_NB054  16.6492  19.5313  14.2535  21.6060  13.1517  12.1404  15.4274   \n",
       "SEQC_NB298  17.9505  19.0510  15.8982  23.8811   7.8454   0.0000  14.8744   \n",
       "SEQC_NB214  17.2035  18.3766  13.5394  20.1875   7.5338   0.0000  14.4924   \n",
       "SEQC_NB307  16.7627  19.5294  14.8268  20.9913  12.1907   0.0000  15.5007   \n",
       "\n",
       "Gene          A4GNT     AAAS     AACS  ...   ZWILCH    ZWINT     ZXDA  \\\n",
       "sampleId                               ...                              \n",
       "SEQC_NB146   9.1470  19.7981  18.1232  ...  18.5765  18.2535  15.3898   \n",
       "SEQC_NB169  10.5210  19.6067  18.3675  ...  18.9689  18.7735  13.9497   \n",
       "SEQC_NB178   9.3267  19.5844  18.3651  ...  18.9971  18.8412  14.6071   \n",
       "SEQC_NB148  10.0318  20.0699  18.0863  ...  18.5875  18.5007  14.7794   \n",
       "SEQC_NB136  10.6923  19.9487  18.6586  ...  17.9663  18.3867  15.2904   \n",
       "...             ...      ...      ...  ...      ...      ...      ...   \n",
       "SEQC_NB207  10.9370  20.0399  18.8091  ...  17.2345  16.6182  15.3670   \n",
       "SEQC_NB054  11.4453  19.8313  18.5733  ...  17.4503  17.9483  15.2092   \n",
       "SEQC_NB298  13.9422  19.8731  18.4631  ...  17.8283  17.8293  15.1580   \n",
       "SEQC_NB214   0.0000  19.7056  18.7242  ...  18.6013  18.3335  15.3984   \n",
       "SEQC_NB307  13.4494  19.8173  17.9334  ...  17.9383  17.1663  14.6395   \n",
       "\n",
       "Gene           ZXDB     ZXDC   ZYG11A   ZYG11B      ZYX    ZZEF1     ZZZ3  \n",
       "sampleId                                                                   \n",
       "SEQC_NB146  16.6328  18.4678   7.8161  19.5133  19.6439  19.4788  18.8513  \n",
       "SEQC_NB169  16.1754  17.4339  15.0595  19.0750  20.2097  18.8517  18.7465  \n",
       "SEQC_NB178  16.1876  17.9747   8.0051  19.6285  19.5114  19.4049  18.6343  \n",
       "SEQC_NB148  16.1984  18.6119   7.7073  19.5750  19.4555  19.1903  18.9590  \n",
       "SEQC_NB136  16.8536  18.3172   7.8497  18.8057  19.6194  19.0896  17.9436  \n",
       "...             ...      ...      ...      ...      ...      ...      ...  \n",
       "SEQC_NB207  16.6561  18.6597  13.1425  20.0924  20.8257  19.8991  18.8717  \n",
       "SEQC_NB054  17.0717  18.2799  10.3980  20.3791  19.9456  19.6730  18.9018  \n",
       "SEQC_NB298  16.2733  18.7405  13.1793  19.4190  19.8722  19.3323  18.7078  \n",
       "SEQC_NB214  16.6827  18.3400   7.8543  19.5669  19.2209  18.6990  18.8228  \n",
       "SEQC_NB307  16.1795  18.1233  11.3560  19.6714  19.9715  19.2907  18.8574  \n",
       "\n",
       "[295 rows x 17711 columns]"
      ]
     },
     "execution_count": 19,
     "metadata": {},
     "output_type": "execute_result"
    }
   ],
   "source": [
    "X_train"
   ]
  },
  {
   "cell_type": "code",
   "execution_count": 20,
   "id": "88515902",
   "metadata": {
    "ExecuteTime": {
     "end_time": "2024-03-25T01:27:52.565791Z",
     "start_time": "2024-03-25T01:27:52.242940Z"
    }
   },
   "outputs": [],
   "source": [
    "scaler = StandardScaler()\n",
    "X_train_scaled = scaler.fit_transform(X_train)\n",
    "X_train_scaled = pd.DataFrame(X_train_scaled, index=X_train.index, columns=X_train.columns)"
   ]
  },
  {
   "cell_type": "code",
   "execution_count": 21,
   "id": "985e3d9b",
   "metadata": {
    "ExecuteTime": {
     "end_time": "2024-03-25T01:27:52.745633Z",
     "start_time": "2024-03-25T01:27:52.568260Z"
    }
   },
   "outputs": [],
   "source": [
    "X_test_scaled = scaler.transform(X_test.loc[:, X_train.columns])\n",
    "X_test_scaled = pd.DataFrame(X_test_scaled, index=X_test.index, columns=X_train.columns)"
   ]
  },
  {
   "cell_type": "code",
   "execution_count": null,
   "id": "e632a0de",
   "metadata": {},
   "outputs": [],
   "source": []
  },
  {
   "cell_type": "code",
   "execution_count": null,
   "id": "848bbca7",
   "metadata": {
    "ExecuteTime": {
     "end_time": "2024-03-24T21:14:29.922489Z",
     "start_time": "2024-03-24T21:14:29.918939Z"
    }
   },
   "outputs": [],
   "source": []
  },
  {
   "cell_type": "code",
   "execution_count": 22,
   "id": "fd02bd68",
   "metadata": {
    "ExecuteTime": {
     "end_time": "2024-03-25T01:27:52.754493Z",
     "start_time": "2024-03-25T01:27:52.747855Z"
    }
   },
   "outputs": [],
   "source": [
    "meta_train = meta.loc[X_train.index]\n",
    "age_scaler = StandardScaler()\n",
    "age_at_diagnosis = age_scaler.fit_transform(np.array(meta_train.age_at_diagnosis).reshape(-1, 1))\n",
    "meta_train.age_at_diagnosis = age_at_diagnosis\n",
    "meta_train.drop(\"death_from_disease\", axis = 1, inplace=True)"
   ]
  },
  {
   "cell_type": "code",
   "execution_count": 23,
   "id": "0498aebd",
   "metadata": {
    "ExecuteTime": {
     "end_time": "2024-03-25T01:27:52.799318Z",
     "start_time": "2024-03-25T01:27:52.756720Z"
    }
   },
   "outputs": [],
   "source": [
    "X_train_scaled = pd.concat([X_train_scaled, meta_train], axis=1)"
   ]
  },
  {
   "cell_type": "code",
   "execution_count": 24,
   "id": "ee2be2d3",
   "metadata": {
    "ExecuteTime": {
     "end_time": "2024-03-25T01:27:52.807638Z",
     "start_time": "2024-03-25T01:27:52.801974Z"
    }
   },
   "outputs": [],
   "source": [
    "meta_test = meta.loc[X_test.index]\n",
    "age_at_diagnosis = age_scaler.transform(np.array(meta_test.age_at_diagnosis).reshape(-1, 1))\n",
    "meta_test.age_at_diagnosis = age_at_diagnosis\n",
    "meta_test.drop(\"death_from_disease\", axis = 1, inplace=True)"
   ]
  },
  {
   "cell_type": "code",
   "execution_count": 25,
   "id": "5f49f5f7",
   "metadata": {
    "ExecuteTime": {
     "end_time": "2024-03-25T01:27:52.830300Z",
     "start_time": "2024-03-25T01:27:52.810235Z"
    }
   },
   "outputs": [],
   "source": [
    "X_test_scaled = pd.concat([X_test_scaled, meta_test], axis=1)"
   ]
  },
  {
   "cell_type": "code",
   "execution_count": null,
   "id": "e49c0caf",
   "metadata": {},
   "outputs": [],
   "source": []
  },
  {
   "cell_type": "markdown",
   "id": "21f69757",
   "metadata": {},
   "source": [
    "# L1 Logistic regression"
   ]
  },
  {
   "cell_type": "code",
   "execution_count": 26,
   "id": "e6a3b207",
   "metadata": {
    "ExecuteTime": {
     "end_time": "2024-03-25T01:27:52.872696Z",
     "start_time": "2024-03-25T01:27:52.833214Z"
    }
   },
   "outputs": [],
   "source": [
    "from sklearn.linear_model import LogisticRegression, LogisticRegressionCV\n",
    "from sklearn.metrics import accuracy_score, classification_report"
   ]
  },
  {
   "cell_type": "code",
   "execution_count": 27,
   "id": "f2afa29c",
   "metadata": {
    "ExecuteTime": {
     "end_time": "2024-03-25T01:28:24.659713Z",
     "start_time": "2024-03-25T01:27:52.875416Z"
    }
   },
   "outputs": [],
   "source": [
    "model = LogisticRegressionCV(penalty='l1', solver='liblinear', cv = 5, random_state=1234, Cs= 20, class_weight=\"balanced\")\n",
    "model.fit(X_train_scaled, y_train)\n",
    "\n",
    "# Make predictions on the test set\n",
    "y_pred = model.predict(X_test_scaled)\n",
    "\n",
    "# Evaluate the model\n",
    "accuracy = accuracy_score(y_test, y_pred)"
   ]
  },
  {
   "cell_type": "code",
   "execution_count": 28,
   "id": "5bfe753e",
   "metadata": {
    "ExecuteTime": {
     "end_time": "2024-03-25T01:28:24.675905Z",
     "start_time": "2024-03-25T01:28:24.671606Z"
    }
   },
   "outputs": [
    {
     "data": {
      "text/plain": [
       "0.8181818181818182"
      ]
     },
     "execution_count": 28,
     "metadata": {},
     "output_type": "execute_result"
    }
   ],
   "source": [
    "accuracy"
   ]
  },
  {
   "cell_type": "code",
   "execution_count": 29,
   "id": "60933ca9",
   "metadata": {
    "ExecuteTime": {
     "end_time": "2024-03-25T01:28:24.694777Z",
     "start_time": "2024-03-25T01:28:24.679116Z"
    }
   },
   "outputs": [
    {
     "data": {
      "text/html": [
       "<div>\n",
       "<style scoped>\n",
       "    .dataframe tbody tr th:only-of-type {\n",
       "        vertical-align: middle;\n",
       "    }\n",
       "\n",
       "    .dataframe tbody tr th {\n",
       "        vertical-align: top;\n",
       "    }\n",
       "\n",
       "    .dataframe thead th {\n",
       "        text-align: right;\n",
       "    }\n",
       "</style>\n",
       "<table border=\"1\" class=\"dataframe\">\n",
       "  <thead>\n",
       "    <tr style=\"text-align: right;\">\n",
       "      <th>death_from_disease</th>\n",
       "      <th>0</th>\n",
       "      <th>1</th>\n",
       "    </tr>\n",
       "    <tr>\n",
       "      <th>row_0</th>\n",
       "      <th></th>\n",
       "      <th></th>\n",
       "    </tr>\n",
       "  </thead>\n",
       "  <tbody>\n",
       "    <tr>\n",
       "      <th>0</th>\n",
       "      <td>136</td>\n",
       "      <td>14</td>\n",
       "    </tr>\n",
       "    <tr>\n",
       "      <th>1</th>\n",
       "      <td>22</td>\n",
       "      <td>26</td>\n",
       "    </tr>\n",
       "  </tbody>\n",
       "</table>\n",
       "</div>"
      ],
      "text/plain": [
       "death_from_disease    0   1\n",
       "row_0                      \n",
       "0                   136  14\n",
       "1                    22  26"
      ]
     },
     "execution_count": 29,
     "metadata": {},
     "output_type": "execute_result"
    }
   ],
   "source": [
    "pd.crosstab(y_pred, y_test)"
   ]
  },
  {
   "cell_type": "code",
   "execution_count": 30,
   "id": "47d71056",
   "metadata": {
    "ExecuteTime": {
     "end_time": "2024-03-25T01:28:24.716864Z",
     "start_time": "2024-03-25T01:28:24.698017Z"
    }
   },
   "outputs": [
    {
     "data": {
      "text/html": [
       "<div>\n",
       "<style scoped>\n",
       "    .dataframe tbody tr th:only-of-type {\n",
       "        vertical-align: middle;\n",
       "    }\n",
       "\n",
       "    .dataframe tbody tr th {\n",
       "        vertical-align: top;\n",
       "    }\n",
       "\n",
       "    .dataframe thead th {\n",
       "        text-align: right;\n",
       "    }\n",
       "</style>\n",
       "<table border=\"1\" class=\"dataframe\">\n",
       "  <thead>\n",
       "    <tr style=\"text-align: right;\">\n",
       "      <th>death_from_disease</th>\n",
       "      <th>0.0</th>\n",
       "      <th>1.0</th>\n",
       "    </tr>\n",
       "    <tr>\n",
       "      <th>high_risk</th>\n",
       "      <th></th>\n",
       "      <th></th>\n",
       "    </tr>\n",
       "  </thead>\n",
       "  <tbody>\n",
       "    <tr>\n",
       "      <th>0.0</th>\n",
       "      <td>122</td>\n",
       "      <td>4</td>\n",
       "    </tr>\n",
       "    <tr>\n",
       "      <th>1.0</th>\n",
       "      <td>36</td>\n",
       "      <td>36</td>\n",
       "    </tr>\n",
       "  </tbody>\n",
       "</table>\n",
       "</div>"
      ],
      "text/plain": [
       "death_from_disease  0.0  1.0\n",
       "high_risk                   \n",
       "0.0                 122    4\n",
       "1.0                  36   36"
      ]
     },
     "execution_count": 30,
     "metadata": {},
     "output_type": "execute_result"
    }
   ],
   "source": [
    "pd.crosstab(meta.loc[y_test.index].high_risk, meta.loc[y_test.index].death_from_disease)"
   ]
  },
  {
   "cell_type": "code",
   "execution_count": 31,
   "id": "434edf11",
   "metadata": {
    "ExecuteTime": {
     "end_time": "2024-03-25T01:28:24.732060Z",
     "start_time": "2024-03-25T01:28:24.719804Z"
    }
   },
   "outputs": [
    {
     "name": "stdout",
     "output_type": "stream",
     "text": [
      "              precision    recall  f1-score   support\n",
      "\n",
      "           0       0.91      0.86      0.88       158\n",
      "           1       0.54      0.65      0.59        40\n",
      "\n",
      "    accuracy                           0.82       198\n",
      "   macro avg       0.72      0.76      0.74       198\n",
      "weighted avg       0.83      0.82      0.82       198\n",
      "\n"
     ]
    }
   ],
   "source": [
    "print(classification_report(y_test, y_pred))"
   ]
  },
  {
   "cell_type": "code",
   "execution_count": 32,
   "id": "d0f46063",
   "metadata": {
    "ExecuteTime": {
     "end_time": "2024-03-25T01:28:25.203720Z",
     "start_time": "2024-03-25T01:28:24.735257Z"
    }
   },
   "outputs": [
    {
     "data": {
      "image/png": "[encoded data removed]",
      "text/plain": [
       "<Figure size 640x480 with 1 Axes>"
      ]
     },
     "metadata": {},
     "output_type": "display_data"
    }
   ],
   "source": [
    "_ = plt.hist(model.predict_proba(X_test_scaled)[:,1], 100)"
   ]
  },
  {
   "cell_type": "code",
   "execution_count": null,
   "id": "fe525f2b",
   "metadata": {},
   "outputs": [],
   "source": []
  },
  {
   "cell_type": "code",
   "execution_count": 33,
   "id": "836f0a73",
   "metadata": {
    "ExecuteTime": {
     "end_time": "2024-03-25T01:28:25.539161Z",
     "start_time": "2024-03-25T01:28:25.206183Z"
    }
   },
   "outputs": [
    {
     "data": {
      "image/png": "[encoded data removed]",
      "text/plain": [
       "<Figure size 640x480 with 1 Axes>"
      ]
     },
     "metadata": {},
     "output_type": "display_data"
    }
   ],
   "source": [
    "_ = plt.hist(model.coef_[0], 100)"
   ]
  },
  {
   "cell_type": "code",
   "execution_count": 34,
   "id": "44c3ee4b",
   "metadata": {
    "ExecuteTime": {
     "end_time": "2024-03-25T01:28:25.548389Z",
     "start_time": "2024-03-25T01:28:25.541521Z"
    }
   },
   "outputs": [
    {
     "data": {
      "text/plain": [
       "180"
      ]
     },
     "execution_count": 34,
     "metadata": {},
     "output_type": "execute_result"
    }
   ],
   "source": [
    "sum(model.coef_[0] != 0)"
   ]
  },
  {
   "cell_type": "code",
   "execution_count": 35,
   "id": "d0a6d908",
   "metadata": {
    "ExecuteTime": {
     "end_time": "2024-03-25T01:28:25.554550Z",
     "start_time": "2024-03-25T01:28:25.551042Z"
    }
   },
   "outputs": [],
   "source": [
    "indices = np.argsort(model.coef_[0])[::-1]"
   ]
  },
  {
   "cell_type": "code",
   "execution_count": null,
   "id": "f261c150",
   "metadata": {},
   "outputs": [],
   "source": []
  },
  {
   "cell_type": "code",
   "execution_count": 36,
   "id": "99b64afb",
   "metadata": {
    "ExecuteTime": {
     "end_time": "2024-03-25T01:28:25.842045Z",
     "start_time": "2024-03-25T01:28:25.557049Z"
    }
   },
   "outputs": [
    {
     "data": {
      "image/png": "[encoded data removed]",
      "text/plain": [
       "<Figure size 640x480 with 1 Axes>"
      ]
     },
     "metadata": {},
     "output_type": "display_data"
    }
   ],
   "source": [
    "plt.barh(X_train_scaled.columns[indices][range(20)][::-1], model.coef_[0][indices][range(20)][::-1])\n",
    "plt.title(\"Permutation-based feature importance\")\n",
    "plt.xlabel(\"Importance\")\n",
    "plt.ylabel(\"Feature\")\n",
    "plt.show()"
   ]
  },
  {
   "cell_type": "code",
   "execution_count": 37,
   "id": "8f3c5f0b",
   "metadata": {
    "ExecuteTime": {
     "end_time": "2024-03-25T01:28:26.030651Z",
     "start_time": "2024-03-25T01:28:25.844947Z"
    }
   },
   "outputs": [
    {
     "data": {
      "image/png": "[encoded data removed]",
      "text/plain": [
       "<Figure size 640x480 with 1 Axes>"
      ]
     },
     "metadata": {},
     "output_type": "display_data"
    }
   ],
   "source": [
    "plt.plot(np.log10(model.Cs_), model.scores_[1].T)\n",
    "plt.show()"
   ]
  },
  {
   "cell_type": "code",
   "execution_count": 38,
   "id": "5956b1b8",
   "metadata": {
    "ExecuteTime": {
     "end_time": "2024-03-25T01:28:26.219702Z",
     "start_time": "2024-03-25T01:28:26.033854Z"
    }
   },
   "outputs": [
    {
     "data": {
      "image/png": "[encoded data removed]",
      "text/plain": [
       "<Figure size 640x480 with 1 Axes>"
      ]
     },
     "metadata": {},
     "output_type": "display_data"
    }
   ],
   "source": [
    "plt.plot(np.log10(model.Cs_), np.mean(model.scores_[1].T, axis = 1))\n",
    "plt.show()"
   ]
  },
  {
   "cell_type": "code",
   "execution_count": null,
   "id": "13aeefa8",
   "metadata": {},
   "outputs": [],
   "source": []
  },
  {
   "cell_type": "code",
   "execution_count": null,
   "id": "e4411471",
   "metadata": {},
   "outputs": [],
   "source": []
  },
  {
   "cell_type": "code",
   "execution_count": null,
   "id": "f3775e66",
   "metadata": {},
   "outputs": [],
   "source": []
  },
  {
   "cell_type": "code",
   "execution_count": null,
   "id": "b5477e6b",
   "metadata": {},
   "outputs": [],
   "source": []
  },
  {
   "cell_type": "markdown",
   "id": "480eb858",
   "metadata": {},
   "source": [
    "# Ranodm forest"
   ]
  },
  {
   "cell_type": "code",
   "execution_count": 39,
   "id": "1d02712c",
   "metadata": {
    "ExecuteTime": {
     "end_time": "2024-03-25T01:28:26.375649Z",
     "start_time": "2024-03-25T01:28:26.221966Z"
    }
   },
   "outputs": [],
   "source": [
    "from sklearn.ensemble import RandomForestClassifier\n"
   ]
  },
  {
   "cell_type": "code",
   "execution_count": 40,
   "id": "20f26ebb",
   "metadata": {
    "ExecuteTime": {
     "end_time": "2024-03-25T01:28:26.446184Z",
     "start_time": "2024-03-25T01:28:26.378900Z"
    }
   },
   "outputs": [],
   "source": [
    "X_train = pd.concat([X_train, meta_train], axis=1)\n",
    "X_test = pd.concat([X_test, meta_test], axis=1)"
   ]
  },
  {
   "cell_type": "code",
   "execution_count": 41,
   "id": "11266616",
   "metadata": {
    "ExecuteTime": {
     "end_time": "2024-03-25T01:28:38.725544Z",
     "start_time": "2024-03-25T01:28:26.448604Z"
    }
   },
   "outputs": [],
   "source": [
    "rf_classifier = RandomForestClassifier(n_estimators=1000, random_state=1234, class_weight=\"balanced\")\n",
    "rf_classifier.fit(X_train, y_train)\n",
    "y_pred = rf_classifier.predict(X_test.loc[:, X_train.columns])"
   ]
  },
  {
   "cell_type": "code",
   "execution_count": 42,
   "id": "52f2bcd4",
   "metadata": {
    "ExecuteTime": {
     "end_time": "2024-03-25T01:28:38.732795Z",
     "start_time": "2024-03-25T01:28:38.728168Z"
    }
   },
   "outputs": [],
   "source": [
    "accuracy = accuracy_score(y_test, y_pred)"
   ]
  },
  {
   "cell_type": "code",
   "execution_count": 43,
   "id": "0deb2503",
   "metadata": {
    "ExecuteTime": {
     "end_time": "2024-03-25T01:28:38.740426Z",
     "start_time": "2024-03-25T01:28:38.735701Z"
    }
   },
   "outputs": [
    {
     "data": {
      "text/plain": [
       "0.8232323232323232"
      ]
     },
     "execution_count": 43,
     "metadata": {},
     "output_type": "execute_result"
    }
   ],
   "source": [
    "accuracy"
   ]
  },
  {
   "cell_type": "code",
   "execution_count": 44,
   "id": "80d8956d",
   "metadata": {
    "ExecuteTime": {
     "end_time": "2024-03-25T01:28:38.756773Z",
     "start_time": "2024-03-25T01:28:38.742878Z"
    }
   },
   "outputs": [
    {
     "data": {
      "text/html": [
       "<div>\n",
       "<style scoped>\n",
       "    .dataframe tbody tr th:only-of-type {\n",
       "        vertical-align: middle;\n",
       "    }\n",
       "\n",
       "    .dataframe tbody tr th {\n",
       "        vertical-align: top;\n",
       "    }\n",
       "\n",
       "    .dataframe thead th {\n",
       "        text-align: right;\n",
       "    }\n",
       "</style>\n",
       "<table border=\"1\" class=\"dataframe\">\n",
       "  <thead>\n",
       "    <tr style=\"text-align: right;\">\n",
       "      <th>death_from_disease</th>\n",
       "      <th>0</th>\n",
       "      <th>1</th>\n",
       "    </tr>\n",
       "    <tr>\n",
       "      <th>row_0</th>\n",
       "      <th></th>\n",
       "      <th></th>\n",
       "    </tr>\n",
       "  </thead>\n",
       "  <tbody>\n",
       "    <tr>\n",
       "      <th>0</th>\n",
       "      <td>152</td>\n",
       "      <td>29</td>\n",
       "    </tr>\n",
       "    <tr>\n",
       "      <th>1</th>\n",
       "      <td>6</td>\n",
       "      <td>11</td>\n",
       "    </tr>\n",
       "  </tbody>\n",
       "</table>\n",
       "</div>"
      ],
      "text/plain": [
       "death_from_disease    0   1\n",
       "row_0                      \n",
       "0                   152  29\n",
       "1                     6  11"
      ]
     },
     "execution_count": 44,
     "metadata": {},
     "output_type": "execute_result"
    }
   ],
   "source": [
    "pd.crosstab(y_pred, y_test)"
   ]
  },
  {
   "cell_type": "code",
   "execution_count": 45,
   "id": "ea405a21",
   "metadata": {
    "ExecuteTime": {
     "end_time": "2024-03-25T01:28:38.776152Z",
     "start_time": "2024-03-25T01:28:38.759001Z"
    }
   },
   "outputs": [
    {
     "data": {
      "text/html": [
       "<div>\n",
       "<style scoped>\n",
       "    .dataframe tbody tr th:only-of-type {\n",
       "        vertical-align: middle;\n",
       "    }\n",
       "\n",
       "    .dataframe tbody tr th {\n",
       "        vertical-align: top;\n",
       "    }\n",
       "\n",
       "    .dataframe thead th {\n",
       "        text-align: right;\n",
       "    }\n",
       "</style>\n",
       "<table border=\"1\" class=\"dataframe\">\n",
       "  <thead>\n",
       "    <tr style=\"text-align: right;\">\n",
       "      <th>death_from_disease</th>\n",
       "      <th>0.0</th>\n",
       "      <th>1.0</th>\n",
       "    </tr>\n",
       "    <tr>\n",
       "      <th>high_risk</th>\n",
       "      <th></th>\n",
       "      <th></th>\n",
       "    </tr>\n",
       "  </thead>\n",
       "  <tbody>\n",
       "    <tr>\n",
       "      <th>0.0</th>\n",
       "      <td>122</td>\n",
       "      <td>4</td>\n",
       "    </tr>\n",
       "    <tr>\n",
       "      <th>1.0</th>\n",
       "      <td>36</td>\n",
       "      <td>36</td>\n",
       "    </tr>\n",
       "  </tbody>\n",
       "</table>\n",
       "</div>"
      ],
      "text/plain": [
       "death_from_disease  0.0  1.0\n",
       "high_risk                   \n",
       "0.0                 122    4\n",
       "1.0                  36   36"
      ]
     },
     "execution_count": 45,
     "metadata": {},
     "output_type": "execute_result"
    }
   ],
   "source": [
    "pd.crosstab(meta.loc[y_test.index].high_risk, meta.loc[y_test.index].death_from_disease)"
   ]
  },
  {
   "cell_type": "code",
   "execution_count": 46,
   "id": "5052d3f0",
   "metadata": {
    "ExecuteTime": {
     "end_time": "2024-03-25T01:28:38.790048Z",
     "start_time": "2024-03-25T01:28:38.778917Z"
    }
   },
   "outputs": [
    {
     "name": "stdout",
     "output_type": "stream",
     "text": [
      "              precision    recall  f1-score   support\n",
      "\n",
      "           0       0.84      0.96      0.90       158\n",
      "           1       0.65      0.28      0.39        40\n",
      "\n",
      "    accuracy                           0.82       198\n",
      "   macro avg       0.74      0.62      0.64       198\n",
      "weighted avg       0.80      0.82      0.79       198\n",
      "\n"
     ]
    }
   ],
   "source": [
    "print(classification_report(y_test, y_pred))"
   ]
  },
  {
   "cell_type": "code",
   "execution_count": 47,
   "id": "1db11633",
   "metadata": {
    "ExecuteTime": {
     "end_time": "2024-03-25T01:28:39.148208Z",
     "start_time": "2024-03-25T01:28:38.792477Z"
    }
   },
   "outputs": [],
   "source": [
    "importances = rf_classifier.feature_importances_\n",
    "\n",
    "# Sort feature importances in descending order\n",
    "indices = np.argsort(importances)[::-1]"
   ]
  },
  {
   "cell_type": "code",
   "execution_count": 48,
   "id": "f0746bce",
   "metadata": {
    "ExecuteTime": {
     "end_time": "2024-03-25T01:28:39.156229Z",
     "start_time": "2024-03-25T01:28:39.151486Z"
    }
   },
   "outputs": [
    {
     "name": "stdout",
     "output_type": "stream",
     "text": [
      "Feature ranking:\n",
      "1. NR2C2AP: feature 10693 (0.005323)\n",
      "2. NPM1P9: feature 10660 (0.005153)\n",
      "3. SLC25A5: feature 14325 (0.004376)\n",
      "4. ZNF641: feature 17525 (0.004221)\n",
      "5. POLE3: feature 11827 (0.004191)\n",
      "6. high_risk: feature 17714 (0.004183)\n",
      "7. ARHGEF10L: feature 802 (0.003875)\n",
      "8. HNRNPC: feature 6024 (0.003784)\n",
      "9. CNIH4: feature 2472 (0.003513)\n",
      "10. PGM2L1: feature 11460 (0.003378)\n",
      "11. ELK1: feature 3811 (0.003373)\n",
      "12. TRNAU1AP: feature 16169 (0.003206)\n",
      "13. age_at_diagnosis: feature 17712 (0.003038)\n",
      "14. LOC100288145: feature 7838 (0.002968)\n",
      "15. ZBTB4: feature 17083 (0.002837)\n",
      "16. CLPP: feature 2426 (0.002761)\n",
      "17. TOM1L2: feature 15970 (0.002730)\n",
      "18. SLC1A5: feature 14260 (0.002614)\n",
      "19. ALG3: feature 465 (0.002511)\n",
      "20. NME2P1: feature 10578 (0.002479)\n"
     ]
    }
   ],
   "source": [
    "# Print the feature ranking\n",
    "print(\"Feature ranking:\")\n",
    "for f in range(20):\n",
    "    print(\"%d. %s: feature %d (%f)\" % (f + 1, X_train.columns[indices[f]], indices[f], importances[indices[f]]))"
   ]
  },
  {
   "cell_type": "code",
   "execution_count": 49,
   "id": "2c3f73b6",
   "metadata": {
    "ExecuteTime": {
     "end_time": "2024-03-25T01:28:39.444919Z",
     "start_time": "2024-03-25T01:28:39.159021Z"
    }
   },
   "outputs": [
    {
     "data": {
      "image/png": "[encoded data removed]",
      "text/plain": [
       "<Figure size 640x480 with 1 Axes>"
      ]
     },
     "metadata": {},
     "output_type": "display_data"
    }
   ],
   "source": [
    "plt.barh(X_train.columns[indices][range(20)][::-1], importances[indices][range(20)][::-1])\n",
    "plt.title(\"Permutation-based feature importance\")\n",
    "plt.xlabel(\"Importance\")\n",
    "plt.ylabel(\"Feature\")\n",
    "plt.show()"
   ]
  },
  {
   "cell_type": "code",
   "execution_count": null,
   "id": "58c24c48",
   "metadata": {},
   "outputs": [],
   "source": []
  },
  {
   "cell_type": "code",
   "execution_count": null,
   "id": "bc5501f5",
   "metadata": {},
   "outputs": [],
   "source": []
  },
  {
   "cell_type": "code",
   "execution_count": null,
   "id": "c54876b7",
   "metadata": {},
   "outputs": [],
   "source": []
  },
  {
   "cell_type": "code",
   "execution_count": null,
   "id": "5bbb980c",
   "metadata": {},
   "outputs": [],
   "source": []
  },
  {
   "cell_type": "code",
   "execution_count": null,
   "id": "92f4150c",
   "metadata": {},
   "outputs": [],
   "source": []
  },
  {
   "cell_type": "code",
   "execution_count": null,
   "id": "fa1fdf97",
   "metadata": {},
   "outputs": [],
   "source": []
  },
  {
   "cell_type": "code",
   "execution_count": null,
   "id": "bd54cb20",
   "metadata": {},
   "outputs": [],
   "source": []
  }
 ],
 "metadata": {
  "kernelspec": {
   "display_name": "Python 3 (ipykernel)",
   "language": "python",
   "name": "python3"
  },
  "language_info": {
   "codemirror_mode": {
    "name": "ipython",
    "version": 3
   },
   "file_extension": ".py",
   "mimetype": "text/x-python",
   "name": "python",
   "nbconvert_exporter": "python",
   "pygments_lexer": "ipython3",
   "version": "3.10.7"
  }
 },
 "nbformat": 4,
 "nbformat_minor": 5
}
