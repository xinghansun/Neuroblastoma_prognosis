{
 "cells": [
  {
   "cell_type": "code",
   "execution_count": 1,
   "id": "42abee39",
   "metadata": {
    "ExecuteTime": {
     "end_time": "2024-03-24T20:11:30.168073Z",
     "start_time": "2024-03-24T20:11:28.828769Z"
    }
   },
   "outputs": [],
   "source": [
    "import gzip\n",
    "\n",
    "import pandas as pd\n",
    "import numpy as np\n",
    "\n",
    "from sklearn.model_selection import train_test_split\n",
    "from sklearn.preprocessing import MinMaxScaler, StandardScaler\n",
    "from sklearn.ensemble import RandomForestClassifier\n",
    "from sklearn.metrics import accuracy_score, classification_report\n",
    "\n",
    "from matplotlib import pyplot as plt"
   ]
  },
  {
   "cell_type": "code",
   "execution_count": 2,
   "id": "881aa21e",
   "metadata": {
    "ExecuteTime": {
     "end_time": "2024-03-24T20:11:30.178272Z",
     "start_time": "2024-03-24T20:11:30.171614Z"
    }
   },
   "outputs": [],
   "source": [
    "def read_geo_series_matrix(file_path):\n",
    "    cols = {}\n",
    "    with gzip.open(file_path, 'rt') as f:\n",
    "        for line in f:\n",
    "            if line.startswith(\"!Sample_title\"):\n",
    "                sampleId = [i.strip('\"') for i in line.split()[1:]]\n",
    "                cols[\"sampleId\"] = sampleId\n",
    "            elif line.startswith(\"!Sample_characteristics_ch1\"):\n",
    "                _ = line[28:].strip().strip('\"').split('\"\\t\"')\n",
    "                category = _[0].split(\": \")[0].replace(\" \", \"_\")\n",
    "                values = [i.split(\": \")[1] for i in _]\n",
    "                cols.update({category: values})\n",
    "    \n",
    "    return pd.DataFrame(cols)"
   ]
  },
  {
   "cell_type": "code",
   "execution_count": 3,
   "id": "7e6f6ddc",
   "metadata": {
    "ExecuteTime": {
     "end_time": "2024-03-24T20:11:30.195714Z",
     "start_time": "2024-03-24T20:11:30.180748Z"
    }
   },
   "outputs": [
    {
     "data": {
      "text/plain": [
       "(498, 11)"
      ]
     },
     "execution_count": 3,
     "metadata": {},
     "output_type": "execute_result"
    }
   ],
   "source": [
    "meta = read_geo_series_matrix(\"../rawData/GSE49711_series_matrix.txt.gz\")\n",
    "meta.index = meta.sampleId\n",
    "meta.shape"
   ]
  },
  {
   "cell_type": "code",
   "execution_count": 4,
   "id": "4c60b7e0",
   "metadata": {
    "ExecuteTime": {
     "end_time": "2024-03-24T20:11:30.651506Z",
     "start_time": "2024-03-24T20:11:30.644533Z"
    }
   },
   "outputs": [
    {
     "data": {
      "text/plain": [
       "(272, 11)"
      ]
     },
     "execution_count": 4,
     "metadata": {},
     "output_type": "execute_result"
    }
   ],
   "source": [
    "meta = meta.loc[meta.class_label.isin([\"0\", \"1\"])]\n",
    "meta.shape"
   ]
  },
  {
   "cell_type": "code",
   "execution_count": 5,
   "id": "07940782",
   "metadata": {
    "ExecuteTime": {
     "end_time": "2024-03-24T20:11:31.067798Z",
     "start_time": "2024-03-24T20:11:31.060424Z"
    }
   },
   "outputs": [],
   "source": [
    "meta.Sex.replace({\"M\":1, \"F\":0}, inplace=True)\n",
    "meta.replace({\"N/A\":np.nan}, inplace=True)"
   ]
  },
  {
   "cell_type": "code",
   "execution_count": 6,
   "id": "c8329450",
   "metadata": {
    "ExecuteTime": {
     "end_time": "2024-03-24T20:11:31.396660Z",
     "start_time": "2024-03-24T20:11:31.391083Z"
    }
   },
   "outputs": [],
   "source": [
    "stage_dummy = pd.get_dummies(meta.inss_stage, prefix='inss_stage')\n",
    "meta = pd.concat([meta, stage_dummy], axis=1)"
   ]
  },
  {
   "cell_type": "code",
   "execution_count": 7,
   "id": "559df193",
   "metadata": {
    "ExecuteTime": {
     "end_time": "2024-03-24T20:11:31.929263Z",
     "start_time": "2024-03-24T20:11:31.924058Z"
    }
   },
   "outputs": [],
   "source": [
    "meta.dropna(inplace=True)"
   ]
  },
  {
   "cell_type": "code",
   "execution_count": 8,
   "id": "7f077fc6",
   "metadata": {
    "ExecuteTime": {
     "end_time": "2024-03-24T20:11:32.345199Z",
     "start_time": "2024-03-24T20:11:32.341153Z"
    }
   },
   "outputs": [],
   "source": [
    "meta_X = meta[[\"Sex\", \"age_at_diagnosis\", \"mycn_status\", \"high_risk\", \n",
    "               \"inss_stage_1\", \"inss_stage_2\", \"inss_stage_3\", \"inss_stage_4\", \"inss_stage_4S\"\n",
    "              ]]"
   ]
  },
  {
   "cell_type": "code",
   "execution_count": 9,
   "id": "cb89e39f",
   "metadata": {
    "ExecuteTime": {
     "end_time": "2024-03-24T20:11:32.814525Z",
     "start_time": "2024-03-24T20:11:32.810803Z"
    }
   },
   "outputs": [],
   "source": [
    "meta_X = meta_X.astype(\"double\")"
   ]
  },
  {
   "cell_type": "code",
   "execution_count": null,
   "id": "321811d4",
   "metadata": {},
   "outputs": [],
   "source": []
  },
  {
   "cell_type": "code",
   "execution_count": 12,
   "id": "420ed1da",
   "metadata": {
    "ExecuteTime": {
     "end_time": "2024-03-24T20:11:45.617399Z",
     "start_time": "2024-03-24T20:11:45.611855Z"
    }
   },
   "outputs": [],
   "source": [
    "X_train, X_test, y_train, y_test = train_test_split(meta_X, meta.class_label.astype(\"int\"), test_size=0.4, random_state=1234)"
   ]
  },
  {
   "cell_type": "code",
   "execution_count": 23,
   "id": "5073aaf9",
   "metadata": {
    "ExecuteTime": {
     "end_time": "2024-03-24T20:13:41.543976Z",
     "start_time": "2024-03-24T20:13:41.540163Z"
    }
   },
   "outputs": [],
   "source": [
    "scaler = StandardScaler()\n",
    "age_at_diagnosis = scaler.fit_transform(np.array(X_train.age_at_diagnosis).reshape(-1, 1))"
   ]
  },
  {
   "cell_type": "code",
   "execution_count": 25,
   "id": "53dc6ad2",
   "metadata": {
    "ExecuteTime": {
     "end_time": "2024-03-24T20:14:17.546947Z",
     "start_time": "2024-03-24T20:14:17.543381Z"
    }
   },
   "outputs": [],
   "source": [
    "X_train.age_at_diagnosis = age_at_diagnosis"
   ]
  },
  {
   "cell_type": "code",
   "execution_count": 26,
   "id": "0e17abaa",
   "metadata": {
    "ExecuteTime": {
     "end_time": "2024-03-24T20:14:19.951015Z",
     "start_time": "2024-03-24T20:14:19.931566Z"
    }
   },
   "outputs": [
    {
     "data": {
      "text/html": [
       "<div>\n",
       "<style scoped>\n",
       "    .dataframe tbody tr th:only-of-type {\n",
       "        vertical-align: middle;\n",
       "    }\n",
       "\n",
       "    .dataframe tbody tr th {\n",
       "        vertical-align: top;\n",
       "    }\n",
       "\n",
       "    .dataframe thead th {\n",
       "        text-align: right;\n",
       "    }\n",
       "</style>\n",
       "<table border=\"1\" class=\"dataframe\">\n",
       "  <thead>\n",
       "    <tr style=\"text-align: right;\">\n",
       "      <th></th>\n",
       "      <th>Sex</th>\n",
       "      <th>age_at_diagnosis</th>\n",
       "      <th>mycn_status</th>\n",
       "      <th>high_risk</th>\n",
       "      <th>inss_stage_1</th>\n",
       "      <th>inss_stage_2</th>\n",
       "      <th>inss_stage_3</th>\n",
       "      <th>inss_stage_4</th>\n",
       "      <th>inss_stage_4S</th>\n",
       "    </tr>\n",
       "    <tr>\n",
       "      <th>sampleId</th>\n",
       "      <th></th>\n",
       "      <th></th>\n",
       "      <th></th>\n",
       "      <th></th>\n",
       "      <th></th>\n",
       "      <th></th>\n",
       "      <th></th>\n",
       "      <th></th>\n",
       "      <th></th>\n",
       "    </tr>\n",
       "  </thead>\n",
       "  <tbody>\n",
       "    <tr>\n",
       "      <th>SEQC_NB268</th>\n",
       "      <td>1.0</td>\n",
       "      <td>2.849900</td>\n",
       "      <td>1.0</td>\n",
       "      <td>1.0</td>\n",
       "      <td>0.0</td>\n",
       "      <td>0.0</td>\n",
       "      <td>0.0</td>\n",
       "      <td>1.0</td>\n",
       "      <td>0.0</td>\n",
       "    </tr>\n",
       "    <tr>\n",
       "      <th>SEQC_NB305</th>\n",
       "      <td>0.0</td>\n",
       "      <td>-0.664979</td>\n",
       "      <td>0.0</td>\n",
       "      <td>0.0</td>\n",
       "      <td>0.0</td>\n",
       "      <td>0.0</td>\n",
       "      <td>0.0</td>\n",
       "      <td>0.0</td>\n",
       "      <td>1.0</td>\n",
       "    </tr>\n",
       "    <tr>\n",
       "      <th>SEQC_NB198</th>\n",
       "      <td>0.0</td>\n",
       "      <td>-0.287794</td>\n",
       "      <td>1.0</td>\n",
       "      <td>1.0</td>\n",
       "      <td>0.0</td>\n",
       "      <td>0.0</td>\n",
       "      <td>1.0</td>\n",
       "      <td>0.0</td>\n",
       "      <td>0.0</td>\n",
       "    </tr>\n",
       "    <tr>\n",
       "      <th>SEQC_NB377</th>\n",
       "      <td>1.0</td>\n",
       "      <td>0.642776</td>\n",
       "      <td>0.0</td>\n",
       "      <td>1.0</td>\n",
       "      <td>0.0</td>\n",
       "      <td>0.0</td>\n",
       "      <td>0.0</td>\n",
       "      <td>1.0</td>\n",
       "      <td>0.0</td>\n",
       "    </tr>\n",
       "    <tr>\n",
       "      <th>SEQC_NB216</th>\n",
       "      <td>1.0</td>\n",
       "      <td>-0.435548</td>\n",
       "      <td>0.0</td>\n",
       "      <td>0.0</td>\n",
       "      <td>1.0</td>\n",
       "      <td>0.0</td>\n",
       "      <td>0.0</td>\n",
       "      <td>0.0</td>\n",
       "      <td>0.0</td>\n",
       "    </tr>\n",
       "    <tr>\n",
       "      <th>...</th>\n",
       "      <td>...</td>\n",
       "      <td>...</td>\n",
       "      <td>...</td>\n",
       "      <td>...</td>\n",
       "      <td>...</td>\n",
       "      <td>...</td>\n",
       "      <td>...</td>\n",
       "      <td>...</td>\n",
       "      <td>...</td>\n",
       "    </tr>\n",
       "    <tr>\n",
       "      <th>SEQC_NB218</th>\n",
       "      <td>1.0</td>\n",
       "      <td>-0.668649</td>\n",
       "      <td>0.0</td>\n",
       "      <td>0.0</td>\n",
       "      <td>0.0</td>\n",
       "      <td>1.0</td>\n",
       "      <td>0.0</td>\n",
       "      <td>0.0</td>\n",
       "      <td>0.0</td>\n",
       "    </tr>\n",
       "    <tr>\n",
       "      <th>SEQC_NB244</th>\n",
       "      <td>1.0</td>\n",
       "      <td>-0.011560</td>\n",
       "      <td>0.0</td>\n",
       "      <td>1.0</td>\n",
       "      <td>0.0</td>\n",
       "      <td>0.0</td>\n",
       "      <td>0.0</td>\n",
       "      <td>1.0</td>\n",
       "      <td>0.0</td>\n",
       "    </tr>\n",
       "    <tr>\n",
       "      <th>SEQC_NB328</th>\n",
       "      <td>0.0</td>\n",
       "      <td>0.755656</td>\n",
       "      <td>1.0</td>\n",
       "      <td>1.0</td>\n",
       "      <td>0.0</td>\n",
       "      <td>0.0</td>\n",
       "      <td>0.0</td>\n",
       "      <td>1.0</td>\n",
       "      <td>0.0</td>\n",
       "    </tr>\n",
       "    <tr>\n",
       "      <th>SEQC_NB071</th>\n",
       "      <td>0.0</td>\n",
       "      <td>-0.675991</td>\n",
       "      <td>0.0</td>\n",
       "      <td>0.0</td>\n",
       "      <td>0.0</td>\n",
       "      <td>0.0</td>\n",
       "      <td>1.0</td>\n",
       "      <td>0.0</td>\n",
       "      <td>0.0</td>\n",
       "    </tr>\n",
       "    <tr>\n",
       "      <th>SEQC_NB345</th>\n",
       "      <td>1.0</td>\n",
       "      <td>-0.455738</td>\n",
       "      <td>0.0</td>\n",
       "      <td>0.0</td>\n",
       "      <td>1.0</td>\n",
       "      <td>0.0</td>\n",
       "      <td>0.0</td>\n",
       "      <td>0.0</td>\n",
       "      <td>0.0</td>\n",
       "    </tr>\n",
       "  </tbody>\n",
       "</table>\n",
       "<p>162 rows × 9 columns</p>\n",
       "</div>"
      ],
      "text/plain": [
       "            Sex  age_at_diagnosis  mycn_status  high_risk  inss_stage_1  \\\n",
       "sampleId                                                                  \n",
       "SEQC_NB268  1.0          2.849900          1.0        1.0           0.0   \n",
       "SEQC_NB305  0.0         -0.664979          0.0        0.0           0.0   \n",
       "SEQC_NB198  0.0         -0.287794          1.0        1.0           0.0   \n",
       "SEQC_NB377  1.0          0.642776          0.0        1.0           0.0   \n",
       "SEQC_NB216  1.0         -0.435548          0.0        0.0           1.0   \n",
       "...         ...               ...          ...        ...           ...   \n",
       "SEQC_NB218  1.0         -0.668649          0.0        0.0           0.0   \n",
       "SEQC_NB244  1.0         -0.011560          0.0        1.0           0.0   \n",
       "SEQC_NB328  0.0          0.755656          1.0        1.0           0.0   \n",
       "SEQC_NB071  0.0         -0.675991          0.0        0.0           0.0   \n",
       "SEQC_NB345  1.0         -0.455738          0.0        0.0           1.0   \n",
       "\n",
       "            inss_stage_2  inss_stage_3  inss_stage_4  inss_stage_4S  \n",
       "sampleId                                                             \n",
       "SEQC_NB268           0.0           0.0           1.0            0.0  \n",
       "SEQC_NB305           0.0           0.0           0.0            1.0  \n",
       "SEQC_NB198           0.0           1.0           0.0            0.0  \n",
       "SEQC_NB377           0.0           0.0           1.0            0.0  \n",
       "SEQC_NB216           0.0           0.0           0.0            0.0  \n",
       "...                  ...           ...           ...            ...  \n",
       "SEQC_NB218           1.0           0.0           0.0            0.0  \n",
       "SEQC_NB244           0.0           0.0           1.0            0.0  \n",
       "SEQC_NB328           0.0           0.0           1.0            0.0  \n",
       "SEQC_NB071           0.0           1.0           0.0            0.0  \n",
       "SEQC_NB345           0.0           0.0           0.0            0.0  \n",
       "\n",
       "[162 rows x 9 columns]"
      ]
     },
     "execution_count": 26,
     "metadata": {},
     "output_type": "execute_result"
    }
   ],
   "source": [
    "X_train"
   ]
  },
  {
   "cell_type": "code",
   "execution_count": 47,
   "id": "be6234bc",
   "metadata": {
    "ExecuteTime": {
     "end_time": "2024-03-24T20:51:41.932070Z",
     "start_time": "2024-03-24T20:51:40.321063Z"
    }
   },
   "outputs": [],
   "source": [
    "rf_classifier = RandomForestClassifier(n_estimators=1000, random_state=1234)\n",
    "rf_classifier.fit(X_train, y_train)\n",
    "y_pred = rf_classifier.predict(X_test.loc[:, X_train.columns])"
   ]
  },
  {
   "cell_type": "code",
   "execution_count": 48,
   "id": "ff0ff37b",
   "metadata": {
    "ExecuteTime": {
     "end_time": "2024-03-24T20:51:41.940796Z",
     "start_time": "2024-03-24T20:51:41.935187Z"
    }
   },
   "outputs": [],
   "source": [
    "accuracy = accuracy_score(y_test, y_pred)"
   ]
  },
  {
   "cell_type": "code",
   "execution_count": 49,
   "id": "9adffcd6",
   "metadata": {
    "ExecuteTime": {
     "end_time": "2024-03-24T20:51:47.286417Z",
     "start_time": "2024-03-24T20:51:47.281894Z"
    }
   },
   "outputs": [
    {
     "data": {
      "text/plain": [
       "0.9537037037037037"
      ]
     },
     "execution_count": 49,
     "metadata": {},
     "output_type": "execute_result"
    }
   ],
   "source": [
    "accuracy"
   ]
  },
  {
   "cell_type": "code",
   "execution_count": 33,
   "id": "90a2340f",
   "metadata": {
    "ExecuteTime": {
     "end_time": "2024-03-24T20:16:20.000973Z",
     "start_time": "2024-03-24T20:16:19.989739Z"
    }
   },
   "outputs": [
    {
     "name": "stdout",
     "output_type": "stream",
     "text": [
      "              precision    recall  f1-score   support\n",
      "\n",
      "           0       0.96      0.97      0.97        78\n",
      "           1       0.93      0.90      0.92        30\n",
      "\n",
      "    accuracy                           0.95       108\n",
      "   macro avg       0.95      0.94      0.94       108\n",
      "weighted avg       0.95      0.95      0.95       108\n",
      "\n"
     ]
    }
   ],
   "source": [
    "print(classification_report(y_test, y_pred))"
   ]
  },
  {
   "cell_type": "code",
   "execution_count": 34,
   "id": "2703ea6e",
   "metadata": {
    "ExecuteTime": {
     "end_time": "2024-03-24T20:16:41.571175Z",
     "start_time": "2024-03-24T20:16:41.470941Z"
    }
   },
   "outputs": [],
   "source": [
    "importances = rf_classifier.feature_importances_\n",
    "\n",
    "# Sort feature importances in descending order\n",
    "indices = np.argsort(importances)[::-1]"
   ]
  },
  {
   "cell_type": "code",
   "execution_count": 38,
   "id": "1ba4083e",
   "metadata": {
    "ExecuteTime": {
     "end_time": "2024-03-24T20:17:03.112232Z",
     "start_time": "2024-03-24T20:17:03.107646Z"
    }
   },
   "outputs": [
    {
     "name": "stdout",
     "output_type": "stream",
     "text": [
      "Feature ranking:\n",
      "1. high_risk: feature 3 (0.362682)\n",
      "2. inss_stage_4: feature 7 (0.219939)\n",
      "3. age_at_diagnosis: feature 1 (0.209805)\n",
      "4. mycn_status: feature 2 (0.073747)\n",
      "5. inss_stage_1: feature 4 (0.046569)\n",
      "6. inss_stage_3: feature 6 (0.031470)\n",
      "7. inss_stage_2: feature 5 (0.023123)\n",
      "8. Sex: feature 0 (0.020178)\n",
      "9. inss_stage_4S: feature 8 (0.012488)\n"
     ]
    }
   ],
   "source": [
    "# Print the feature ranking\n",
    "print(\"Feature ranking:\")\n",
    "for f in range(9):\n",
    "    print(\"%d. %s: feature %d (%f)\" % (f + 1, X_train.columns[indices[f]], indices[f], importances[indices[f]]))"
   ]
  },
  {
   "cell_type": "code",
   "execution_count": 40,
   "id": "e9ffd5e9",
   "metadata": {
    "ExecuteTime": {
     "end_time": "2024-03-24T20:17:29.058790Z",
     "start_time": "2024-03-24T20:17:28.826830Z"
    }
   },
   "outputs": [
    {
     "data": {
      "image/png": "[encoded data removed]",
      "text/plain": [
       "<Figure size 640x480 with 1 Axes>"
      ]
     },
     "metadata": {},
     "output_type": "display_data"
    }
   ],
   "source": [
    "plt.barh(X_train.columns[indices][range(9)][::-1], importances[indices][range(9)][::-1])\n",
    "plt.title(\"Permutation-based feature importance\")\n",
    "plt.xlabel(\"Importance\")\n",
    "plt.ylabel(\"Feature\")\n",
    "plt.show()"
   ]
  },
  {
   "cell_type": "code",
   "execution_count": 42,
   "id": "5fa3acb1",
   "metadata": {
    "ExecuteTime": {
     "end_time": "2024-03-24T20:19:31.256538Z",
     "start_time": "2024-03-24T20:19:31.240658Z"
    }
   },
   "outputs": [
    {
     "data": {
      "text/html": [
       "<div>\n",
       "<style scoped>\n",
       "    .dataframe tbody tr th:only-of-type {\n",
       "        vertical-align: middle;\n",
       "    }\n",
       "\n",
       "    .dataframe tbody tr th {\n",
       "        vertical-align: top;\n",
       "    }\n",
       "\n",
       "    .dataframe thead th {\n",
       "        text-align: right;\n",
       "    }\n",
       "</style>\n",
       "<table border=\"1\" class=\"dataframe\">\n",
       "  <thead>\n",
       "    <tr style=\"text-align: right;\">\n",
       "      <th>class_label</th>\n",
       "      <th>0</th>\n",
       "      <th>1</th>\n",
       "    </tr>\n",
       "    <tr>\n",
       "      <th>row_0</th>\n",
       "      <th></th>\n",
       "      <th></th>\n",
       "    </tr>\n",
       "  </thead>\n",
       "  <tbody>\n",
       "    <tr>\n",
       "      <th>0</th>\n",
       "      <td>76</td>\n",
       "      <td>3</td>\n",
       "    </tr>\n",
       "    <tr>\n",
       "      <th>1</th>\n",
       "      <td>2</td>\n",
       "      <td>27</td>\n",
       "    </tr>\n",
       "  </tbody>\n",
       "</table>\n",
       "</div>"
      ],
      "text/plain": [
       "class_label   0   1\n",
       "row_0              \n",
       "0            76   3\n",
       "1             2  27"
      ]
     },
     "execution_count": 42,
     "metadata": {},
     "output_type": "execute_result"
    }
   ],
   "source": [
    "pd.crosstab(y_pred, y_test)"
   ]
  },
  {
   "cell_type": "code",
   "execution_count": 41,
   "id": "513a7726",
   "metadata": {
    "ExecuteTime": {
     "end_time": "2024-03-24T20:19:21.432955Z",
     "start_time": "2024-03-24T20:19:21.412434Z"
    }
   },
   "outputs": [
    {
     "data": {
      "text/html": [
       "<div>\n",
       "<style scoped>\n",
       "    .dataframe tbody tr th:only-of-type {\n",
       "        vertical-align: middle;\n",
       "    }\n",
       "\n",
       "    .dataframe tbody tr th {\n",
       "        vertical-align: top;\n",
       "    }\n",
       "\n",
       "    .dataframe thead th {\n",
       "        text-align: right;\n",
       "    }\n",
       "</style>\n",
       "<table border=\"1\" class=\"dataframe\">\n",
       "  <thead>\n",
       "    <tr style=\"text-align: right;\">\n",
       "      <th>class_label</th>\n",
       "      <th>0</th>\n",
       "      <th>1</th>\n",
       "    </tr>\n",
       "    <tr>\n",
       "      <th>high_risk</th>\n",
       "      <th></th>\n",
       "      <th></th>\n",
       "    </tr>\n",
       "  </thead>\n",
       "  <tbody>\n",
       "    <tr>\n",
       "      <th>0</th>\n",
       "      <td>78</td>\n",
       "      <td>5</td>\n",
       "    </tr>\n",
       "    <tr>\n",
       "      <th>1</th>\n",
       "      <td>0</td>\n",
       "      <td>25</td>\n",
       "    </tr>\n",
       "  </tbody>\n",
       "</table>\n",
       "</div>"
      ],
      "text/plain": [
       "class_label   0   1\n",
       "high_risk          \n",
       "0            78   5\n",
       "1             0  25"
      ]
     },
     "execution_count": 41,
     "metadata": {},
     "output_type": "execute_result"
    }
   ],
   "source": [
    "pd.crosstab(meta.loc[y_test.index].high_risk, meta.loc[y_test.index].class_label)"
   ]
  },
  {
   "cell_type": "code",
   "execution_count": null,
   "id": "01c23900",
   "metadata": {},
   "outputs": [],
   "source": []
  },
  {
   "cell_type": "code",
   "execution_count": 43,
   "id": "fc0aaef3",
   "metadata": {
    "ExecuteTime": {
     "end_time": "2024-03-24T20:50:52.063442Z",
     "start_time": "2024-03-24T20:50:51.746423Z"
    }
   },
   "outputs": [],
   "source": [
    "import xgboost as xgb"
   ]
  },
  {
   "cell_type": "code",
   "execution_count": 50,
   "id": "55d6c1df",
   "metadata": {
    "ExecuteTime": {
     "end_time": "2024-03-24T20:52:59.473027Z",
     "start_time": "2024-03-24T20:52:59.469908Z"
    }
   },
   "outputs": [],
   "source": [
    "clf = xgb.XGBClassifier(random_state=1234)\n"
   ]
  },
  {
   "cell_type": "code",
   "execution_count": 51,
   "id": "ba3c6f47",
   "metadata": {
    "ExecuteTime": {
     "end_time": "2024-03-24T20:53:44.925331Z",
     "start_time": "2024-03-24T20:53:44.855236Z"
    }
   },
   "outputs": [
    {
     "data": {
      "text/html": [
       "<style>#sk-container-id-2 {color: black;background-color: white;}#sk-container-id-2 pre{padding: 0;}#sk-container-id-2 div.sk-toggleable {background-color: white;}#sk-container-id-2 label.sk-toggleable__label {cursor: pointer;display: block;width: 100%;margin-bottom: 0;padding: 0.3em;box-sizing: border-box;text-align: center;}#sk-container-id-2 label.sk-toggleable__label-arrow:before {content: \"▸\";float: left;margin-right: 0.25em;color: #696969;}#sk-container-id-2 label.sk-toggleable__label-arrow:hover:before {color: black;}#sk-container-id-2 div.sk-estimator:hover label.sk-toggleable__label-arrow:before {color: black;}#sk-container-id-2 div.sk-toggleable__content {max-height: 0;max-width: 0;overflow: hidden;text-align: left;background-color: #f0f8ff;}#sk-container-id-2 div.sk-toggleable__content pre {margin: 0.2em;color: black;border-radius: 0.25em;background-color: #f0f8ff;}#sk-container-id-2 input.sk-toggleable__control:checked~div.sk-toggleable__content {max-height: 200px;max-width: 100%;overflow: auto;}#sk-container-id-2 input.sk-toggleable__control:checked~label.sk-toggleable__label-arrow:before {content: \"▾\";}#sk-container-id-2 div.sk-estimator input.sk-toggleable__control:checked~label.sk-toggleable__label {background-color: #d4ebff;}#sk-container-id-2 div.sk-label input.sk-toggleable__control:checked~label.sk-toggleable__label {background-color: #d4ebff;}#sk-container-id-2 input.sk-hidden--visually {border: 0;clip: rect(1px 1px 1px 1px);clip: rect(1px, 1px, 1px, 1px);height: 1px;margin: -1px;overflow: hidden;padding: 0;position: absolute;width: 1px;}#sk-container-id-2 div.sk-estimator {font-family: monospace;background-color: #f0f8ff;border: 1px dotted black;border-radius: 0.25em;box-sizing: border-box;margin-bottom: 0.5em;}#sk-container-id-2 div.sk-estimator:hover {background-color: #d4ebff;}#sk-container-id-2 div.sk-parallel-item::after {content: \"\";width: 100%;border-bottom: 1px solid gray;flex-grow: 1;}#sk-container-id-2 div.sk-label:hover label.sk-toggleable__label {background-color: #d4ebff;}#sk-container-id-2 div.sk-serial::before {content: \"\";position: absolute;border-left: 1px solid gray;box-sizing: border-box;top: 0;bottom: 0;left: 50%;z-index: 0;}#sk-container-id-2 div.sk-serial {display: flex;flex-direction: column;align-items: center;background-color: white;padding-right: 0.2em;padding-left: 0.2em;position: relative;}#sk-container-id-2 div.sk-item {position: relative;z-index: 1;}#sk-container-id-2 div.sk-parallel {display: flex;align-items: stretch;justify-content: center;background-color: white;position: relative;}#sk-container-id-2 div.sk-item::before, #sk-container-id-2 div.sk-parallel-item::before {content: \"\";position: absolute;border-left: 1px solid gray;box-sizing: border-box;top: 0;bottom: 0;left: 50%;z-index: -1;}#sk-container-id-2 div.sk-parallel-item {display: flex;flex-direction: column;z-index: 1;position: relative;background-color: white;}#sk-container-id-2 div.sk-parallel-item:first-child::after {align-self: flex-end;width: 50%;}#sk-container-id-2 div.sk-parallel-item:last-child::after {align-self: flex-start;width: 50%;}#sk-container-id-2 div.sk-parallel-item:only-child::after {width: 0;}#sk-container-id-2 div.sk-dashed-wrapped {border: 1px dashed gray;margin: 0 0.4em 0.5em 0.4em;box-sizing: border-box;padding-bottom: 0.4em;background-color: white;}#sk-container-id-2 div.sk-label label {font-family: monospace;font-weight: bold;display: inline-block;line-height: 1.2em;}#sk-container-id-2 div.sk-label-container {text-align: center;}#sk-container-id-2 div.sk-container {/* jupyter's `normalize.less` sets `[hidden] { display: none; }` but bootstrap.min.css set `[hidden] { display: none !important; }` so we also need the `!important` here to be able to override the default hidden behavior on the sphinx rendered scikit-learn.org. See: https://github.com/scikit-learn/scikit-learn/issues/21755 */display: inline-block !important;position: relative;}#sk-container-id-2 div.sk-text-repr-fallback {display: none;}</style><div id=\"sk-container-id-2\" class=\"sk-top-container\"><div class=\"sk-text-repr-fallback\"><pre>XGBClassifier(base_score=None, booster=None, callbacks=None,\n",
       "              colsample_bylevel=None, colsample_bynode=None,\n",
       "              colsample_bytree=None, device=None, early_stopping_rounds=None,\n",
       "              enable_categorical=False, eval_metric=None, feature_types=None,\n",
       "              gamma=None, grow_policy=None, importance_type=None,\n",
       "              interaction_constraints=None, learning_rate=None, max_bin=None,\n",
       "              max_cat_threshold=None, max_cat_to_onehot=None,\n",
       "              max_delta_step=None, max_depth=None, max_leaves=None,\n",
       "              min_child_weight=None, missing=nan, monotone_constraints=None,\n",
       "              multi_strategy=None, n_estimators=None, n_jobs=None,\n",
       "              num_parallel_tree=None, random_state=1234, ...)</pre><b>In a Jupyter environment, please rerun this cell to show the HTML representation or trust the notebook. <br />On GitHub, the HTML representation is unable to render, please try loading this page with nbviewer.org.</b></div><div class=\"sk-container\" hidden><div class=\"sk-item\"><div class=\"sk-estimator sk-toggleable\"><input class=\"sk-toggleable__control sk-hidden--visually\" id=\"sk-estimator-id-2\" type=\"checkbox\" checked><label for=\"sk-estimator-id-2\" class=\"sk-toggleable__label sk-toggleable__label-arrow\">XGBClassifier</label><div class=\"sk-toggleable__content\"><pre>XGBClassifier(base_score=None, booster=None, callbacks=None,\n",
       "              colsample_bylevel=None, colsample_bynode=None,\n",
       "              colsample_bytree=None, device=None, early_stopping_rounds=None,\n",
       "              enable_categorical=False, eval_metric=None, feature_types=None,\n",
       "              gamma=None, grow_policy=None, importance_type=None,\n",
       "              interaction_constraints=None, learning_rate=None, max_bin=None,\n",
       "              max_cat_threshold=None, max_cat_to_onehot=None,\n",
       "              max_delta_step=None, max_depth=None, max_leaves=None,\n",
       "              min_child_weight=None, missing=nan, monotone_constraints=None,\n",
       "              multi_strategy=None, n_estimators=None, n_jobs=None,\n",
       "              num_parallel_tree=None, random_state=1234, ...)</pre></div></div></div></div></div>"
      ],
      "text/plain": [
       "XGBClassifier(base_score=None, booster=None, callbacks=None,\n",
       "              colsample_bylevel=None, colsample_bynode=None,\n",
       "              colsample_bytree=None, device=None, early_stopping_rounds=None,\n",
       "              enable_categorical=False, eval_metric=None, feature_types=None,\n",
       "              gamma=None, grow_policy=None, importance_type=None,\n",
       "              interaction_constraints=None, learning_rate=None, max_bin=None,\n",
       "              max_cat_threshold=None, max_cat_to_onehot=None,\n",
       "              max_delta_step=None, max_depth=None, max_leaves=None,\n",
       "              min_child_weight=None, missing=nan, monotone_constraints=None,\n",
       "              multi_strategy=None, n_estimators=None, n_jobs=None,\n",
       "              num_parallel_tree=None, random_state=1234, ...)"
      ]
     },
     "execution_count": 51,
     "metadata": {},
     "output_type": "execute_result"
    }
   ],
   "source": [
    "clf.fit(X_train, y_train)\n"
   ]
  },
  {
   "cell_type": "code",
   "execution_count": 52,
   "id": "891d1fe9",
   "metadata": {
    "ExecuteTime": {
     "end_time": "2024-03-24T20:53:45.755120Z",
     "start_time": "2024-03-24T20:53:45.746365Z"
    }
   },
   "outputs": [
    {
     "name": "stdout",
     "output_type": "stream",
     "text": [
      "Accuracy: 0.9537037037037037\n"
     ]
    }
   ],
   "source": [
    "y_pred = clf.predict(X_test)\n",
    "\n",
    "# Evaluate the model's performance\n",
    "accuracy = accuracy_score(y_test, y_pred)\n",
    "print(\"Accuracy:\", accuracy)"
   ]
  },
  {
   "cell_type": "code",
   "execution_count": 53,
   "id": "12b45713",
   "metadata": {
    "ExecuteTime": {
     "end_time": "2024-03-24T20:54:01.512882Z",
     "start_time": "2024-03-24T20:54:01.500922Z"
    }
   },
   "outputs": [
    {
     "name": "stdout",
     "output_type": "stream",
     "text": [
      "              precision    recall  f1-score   support\n",
      "\n",
      "           0       0.96      0.97      0.97        78\n",
      "           1       0.93      0.90      0.92        30\n",
      "\n",
      "    accuracy                           0.95       108\n",
      "   macro avg       0.95      0.94      0.94       108\n",
      "weighted avg       0.95      0.95      0.95       108\n",
      "\n"
     ]
    }
   ],
   "source": [
    "print(classification_report(y_test, y_pred))"
   ]
  },
  {
   "cell_type": "code",
   "execution_count": null,
   "id": "315b3790",
   "metadata": {},
   "outputs": [],
   "source": []
  },
  {
   "cell_type": "code",
   "execution_count": null,
   "id": "f0c07b7b",
   "metadata": {},
   "outputs": [],
   "source": []
  }
 ],
 "metadata": {
  "kernelspec": {
   "display_name": "Python 3 (ipykernel)",
   "language": "python",
   "name": "python3"
  },
  "language_info": {
   "codemirror_mode": {
    "name": "ipython",
    "version": 3
   },
   "file_extension": ".py",
   "mimetype": "text/x-python",
   "name": "python",
   "nbconvert_exporter": "python",
   "pygments_lexer": "ipython3",
   "version": "3.10.7"
  }
 },
 "nbformat": 4,
 "nbformat_minor": 5
}
