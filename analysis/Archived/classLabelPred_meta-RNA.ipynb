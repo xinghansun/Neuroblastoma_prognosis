{
 "cells": [
  {
   "cell_type": "code",
   "execution_count": 1,
   "id": "9f87386f",
   "metadata": {
    "ExecuteTime": {
     "end_time": "2024-03-26T14:29:04.279256Z",
     "start_time": "2024-03-26T14:29:02.841274Z"
    }
   },
   "outputs": [],
   "source": [
    "import gzip\n",
    "\n",
    "import pandas as pd\n",
    "import numpy as np\n",
    "\n",
    "from sklearn.model_selection import train_test_split\n",
    "from sklearn.preprocessing import MinMaxScaler, StandardScaler\n",
    "\n",
    "from matplotlib import pyplot as plt"
   ]
  },
  {
   "cell_type": "markdown",
   "id": "6f8050eb",
   "metadata": {},
   "source": [
    "# Preprocessing"
   ]
  },
  {
   "cell_type": "markdown",
   "id": "3aadae97",
   "metadata": {},
   "source": [
    "## Meta data"
   ]
  },
  {
   "cell_type": "code",
   "execution_count": 2,
   "id": "de7ec617",
   "metadata": {
    "ExecuteTime": {
     "end_time": "2024-03-26T14:29:04.289932Z",
     "start_time": "2024-03-26T14:29:04.283367Z"
    }
   },
   "outputs": [],
   "source": [
    "def read_geo_series_matrix(file_path):\n",
    "    cols = {}\n",
    "    with gzip.open(file_path, 'rt') as f:\n",
    "        for line in f:\n",
    "            if line.startswith(\"!Sample_title\"):\n",
    "                sampleId = [i.strip('\"') for i in line.split()[1:]]\n",
    "                cols[\"sampleId\"] = sampleId\n",
    "            elif line.startswith(\"!Sample_characteristics_ch1\"):\n",
    "                _ = line[28:].strip().strip('\"').split('\"\\t\"')\n",
    "                category = _[0].split(\": \")[0].replace(\" \", \"_\")\n",
    "                values = [i.split(\": \")[1] for i in _]\n",
    "                cols.update({category: values})\n",
    "    \n",
    "    return pd.DataFrame(cols)"
   ]
  },
  {
   "cell_type": "code",
   "execution_count": 3,
   "id": "3a03c6ab",
   "metadata": {
    "ExecuteTime": {
     "end_time": "2024-03-26T14:29:04.307157Z",
     "start_time": "2024-03-26T14:29:04.292363Z"
    }
   },
   "outputs": [
    {
     "data": {
      "text/plain": [
       "(498, 11)"
      ]
     },
     "execution_count": 3,
     "metadata": {},
     "output_type": "execute_result"
    }
   ],
   "source": [
    "meta = read_geo_series_matrix(\"../rawData/GSE49711_series_matrix.txt.gz\")\n",
    "meta.index = meta.sampleId\n",
    "meta.shape"
   ]
  },
  {
   "cell_type": "code",
   "execution_count": 4,
   "id": "046f633f",
   "metadata": {
    "ExecuteTime": {
     "end_time": "2024-03-26T14:29:04.317955Z",
     "start_time": "2024-03-26T14:29:04.311701Z"
    }
   },
   "outputs": [
    {
     "data": {
      "text/plain": [
       "(272, 11)"
      ]
     },
     "execution_count": 4,
     "metadata": {},
     "output_type": "execute_result"
    }
   ],
   "source": [
    "meta = meta.loc[meta.class_label.isin([\"0\", \"1\"])]\n",
    "meta.shape"
   ]
  },
  {
   "cell_type": "code",
   "execution_count": 5,
   "id": "d52624bb",
   "metadata": {
    "ExecuteTime": {
     "end_time": "2024-03-26T14:29:04.373649Z",
     "start_time": "2024-03-26T14:29:04.321911Z"
    }
   },
   "outputs": [
    {
     "data": {
      "text/html": [
       "<div>\n",
       "<style scoped>\n",
       "    .dataframe tbody tr th:only-of-type {\n",
       "        vertical-align: middle;\n",
       "    }\n",
       "\n",
       "    .dataframe tbody tr th {\n",
       "        vertical-align: top;\n",
       "    }\n",
       "\n",
       "    .dataframe thead th {\n",
       "        text-align: right;\n",
       "    }\n",
       "</style>\n",
       "<table border=\"1\" class=\"dataframe\">\n",
       "  <thead>\n",
       "    <tr style=\"text-align: right;\">\n",
       "      <th>class_label</th>\n",
       "      <th>0</th>\n",
       "      <th>1</th>\n",
       "    </tr>\n",
       "    <tr>\n",
       "      <th>inss_stage</th>\n",
       "      <th></th>\n",
       "      <th></th>\n",
       "    </tr>\n",
       "  </thead>\n",
       "  <tbody>\n",
       "    <tr>\n",
       "      <th>1</th>\n",
       "      <td>100</td>\n",
       "      <td>1</td>\n",
       "    </tr>\n",
       "    <tr>\n",
       "      <th>2</th>\n",
       "      <td>44</td>\n",
       "      <td>4</td>\n",
       "    </tr>\n",
       "    <tr>\n",
       "      <th>3</th>\n",
       "      <td>7</td>\n",
       "      <td>14</td>\n",
       "    </tr>\n",
       "    <tr>\n",
       "      <th>4</th>\n",
       "      <td>0</td>\n",
       "      <td>68</td>\n",
       "    </tr>\n",
       "    <tr>\n",
       "      <th>4S</th>\n",
       "      <td>30</td>\n",
       "      <td>4</td>\n",
       "    </tr>\n",
       "  </tbody>\n",
       "</table>\n",
       "</div>"
      ],
      "text/plain": [
       "class_label    0   1\n",
       "inss_stage          \n",
       "1            100   1\n",
       "2             44   4\n",
       "3              7  14\n",
       "4              0  68\n",
       "4S            30   4"
      ]
     },
     "execution_count": 5,
     "metadata": {},
     "output_type": "execute_result"
    }
   ],
   "source": [
    "pd.crosstab(meta.inss_stage, meta.class_label)"
   ]
  },
  {
   "cell_type": "code",
   "execution_count": 6,
   "id": "950a8a28",
   "metadata": {
    "ExecuteTime": {
     "end_time": "2024-03-26T14:29:04.397626Z",
     "start_time": "2024-03-26T14:29:04.378251Z"
    }
   },
   "outputs": [
    {
     "data": {
      "text/html": [
       "<div>\n",
       "<style scoped>\n",
       "    .dataframe tbody tr th:only-of-type {\n",
       "        vertical-align: middle;\n",
       "    }\n",
       "\n",
       "    .dataframe tbody tr th {\n",
       "        vertical-align: top;\n",
       "    }\n",
       "\n",
       "    .dataframe thead th {\n",
       "        text-align: right;\n",
       "    }\n",
       "</style>\n",
       "<table border=\"1\" class=\"dataframe\">\n",
       "  <thead>\n",
       "    <tr style=\"text-align: right;\">\n",
       "      <th>class_label</th>\n",
       "      <th>0</th>\n",
       "      <th>1</th>\n",
       "    </tr>\n",
       "    <tr>\n",
       "      <th>high_risk</th>\n",
       "      <th></th>\n",
       "      <th></th>\n",
       "    </tr>\n",
       "  </thead>\n",
       "  <tbody>\n",
       "    <tr>\n",
       "      <th>0</th>\n",
       "      <td>181</td>\n",
       "      <td>13</td>\n",
       "    </tr>\n",
       "    <tr>\n",
       "      <th>1</th>\n",
       "      <td>0</td>\n",
       "      <td>78</td>\n",
       "    </tr>\n",
       "  </tbody>\n",
       "</table>\n",
       "</div>"
      ],
      "text/plain": [
       "class_label    0   1\n",
       "high_risk           \n",
       "0            181  13\n",
       "1              0  78"
      ]
     },
     "execution_count": 6,
     "metadata": {},
     "output_type": "execute_result"
    }
   ],
   "source": [
    "pd.crosstab(meta.high_risk, meta.class_label)"
   ]
  },
  {
   "cell_type": "code",
   "execution_count": 7,
   "id": "115e30d2",
   "metadata": {
    "ExecuteTime": {
     "end_time": "2024-03-26T14:29:04.407434Z",
     "start_time": "2024-03-26T14:29:04.400725Z"
    }
   },
   "outputs": [],
   "source": [
    "meta.Sex.replace({\"M\":1, \"F\":0}, inplace=True)\n",
    "meta.replace({\"N/A\":np.nan}, inplace=True)"
   ]
  },
  {
   "cell_type": "code",
   "execution_count": 8,
   "id": "afde69ff",
   "metadata": {
    "ExecuteTime": {
     "end_time": "2024-03-26T14:29:04.415944Z",
     "start_time": "2024-03-26T14:29:04.410078Z"
    }
   },
   "outputs": [],
   "source": [
    "stage_dummy = pd.get_dummies(meta.inss_stage, prefix='inss_stage')\n",
    "meta = pd.concat([meta, stage_dummy], axis=1)"
   ]
  },
  {
   "cell_type": "code",
   "execution_count": 9,
   "id": "32eb9cd7",
   "metadata": {
    "ExecuteTime": {
     "end_time": "2024-03-26T14:29:04.423522Z",
     "start_time": "2024-03-26T14:29:04.418426Z"
    }
   },
   "outputs": [],
   "source": [
    "meta.dropna(inplace=True)"
   ]
  },
  {
   "cell_type": "code",
   "execution_count": 10,
   "id": "6cd3c21e",
   "metadata": {
    "ExecuteTime": {
     "end_time": "2024-03-26T14:29:04.433062Z",
     "start_time": "2024-03-26T14:29:04.429129Z"
    }
   },
   "outputs": [],
   "source": [
    "meta = meta[[\"Sex\", \"age_at_diagnosis\", \"mycn_status\", \"high_risk\", \n",
    "               \"inss_stage_1\", \"inss_stage_2\", \"inss_stage_3\", \"inss_stage_4\", \"inss_stage_4S\",\n",
    "               \"class_label\"\n",
    "              ]]"
   ]
  },
  {
   "cell_type": "code",
   "execution_count": 11,
   "id": "d61993ca",
   "metadata": {
    "ExecuteTime": {
     "end_time": "2024-03-26T14:29:04.438631Z",
     "start_time": "2024-03-26T14:29:04.435050Z"
    }
   },
   "outputs": [],
   "source": [
    "meta = meta.astype(\"double\")"
   ]
  },
  {
   "cell_type": "code",
   "execution_count": 12,
   "id": "6b209e2c",
   "metadata": {
    "ExecuteTime": {
     "end_time": "2024-03-26T14:29:04.457157Z",
     "start_time": "2024-03-26T14:29:04.440697Z"
    }
   },
   "outputs": [
    {
     "data": {
      "text/html": [
       "<div>\n",
       "<style scoped>\n",
       "    .dataframe tbody tr th:only-of-type {\n",
       "        vertical-align: middle;\n",
       "    }\n",
       "\n",
       "    .dataframe tbody tr th {\n",
       "        vertical-align: top;\n",
       "    }\n",
       "\n",
       "    .dataframe thead th {\n",
       "        text-align: right;\n",
       "    }\n",
       "</style>\n",
       "<table border=\"1\" class=\"dataframe\">\n",
       "  <thead>\n",
       "    <tr style=\"text-align: right;\">\n",
       "      <th></th>\n",
       "      <th>Sex</th>\n",
       "      <th>age_at_diagnosis</th>\n",
       "      <th>mycn_status</th>\n",
       "      <th>high_risk</th>\n",
       "      <th>inss_stage_1</th>\n",
       "      <th>inss_stage_2</th>\n",
       "      <th>inss_stage_3</th>\n",
       "      <th>inss_stage_4</th>\n",
       "      <th>inss_stage_4S</th>\n",
       "      <th>class_label</th>\n",
       "    </tr>\n",
       "    <tr>\n",
       "      <th>sampleId</th>\n",
       "      <th></th>\n",
       "      <th></th>\n",
       "      <th></th>\n",
       "      <th></th>\n",
       "      <th></th>\n",
       "      <th></th>\n",
       "      <th></th>\n",
       "      <th></th>\n",
       "      <th></th>\n",
       "      <th></th>\n",
       "    </tr>\n",
       "  </thead>\n",
       "  <tbody>\n",
       "    <tr>\n",
       "      <th>SEQC_NB001</th>\n",
       "      <td>1.0</td>\n",
       "      <td>987.0</td>\n",
       "      <td>0.0</td>\n",
       "      <td>1.0</td>\n",
       "      <td>0.0</td>\n",
       "      <td>0.0</td>\n",
       "      <td>0.0</td>\n",
       "      <td>1.0</td>\n",
       "      <td>0.0</td>\n",
       "      <td>1.0</td>\n",
       "    </tr>\n",
       "    <tr>\n",
       "      <th>SEQC_NB002</th>\n",
       "      <td>1.0</td>\n",
       "      <td>1808.0</td>\n",
       "      <td>0.0</td>\n",
       "      <td>1.0</td>\n",
       "      <td>0.0</td>\n",
       "      <td>0.0</td>\n",
       "      <td>0.0</td>\n",
       "      <td>1.0</td>\n",
       "      <td>0.0</td>\n",
       "      <td>1.0</td>\n",
       "    </tr>\n",
       "    <tr>\n",
       "      <th>SEQC_NB003</th>\n",
       "      <td>0.0</td>\n",
       "      <td>625.0</td>\n",
       "      <td>1.0</td>\n",
       "      <td>1.0</td>\n",
       "      <td>0.0</td>\n",
       "      <td>0.0</td>\n",
       "      <td>0.0</td>\n",
       "      <td>1.0</td>\n",
       "      <td>0.0</td>\n",
       "      <td>1.0</td>\n",
       "    </tr>\n",
       "    <tr>\n",
       "      <th>SEQC_NB005</th>\n",
       "      <td>0.0</td>\n",
       "      <td>536.0</td>\n",
       "      <td>1.0</td>\n",
       "      <td>1.0</td>\n",
       "      <td>0.0</td>\n",
       "      <td>0.0</td>\n",
       "      <td>0.0</td>\n",
       "      <td>1.0</td>\n",
       "      <td>0.0</td>\n",
       "      <td>1.0</td>\n",
       "    </tr>\n",
       "    <tr>\n",
       "      <th>SEQC_NB006</th>\n",
       "      <td>1.0</td>\n",
       "      <td>147.0</td>\n",
       "      <td>0.0</td>\n",
       "      <td>0.0</td>\n",
       "      <td>0.0</td>\n",
       "      <td>0.0</td>\n",
       "      <td>0.0</td>\n",
       "      <td>0.0</td>\n",
       "      <td>1.0</td>\n",
       "      <td>0.0</td>\n",
       "    </tr>\n",
       "  </tbody>\n",
       "</table>\n",
       "</div>"
      ],
      "text/plain": [
       "            Sex  age_at_diagnosis  mycn_status  high_risk  inss_stage_1  \\\n",
       "sampleId                                                                  \n",
       "SEQC_NB001  1.0             987.0          0.0        1.0           0.0   \n",
       "SEQC_NB002  1.0            1808.0          0.0        1.0           0.0   \n",
       "SEQC_NB003  0.0             625.0          1.0        1.0           0.0   \n",
       "SEQC_NB005  0.0             536.0          1.0        1.0           0.0   \n",
       "SEQC_NB006  1.0             147.0          0.0        0.0           0.0   \n",
       "\n",
       "            inss_stage_2  inss_stage_3  inss_stage_4  inss_stage_4S  \\\n",
       "sampleId                                                              \n",
       "SEQC_NB001           0.0           0.0           1.0            0.0   \n",
       "SEQC_NB002           0.0           0.0           1.0            0.0   \n",
       "SEQC_NB003           0.0           0.0           1.0            0.0   \n",
       "SEQC_NB005           0.0           0.0           1.0            0.0   \n",
       "SEQC_NB006           0.0           0.0           0.0            1.0   \n",
       "\n",
       "            class_label  \n",
       "sampleId                 \n",
       "SEQC_NB001          1.0  \n",
       "SEQC_NB002          1.0  \n",
       "SEQC_NB003          1.0  \n",
       "SEQC_NB005          1.0  \n",
       "SEQC_NB006          0.0  "
      ]
     },
     "execution_count": 12,
     "metadata": {},
     "output_type": "execute_result"
    }
   ],
   "source": [
    "meta.head()"
   ]
  },
  {
   "cell_type": "code",
   "execution_count": null,
   "id": "2fbafb6a",
   "metadata": {},
   "outputs": [],
   "source": []
  },
  {
   "cell_type": "markdown",
   "id": "196ae431",
   "metadata": {},
   "source": [
    "## Gene level"
   ]
  },
  {
   "cell_type": "code",
   "execution_count": 13,
   "id": "471e3f5d",
   "metadata": {
    "ExecuteTime": {
     "end_time": "2024-03-26T14:29:09.395745Z",
     "start_time": "2024-03-26T14:29:04.460116Z"
    }
   },
   "outputs": [],
   "source": [
    "rna = pd.read_table(\"../rawData/GSE49711_SEQC_NB_TAV_G_log2.final.txt.gz\")\n",
    "rna = rna[~ rna.Gene.str.contains(\"[a-z]\")]\n",
    "rna.drop([\"Gene_set\",\"NCBI_gene_ID\",\"RefSeq_transcript_ID\",\"Chromosome\",\"Strand\",\"Start\",\"End\"], axis=1, inplace=True)\n",
    "X = rna.iloc[:,1:].transpose()\n",
    "X.columns = rna.Gene"
   ]
  },
  {
   "cell_type": "code",
   "execution_count": 14,
   "id": "f52bdc51",
   "metadata": {
    "ExecuteTime": {
     "end_time": "2024-03-26T14:29:09.444217Z",
     "start_time": "2024-03-26T14:29:09.400378Z"
    }
   },
   "outputs": [],
   "source": [
    "X = X.loc[meta.index] # keep only samples with valid Ys"
   ]
  },
  {
   "cell_type": "code",
   "execution_count": 15,
   "id": "aace9141",
   "metadata": {
    "ExecuteTime": {
     "end_time": "2024-03-26T14:29:09.484611Z",
     "start_time": "2024-03-26T14:29:09.447373Z"
    }
   },
   "outputs": [],
   "source": [
    "X_train, X_test, y_train, y_test = train_test_split(X, meta.class_label.astype(\"int\"), test_size=0.3, random_state=1234)"
   ]
  },
  {
   "cell_type": "code",
   "execution_count": null,
   "id": "baaa8d1a",
   "metadata": {},
   "outputs": [],
   "source": []
  },
  {
   "cell_type": "markdown",
   "id": "248bb4de",
   "metadata": {},
   "source": [
    "# QC"
   ]
  },
  {
   "cell_type": "code",
   "execution_count": 16,
   "id": "aeb04316",
   "metadata": {
    "ExecuteTime": {
     "end_time": "2024-03-26T14:29:09.740503Z",
     "start_time": "2024-03-26T14:29:09.487591Z"
    }
   },
   "outputs": [
    {
     "data": {
      "text/plain": [
       "<Axes: >"
      ]
     },
     "execution_count": 16,
     "metadata": {},
     "output_type": "execute_result"
    },
    {
     "data": {
      "image/png": "[encoded data removed]",
      "text/plain": [
       "<Figure size 640x480 with 1 Axes>"
      ]
     },
     "metadata": {},
     "output_type": "display_data"
    }
   ],
   "source": [
    "(X_train == 0).sum(axis=1).hist() # per-sample expression"
   ]
  },
  {
   "cell_type": "code",
   "execution_count": 17,
   "id": "6177e57b",
   "metadata": {
    "ExecuteTime": {
     "end_time": "2024-03-26T14:29:10.468620Z",
     "start_time": "2024-03-26T14:29:09.742782Z"
    }
   },
   "outputs": [
    {
     "data": {
      "text/plain": [
       "<Axes: >"
      ]
     },
     "execution_count": 17,
     "metadata": {},
     "output_type": "execute_result"
    },
    {
     "data": {
      "image/png": "[encoded data removed]",
      "text/plain": [
       "<Figure size 640x480 with 1 Axes>"
      ]
     },
     "metadata": {},
     "output_type": "display_data"
    }
   ],
   "source": [
    "X_train.median().hist(bins=100)"
   ]
  },
  {
   "cell_type": "code",
   "execution_count": 18,
   "id": "03d99444",
   "metadata": {
    "ExecuteTime": {
     "end_time": "2024-03-26T14:29:10.828033Z",
     "start_time": "2024-03-26T14:29:10.471123Z"
    }
   },
   "outputs": [],
   "source": [
    "X_train = X_train.loc[:, X_train.median() > 5]"
   ]
  },
  {
   "cell_type": "code",
   "execution_count": 19,
   "id": "5020b4d7",
   "metadata": {
    "ExecuteTime": {
     "end_time": "2024-03-26T14:29:10.838472Z",
     "start_time": "2024-03-26T14:29:10.832535Z"
    }
   },
   "outputs": [
    {
     "data": {
      "text/plain": [
       "(189, 17706)"
      ]
     },
     "execution_count": 19,
     "metadata": {},
     "output_type": "execute_result"
    }
   ],
   "source": [
    "X_train.shape"
   ]
  },
  {
   "cell_type": "code",
   "execution_count": 20,
   "id": "377b7688",
   "metadata": {
    "ExecuteTime": {
     "end_time": "2024-03-26T14:29:10.875500Z",
     "start_time": "2024-03-26T14:29:10.840923Z"
    }
   },
   "outputs": [
    {
     "data": {
      "text/html": [
       "<div>\n",
       "<style scoped>\n",
       "    .dataframe tbody tr th:only-of-type {\n",
       "        vertical-align: middle;\n",
       "    }\n",
       "\n",
       "    .dataframe tbody tr th {\n",
       "        vertical-align: top;\n",
       "    }\n",
       "\n",
       "    .dataframe thead th {\n",
       "        text-align: right;\n",
       "    }\n",
       "</style>\n",
       "<table border=\"1\" class=\"dataframe\">\n",
       "  <thead>\n",
       "    <tr style=\"text-align: right;\">\n",
       "      <th>Gene</th>\n",
       "      <th>A1BGAS</th>\n",
       "      <th>A2BP1</th>\n",
       "      <th>A2LD1</th>\n",
       "      <th>A2M</th>\n",
       "      <th>A2ML1</th>\n",
       "      <th>A2MP1</th>\n",
       "      <th>A4GALT</th>\n",
       "      <th>A4GNT</th>\n",
       "      <th>AAAS</th>\n",
       "      <th>AACS</th>\n",
       "      <th>...</th>\n",
       "      <th>ZWILCH</th>\n",
       "      <th>ZWINT</th>\n",
       "      <th>ZXDA</th>\n",
       "      <th>ZXDB</th>\n",
       "      <th>ZXDC</th>\n",
       "      <th>ZYG11A</th>\n",
       "      <th>ZYG11B</th>\n",
       "      <th>ZYX</th>\n",
       "      <th>ZZEF1</th>\n",
       "      <th>ZZZ3</th>\n",
       "    </tr>\n",
       "    <tr>\n",
       "      <th>sampleId</th>\n",
       "      <th></th>\n",
       "      <th></th>\n",
       "      <th></th>\n",
       "      <th></th>\n",
       "      <th></th>\n",
       "      <th></th>\n",
       "      <th></th>\n",
       "      <th></th>\n",
       "      <th></th>\n",
       "      <th></th>\n",
       "      <th></th>\n",
       "      <th></th>\n",
       "      <th></th>\n",
       "      <th></th>\n",
       "      <th></th>\n",
       "      <th></th>\n",
       "      <th></th>\n",
       "      <th></th>\n",
       "      <th></th>\n",
       "      <th></th>\n",
       "      <th></th>\n",
       "    </tr>\n",
       "  </thead>\n",
       "  <tbody>\n",
       "    <tr>\n",
       "      <th>SEQC_NB096</th>\n",
       "      <td>16.1434</td>\n",
       "      <td>19.0748</td>\n",
       "      <td>15.2934</td>\n",
       "      <td>20.7683</td>\n",
       "      <td>11.5196</td>\n",
       "      <td>0.0000</td>\n",
       "      <td>14.7459</td>\n",
       "      <td>11.5679</td>\n",
       "      <td>19.8594</td>\n",
       "      <td>18.6028</td>\n",
       "      <td>...</td>\n",
       "      <td>18.9712</td>\n",
       "      <td>19.0694</td>\n",
       "      <td>14.8084</td>\n",
       "      <td>15.7586</td>\n",
       "      <td>18.6447</td>\n",
       "      <td>8.6691</td>\n",
       "      <td>19.1588</td>\n",
       "      <td>19.9347</td>\n",
       "      <td>19.0222</td>\n",
       "      <td>18.5647</td>\n",
       "    </tr>\n",
       "    <tr>\n",
       "      <th>SEQC_NB171</th>\n",
       "      <td>16.6942</td>\n",
       "      <td>19.3659</td>\n",
       "      <td>16.2770</td>\n",
       "      <td>20.4752</td>\n",
       "      <td>11.3862</td>\n",
       "      <td>0.0000</td>\n",
       "      <td>14.6333</td>\n",
       "      <td>0.0000</td>\n",
       "      <td>19.3421</td>\n",
       "      <td>17.6418</td>\n",
       "      <td>...</td>\n",
       "      <td>18.4411</td>\n",
       "      <td>17.2522</td>\n",
       "      <td>15.3770</td>\n",
       "      <td>16.3842</td>\n",
       "      <td>17.5520</td>\n",
       "      <td>8.2163</td>\n",
       "      <td>19.8668</td>\n",
       "      <td>19.5434</td>\n",
       "      <td>19.2513</td>\n",
       "      <td>18.5950</td>\n",
       "    </tr>\n",
       "    <tr>\n",
       "      <th>SEQC_NB269</th>\n",
       "      <td>16.5818</td>\n",
       "      <td>14.1723</td>\n",
       "      <td>14.8611</td>\n",
       "      <td>21.1105</td>\n",
       "      <td>0.0000</td>\n",
       "      <td>0.0000</td>\n",
       "      <td>16.0039</td>\n",
       "      <td>11.6946</td>\n",
       "      <td>19.7536</td>\n",
       "      <td>18.1755</td>\n",
       "      <td>...</td>\n",
       "      <td>18.9633</td>\n",
       "      <td>19.0551</td>\n",
       "      <td>15.3910</td>\n",
       "      <td>16.7814</td>\n",
       "      <td>18.5558</td>\n",
       "      <td>12.1821</td>\n",
       "      <td>19.2358</td>\n",
       "      <td>20.5655</td>\n",
       "      <td>18.6922</td>\n",
       "      <td>18.7672</td>\n",
       "    </tr>\n",
       "    <tr>\n",
       "      <th>SEQC_NB049</th>\n",
       "      <td>16.7387</td>\n",
       "      <td>18.7599</td>\n",
       "      <td>15.1532</td>\n",
       "      <td>22.9345</td>\n",
       "      <td>12.7586</td>\n",
       "      <td>12.7942</td>\n",
       "      <td>16.7859</td>\n",
       "      <td>11.4065</td>\n",
       "      <td>19.4793</td>\n",
       "      <td>17.4337</td>\n",
       "      <td>...</td>\n",
       "      <td>17.3081</td>\n",
       "      <td>16.8487</td>\n",
       "      <td>15.0145</td>\n",
       "      <td>16.8378</td>\n",
       "      <td>18.2700</td>\n",
       "      <td>11.0086</td>\n",
       "      <td>20.2806</td>\n",
       "      <td>20.5645</td>\n",
       "      <td>19.2627</td>\n",
       "      <td>19.1636</td>\n",
       "    </tr>\n",
       "    <tr>\n",
       "      <th>SEQC_NB172</th>\n",
       "      <td>16.2936</td>\n",
       "      <td>17.7391</td>\n",
       "      <td>14.2521</td>\n",
       "      <td>20.8566</td>\n",
       "      <td>0.0000</td>\n",
       "      <td>11.6096</td>\n",
       "      <td>17.2614</td>\n",
       "      <td>11.4280</td>\n",
       "      <td>19.6679</td>\n",
       "      <td>18.7213</td>\n",
       "      <td>...</td>\n",
       "      <td>17.9166</td>\n",
       "      <td>18.0842</td>\n",
       "      <td>14.3071</td>\n",
       "      <td>15.9978</td>\n",
       "      <td>17.8533</td>\n",
       "      <td>9.1085</td>\n",
       "      <td>19.6168</td>\n",
       "      <td>20.0779</td>\n",
       "      <td>19.0250</td>\n",
       "      <td>19.0993</td>\n",
       "    </tr>\n",
       "    <tr>\n",
       "      <th>...</th>\n",
       "      <td>...</td>\n",
       "      <td>...</td>\n",
       "      <td>...</td>\n",
       "      <td>...</td>\n",
       "      <td>...</td>\n",
       "      <td>...</td>\n",
       "      <td>...</td>\n",
       "      <td>...</td>\n",
       "      <td>...</td>\n",
       "      <td>...</td>\n",
       "      <td>...</td>\n",
       "      <td>...</td>\n",
       "      <td>...</td>\n",
       "      <td>...</td>\n",
       "      <td>...</td>\n",
       "      <td>...</td>\n",
       "      <td>...</td>\n",
       "      <td>...</td>\n",
       "      <td>...</td>\n",
       "      <td>...</td>\n",
       "      <td>...</td>\n",
       "    </tr>\n",
       "    <tr>\n",
       "      <th>SEQC_NB218</th>\n",
       "      <td>17.2790</td>\n",
       "      <td>18.4650</td>\n",
       "      <td>14.6535</td>\n",
       "      <td>20.3641</td>\n",
       "      <td>13.4018</td>\n",
       "      <td>0.0000</td>\n",
       "      <td>14.5823</td>\n",
       "      <td>11.6175</td>\n",
       "      <td>20.3679</td>\n",
       "      <td>18.9736</td>\n",
       "      <td>...</td>\n",
       "      <td>18.4607</td>\n",
       "      <td>18.7860</td>\n",
       "      <td>14.6715</td>\n",
       "      <td>16.2595</td>\n",
       "      <td>18.8309</td>\n",
       "      <td>10.5602</td>\n",
       "      <td>19.9761</td>\n",
       "      <td>20.0579</td>\n",
       "      <td>19.3179</td>\n",
       "      <td>18.6212</td>\n",
       "    </tr>\n",
       "    <tr>\n",
       "      <th>SEQC_NB244</th>\n",
       "      <td>17.2562</td>\n",
       "      <td>18.8896</td>\n",
       "      <td>15.7909</td>\n",
       "      <td>22.0597</td>\n",
       "      <td>10.9153</td>\n",
       "      <td>11.1139</td>\n",
       "      <td>16.4155</td>\n",
       "      <td>11.7244</td>\n",
       "      <td>19.3001</td>\n",
       "      <td>18.0834</td>\n",
       "      <td>...</td>\n",
       "      <td>17.0470</td>\n",
       "      <td>16.1998</td>\n",
       "      <td>15.2354</td>\n",
       "      <td>16.8942</td>\n",
       "      <td>18.4276</td>\n",
       "      <td>12.9273</td>\n",
       "      <td>19.9850</td>\n",
       "      <td>21.0383</td>\n",
       "      <td>19.1075</td>\n",
       "      <td>18.5479</td>\n",
       "    </tr>\n",
       "    <tr>\n",
       "      <th>SEQC_NB328</th>\n",
       "      <td>16.6707</td>\n",
       "      <td>18.9982</td>\n",
       "      <td>13.2940</td>\n",
       "      <td>18.0203</td>\n",
       "      <td>11.4796</td>\n",
       "      <td>0.0000</td>\n",
       "      <td>13.2410</td>\n",
       "      <td>0.0000</td>\n",
       "      <td>20.2103</td>\n",
       "      <td>19.1887</td>\n",
       "      <td>...</td>\n",
       "      <td>18.7715</td>\n",
       "      <td>19.4974</td>\n",
       "      <td>14.9767</td>\n",
       "      <td>16.5994</td>\n",
       "      <td>18.1310</td>\n",
       "      <td>12.3963</td>\n",
       "      <td>19.6283</td>\n",
       "      <td>19.0428</td>\n",
       "      <td>18.5762</td>\n",
       "      <td>19.4349</td>\n",
       "    </tr>\n",
       "    <tr>\n",
       "      <th>SEQC_NB071</th>\n",
       "      <td>16.3514</td>\n",
       "      <td>20.4639</td>\n",
       "      <td>15.1518</td>\n",
       "      <td>20.9448</td>\n",
       "      <td>13.1729</td>\n",
       "      <td>12.0765</td>\n",
       "      <td>15.2849</td>\n",
       "      <td>10.7249</td>\n",
       "      <td>19.5692</td>\n",
       "      <td>17.7931</td>\n",
       "      <td>...</td>\n",
       "      <td>18.2094</td>\n",
       "      <td>16.5523</td>\n",
       "      <td>15.0629</td>\n",
       "      <td>16.6580</td>\n",
       "      <td>18.4442</td>\n",
       "      <td>8.8091</td>\n",
       "      <td>20.1446</td>\n",
       "      <td>20.4357</td>\n",
       "      <td>19.6406</td>\n",
       "      <td>19.0869</td>\n",
       "    </tr>\n",
       "    <tr>\n",
       "      <th>SEQC_NB345</th>\n",
       "      <td>16.5875</td>\n",
       "      <td>18.8393</td>\n",
       "      <td>15.0234</td>\n",
       "      <td>21.8447</td>\n",
       "      <td>11.1479</td>\n",
       "      <td>13.0898</td>\n",
       "      <td>15.8165</td>\n",
       "      <td>11.1404</td>\n",
       "      <td>19.8066</td>\n",
       "      <td>18.4988</td>\n",
       "      <td>...</td>\n",
       "      <td>18.1294</td>\n",
       "      <td>17.5843</td>\n",
       "      <td>14.0443</td>\n",
       "      <td>15.8474</td>\n",
       "      <td>18.3536</td>\n",
       "      <td>11.1821</td>\n",
       "      <td>20.1971</td>\n",
       "      <td>20.5426</td>\n",
       "      <td>19.5997</td>\n",
       "      <td>18.8631</td>\n",
       "    </tr>\n",
       "  </tbody>\n",
       "</table>\n",
       "<p>189 rows × 17706 columns</p>\n",
       "</div>"
      ],
      "text/plain": [
       "Gene         A1BGAS    A2BP1    A2LD1      A2M    A2ML1    A2MP1   A4GALT  \\\n",
       "sampleId                                                                    \n",
       "SEQC_NB096  16.1434  19.0748  15.2934  20.7683  11.5196   0.0000  14.7459   \n",
       "SEQC_NB171  16.6942  19.3659  16.2770  20.4752  11.3862   0.0000  14.6333   \n",
       "SEQC_NB269  16.5818  14.1723  14.8611  21.1105   0.0000   0.0000  16.0039   \n",
       "SEQC_NB049  16.7387  18.7599  15.1532  22.9345  12.7586  12.7942  16.7859   \n",
       "SEQC_NB172  16.2936  17.7391  14.2521  20.8566   0.0000  11.6096  17.2614   \n",
       "...             ...      ...      ...      ...      ...      ...      ...   \n",
       "SEQC_NB218  17.2790  18.4650  14.6535  20.3641  13.4018   0.0000  14.5823   \n",
       "SEQC_NB244  17.2562  18.8896  15.7909  22.0597  10.9153  11.1139  16.4155   \n",
       "SEQC_NB328  16.6707  18.9982  13.2940  18.0203  11.4796   0.0000  13.2410   \n",
       "SEQC_NB071  16.3514  20.4639  15.1518  20.9448  13.1729  12.0765  15.2849   \n",
       "SEQC_NB345  16.5875  18.8393  15.0234  21.8447  11.1479  13.0898  15.8165   \n",
       "\n",
       "Gene          A4GNT     AAAS     AACS  ...   ZWILCH    ZWINT     ZXDA  \\\n",
       "sampleId                               ...                              \n",
       "SEQC_NB096  11.5679  19.8594  18.6028  ...  18.9712  19.0694  14.8084   \n",
       "SEQC_NB171   0.0000  19.3421  17.6418  ...  18.4411  17.2522  15.3770   \n",
       "SEQC_NB269  11.6946  19.7536  18.1755  ...  18.9633  19.0551  15.3910   \n",
       "SEQC_NB049  11.4065  19.4793  17.4337  ...  17.3081  16.8487  15.0145   \n",
       "SEQC_NB172  11.4280  19.6679  18.7213  ...  17.9166  18.0842  14.3071   \n",
       "...             ...      ...      ...  ...      ...      ...      ...   \n",
       "SEQC_NB218  11.6175  20.3679  18.9736  ...  18.4607  18.7860  14.6715   \n",
       "SEQC_NB244  11.7244  19.3001  18.0834  ...  17.0470  16.1998  15.2354   \n",
       "SEQC_NB328   0.0000  20.2103  19.1887  ...  18.7715  19.4974  14.9767   \n",
       "SEQC_NB071  10.7249  19.5692  17.7931  ...  18.2094  16.5523  15.0629   \n",
       "SEQC_NB345  11.1404  19.8066  18.4988  ...  18.1294  17.5843  14.0443   \n",
       "\n",
       "Gene           ZXDB     ZXDC   ZYG11A   ZYG11B      ZYX    ZZEF1     ZZZ3  \n",
       "sampleId                                                                   \n",
       "SEQC_NB096  15.7586  18.6447   8.6691  19.1588  19.9347  19.0222  18.5647  \n",
       "SEQC_NB171  16.3842  17.5520   8.2163  19.8668  19.5434  19.2513  18.5950  \n",
       "SEQC_NB269  16.7814  18.5558  12.1821  19.2358  20.5655  18.6922  18.7672  \n",
       "SEQC_NB049  16.8378  18.2700  11.0086  20.2806  20.5645  19.2627  19.1636  \n",
       "SEQC_NB172  15.9978  17.8533   9.1085  19.6168  20.0779  19.0250  19.0993  \n",
       "...             ...      ...      ...      ...      ...      ...      ...  \n",
       "SEQC_NB218  16.2595  18.8309  10.5602  19.9761  20.0579  19.3179  18.6212  \n",
       "SEQC_NB244  16.8942  18.4276  12.9273  19.9850  21.0383  19.1075  18.5479  \n",
       "SEQC_NB328  16.5994  18.1310  12.3963  19.6283  19.0428  18.5762  19.4349  \n",
       "SEQC_NB071  16.6580  18.4442   8.8091  20.1446  20.4357  19.6406  19.0869  \n",
       "SEQC_NB345  15.8474  18.3536  11.1821  20.1971  20.5426  19.5997  18.8631  \n",
       "\n",
       "[189 rows x 17706 columns]"
      ]
     },
     "execution_count": 20,
     "metadata": {},
     "output_type": "execute_result"
    }
   ],
   "source": [
    "X_train"
   ]
  },
  {
   "cell_type": "code",
   "execution_count": 21,
   "id": "88515902",
   "metadata": {
    "ExecuteTime": {
     "end_time": "2024-03-26T14:29:11.194154Z",
     "start_time": "2024-03-26T14:29:10.878578Z"
    }
   },
   "outputs": [],
   "source": [
    "scaler = StandardScaler()\n",
    "X_train_scaled = scaler.fit_transform(X_train)\n",
    "X_train_scaled = pd.DataFrame(X_train_scaled, index=X_train.index, columns=X_train.columns)"
   ]
  },
  {
   "cell_type": "code",
   "execution_count": 22,
   "id": "985e3d9b",
   "metadata": {
    "ExecuteTime": {
     "end_time": "2024-03-26T14:29:11.350547Z",
     "start_time": "2024-03-26T14:29:11.196740Z"
    }
   },
   "outputs": [],
   "source": [
    "X_test_scaled = scaler.transform(X_test.loc[:, X_train.columns])\n",
    "X_test_scaled = pd.DataFrame(X_test_scaled, index=X_test.index, columns=X_train.columns)"
   ]
  },
  {
   "cell_type": "code",
   "execution_count": null,
   "id": "e632a0de",
   "metadata": {},
   "outputs": [],
   "source": []
  },
  {
   "cell_type": "code",
   "execution_count": null,
   "id": "848bbca7",
   "metadata": {
    "ExecuteTime": {
     "end_time": "2024-03-24T21:14:29.922489Z",
     "start_time": "2024-03-24T21:14:29.918939Z"
    }
   },
   "outputs": [],
   "source": []
  },
  {
   "cell_type": "code",
   "execution_count": 23,
   "id": "fd02bd68",
   "metadata": {
    "ExecuteTime": {
     "end_time": "2024-03-26T14:29:11.358971Z",
     "start_time": "2024-03-26T14:29:11.352969Z"
    }
   },
   "outputs": [],
   "source": [
    "meta_train = meta.loc[X_train.index]\n",
    "age_scaler = StandardScaler()\n",
    "age_at_diagnosis = age_scaler.fit_transform(np.array(meta_train.age_at_diagnosis).reshape(-1, 1))\n",
    "meta_train.age_at_diagnosis = age_at_diagnosis\n",
    "meta_train.drop(\"class_label\", axis = 1, inplace=True)"
   ]
  },
  {
   "cell_type": "code",
   "execution_count": 24,
   "id": "0498aebd",
   "metadata": {
    "ExecuteTime": {
     "end_time": "2024-03-26T14:29:11.390082Z",
     "start_time": "2024-03-26T14:29:11.361358Z"
    }
   },
   "outputs": [],
   "source": [
    "X_train_scaled = pd.concat([X_train_scaled, meta_train], axis=1)"
   ]
  },
  {
   "cell_type": "code",
   "execution_count": 25,
   "id": "ee2be2d3",
   "metadata": {
    "ExecuteTime": {
     "end_time": "2024-03-26T14:29:11.400393Z",
     "start_time": "2024-03-26T14:29:11.392866Z"
    }
   },
   "outputs": [],
   "source": [
    "meta_test = meta.loc[X_test.index]\n",
    "age_at_diagnosis = age_scaler.transform(np.array(meta_test.age_at_diagnosis).reshape(-1, 1))\n",
    "meta_test.age_at_diagnosis = age_at_diagnosis\n",
    "meta_test.drop(\"class_label\", axis = 1, inplace=True)"
   ]
  },
  {
   "cell_type": "code",
   "execution_count": 26,
   "id": "5f49f5f7",
   "metadata": {
    "ExecuteTime": {
     "end_time": "2024-03-26T14:29:11.411885Z",
     "start_time": "2024-03-26T14:29:11.402891Z"
    }
   },
   "outputs": [],
   "source": [
    "X_test_scaled = pd.concat([X_test_scaled, meta_test], axis=1)"
   ]
  },
  {
   "cell_type": "code",
   "execution_count": null,
   "id": "a29222a7",
   "metadata": {},
   "outputs": [],
   "source": []
  },
  {
   "cell_type": "markdown",
   "id": "21f69757",
   "metadata": {},
   "source": [
    "# L1 Logistic regression"
   ]
  },
  {
   "cell_type": "code",
   "execution_count": 27,
   "id": "e6a3b207",
   "metadata": {
    "ExecuteTime": {
     "end_time": "2024-03-26T14:29:11.443061Z",
     "start_time": "2024-03-26T14:29:11.414805Z"
    }
   },
   "outputs": [],
   "source": [
    "from sklearn.linear_model import LogisticRegression, LogisticRegressionCV\n",
    "from sklearn.metrics import accuracy_score, classification_report"
   ]
  },
  {
   "cell_type": "code",
   "execution_count": 28,
   "id": "f2afa29c",
   "metadata": {
    "ExecuteTime": {
     "end_time": "2024-03-26T14:29:30.708793Z",
     "start_time": "2024-03-26T14:29:11.453879Z"
    }
   },
   "outputs": [],
   "source": [
    "model = LogisticRegressionCV(penalty='l1', solver='liblinear', cv = 5, random_state=1234, Cs= 20, class_weight=\"balanced\")\n",
    "model.fit(X_train_scaled, y_train)\n",
    "\n",
    "# Make predictions on the test set\n",
    "y_pred = model.predict(X_test_scaled)\n",
    "\n",
    "# Evaluate the model\n",
    "accuracy = accuracy_score(y_test, y_pred)"
   ]
  },
  {
   "cell_type": "code",
   "execution_count": 29,
   "id": "5bfe753e",
   "metadata": {
    "ExecuteTime": {
     "end_time": "2024-03-26T14:29:30.718672Z",
     "start_time": "2024-03-26T14:29:30.711424Z"
    }
   },
   "outputs": [
    {
     "data": {
      "text/plain": [
       "0.9629629629629629"
      ]
     },
     "execution_count": 29,
     "metadata": {},
     "output_type": "execute_result"
    }
   ],
   "source": [
    "accuracy"
   ]
  },
  {
   "cell_type": "code",
   "execution_count": 30,
   "id": "60933ca9",
   "metadata": {
    "ExecuteTime": {
     "end_time": "2024-03-26T14:29:30.740338Z",
     "start_time": "2024-03-26T14:29:30.721971Z"
    }
   },
   "outputs": [
    {
     "data": {
      "text/html": [
       "<div>\n",
       "<style scoped>\n",
       "    .dataframe tbody tr th:only-of-type {\n",
       "        vertical-align: middle;\n",
       "    }\n",
       "\n",
       "    .dataframe tbody tr th {\n",
       "        vertical-align: top;\n",
       "    }\n",
       "\n",
       "    .dataframe thead th {\n",
       "        text-align: right;\n",
       "    }\n",
       "</style>\n",
       "<table border=\"1\" class=\"dataframe\">\n",
       "  <thead>\n",
       "    <tr style=\"text-align: right;\">\n",
       "      <th>class_label</th>\n",
       "      <th>0</th>\n",
       "      <th>1</th>\n",
       "    </tr>\n",
       "    <tr>\n",
       "      <th>row_0</th>\n",
       "      <th></th>\n",
       "      <th></th>\n",
       "    </tr>\n",
       "  </thead>\n",
       "  <tbody>\n",
       "    <tr>\n",
       "      <th>0</th>\n",
       "      <td>57</td>\n",
       "      <td>2</td>\n",
       "    </tr>\n",
       "    <tr>\n",
       "      <th>1</th>\n",
       "      <td>1</td>\n",
       "      <td>21</td>\n",
       "    </tr>\n",
       "  </tbody>\n",
       "</table>\n",
       "</div>"
      ],
      "text/plain": [
       "class_label   0   1\n",
       "row_0              \n",
       "0            57   2\n",
       "1             1  21"
      ]
     },
     "execution_count": 30,
     "metadata": {},
     "output_type": "execute_result"
    }
   ],
   "source": [
    "pd.crosstab(y_pred, y_test)"
   ]
  },
  {
   "cell_type": "code",
   "execution_count": 31,
   "id": "47d71056",
   "metadata": {
    "ExecuteTime": {
     "end_time": "2024-03-26T14:29:30.762934Z",
     "start_time": "2024-03-26T14:29:30.743246Z"
    }
   },
   "outputs": [
    {
     "data": {
      "text/html": [
       "<div>\n",
       "<style scoped>\n",
       "    .dataframe tbody tr th:only-of-type {\n",
       "        vertical-align: middle;\n",
       "    }\n",
       "\n",
       "    .dataframe tbody tr th {\n",
       "        vertical-align: top;\n",
       "    }\n",
       "\n",
       "    .dataframe thead th {\n",
       "        text-align: right;\n",
       "    }\n",
       "</style>\n",
       "<table border=\"1\" class=\"dataframe\">\n",
       "  <thead>\n",
       "    <tr style=\"text-align: right;\">\n",
       "      <th>class_label</th>\n",
       "      <th>0.0</th>\n",
       "      <th>1.0</th>\n",
       "    </tr>\n",
       "    <tr>\n",
       "      <th>high_risk</th>\n",
       "      <th></th>\n",
       "      <th></th>\n",
       "    </tr>\n",
       "  </thead>\n",
       "  <tbody>\n",
       "    <tr>\n",
       "      <th>0.0</th>\n",
       "      <td>58</td>\n",
       "      <td>5</td>\n",
       "    </tr>\n",
       "    <tr>\n",
       "      <th>1.0</th>\n",
       "      <td>0</td>\n",
       "      <td>18</td>\n",
       "    </tr>\n",
       "  </tbody>\n",
       "</table>\n",
       "</div>"
      ],
      "text/plain": [
       "class_label  0.0  1.0\n",
       "high_risk            \n",
       "0.0           58    5\n",
       "1.0            0   18"
      ]
     },
     "execution_count": 31,
     "metadata": {},
     "output_type": "execute_result"
    }
   ],
   "source": [
    "pd.crosstab(meta.loc[y_test.index].high_risk, meta.loc[y_test.index].class_label)"
   ]
  },
  {
   "cell_type": "code",
   "execution_count": 32,
   "id": "434edf11",
   "metadata": {
    "ExecuteTime": {
     "end_time": "2024-03-26T14:29:30.779063Z",
     "start_time": "2024-03-26T14:29:30.766417Z"
    }
   },
   "outputs": [
    {
     "name": "stdout",
     "output_type": "stream",
     "text": [
      "              precision    recall  f1-score   support\n",
      "\n",
      "           0       0.97      0.98      0.97        58\n",
      "           1       0.95      0.91      0.93        23\n",
      "\n",
      "    accuracy                           0.96        81\n",
      "   macro avg       0.96      0.95      0.95        81\n",
      "weighted avg       0.96      0.96      0.96        81\n",
      "\n"
     ]
    }
   ],
   "source": [
    "print(classification_report(y_test, y_pred))"
   ]
  },
  {
   "cell_type": "code",
   "execution_count": 33,
   "id": "d0f46063",
   "metadata": {
    "ExecuteTime": {
     "end_time": "2024-03-26T14:29:31.258872Z",
     "start_time": "2024-03-26T14:29:30.782662Z"
    }
   },
   "outputs": [
    {
     "data": {
      "image/png": "[encoded data removed]",
      "text/plain": [
       "<Figure size 640x480 with 1 Axes>"
      ]
     },
     "metadata": {},
     "output_type": "display_data"
    }
   ],
   "source": [
    "_ = plt.hist(model.predict_proba(X_test_scaled)[:,0], 100)"
   ]
  },
  {
   "cell_type": "code",
   "execution_count": null,
   "id": "fe525f2b",
   "metadata": {},
   "outputs": [],
   "source": []
  },
  {
   "cell_type": "code",
   "execution_count": 34,
   "id": "836f0a73",
   "metadata": {
    "ExecuteTime": {
     "end_time": "2024-03-26T14:29:31.609997Z",
     "start_time": "2024-03-26T14:29:31.261533Z"
    }
   },
   "outputs": [
    {
     "data": {
      "image/png": "[encoded data removed]",
      "text/plain": [
       "<Figure size 640x480 with 1 Axes>"
      ]
     },
     "metadata": {},
     "output_type": "display_data"
    }
   ],
   "source": [
    "_ = plt.hist(model.coef_[0], 100)"
   ]
  },
  {
   "cell_type": "code",
   "execution_count": 35,
   "id": "44c3ee4b",
   "metadata": {
    "ExecuteTime": {
     "end_time": "2024-03-26T14:29:31.619825Z",
     "start_time": "2024-03-26T14:29:31.612667Z"
    }
   },
   "outputs": [
    {
     "data": {
      "text/plain": [
       "312"
      ]
     },
     "execution_count": 35,
     "metadata": {},
     "output_type": "execute_result"
    }
   ],
   "source": [
    "sum(model.coef_[0] != 0)"
   ]
  },
  {
   "cell_type": "code",
   "execution_count": 36,
   "id": "d0a6d908",
   "metadata": {
    "ExecuteTime": {
     "end_time": "2024-03-26T14:29:31.626287Z",
     "start_time": "2024-03-26T14:29:31.622213Z"
    }
   },
   "outputs": [],
   "source": [
    "indices = np.argsort(model.coef_[0])[::-1]"
   ]
  },
  {
   "cell_type": "code",
   "execution_count": null,
   "id": "f261c150",
   "metadata": {},
   "outputs": [],
   "source": []
  },
  {
   "cell_type": "code",
   "execution_count": 37,
   "id": "99b64afb",
   "metadata": {
    "ExecuteTime": {
     "end_time": "2024-03-26T14:29:31.935927Z",
     "start_time": "2024-03-26T14:29:31.628871Z"
    }
   },
   "outputs": [
    {
     "data": {
      "image/png": "[encoded data removed]",
      "text/plain": [
       "<Figure size 640x480 with 1 Axes>"
      ]
     },
     "metadata": {},
     "output_type": "display_data"
    }
   ],
   "source": [
    "plt.barh(X_train_scaled.columns[indices][range(20)][::-1], model.coef_[0][indices][range(20)][::-1])\n",
    "plt.title(\"Permutation-based feature importance\")\n",
    "plt.xlabel(\"Importance\")\n",
    "plt.ylabel(\"Feature\")\n",
    "plt.show()"
   ]
  },
  {
   "cell_type": "code",
   "execution_count": 38,
   "id": "8f3c5f0b",
   "metadata": {
    "ExecuteTime": {
     "end_time": "2024-03-26T14:29:32.140949Z",
     "start_time": "2024-03-26T14:29:31.939849Z"
    }
   },
   "outputs": [
    {
     "data": {
      "image/png": "[encoded data removed]",
      "text/plain": [
       "<Figure size 640x480 with 1 Axes>"
      ]
     },
     "metadata": {},
     "output_type": "display_data"
    }
   ],
   "source": [
    "plt.plot(np.log10(model.Cs_), model.scores_[1].T)\n",
    "plt.show()"
   ]
  },
  {
   "cell_type": "code",
   "execution_count": 39,
   "id": "5956b1b8",
   "metadata": {
    "ExecuteTime": {
     "end_time": "2024-03-26T14:29:32.410297Z",
     "start_time": "2024-03-26T14:29:32.143875Z"
    }
   },
   "outputs": [
    {
     "data": {
      "image/png": "[encoded data removed]",
      "text/plain": [
       "<Figure size 640x480 with 1 Axes>"
      ]
     },
     "metadata": {},
     "output_type": "display_data"
    }
   ],
   "source": [
    "plt.plot(np.log10(model.Cs_), np.mean(model.scores_[1].T, axis = 1))\n",
    "plt.show()"
   ]
  },
  {
   "cell_type": "code",
   "execution_count": null,
   "id": "13aeefa8",
   "metadata": {},
   "outputs": [],
   "source": []
  },
  {
   "cell_type": "code",
   "execution_count": null,
   "id": "e4411471",
   "metadata": {},
   "outputs": [],
   "source": []
  },
  {
   "cell_type": "code",
   "execution_count": null,
   "id": "f3775e66",
   "metadata": {},
   "outputs": [],
   "source": []
  },
  {
   "cell_type": "code",
   "execution_count": null,
   "id": "b5477e6b",
   "metadata": {},
   "outputs": [],
   "source": []
  },
  {
   "cell_type": "markdown",
   "id": "480eb858",
   "metadata": {},
   "source": [
    "# Ranodm forest"
   ]
  },
  {
   "cell_type": "code",
   "execution_count": 40,
   "id": "1d02712c",
   "metadata": {
    "ExecuteTime": {
     "end_time": "2024-03-26T14:29:32.450840Z",
     "start_time": "2024-03-26T14:29:32.413149Z"
    }
   },
   "outputs": [],
   "source": [
    "from sklearn.ensemble import RandomForestClassifier\n"
   ]
  },
  {
   "cell_type": "code",
   "execution_count": 41,
   "id": "59694b82",
   "metadata": {
    "ExecuteTime": {
     "end_time": "2024-03-26T14:29:32.489594Z",
     "start_time": "2024-03-26T14:29:32.453228Z"
    }
   },
   "outputs": [],
   "source": [
    "X_train = pd.concat([X_train, meta_train], axis=1)\n",
    "X_test = pd.concat([X_test, meta_test], axis=1)"
   ]
  },
  {
   "cell_type": "code",
   "execution_count": 42,
   "id": "11266616",
   "metadata": {
    "ExecuteTime": {
     "end_time": "2024-03-26T14:29:39.019425Z",
     "start_time": "2024-03-26T14:29:32.492257Z"
    }
   },
   "outputs": [],
   "source": [
    "rf_classifier = RandomForestClassifier(n_estimators=1000, random_state=1234, class_weight=\"balanced\")\n",
    "rf_classifier.fit(X_train, y_train)\n",
    "y_pred = rf_classifier.predict(X_test.loc[:, X_train.columns])"
   ]
  },
  {
   "cell_type": "code",
   "execution_count": 43,
   "id": "52f2bcd4",
   "metadata": {
    "ExecuteTime": {
     "end_time": "2024-03-26T14:29:39.027073Z",
     "start_time": "2024-03-26T14:29:39.022218Z"
    }
   },
   "outputs": [],
   "source": [
    "accuracy = accuracy_score(y_test, y_pred)"
   ]
  },
  {
   "cell_type": "code",
   "execution_count": 44,
   "id": "e893d5e9",
   "metadata": {
    "ExecuteTime": {
     "end_time": "2024-03-26T14:29:39.034074Z",
     "start_time": "2024-03-26T14:29:39.029648Z"
    }
   },
   "outputs": [
    {
     "data": {
      "text/plain": [
       "0.9876543209876543"
      ]
     },
     "execution_count": 44,
     "metadata": {},
     "output_type": "execute_result"
    }
   ],
   "source": [
    "accuracy"
   ]
  },
  {
   "cell_type": "code",
   "execution_count": 45,
   "id": "80d8956d",
   "metadata": {
    "ExecuteTime": {
     "end_time": "2024-03-26T14:29:39.051289Z",
     "start_time": "2024-03-26T14:29:39.036542Z"
    }
   },
   "outputs": [
    {
     "data": {
      "text/html": [
       "<div>\n",
       "<style scoped>\n",
       "    .dataframe tbody tr th:only-of-type {\n",
       "        vertical-align: middle;\n",
       "    }\n",
       "\n",
       "    .dataframe tbody tr th {\n",
       "        vertical-align: top;\n",
       "    }\n",
       "\n",
       "    .dataframe thead th {\n",
       "        text-align: right;\n",
       "    }\n",
       "</style>\n",
       "<table border=\"1\" class=\"dataframe\">\n",
       "  <thead>\n",
       "    <tr style=\"text-align: right;\">\n",
       "      <th>class_label</th>\n",
       "      <th>0</th>\n",
       "      <th>1</th>\n",
       "    </tr>\n",
       "    <tr>\n",
       "      <th>row_0</th>\n",
       "      <th></th>\n",
       "      <th></th>\n",
       "    </tr>\n",
       "  </thead>\n",
       "  <tbody>\n",
       "    <tr>\n",
       "      <th>0</th>\n",
       "      <td>58</td>\n",
       "      <td>1</td>\n",
       "    </tr>\n",
       "    <tr>\n",
       "      <th>1</th>\n",
       "      <td>0</td>\n",
       "      <td>22</td>\n",
       "    </tr>\n",
       "  </tbody>\n",
       "</table>\n",
       "</div>"
      ],
      "text/plain": [
       "class_label   0   1\n",
       "row_0              \n",
       "0            58   1\n",
       "1             0  22"
      ]
     },
     "execution_count": 45,
     "metadata": {},
     "output_type": "execute_result"
    }
   ],
   "source": [
    "pd.crosstab(y_pred, y_test)"
   ]
  },
  {
   "cell_type": "code",
   "execution_count": 46,
   "id": "ea405a21",
   "metadata": {
    "ExecuteTime": {
     "end_time": "2024-03-26T14:29:39.070728Z",
     "start_time": "2024-03-26T14:29:39.054076Z"
    }
   },
   "outputs": [
    {
     "data": {
      "text/html": [
       "<div>\n",
       "<style scoped>\n",
       "    .dataframe tbody tr th:only-of-type {\n",
       "        vertical-align: middle;\n",
       "    }\n",
       "\n",
       "    .dataframe tbody tr th {\n",
       "        vertical-align: top;\n",
       "    }\n",
       "\n",
       "    .dataframe thead th {\n",
       "        text-align: right;\n",
       "    }\n",
       "</style>\n",
       "<table border=\"1\" class=\"dataframe\">\n",
       "  <thead>\n",
       "    <tr style=\"text-align: right;\">\n",
       "      <th>class_label</th>\n",
       "      <th>0.0</th>\n",
       "      <th>1.0</th>\n",
       "    </tr>\n",
       "    <tr>\n",
       "      <th>high_risk</th>\n",
       "      <th></th>\n",
       "      <th></th>\n",
       "    </tr>\n",
       "  </thead>\n",
       "  <tbody>\n",
       "    <tr>\n",
       "      <th>0.0</th>\n",
       "      <td>58</td>\n",
       "      <td>5</td>\n",
       "    </tr>\n",
       "    <tr>\n",
       "      <th>1.0</th>\n",
       "      <td>0</td>\n",
       "      <td>18</td>\n",
       "    </tr>\n",
       "  </tbody>\n",
       "</table>\n",
       "</div>"
      ],
      "text/plain": [
       "class_label  0.0  1.0\n",
       "high_risk            \n",
       "0.0           58    5\n",
       "1.0            0   18"
      ]
     },
     "execution_count": 46,
     "metadata": {},
     "output_type": "execute_result"
    }
   ],
   "source": [
    "pd.crosstab(meta.loc[y_test.index].high_risk, meta.loc[y_test.index].class_label)"
   ]
  },
  {
   "cell_type": "code",
   "execution_count": 47,
   "id": "5052d3f0",
   "metadata": {
    "ExecuteTime": {
     "end_time": "2024-03-26T14:29:39.084116Z",
     "start_time": "2024-03-26T14:29:39.073436Z"
    }
   },
   "outputs": [
    {
     "name": "stdout",
     "output_type": "stream",
     "text": [
      "              precision    recall  f1-score   support\n",
      "\n",
      "           0       0.98      1.00      0.99        58\n",
      "           1       1.00      0.96      0.98        23\n",
      "\n",
      "    accuracy                           0.99        81\n",
      "   macro avg       0.99      0.98      0.98        81\n",
      "weighted avg       0.99      0.99      0.99        81\n",
      "\n"
     ]
    }
   ],
   "source": [
    "print(classification_report(y_test, y_pred))"
   ]
  },
  {
   "cell_type": "code",
   "execution_count": 48,
   "id": "1db11633",
   "metadata": {
    "ExecuteTime": {
     "end_time": "2024-03-26T14:29:39.443860Z",
     "start_time": "2024-03-26T14:29:39.086626Z"
    }
   },
   "outputs": [],
   "source": [
    "importances = rf_classifier.feature_importances_\n",
    "\n",
    "# Sort feature importances in descending order\n",
    "indices = np.argsort(importances)[::-1]"
   ]
  },
  {
   "cell_type": "code",
   "execution_count": 49,
   "id": "f0746bce",
   "metadata": {
    "ExecuteTime": {
     "end_time": "2024-03-26T14:29:39.451362Z",
     "start_time": "2024-03-26T14:29:39.446743Z"
    }
   },
   "outputs": [
    {
     "name": "stdout",
     "output_type": "stream",
     "text": [
      "Feature ranking:\n",
      "1. BAZ2B: feature 1206 (0.008116)\n",
      "2. CAMTA1: feature 1570 (0.007058)\n",
      "3. MINK1: feature 9693 (0.006922)\n",
      "4. PRMT5: feature 12130 (0.006727)\n",
      "5. high_risk: feature 17709 (0.006237)\n",
      "6. SLC25A5: feature 14322 (0.005873)\n",
      "7. FENL1: feature 4576 (0.005734)\n",
      "8. POLE3: feature 11818 (0.005674)\n",
      "9. inss_stage_4: feature 17713 (0.005626)\n",
      "10. EXOSC9: feature 4053 (0.005370)\n",
      "11. WSB1: feature 16942 (0.005182)\n",
      "12. TOM1L2: feature 15967 (0.005104)\n",
      "13. CNIH4: feature 2471 (0.004870)\n",
      "14. PIRT: feature 11584 (0.004769)\n",
      "15. HNRNPC: feature 6019 (0.004759)\n",
      "16. NUP37: feature 10818 (0.004724)\n",
      "17. PRKACB: feature 12095 (0.004667)\n",
      "18. PGM2L1: feature 11450 (0.004505)\n",
      "19. TRIAP1: feature 16089 (0.004481)\n",
      "20. POLA1: feature 11809 (0.004400)\n"
     ]
    }
   ],
   "source": [
    "# Print the feature ranking\n",
    "print(\"Feature ranking:\")\n",
    "for f in range(20):\n",
    "    print(\"%d. %s: feature %d (%f)\" % (f + 1, X_train.columns[indices[f]], indices[f], importances[indices[f]]))"
   ]
  },
  {
   "cell_type": "code",
   "execution_count": 50,
   "id": "2c3f73b6",
   "metadata": {
    "ExecuteTime": {
     "end_time": "2024-03-26T14:29:39.755942Z",
     "start_time": "2024-03-26T14:29:39.454021Z"
    }
   },
   "outputs": [
    {
     "data": {
      "image/png": "[encoded data removed]",
      "text/plain": [
       "<Figure size 640x480 with 1 Axes>"
      ]
     },
     "metadata": {},
     "output_type": "display_data"
    }
   ],
   "source": [
    "plt.barh(X_train.columns[indices][range(20)][::-1], importances[indices][range(20)][::-1])\n",
    "plt.title(\"Permutation-based feature importance\")\n",
    "plt.xlabel(\"Importance\")\n",
    "plt.ylabel(\"Feature\")\n",
    "plt.show()"
   ]
  },
  {
   "cell_type": "code",
   "execution_count": 51,
   "id": "a5d66186",
   "metadata": {
    "ExecuteTime": {
     "end_time": "2024-03-26T14:29:39.957381Z",
     "start_time": "2024-03-26T14:29:39.758621Z"
    }
   },
   "outputs": [
    {
     "data": {
      "text/plain": [
       "[<matplotlib.lines.Line2D at 0x133f616f0>]"
      ]
     },
     "execution_count": 51,
     "metadata": {},
     "output_type": "execute_result"
    },
    {
     "data": {
      "image/png": "[encoded data removed]",
      "text/plain": [
       "<Figure size 640x480 with 1 Axes>"
      ]
     },
     "metadata": {},
     "output_type": "display_data"
    }
   ],
   "source": [
    "plt.plot(importances[indices][range(1000)])\n"
   ]
  },
  {
   "cell_type": "code",
   "execution_count": 52,
   "id": "58c24c48",
   "metadata": {
    "ExecuteTime": {
     "end_time": "2024-03-26T14:29:40.502887Z",
     "start_time": "2024-03-26T14:29:39.960007Z"
    }
   },
   "outputs": [
    {
     "data": {
      "image/png": "[encoded data removed]",
      "text/plain": [
       "<Figure size 640x480 with 1 Axes>"
      ]
     },
     "metadata": {},
     "output_type": "display_data"
    }
   ],
   "source": [
    "plt.hist(rf_classifier.predict_proba(X_test.loc[:, X_train.columns])[:,1], bins = 100)\n",
    "plt.show()"
   ]
  },
  {
   "cell_type": "code",
   "execution_count": null,
   "id": "bc5501f5",
   "metadata": {},
   "outputs": [],
   "source": []
  },
  {
   "cell_type": "code",
   "execution_count": 53,
   "id": "c54876b7",
   "metadata": {
    "ExecuteTime": {
     "end_time": "2024-03-26T14:34:10.030813Z",
     "start_time": "2024-03-26T14:34:10.011736Z"
    }
   },
   "outputs": [
    {
     "data": {
      "text/html": [
       "<div>\n",
       "<style scoped>\n",
       "    .dataframe tbody tr th:only-of-type {\n",
       "        vertical-align: middle;\n",
       "    }\n",
       "\n",
       "    .dataframe tbody tr th {\n",
       "        vertical-align: top;\n",
       "    }\n",
       "\n",
       "    .dataframe thead th {\n",
       "        text-align: right;\n",
       "    }\n",
       "</style>\n",
       "<table border=\"1\" class=\"dataframe\">\n",
       "  <thead>\n",
       "    <tr style=\"text-align: right;\">\n",
       "      <th></th>\n",
       "      <th>Sex</th>\n",
       "      <th>age_at_diagnosis</th>\n",
       "      <th>mycn_status</th>\n",
       "      <th>high_risk</th>\n",
       "      <th>inss_stage_1</th>\n",
       "      <th>inss_stage_2</th>\n",
       "      <th>inss_stage_3</th>\n",
       "      <th>inss_stage_4</th>\n",
       "      <th>inss_stage_4S</th>\n",
       "    </tr>\n",
       "    <tr>\n",
       "      <th>sampleId</th>\n",
       "      <th></th>\n",
       "      <th></th>\n",
       "      <th></th>\n",
       "      <th></th>\n",
       "      <th></th>\n",
       "      <th></th>\n",
       "      <th></th>\n",
       "      <th></th>\n",
       "      <th></th>\n",
       "    </tr>\n",
       "  </thead>\n",
       "  <tbody>\n",
       "    <tr>\n",
       "      <th>SEQC_NB160</th>\n",
       "      <td>1.0</td>\n",
       "      <td>-0.347502</td>\n",
       "      <td>0.0</td>\n",
       "      <td>0.0</td>\n",
       "      <td>1.0</td>\n",
       "      <td>0.0</td>\n",
       "      <td>0.0</td>\n",
       "      <td>0.0</td>\n",
       "      <td>0.0</td>\n",
       "    </tr>\n",
       "    <tr>\n",
       "      <th>SEQC_NB299</th>\n",
       "      <td>1.0</td>\n",
       "      <td>-0.426543</td>\n",
       "      <td>0.0</td>\n",
       "      <td>0.0</td>\n",
       "      <td>0.0</td>\n",
       "      <td>0.0</td>\n",
       "      <td>0.0</td>\n",
       "      <td>0.0</td>\n",
       "      <td>1.0</td>\n",
       "    </tr>\n",
       "    <tr>\n",
       "      <th>SEQC_NB314</th>\n",
       "      <td>1.0</td>\n",
       "      <td>-0.483486</td>\n",
       "      <td>1.0</td>\n",
       "      <td>1.0</td>\n",
       "      <td>0.0</td>\n",
       "      <td>0.0</td>\n",
       "      <td>0.0</td>\n",
       "      <td>1.0</td>\n",
       "      <td>0.0</td>\n",
       "    </tr>\n",
       "    <tr>\n",
       "      <th>SEQC_NB011</th>\n",
       "      <td>1.0</td>\n",
       "      <td>-0.298208</td>\n",
       "      <td>0.0</td>\n",
       "      <td>0.0</td>\n",
       "      <td>0.0</td>\n",
       "      <td>1.0</td>\n",
       "      <td>0.0</td>\n",
       "      <td>0.0</td>\n",
       "      <td>0.0</td>\n",
       "    </tr>\n",
       "    <tr>\n",
       "      <th>SEQC_NB296</th>\n",
       "      <td>1.0</td>\n",
       "      <td>-0.591422</td>\n",
       "      <td>0.0</td>\n",
       "      <td>0.0</td>\n",
       "      <td>0.0</td>\n",
       "      <td>0.0</td>\n",
       "      <td>0.0</td>\n",
       "      <td>0.0</td>\n",
       "      <td>1.0</td>\n",
       "    </tr>\n",
       "    <tr>\n",
       "      <th>...</th>\n",
       "      <td>...</td>\n",
       "      <td>...</td>\n",
       "      <td>...</td>\n",
       "      <td>...</td>\n",
       "      <td>...</td>\n",
       "      <td>...</td>\n",
       "      <td>...</td>\n",
       "      <td>...</td>\n",
       "      <td>...</td>\n",
       "    </tr>\n",
       "    <tr>\n",
       "      <th>SEQC_NB318</th>\n",
       "      <td>0.0</td>\n",
       "      <td>-0.395096</td>\n",
       "      <td>0.0</td>\n",
       "      <td>0.0</td>\n",
       "      <td>1.0</td>\n",
       "      <td>0.0</td>\n",
       "      <td>0.0</td>\n",
       "      <td>0.0</td>\n",
       "      <td>0.0</td>\n",
       "    </tr>\n",
       "    <tr>\n",
       "      <th>SEQC_NB080</th>\n",
       "      <td>0.0</td>\n",
       "      <td>0.199831</td>\n",
       "      <td>1.0</td>\n",
       "      <td>1.0</td>\n",
       "      <td>0.0</td>\n",
       "      <td>0.0</td>\n",
       "      <td>1.0</td>\n",
       "      <td>0.0</td>\n",
       "      <td>0.0</td>\n",
       "    </tr>\n",
       "    <tr>\n",
       "      <th>SEQC_NB153</th>\n",
       "      <td>0.0</td>\n",
       "      <td>1.084573</td>\n",
       "      <td>0.0</td>\n",
       "      <td>0.0</td>\n",
       "      <td>1.0</td>\n",
       "      <td>0.0</td>\n",
       "      <td>0.0</td>\n",
       "      <td>0.0</td>\n",
       "      <td>0.0</td>\n",
       "    </tr>\n",
       "    <tr>\n",
       "      <th>SEQC_NB335</th>\n",
       "      <td>0.0</td>\n",
       "      <td>0.849151</td>\n",
       "      <td>0.0</td>\n",
       "      <td>1.0</td>\n",
       "      <td>0.0</td>\n",
       "      <td>0.0</td>\n",
       "      <td>0.0</td>\n",
       "      <td>1.0</td>\n",
       "      <td>0.0</td>\n",
       "    </tr>\n",
       "    <tr>\n",
       "      <th>SEQC_NB370</th>\n",
       "      <td>1.0</td>\n",
       "      <td>-0.466488</td>\n",
       "      <td>0.0</td>\n",
       "      <td>0.0</td>\n",
       "      <td>1.0</td>\n",
       "      <td>0.0</td>\n",
       "      <td>0.0</td>\n",
       "      <td>0.0</td>\n",
       "      <td>0.0</td>\n",
       "    </tr>\n",
       "  </tbody>\n",
       "</table>\n",
       "<p>81 rows × 9 columns</p>\n",
       "</div>"
      ],
      "text/plain": [
       "            Sex  age_at_diagnosis  mycn_status  high_risk  inss_stage_1  \\\n",
       "sampleId                                                                  \n",
       "SEQC_NB160  1.0         -0.347502          0.0        0.0           1.0   \n",
       "SEQC_NB299  1.0         -0.426543          0.0        0.0           0.0   \n",
       "SEQC_NB314  1.0         -0.483486          1.0        1.0           0.0   \n",
       "SEQC_NB011  1.0         -0.298208          0.0        0.0           0.0   \n",
       "SEQC_NB296  1.0         -0.591422          0.0        0.0           0.0   \n",
       "...         ...               ...          ...        ...           ...   \n",
       "SEQC_NB318  0.0         -0.395096          0.0        0.0           1.0   \n",
       "SEQC_NB080  0.0          0.199831          1.0        1.0           0.0   \n",
       "SEQC_NB153  0.0          1.084573          0.0        0.0           1.0   \n",
       "SEQC_NB335  0.0          0.849151          0.0        1.0           0.0   \n",
       "SEQC_NB370  1.0         -0.466488          0.0        0.0           1.0   \n",
       "\n",
       "            inss_stage_2  inss_stage_3  inss_stage_4  inss_stage_4S  \n",
       "sampleId                                                             \n",
       "SEQC_NB160           0.0           0.0           0.0            0.0  \n",
       "SEQC_NB299           0.0           0.0           0.0            1.0  \n",
       "SEQC_NB314           0.0           0.0           1.0            0.0  \n",
       "SEQC_NB011           1.0           0.0           0.0            0.0  \n",
       "SEQC_NB296           0.0           0.0           0.0            1.0  \n",
       "...                  ...           ...           ...            ...  \n",
       "SEQC_NB318           0.0           0.0           0.0            0.0  \n",
       "SEQC_NB080           0.0           1.0           0.0            0.0  \n",
       "SEQC_NB153           0.0           0.0           0.0            0.0  \n",
       "SEQC_NB335           0.0           0.0           1.0            0.0  \n",
       "SEQC_NB370           0.0           0.0           0.0            0.0  \n",
       "\n",
       "[81 rows x 9 columns]"
      ]
     },
     "execution_count": 53,
     "metadata": {},
     "output_type": "execute_result"
    }
   ],
   "source": [
    "meta_test"
   ]
  },
  {
   "cell_type": "code",
   "execution_count": null,
   "id": "5bbb980c",
   "metadata": {},
   "outputs": [],
   "source": []
  },
  {
   "cell_type": "code",
   "execution_count": null,
   "id": "92f4150c",
   "metadata": {},
   "outputs": [],
   "source": []
  },
  {
   "cell_type": "code",
   "execution_count": null,
   "id": "fa1fdf97",
   "metadata": {},
   "outputs": [],
   "source": []
  }
 ],
 "metadata": {
  "kernelspec": {
   "display_name": "Python 3 (ipykernel)",
   "language": "python",
   "name": "python3"
  },
  "language_info": {
   "codemirror_mode": {
    "name": "ipython",
    "version": 3
   },
   "file_extension": ".py",
   "mimetype": "text/x-python",
   "name": "python",
   "nbconvert_exporter": "python",
   "pygments_lexer": "ipython3",
   "version": "3.10.7"
  }
 },
 "nbformat": 4,
 "nbformat_minor": 5
}
