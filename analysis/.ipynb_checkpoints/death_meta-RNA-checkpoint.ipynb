{
 "cells": [
  {
   "cell_type": "code",
   "execution_count": null,
   "id": "9f87386f",
   "metadata": {
    "ExecuteTime": {
     "start_time": "2024-03-25T01:27:43.762Z"
    }
   },
   "outputs": [],
   "source": [
    "import gzip\n",
    "\n",
    "import pandas as pd\n",
    "import numpy as np\n",
    "\n",
    "from sklearn.model_selection import train_test_split\n",
    "from sklearn.preprocessing import MinMaxScaler, StandardScaler\n",
    "\n",
    "from matplotlib import pyplot as plt"
   ]
  },
  {
   "cell_type": "markdown",
   "id": "6f8050eb",
   "metadata": {},
   "source": [
    "# Preprocessing"
   ]
  },
  {
   "cell_type": "markdown",
   "id": "3aadae97",
   "metadata": {},
   "source": [
    "## Meta data"
   ]
  },
  {
   "cell_type": "code",
   "execution_count": null,
   "id": "de7ec617",
   "metadata": {
    "ExecuteTime": {
     "start_time": "2024-03-25T01:27:43.765Z"
    }
   },
   "outputs": [],
   "source": [
    "def read_geo_series_matrix(file_path):\n",
    "    cols = {}\n",
    "    with gzip.open(file_path, 'rt') as f:\n",
    "        for line in f:\n",
    "            if line.startswith(\"!Sample_title\"):\n",
    "                sampleId = [i.strip('\"') for i in line.split()[1:]]\n",
    "                cols[\"sampleId\"] = sampleId\n",
    "            elif line.startswith(\"!Sample_characteristics_ch1\"):\n",
    "                _ = line[28:].strip().strip('\"').split('\"\\t\"')\n",
    "                category = _[0].split(\": \")[0].replace(\" \", \"_\")\n",
    "                values = [i.split(\": \")[1] for i in _]\n",
    "                cols.update({category: values})\n",
    "    \n",
    "    return pd.DataFrame(cols)"
   ]
  },
  {
   "cell_type": "code",
   "execution_count": null,
   "id": "3a03c6ab",
   "metadata": {
    "ExecuteTime": {
     "start_time": "2024-03-25T01:27:43.767Z"
    }
   },
   "outputs": [],
   "source": [
    "meta = read_geo_series_matrix(\"../rawData/GSE49711_series_matrix.txt.gz\")\n",
    "meta.index = meta.sampleId\n",
    "meta.shape"
   ]
  },
  {
   "cell_type": "code",
   "execution_count": null,
   "id": "046f633f",
   "metadata": {
    "ExecuteTime": {
     "start_time": "2024-03-25T01:27:43.769Z"
    }
   },
   "outputs": [],
   "source": [
    "meta = meta.loc[meta.death_from_disease.isin([\"0\", \"1\"])]\n",
    "meta.shape"
   ]
  },
  {
   "cell_type": "code",
   "execution_count": null,
   "id": "d52624bb",
   "metadata": {
    "ExecuteTime": {
     "start_time": "2024-03-25T01:27:43.770Z"
    }
   },
   "outputs": [],
   "source": [
    "pd.crosstab(meta.inss_stage, meta.death_from_disease)"
   ]
  },
  {
   "cell_type": "code",
   "execution_count": null,
   "id": "950a8a28",
   "metadata": {
    "ExecuteTime": {
     "start_time": "2024-03-25T01:27:43.773Z"
    }
   },
   "outputs": [],
   "source": [
    "pd.crosstab(meta.high_risk, meta.death_from_disease)"
   ]
  },
  {
   "cell_type": "code",
   "execution_count": null,
   "id": "115e30d2",
   "metadata": {
    "ExecuteTime": {
     "start_time": "2024-03-25T01:27:43.774Z"
    }
   },
   "outputs": [],
   "source": [
    "meta.Sex.replace({\"M\":1, \"F\":0}, inplace=True)\n",
    "meta.replace({\"N/A\":np.nan}, inplace=True)"
   ]
  },
  {
   "cell_type": "code",
   "execution_count": null,
   "id": "afde69ff",
   "metadata": {
    "ExecuteTime": {
     "start_time": "2024-03-25T01:27:43.776Z"
    }
   },
   "outputs": [],
   "source": [
    "stage_dummy = pd.get_dummies(meta.inss_stage, prefix='inss_stage')\n",
    "meta = pd.concat([meta, stage_dummy], axis=1)"
   ]
  },
  {
   "cell_type": "code",
   "execution_count": null,
   "id": "6cd3c21e",
   "metadata": {
    "ExecuteTime": {
     "start_time": "2024-03-25T01:27:43.777Z"
    }
   },
   "outputs": [],
   "source": [
    "meta = meta[[\"Sex\", \"age_at_diagnosis\", \"mycn_status\", \"high_risk\", \n",
    "               \"inss_stage_1\", \"inss_stage_2\", \"inss_stage_3\", \"inss_stage_4\", \"inss_stage_4S\",\n",
    "               \"death_from_disease\"\n",
    "              ]]"
   ]
  },
  {
   "cell_type": "code",
   "execution_count": null,
   "id": "417d1d03",
   "metadata": {
    "ExecuteTime": {
     "start_time": "2024-03-25T01:27:43.779Z"
    }
   },
   "outputs": [],
   "source": [
    "meta.dropna(inplace=True)"
   ]
  },
  {
   "cell_type": "code",
   "execution_count": null,
   "id": "d61993ca",
   "metadata": {
    "ExecuteTime": {
     "start_time": "2024-03-25T01:27:43.780Z"
    }
   },
   "outputs": [],
   "source": [
    "meta = meta.astype(\"double\")"
   ]
  },
  {
   "cell_type": "code",
   "execution_count": null,
   "id": "6b209e2c",
   "metadata": {
    "ExecuteTime": {
     "start_time": "2024-03-25T01:27:43.782Z"
    }
   },
   "outputs": [],
   "source": [
    "meta.head()"
   ]
  },
  {
   "cell_type": "code",
   "execution_count": null,
   "id": "2fbafb6a",
   "metadata": {},
   "outputs": [],
   "source": []
  },
  {
   "cell_type": "markdown",
   "id": "196ae431",
   "metadata": {},
   "source": [
    "## Gene level"
   ]
  },
  {
   "cell_type": "code",
   "execution_count": null,
   "id": "471e3f5d",
   "metadata": {
    "ExecuteTime": {
     "start_time": "2024-03-25T01:27:43.785Z"
    }
   },
   "outputs": [],
   "source": [
    "rna = pd.read_table(\"../rawData/GSE49711_SEQC_NB_TAV_G_log2.final.txt.gz\")\n",
    "rna = rna[~ rna.Gene.str.contains(\"[a-z]\")]\n",
    "rna.drop([\"Gene_set\",\"NCBI_gene_ID\",\"RefSeq_transcript_ID\",\"Chromosome\",\"Strand\",\"Start\",\"End\"], axis=1, inplace=True)\n",
    "X = rna.iloc[:,1:].transpose()\n",
    "X.columns = rna.Gene"
   ]
  },
  {
   "cell_type": "code",
   "execution_count": null,
   "id": "f52bdc51",
   "metadata": {
    "ExecuteTime": {
     "start_time": "2024-03-25T01:27:43.786Z"
    }
   },
   "outputs": [],
   "source": [
    "X = X.loc[meta.index] # keep only samples with valid Ys"
   ]
  },
  {
   "cell_type": "code",
   "execution_count": null,
   "id": "aace9141",
   "metadata": {
    "ExecuteTime": {
     "start_time": "2024-03-25T01:27:43.788Z"
    }
   },
   "outputs": [],
   "source": [
    "X_train, X_test, y_train, y_test = train_test_split(X, meta.death_from_disease.astype(\"int\"), test_size=0.4, random_state=1234)"
   ]
  },
  {
   "cell_type": "code",
   "execution_count": null,
   "id": "5b43889d",
   "metadata": {},
   "outputs": [],
   "source": []
  },
  {
   "cell_type": "markdown",
   "id": "248bb4de",
   "metadata": {},
   "source": [
    "# QC"
   ]
  },
  {
   "cell_type": "code",
   "execution_count": null,
   "id": "6177e57b",
   "metadata": {
    "ExecuteTime": {
     "start_time": "2024-03-25T01:27:43.791Z"
    }
   },
   "outputs": [],
   "source": [
    "X_train.median().hist(bins=100)"
   ]
  },
  {
   "cell_type": "code",
   "execution_count": null,
   "id": "03d99444",
   "metadata": {
    "ExecuteTime": {
     "start_time": "2024-03-25T01:27:43.792Z"
    }
   },
   "outputs": [],
   "source": [
    "X_train = X_train.loc[:, X_train.median() > 5]"
   ]
  },
  {
   "cell_type": "code",
   "execution_count": null,
   "id": "5020b4d7",
   "metadata": {
    "ExecuteTime": {
     "start_time": "2024-03-25T01:27:43.794Z"
    }
   },
   "outputs": [],
   "source": [
    "X_train.shape"
   ]
  },
  {
   "cell_type": "code",
   "execution_count": null,
   "id": "377b7688",
   "metadata": {
    "ExecuteTime": {
     "start_time": "2024-03-25T01:27:43.797Z"
    }
   },
   "outputs": [],
   "source": [
    "X_train"
   ]
  },
  {
   "cell_type": "code",
   "execution_count": null,
   "id": "88515902",
   "metadata": {
    "ExecuteTime": {
     "start_time": "2024-03-25T01:27:43.800Z"
    }
   },
   "outputs": [],
   "source": [
    "scaler = StandardScaler()\n",
    "X_train_scaled = scaler.fit_transform(X_train)\n",
    "X_train_scaled = pd.DataFrame(X_train_scaled, index=X_train.index, columns=X_train.columns)"
   ]
  },
  {
   "cell_type": "code",
   "execution_count": null,
   "id": "985e3d9b",
   "metadata": {
    "ExecuteTime": {
     "start_time": "2024-03-25T01:27:43.801Z"
    }
   },
   "outputs": [],
   "source": [
    "X_test_scaled = scaler.transform(X_test.loc[:, X_train.columns])\n",
    "X_test_scaled = pd.DataFrame(X_test_scaled, index=X_test.index, columns=X_train.columns)"
   ]
  },
  {
   "cell_type": "code",
   "execution_count": null,
   "id": "e632a0de",
   "metadata": {},
   "outputs": [],
   "source": []
  },
  {
   "cell_type": "code",
   "execution_count": null,
   "id": "848bbca7",
   "metadata": {
    "ExecuteTime": {
     "end_time": "2024-03-24T21:14:29.922489Z",
     "start_time": "2024-03-24T21:14:29.918939Z"
    }
   },
   "outputs": [],
   "source": []
  },
  {
   "cell_type": "code",
   "execution_count": null,
   "id": "fd02bd68",
   "metadata": {
    "ExecuteTime": {
     "start_time": "2024-03-25T01:27:43.804Z"
    }
   },
   "outputs": [],
   "source": [
    "meta_train = meta.loc[X_train.index]\n",
    "age_scaler = StandardScaler()\n",
    "age_at_diagnosis = age_scaler.fit_transform(np.array(meta_train.age_at_diagnosis).reshape(-1, 1))\n",
    "meta_train.age_at_diagnosis = age_at_diagnosis\n",
    "meta_train.drop(\"death_from_disease\", axis = 1, inplace=True)"
   ]
  },
  {
   "cell_type": "code",
   "execution_count": null,
   "id": "0498aebd",
   "metadata": {
    "ExecuteTime": {
     "start_time": "2024-03-25T01:27:43.806Z"
    }
   },
   "outputs": [],
   "source": [
    "X_train_scaled = pd.concat([X_train_scaled, meta_train], axis=1)"
   ]
  },
  {
   "cell_type": "code",
   "execution_count": null,
   "id": "ee2be2d3",
   "metadata": {
    "ExecuteTime": {
     "start_time": "2024-03-25T01:27:43.807Z"
    }
   },
   "outputs": [],
   "source": [
    "meta_test = meta.loc[X_test.index]\n",
    "age_at_diagnosis = age_scaler.transform(np.array(meta_test.age_at_diagnosis).reshape(-1, 1))\n",
    "meta_test.age_at_diagnosis = age_at_diagnosis\n",
    "meta_test.drop(\"death_from_disease\", axis = 1, inplace=True)"
   ]
  },
  {
   "cell_type": "code",
   "execution_count": null,
   "id": "5f49f5f7",
   "metadata": {
    "ExecuteTime": {
     "start_time": "2024-03-25T01:27:43.808Z"
    }
   },
   "outputs": [],
   "source": [
    "X_test_scaled = pd.concat([X_test_scaled, meta_test], axis=1)"
   ]
  },
  {
   "cell_type": "code",
   "execution_count": null,
   "id": "6c67064b",
   "metadata": {},
   "outputs": [],
   "source": []
  },
  {
   "cell_type": "markdown",
   "id": "21f69757",
   "metadata": {},
   "source": [
    "# L1 Logistic regression"
   ]
  },
  {
   "cell_type": "code",
   "execution_count": null,
   "id": "e6a3b207",
   "metadata": {
    "ExecuteTime": {
     "start_time": "2024-03-25T01:27:43.811Z"
    }
   },
   "outputs": [],
   "source": [
    "from sklearn.linear_model import LogisticRegression, LogisticRegressionCV\n",
    "from sklearn.metrics import accuracy_score, classification_report"
   ]
  },
  {
   "cell_type": "code",
   "execution_count": null,
   "id": "f2afa29c",
   "metadata": {
    "ExecuteTime": {
     "start_time": "2024-03-25T01:27:43.812Z"
    }
   },
   "outputs": [],
   "source": [
    "model = LogisticRegressionCV(penalty='l1', solver='liblinear', cv = 5, random_state=1234, Cs= 20, class_weight=\"balanced\")\n",
    "model.fit(X_train_scaled, y_train)\n",
    "\n",
    "# Make predictions on the test set\n",
    "y_pred = model.predict(X_test_scaled)\n",
    "\n",
    "# Evaluate the model\n",
    "accuracy = accuracy_score(y_test, y_pred)"
   ]
  },
  {
   "cell_type": "code",
   "execution_count": null,
   "id": "5bfe753e",
   "metadata": {
    "ExecuteTime": {
     "start_time": "2024-03-25T01:27:43.813Z"
    }
   },
   "outputs": [],
   "source": [
    "accuracy"
   ]
  },
  {
   "cell_type": "code",
   "execution_count": null,
   "id": "60933ca9",
   "metadata": {
    "ExecuteTime": {
     "start_time": "2024-03-25T01:27:43.816Z"
    }
   },
   "outputs": [],
   "source": [
    "pd.crosstab(y_pred, y_test)"
   ]
  },
  {
   "cell_type": "code",
   "execution_count": null,
   "id": "47d71056",
   "metadata": {
    "ExecuteTime": {
     "start_time": "2024-03-25T01:27:43.817Z"
    }
   },
   "outputs": [],
   "source": [
    "pd.crosstab(meta.loc[y_test.index].high_risk, meta.loc[y_test.index].death_from_disease)"
   ]
  },
  {
   "cell_type": "code",
   "execution_count": null,
   "id": "434edf11",
   "metadata": {
    "ExecuteTime": {
     "start_time": "2024-03-25T01:27:43.819Z"
    }
   },
   "outputs": [],
   "source": [
    "print(classification_report(y_test, y_pred))"
   ]
  },
  {
   "cell_type": "code",
   "execution_count": null,
   "id": "d0f46063",
   "metadata": {
    "ExecuteTime": {
     "start_time": "2024-03-25T01:27:43.820Z"
    }
   },
   "outputs": [],
   "source": [
    "_ = plt.hist(model.predict_proba(X_test_scaled)[:,1], 100)"
   ]
  },
  {
   "cell_type": "code",
   "execution_count": null,
   "id": "fe525f2b",
   "metadata": {},
   "outputs": [],
   "source": []
  },
  {
   "cell_type": "code",
   "execution_count": null,
   "id": "836f0a73",
   "metadata": {
    "ExecuteTime": {
     "start_time": "2024-03-25T01:27:43.822Z"
    }
   },
   "outputs": [],
   "source": [
    "_ = plt.hist(model.coef_[0], 100)"
   ]
  },
  {
   "cell_type": "code",
   "execution_count": null,
   "id": "44c3ee4b",
   "metadata": {
    "ExecuteTime": {
     "start_time": "2024-03-25T01:27:43.823Z"
    }
   },
   "outputs": [],
   "source": [
    "sum(model.coef_[0] != 0)"
   ]
  },
  {
   "cell_type": "code",
   "execution_count": null,
   "id": "d0a6d908",
   "metadata": {
    "ExecuteTime": {
     "start_time": "2024-03-25T01:27:43.825Z"
    }
   },
   "outputs": [],
   "source": [
    "indices = np.argsort(model.coef_[0])[::-1]"
   ]
  },
  {
   "cell_type": "code",
   "execution_count": null,
   "id": "f261c150",
   "metadata": {},
   "outputs": [],
   "source": []
  },
  {
   "cell_type": "code",
   "execution_count": null,
   "id": "99b64afb",
   "metadata": {
    "ExecuteTime": {
     "start_time": "2024-03-25T01:27:43.827Z"
    }
   },
   "outputs": [],
   "source": [
    "plt.barh(X_train_scaled.columns[indices][range(20)][::-1], model.coef_[0][indices][range(20)][::-1])\n",
    "plt.title(\"Permutation-based feature importance\")\n",
    "plt.xlabel(\"Importance\")\n",
    "plt.ylabel(\"Feature\")\n",
    "plt.show()"
   ]
  },
  {
   "cell_type": "code",
   "execution_count": null,
   "id": "8f3c5f0b",
   "metadata": {
    "ExecuteTime": {
     "start_time": "2024-03-25T01:27:43.828Z"
    }
   },
   "outputs": [],
   "source": [
    "plt.plot(np.log10(model.Cs_), model.scores_[1].T)\n",
    "plt.show()"
   ]
  },
  {
   "cell_type": "code",
   "execution_count": null,
   "id": "5956b1b8",
   "metadata": {
    "ExecuteTime": {
     "start_time": "2024-03-25T01:27:43.829Z"
    }
   },
   "outputs": [],
   "source": [
    "plt.plot(np.log10(model.Cs_), np.mean(model.scores_[1].T, axis = 1))\n",
    "plt.show()"
   ]
  },
  {
   "cell_type": "code",
   "execution_count": null,
   "id": "13aeefa8",
   "metadata": {},
   "outputs": [],
   "source": []
  },
  {
   "cell_type": "code",
   "execution_count": null,
   "id": "e4411471",
   "metadata": {},
   "outputs": [],
   "source": []
  },
  {
   "cell_type": "code",
   "execution_count": null,
   "id": "f3775e66",
   "metadata": {},
   "outputs": [],
   "source": []
  },
  {
   "cell_type": "code",
   "execution_count": null,
   "id": "b5477e6b",
   "metadata": {},
   "outputs": [],
   "source": []
  },
  {
   "cell_type": "markdown",
   "id": "480eb858",
   "metadata": {},
   "source": [
    "# Ranodm forest"
   ]
  },
  {
   "cell_type": "code",
   "execution_count": null,
   "id": "1d02712c",
   "metadata": {
    "ExecuteTime": {
     "start_time": "2024-03-25T01:27:43.835Z"
    }
   },
   "outputs": [],
   "source": [
    "from sklearn.ensemble import RandomForestClassifier\n"
   ]
  },
  {
   "cell_type": "code",
   "execution_count": null,
   "id": "20f26ebb",
   "metadata": {
    "ExecuteTime": {
     "start_time": "2024-03-25T01:27:43.836Z"
    }
   },
   "outputs": [],
   "source": [
    "X_train = pd.concat([X_train, meta_train], axis=1)\n",
    "X_test = pd.concat([X_test, meta_test], axis=1)"
   ]
  },
  {
   "cell_type": "code",
   "execution_count": null,
   "id": "11266616",
   "metadata": {
    "ExecuteTime": {
     "start_time": "2024-03-25T01:27:43.837Z"
    }
   },
   "outputs": [],
   "source": [
    "rf_classifier = RandomForestClassifier(n_estimators=1000, random_state=1234, class_weight=\"balanced\")\n",
    "rf_classifier.fit(X_train, y_train)\n",
    "y_pred = rf_classifier.predict(X_test.loc[:, X_train.columns])"
   ]
  },
  {
   "cell_type": "code",
   "execution_count": null,
   "id": "52f2bcd4",
   "metadata": {
    "ExecuteTime": {
     "start_time": "2024-03-25T01:27:43.839Z"
    }
   },
   "outputs": [],
   "source": [
    "accuracy = accuracy_score(y_test, y_pred)"
   ]
  },
  {
   "cell_type": "code",
   "execution_count": null,
   "id": "0deb2503",
   "metadata": {
    "ExecuteTime": {
     "start_time": "2024-03-25T01:27:43.840Z"
    }
   },
   "outputs": [],
   "source": [
    "accuracy"
   ]
  },
  {
   "cell_type": "code",
   "execution_count": null,
   "id": "80d8956d",
   "metadata": {
    "ExecuteTime": {
     "start_time": "2024-03-25T01:27:43.841Z"
    }
   },
   "outputs": [],
   "source": [
    "pd.crosstab(y_pred, y_test)"
   ]
  },
  {
   "cell_type": "code",
   "execution_count": null,
   "id": "ea405a21",
   "metadata": {
    "ExecuteTime": {
     "start_time": "2024-03-25T01:27:43.843Z"
    }
   },
   "outputs": [],
   "source": [
    "pd.crosstab(meta.loc[y_test.index].high_risk, meta.loc[y_test.index].death_from_disease)"
   ]
  },
  {
   "cell_type": "code",
   "execution_count": null,
   "id": "5052d3f0",
   "metadata": {
    "ExecuteTime": {
     "start_time": "2024-03-25T01:27:43.844Z"
    }
   },
   "outputs": [],
   "source": [
    "print(classification_report(y_test, y_pred))"
   ]
  },
  {
   "cell_type": "code",
   "execution_count": null,
   "id": "1db11633",
   "metadata": {
    "ExecuteTime": {
     "start_time": "2024-03-25T01:27:43.845Z"
    }
   },
   "outputs": [],
   "source": [
    "importances = rf_classifier.feature_importances_\n",
    "\n",
    "# Sort feature importances in descending order\n",
    "indices = np.argsort(importances)[::-1]"
   ]
  },
  {
   "cell_type": "code",
   "execution_count": null,
   "id": "f0746bce",
   "metadata": {
    "ExecuteTime": {
     "start_time": "2024-03-25T01:27:43.847Z"
    }
   },
   "outputs": [],
   "source": [
    "# Print the feature ranking\n",
    "print(\"Feature ranking:\")\n",
    "for f in range(20):\n",
    "    print(\"%d. %s: feature %d (%f)\" % (f + 1, X_train.columns[indices[f]], indices[f], importances[indices[f]]))"
   ]
  },
  {
   "cell_type": "code",
   "execution_count": null,
   "id": "2c3f73b6",
   "metadata": {
    "ExecuteTime": {
     "start_time": "2024-03-25T01:27:43.848Z"
    }
   },
   "outputs": [],
   "source": [
    "plt.barh(X_train.columns[indices][range(20)][::-1], importances[indices][range(20)][::-1])\n",
    "plt.title(\"Permutation-based feature importance\")\n",
    "plt.xlabel(\"Importance\")\n",
    "plt.ylabel(\"Feature\")\n",
    "plt.show()"
   ]
  },
  {
   "cell_type": "code",
   "execution_count": null,
   "id": "58c24c48",
   "metadata": {},
   "outputs": [],
   "source": []
  },
  {
   "cell_type": "code",
   "execution_count": null,
   "id": "bc5501f5",
   "metadata": {},
   "outputs": [],
   "source": []
  },
  {
   "cell_type": "code",
   "execution_count": null,
   "id": "c54876b7",
   "metadata": {},
   "outputs": [],
   "source": []
  },
  {
   "cell_type": "code",
   "execution_count": null,
   "id": "5bbb980c",
   "metadata": {},
   "outputs": [],
   "source": []
  },
  {
   "cell_type": "code",
   "execution_count": null,
   "id": "92f4150c",
   "metadata": {},
   "outputs": [],
   "source": []
  },
  {
   "cell_type": "code",
   "execution_count": null,
   "id": "fa1fdf97",
   "metadata": {},
   "outputs": [],
   "source": []
  },
  {
   "cell_type": "code",
   "execution_count": null,
   "id": "c0df095e",
   "metadata": {},
   "outputs": [],
   "source": []
  }
 ],
 "metadata": {
  "kernelspec": {
   "display_name": "Python 3 (ipykernel)",
   "language": "python",
   "name": "python3"
  },
  "language_info": {
   "codemirror_mode": {
    "name": "ipython",
    "version": 3
   },
   "file_extension": ".py",
   "mimetype": "text/x-python",
   "name": "python",
   "nbconvert_exporter": "python",
   "pygments_lexer": "ipython3",
   "version": "3.10.7"
  }
 },
 "nbformat": 4,
 "nbformat_minor": 5
}
