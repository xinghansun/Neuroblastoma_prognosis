{
 "cells": [
  {
   "cell_type": "code",
   "execution_count": 1,
   "id": "9f87386f",
   "metadata": {
    "ExecuteTime": {
     "end_time": "2024-04-11T02:05:00.239075Z",
     "start_time": "2024-04-11T02:04:58.499309Z"
    }
   },
   "outputs": [],
   "source": [
    "import gzip\n",
    "\n",
    "import pandas as pd\n",
    "import numpy as np\n",
    "\n",
    "from sklearn.model_selection import train_test_split, GridSearchCV\n",
    "from sklearn.metrics import roc_auc_score\n",
    "from sklearn.preprocessing import MinMaxScaler, StandardScaler\n",
    "\n",
    "from matplotlib import pyplot as plt"
   ]
  },
  {
   "cell_type": "markdown",
   "id": "6f8050eb",
   "metadata": {},
   "source": [
    "# Preprocessing"
   ]
  },
  {
   "cell_type": "markdown",
   "id": "3aadae97",
   "metadata": {},
   "source": [
    "## Meta data"
   ]
  },
  {
   "cell_type": "code",
   "execution_count": 2,
   "id": "de7ec617",
   "metadata": {
    "ExecuteTime": {
     "end_time": "2024-04-11T02:05:00.248182Z",
     "start_time": "2024-04-11T02:05:00.242110Z"
    }
   },
   "outputs": [],
   "source": [
    "def read_geo_series_matrix(file_path):\n",
    "    cols = {}\n",
    "    with gzip.open(file_path, 'rt') as f:\n",
    "        for line in f:\n",
    "            if line.startswith(\"!Sample_title\"):\n",
    "                sampleId = [i.strip('\"') for i in line.split()[1:]]\n",
    "                cols[\"sampleId\"] = sampleId\n",
    "            elif line.startswith(\"!Sample_characteristics_ch1\"):\n",
    "                _ = line[28:].strip().strip('\"').split('\"\\t\"')\n",
    "                category = _[0].split(\": \")[0].replace(\" \", \"_\")\n",
    "                values = [i.split(\": \")[1] for i in _]\n",
    "                cols.update({category: values})\n",
    "    \n",
    "    return pd.DataFrame(cols)"
   ]
  },
  {
   "cell_type": "code",
   "execution_count": 3,
   "id": "3a03c6ab",
   "metadata": {
    "ExecuteTime": {
     "end_time": "2024-04-11T02:05:00.268145Z",
     "start_time": "2024-04-11T02:05:00.251689Z"
    }
   },
   "outputs": [
    {
     "data": {
      "text/plain": [
       "(498, 11)"
      ]
     },
     "execution_count": 3,
     "metadata": {},
     "output_type": "execute_result"
    }
   ],
   "source": [
    "meta = read_geo_series_matrix(\"../rawData/GSE49711_series_matrix.txt.gz\")\n",
    "meta.index = meta.sampleId\n",
    "meta.shape"
   ]
  },
  {
   "cell_type": "code",
   "execution_count": 4,
   "id": "046f633f",
   "metadata": {
    "ExecuteTime": {
     "end_time": "2024-04-11T02:05:00.277782Z",
     "start_time": "2024-04-11T02:05:00.272239Z"
    }
   },
   "outputs": [
    {
     "data": {
      "text/plain": [
       "(272, 11)"
      ]
     },
     "execution_count": 4,
     "metadata": {},
     "output_type": "execute_result"
    }
   ],
   "source": [
    "meta = meta.loc[meta.class_label.isin([\"0\", \"1\"])]\n",
    "meta.shape"
   ]
  },
  {
   "cell_type": "code",
   "execution_count": 5,
   "id": "b3738d43",
   "metadata": {
    "ExecuteTime": {
     "end_time": "2024-04-11T02:05:00.285998Z",
     "start_time": "2024-04-11T02:05:00.280179Z"
    }
   },
   "outputs": [
    {
     "data": {
      "text/plain": [
       "0    181\n",
       "1     91\n",
       "Name: class_label, dtype: int64"
      ]
     },
     "execution_count": 5,
     "metadata": {},
     "output_type": "execute_result"
    }
   ],
   "source": [
    "meta.class_label.value_counts()"
   ]
  },
  {
   "cell_type": "code",
   "execution_count": 6,
   "id": "d52624bb",
   "metadata": {
    "ExecuteTime": {
     "end_time": "2024-04-11T02:05:00.306228Z",
     "start_time": "2024-04-11T02:05:00.288261Z"
    }
   },
   "outputs": [
    {
     "data": {
      "text/html": [
       "<div>\n",
       "<style scoped>\n",
       "    .dataframe tbody tr th:only-of-type {\n",
       "        vertical-align: middle;\n",
       "    }\n",
       "\n",
       "    .dataframe tbody tr th {\n",
       "        vertical-align: top;\n",
       "    }\n",
       "\n",
       "    .dataframe thead th {\n",
       "        text-align: right;\n",
       "    }\n",
       "</style>\n",
       "<table border=\"1\" class=\"dataframe\">\n",
       "  <thead>\n",
       "    <tr style=\"text-align: right;\">\n",
       "      <th>class_label</th>\n",
       "      <th>0</th>\n",
       "      <th>1</th>\n",
       "    </tr>\n",
       "    <tr>\n",
       "      <th>inss_stage</th>\n",
       "      <th></th>\n",
       "      <th></th>\n",
       "    </tr>\n",
       "  </thead>\n",
       "  <tbody>\n",
       "    <tr>\n",
       "      <th>1</th>\n",
       "      <td>100</td>\n",
       "      <td>1</td>\n",
       "    </tr>\n",
       "    <tr>\n",
       "      <th>2</th>\n",
       "      <td>44</td>\n",
       "      <td>4</td>\n",
       "    </tr>\n",
       "    <tr>\n",
       "      <th>3</th>\n",
       "      <td>7</td>\n",
       "      <td>14</td>\n",
       "    </tr>\n",
       "    <tr>\n",
       "      <th>4</th>\n",
       "      <td>0</td>\n",
       "      <td>68</td>\n",
       "    </tr>\n",
       "    <tr>\n",
       "      <th>4S</th>\n",
       "      <td>30</td>\n",
       "      <td>4</td>\n",
       "    </tr>\n",
       "  </tbody>\n",
       "</table>\n",
       "</div>"
      ],
      "text/plain": [
       "class_label    0   1\n",
       "inss_stage          \n",
       "1            100   1\n",
       "2             44   4\n",
       "3              7  14\n",
       "4              0  68\n",
       "4S            30   4"
      ]
     },
     "execution_count": 6,
     "metadata": {},
     "output_type": "execute_result"
    }
   ],
   "source": [
    "pd.crosstab(meta.inss_stage, meta.class_label)"
   ]
  },
  {
   "cell_type": "code",
   "execution_count": 7,
   "id": "950a8a28",
   "metadata": {
    "ExecuteTime": {
     "end_time": "2024-04-11T02:05:00.328564Z",
     "start_time": "2024-04-11T02:05:00.309322Z"
    }
   },
   "outputs": [
    {
     "data": {
      "text/html": [
       "<div>\n",
       "<style scoped>\n",
       "    .dataframe tbody tr th:only-of-type {\n",
       "        vertical-align: middle;\n",
       "    }\n",
       "\n",
       "    .dataframe tbody tr th {\n",
       "        vertical-align: top;\n",
       "    }\n",
       "\n",
       "    .dataframe thead th {\n",
       "        text-align: right;\n",
       "    }\n",
       "</style>\n",
       "<table border=\"1\" class=\"dataframe\">\n",
       "  <thead>\n",
       "    <tr style=\"text-align: right;\">\n",
       "      <th>class_label</th>\n",
       "      <th>0</th>\n",
       "      <th>1</th>\n",
       "    </tr>\n",
       "    <tr>\n",
       "      <th>high_risk</th>\n",
       "      <th></th>\n",
       "      <th></th>\n",
       "    </tr>\n",
       "  </thead>\n",
       "  <tbody>\n",
       "    <tr>\n",
       "      <th>0</th>\n",
       "      <td>181</td>\n",
       "      <td>13</td>\n",
       "    </tr>\n",
       "    <tr>\n",
       "      <th>1</th>\n",
       "      <td>0</td>\n",
       "      <td>78</td>\n",
       "    </tr>\n",
       "  </tbody>\n",
       "</table>\n",
       "</div>"
      ],
      "text/plain": [
       "class_label    0   1\n",
       "high_risk           \n",
       "0            181  13\n",
       "1              0  78"
      ]
     },
     "execution_count": 7,
     "metadata": {},
     "output_type": "execute_result"
    }
   ],
   "source": [
    "pd.crosstab(meta.high_risk, meta.class_label)"
   ]
  },
  {
   "cell_type": "code",
   "execution_count": 8,
   "id": "115e30d2",
   "metadata": {
    "ExecuteTime": {
     "end_time": "2024-04-11T02:05:00.338056Z",
     "start_time": "2024-04-11T02:05:00.331385Z"
    }
   },
   "outputs": [],
   "source": [
    "meta.Sex.replace({\"M\":1, \"F\":0}, inplace=True)\n",
    "meta.replace({\"N/A\":np.nan}, inplace=True)"
   ]
  },
  {
   "cell_type": "code",
   "execution_count": 9,
   "id": "afde69ff",
   "metadata": {
    "ExecuteTime": {
     "end_time": "2024-04-11T02:05:00.345444Z",
     "start_time": "2024-04-11T02:05:00.340953Z"
    }
   },
   "outputs": [],
   "source": [
    "stage_dummy = pd.get_dummies(meta.inss_stage, prefix='inss_stage')\n",
    "meta = pd.concat([meta, stage_dummy], axis=1)"
   ]
  },
  {
   "cell_type": "code",
   "execution_count": 10,
   "id": "32eb9cd7",
   "metadata": {
    "ExecuteTime": {
     "end_time": "2024-04-11T02:05:00.356371Z",
     "start_time": "2024-04-11T02:05:00.351052Z"
    }
   },
   "outputs": [],
   "source": [
    "meta.dropna(inplace=True)"
   ]
  },
  {
   "cell_type": "code",
   "execution_count": 11,
   "id": "6cd3c21e",
   "metadata": {
    "ExecuteTime": {
     "end_time": "2024-04-11T02:05:00.364215Z",
     "start_time": "2024-04-11T02:05:00.359119Z"
    }
   },
   "outputs": [],
   "source": [
    "meta = meta[[\"Sex\", \"age_at_diagnosis\", \n",
    "              \"high_risk\", \"class_label\"\n",
    "              ]]"
   ]
  },
  {
   "cell_type": "code",
   "execution_count": 12,
   "id": "d61993ca",
   "metadata": {
    "ExecuteTime": {
     "end_time": "2024-04-11T02:05:00.370439Z",
     "start_time": "2024-04-11T02:05:00.366695Z"
    }
   },
   "outputs": [],
   "source": [
    "meta = meta.astype(\"double\")"
   ]
  },
  {
   "cell_type": "code",
   "execution_count": 13,
   "id": "6b209e2c",
   "metadata": {
    "ExecuteTime": {
     "end_time": "2024-04-11T02:05:00.383596Z",
     "start_time": "2024-04-11T02:05:00.372650Z"
    }
   },
   "outputs": [
    {
     "data": {
      "text/html": [
       "<div>\n",
       "<style scoped>\n",
       "    .dataframe tbody tr th:only-of-type {\n",
       "        vertical-align: middle;\n",
       "    }\n",
       "\n",
       "    .dataframe tbody tr th {\n",
       "        vertical-align: top;\n",
       "    }\n",
       "\n",
       "    .dataframe thead th {\n",
       "        text-align: right;\n",
       "    }\n",
       "</style>\n",
       "<table border=\"1\" class=\"dataframe\">\n",
       "  <thead>\n",
       "    <tr style=\"text-align: right;\">\n",
       "      <th></th>\n",
       "      <th>Sex</th>\n",
       "      <th>age_at_diagnosis</th>\n",
       "      <th>high_risk</th>\n",
       "      <th>class_label</th>\n",
       "    </tr>\n",
       "    <tr>\n",
       "      <th>sampleId</th>\n",
       "      <th></th>\n",
       "      <th></th>\n",
       "      <th></th>\n",
       "      <th></th>\n",
       "    </tr>\n",
       "  </thead>\n",
       "  <tbody>\n",
       "    <tr>\n",
       "      <th>SEQC_NB001</th>\n",
       "      <td>1.0</td>\n",
       "      <td>987.0</td>\n",
       "      <td>1.0</td>\n",
       "      <td>1.0</td>\n",
       "    </tr>\n",
       "    <tr>\n",
       "      <th>SEQC_NB002</th>\n",
       "      <td>1.0</td>\n",
       "      <td>1808.0</td>\n",
       "      <td>1.0</td>\n",
       "      <td>1.0</td>\n",
       "    </tr>\n",
       "    <tr>\n",
       "      <th>SEQC_NB003</th>\n",
       "      <td>0.0</td>\n",
       "      <td>625.0</td>\n",
       "      <td>1.0</td>\n",
       "      <td>1.0</td>\n",
       "    </tr>\n",
       "    <tr>\n",
       "      <th>SEQC_NB005</th>\n",
       "      <td>0.0</td>\n",
       "      <td>536.0</td>\n",
       "      <td>1.0</td>\n",
       "      <td>1.0</td>\n",
       "    </tr>\n",
       "    <tr>\n",
       "      <th>SEQC_NB006</th>\n",
       "      <td>1.0</td>\n",
       "      <td>147.0</td>\n",
       "      <td>0.0</td>\n",
       "      <td>0.0</td>\n",
       "    </tr>\n",
       "  </tbody>\n",
       "</table>\n",
       "</div>"
      ],
      "text/plain": [
       "            Sex  age_at_diagnosis  high_risk  class_label\n",
       "sampleId                                                 \n",
       "SEQC_NB001  1.0             987.0        1.0          1.0\n",
       "SEQC_NB002  1.0            1808.0        1.0          1.0\n",
       "SEQC_NB003  0.0             625.0        1.0          1.0\n",
       "SEQC_NB005  0.0             536.0        1.0          1.0\n",
       "SEQC_NB006  1.0             147.0        0.0          0.0"
      ]
     },
     "execution_count": 13,
     "metadata": {},
     "output_type": "execute_result"
    }
   ],
   "source": [
    "meta.head()"
   ]
  },
  {
   "cell_type": "code",
   "execution_count": null,
   "id": "2fbafb6a",
   "metadata": {},
   "outputs": [],
   "source": []
  },
  {
   "cell_type": "markdown",
   "id": "196ae431",
   "metadata": {},
   "source": [
    "## Gene level"
   ]
  },
  {
   "cell_type": "code",
   "execution_count": 14,
   "id": "471e3f5d",
   "metadata": {
    "ExecuteTime": {
     "end_time": "2024-04-11T02:05:04.932671Z",
     "start_time": "2024-04-11T02:05:00.386137Z"
    }
   },
   "outputs": [],
   "source": [
    "rna = pd.read_table(\"../rawData/GSE49711_SEQC_NB_TAV_G_log2.final.txt.gz\")\n",
    "rna = rna[~ rna.Gene.str.contains(\"[a-z]\")]\n",
    "rna.drop([\"Gene_set\",\"NCBI_gene_ID\",\"RefSeq_transcript_ID\",\"Chromosome\",\"Strand\",\"Start\",\"End\"], axis=1, inplace=True)\n",
    "X = rna.iloc[:,1:].transpose()\n",
    "X.columns = rna.Gene"
   ]
  },
  {
   "cell_type": "code",
   "execution_count": 15,
   "id": "f52bdc51",
   "metadata": {
    "ExecuteTime": {
     "end_time": "2024-04-11T02:05:04.978886Z",
     "start_time": "2024-04-11T02:05:04.935145Z"
    }
   },
   "outputs": [],
   "source": [
    "X = X.loc[meta.index] # keep only samples with valid Ys"
   ]
  },
  {
   "cell_type": "code",
   "execution_count": 16,
   "id": "aace9141",
   "metadata": {
    "ExecuteTime": {
     "end_time": "2024-04-11T02:05:05.043362Z",
     "start_time": "2024-04-11T02:05:04.981659Z"
    }
   },
   "outputs": [],
   "source": [
    "X_train, X_, y_train, y_ = train_test_split(X, meta.class_label.astype(\"int\"), test_size=0.3, random_state=1234)"
   ]
  },
  {
   "cell_type": "code",
   "execution_count": 17,
   "id": "baaa8d1a",
   "metadata": {
    "ExecuteTime": {
     "end_time": "2024-04-11T02:05:05.060426Z",
     "start_time": "2024-04-11T02:05:05.045985Z"
    }
   },
   "outputs": [],
   "source": [
    "X_val, X_test, y_val, y_test = train_test_split(X_, y_, test_size = 0.5, random_state=1234)"
   ]
  },
  {
   "cell_type": "markdown",
   "id": "248bb4de",
   "metadata": {},
   "source": [
    "# QC"
   ]
  },
  {
   "cell_type": "code",
   "execution_count": 18,
   "id": "a0ce43e9",
   "metadata": {
    "ExecuteTime": {
     "end_time": "2024-04-11T02:05:05.092269Z",
     "start_time": "2024-04-11T02:05:05.062801Z"
    }
   },
   "outputs": [
    {
     "data": {
      "text/html": [
       "<div>\n",
       "<style scoped>\n",
       "    .dataframe tbody tr th:only-of-type {\n",
       "        vertical-align: middle;\n",
       "    }\n",
       "\n",
       "    .dataframe tbody tr th {\n",
       "        vertical-align: top;\n",
       "    }\n",
       "\n",
       "    .dataframe thead th {\n",
       "        text-align: right;\n",
       "    }\n",
       "</style>\n",
       "<table border=\"1\" class=\"dataframe\">\n",
       "  <thead>\n",
       "    <tr style=\"text-align: right;\">\n",
       "      <th>Gene</th>\n",
       "      <th>A1BGAS</th>\n",
       "      <th>A1CF</th>\n",
       "      <th>A2BP1</th>\n",
       "      <th>A2LD1</th>\n",
       "      <th>A2M</th>\n",
       "      <th>A2ML1</th>\n",
       "      <th>A2MP1</th>\n",
       "      <th>A4GALT</th>\n",
       "      <th>A4GNT</th>\n",
       "      <th>AAA1</th>\n",
       "      <th>...</th>\n",
       "      <th>ZWINT</th>\n",
       "      <th>ZXDA</th>\n",
       "      <th>ZXDB</th>\n",
       "      <th>ZXDC</th>\n",
       "      <th>ZYG11A</th>\n",
       "      <th>ZYG11AP1</th>\n",
       "      <th>ZYG11B</th>\n",
       "      <th>ZYX</th>\n",
       "      <th>ZZEF1</th>\n",
       "      <th>ZZZ3</th>\n",
       "    </tr>\n",
       "    <tr>\n",
       "      <th>sampleId</th>\n",
       "      <th></th>\n",
       "      <th></th>\n",
       "      <th></th>\n",
       "      <th></th>\n",
       "      <th></th>\n",
       "      <th></th>\n",
       "      <th></th>\n",
       "      <th></th>\n",
       "      <th></th>\n",
       "      <th></th>\n",
       "      <th></th>\n",
       "      <th></th>\n",
       "      <th></th>\n",
       "      <th></th>\n",
       "      <th></th>\n",
       "      <th></th>\n",
       "      <th></th>\n",
       "      <th></th>\n",
       "      <th></th>\n",
       "      <th></th>\n",
       "      <th></th>\n",
       "    </tr>\n",
       "  </thead>\n",
       "  <tbody>\n",
       "    <tr>\n",
       "      <th>SEQC_NB096</th>\n",
       "      <td>16.1434</td>\n",
       "      <td>0.0000</td>\n",
       "      <td>19.0748</td>\n",
       "      <td>15.2934</td>\n",
       "      <td>20.7683</td>\n",
       "      <td>11.5196</td>\n",
       "      <td>0.0000</td>\n",
       "      <td>14.7459</td>\n",
       "      <td>11.5679</td>\n",
       "      <td>0.0000</td>\n",
       "      <td>...</td>\n",
       "      <td>19.0694</td>\n",
       "      <td>14.8084</td>\n",
       "      <td>15.7586</td>\n",
       "      <td>18.6447</td>\n",
       "      <td>8.6691</td>\n",
       "      <td>0.0</td>\n",
       "      <td>19.1588</td>\n",
       "      <td>19.9347</td>\n",
       "      <td>19.0222</td>\n",
       "      <td>18.5647</td>\n",
       "    </tr>\n",
       "    <tr>\n",
       "      <th>SEQC_NB171</th>\n",
       "      <td>16.6942</td>\n",
       "      <td>0.0000</td>\n",
       "      <td>19.3659</td>\n",
       "      <td>16.2770</td>\n",
       "      <td>20.4752</td>\n",
       "      <td>11.3862</td>\n",
       "      <td>0.0000</td>\n",
       "      <td>14.6333</td>\n",
       "      <td>0.0000</td>\n",
       "      <td>9.5845</td>\n",
       "      <td>...</td>\n",
       "      <td>17.2522</td>\n",
       "      <td>15.3770</td>\n",
       "      <td>16.3842</td>\n",
       "      <td>17.5520</td>\n",
       "      <td>8.2163</td>\n",
       "      <td>0.0</td>\n",
       "      <td>19.8668</td>\n",
       "      <td>19.5434</td>\n",
       "      <td>19.2513</td>\n",
       "      <td>18.5950</td>\n",
       "    </tr>\n",
       "    <tr>\n",
       "      <th>SEQC_NB269</th>\n",
       "      <td>16.5818</td>\n",
       "      <td>0.0000</td>\n",
       "      <td>14.1723</td>\n",
       "      <td>14.8611</td>\n",
       "      <td>21.1105</td>\n",
       "      <td>0.0000</td>\n",
       "      <td>0.0000</td>\n",
       "      <td>16.0039</td>\n",
       "      <td>11.6946</td>\n",
       "      <td>0.0000</td>\n",
       "      <td>...</td>\n",
       "      <td>19.0551</td>\n",
       "      <td>15.3910</td>\n",
       "      <td>16.7814</td>\n",
       "      <td>18.5558</td>\n",
       "      <td>12.1821</td>\n",
       "      <td>0.0</td>\n",
       "      <td>19.2358</td>\n",
       "      <td>20.5655</td>\n",
       "      <td>18.6922</td>\n",
       "      <td>18.7672</td>\n",
       "    </tr>\n",
       "    <tr>\n",
       "      <th>SEQC_NB049</th>\n",
       "      <td>16.7387</td>\n",
       "      <td>10.4891</td>\n",
       "      <td>18.7599</td>\n",
       "      <td>15.1532</td>\n",
       "      <td>22.9345</td>\n",
       "      <td>12.7586</td>\n",
       "      <td>12.7942</td>\n",
       "      <td>16.7859</td>\n",
       "      <td>11.4065</td>\n",
       "      <td>0.0000</td>\n",
       "      <td>...</td>\n",
       "      <td>16.8487</td>\n",
       "      <td>15.0145</td>\n",
       "      <td>16.8378</td>\n",
       "      <td>18.2700</td>\n",
       "      <td>11.0086</td>\n",
       "      <td>0.0</td>\n",
       "      <td>20.2806</td>\n",
       "      <td>20.5645</td>\n",
       "      <td>19.2627</td>\n",
       "      <td>19.1636</td>\n",
       "    </tr>\n",
       "    <tr>\n",
       "      <th>SEQC_NB172</th>\n",
       "      <td>16.2936</td>\n",
       "      <td>0.0000</td>\n",
       "      <td>17.7391</td>\n",
       "      <td>14.2521</td>\n",
       "      <td>20.8566</td>\n",
       "      <td>0.0000</td>\n",
       "      <td>11.6096</td>\n",
       "      <td>17.2614</td>\n",
       "      <td>11.4280</td>\n",
       "      <td>0.0000</td>\n",
       "      <td>...</td>\n",
       "      <td>18.0842</td>\n",
       "      <td>14.3071</td>\n",
       "      <td>15.9978</td>\n",
       "      <td>17.8533</td>\n",
       "      <td>9.1085</td>\n",
       "      <td>0.0</td>\n",
       "      <td>19.6168</td>\n",
       "      <td>20.0779</td>\n",
       "      <td>19.0250</td>\n",
       "      <td>19.0993</td>\n",
       "    </tr>\n",
       "    <tr>\n",
       "      <th>...</th>\n",
       "      <td>...</td>\n",
       "      <td>...</td>\n",
       "      <td>...</td>\n",
       "      <td>...</td>\n",
       "      <td>...</td>\n",
       "      <td>...</td>\n",
       "      <td>...</td>\n",
       "      <td>...</td>\n",
       "      <td>...</td>\n",
       "      <td>...</td>\n",
       "      <td>...</td>\n",
       "      <td>...</td>\n",
       "      <td>...</td>\n",
       "      <td>...</td>\n",
       "      <td>...</td>\n",
       "      <td>...</td>\n",
       "      <td>...</td>\n",
       "      <td>...</td>\n",
       "      <td>...</td>\n",
       "      <td>...</td>\n",
       "      <td>...</td>\n",
       "    </tr>\n",
       "    <tr>\n",
       "      <th>SEQC_NB218</th>\n",
       "      <td>17.2790</td>\n",
       "      <td>0.0000</td>\n",
       "      <td>18.4650</td>\n",
       "      <td>14.6535</td>\n",
       "      <td>20.3641</td>\n",
       "      <td>13.4018</td>\n",
       "      <td>0.0000</td>\n",
       "      <td>14.5823</td>\n",
       "      <td>11.6175</td>\n",
       "      <td>0.0000</td>\n",
       "      <td>...</td>\n",
       "      <td>18.7860</td>\n",
       "      <td>14.6715</td>\n",
       "      <td>16.2595</td>\n",
       "      <td>18.8309</td>\n",
       "      <td>10.5602</td>\n",
       "      <td>0.0</td>\n",
       "      <td>19.9761</td>\n",
       "      <td>20.0579</td>\n",
       "      <td>19.3179</td>\n",
       "      <td>18.6212</td>\n",
       "    </tr>\n",
       "    <tr>\n",
       "      <th>SEQC_NB244</th>\n",
       "      <td>17.2562</td>\n",
       "      <td>10.6036</td>\n",
       "      <td>18.8896</td>\n",
       "      <td>15.7909</td>\n",
       "      <td>22.0597</td>\n",
       "      <td>10.9153</td>\n",
       "      <td>11.1139</td>\n",
       "      <td>16.4155</td>\n",
       "      <td>11.7244</td>\n",
       "      <td>10.4736</td>\n",
       "      <td>...</td>\n",
       "      <td>16.1998</td>\n",
       "      <td>15.2354</td>\n",
       "      <td>16.8942</td>\n",
       "      <td>18.4276</td>\n",
       "      <td>12.9273</td>\n",
       "      <td>0.0</td>\n",
       "      <td>19.9850</td>\n",
       "      <td>21.0383</td>\n",
       "      <td>19.1075</td>\n",
       "      <td>18.5479</td>\n",
       "    </tr>\n",
       "    <tr>\n",
       "      <th>SEQC_NB328</th>\n",
       "      <td>16.6707</td>\n",
       "      <td>0.0000</td>\n",
       "      <td>18.9982</td>\n",
       "      <td>13.2940</td>\n",
       "      <td>18.0203</td>\n",
       "      <td>11.4796</td>\n",
       "      <td>0.0000</td>\n",
       "      <td>13.2410</td>\n",
       "      <td>0.0000</td>\n",
       "      <td>7.9131</td>\n",
       "      <td>...</td>\n",
       "      <td>19.4974</td>\n",
       "      <td>14.9767</td>\n",
       "      <td>16.5994</td>\n",
       "      <td>18.1310</td>\n",
       "      <td>12.3963</td>\n",
       "      <td>0.0</td>\n",
       "      <td>19.6283</td>\n",
       "      <td>19.0428</td>\n",
       "      <td>18.5762</td>\n",
       "      <td>19.4349</td>\n",
       "    </tr>\n",
       "    <tr>\n",
       "      <th>SEQC_NB071</th>\n",
       "      <td>16.3514</td>\n",
       "      <td>0.0000</td>\n",
       "      <td>20.4639</td>\n",
       "      <td>15.1518</td>\n",
       "      <td>20.9448</td>\n",
       "      <td>13.1729</td>\n",
       "      <td>12.0765</td>\n",
       "      <td>15.2849</td>\n",
       "      <td>10.7249</td>\n",
       "      <td>0.0000</td>\n",
       "      <td>...</td>\n",
       "      <td>16.5523</td>\n",
       "      <td>15.0629</td>\n",
       "      <td>16.6580</td>\n",
       "      <td>18.4442</td>\n",
       "      <td>8.8091</td>\n",
       "      <td>0.0</td>\n",
       "      <td>20.1446</td>\n",
       "      <td>20.4357</td>\n",
       "      <td>19.6406</td>\n",
       "      <td>19.0869</td>\n",
       "    </tr>\n",
       "    <tr>\n",
       "      <th>SEQC_NB345</th>\n",
       "      <td>16.5875</td>\n",
       "      <td>10.5796</td>\n",
       "      <td>18.8393</td>\n",
       "      <td>15.0234</td>\n",
       "      <td>21.8447</td>\n",
       "      <td>11.1479</td>\n",
       "      <td>13.0898</td>\n",
       "      <td>15.8165</td>\n",
       "      <td>11.1404</td>\n",
       "      <td>8.1734</td>\n",
       "      <td>...</td>\n",
       "      <td>17.5843</td>\n",
       "      <td>14.0443</td>\n",
       "      <td>15.8474</td>\n",
       "      <td>18.3536</td>\n",
       "      <td>11.1821</td>\n",
       "      <td>0.0</td>\n",
       "      <td>20.1971</td>\n",
       "      <td>20.5426</td>\n",
       "      <td>19.5997</td>\n",
       "      <td>18.8631</td>\n",
       "    </tr>\n",
       "  </tbody>\n",
       "</table>\n",
       "<p>189 rows × 21123 columns</p>\n",
       "</div>"
      ],
      "text/plain": [
       "Gene         A1BGAS     A1CF    A2BP1    A2LD1      A2M    A2ML1    A2MP1  \\\n",
       "sampleId                                                                    \n",
       "SEQC_NB096  16.1434   0.0000  19.0748  15.2934  20.7683  11.5196   0.0000   \n",
       "SEQC_NB171  16.6942   0.0000  19.3659  16.2770  20.4752  11.3862   0.0000   \n",
       "SEQC_NB269  16.5818   0.0000  14.1723  14.8611  21.1105   0.0000   0.0000   \n",
       "SEQC_NB049  16.7387  10.4891  18.7599  15.1532  22.9345  12.7586  12.7942   \n",
       "SEQC_NB172  16.2936   0.0000  17.7391  14.2521  20.8566   0.0000  11.6096   \n",
       "...             ...      ...      ...      ...      ...      ...      ...   \n",
       "SEQC_NB218  17.2790   0.0000  18.4650  14.6535  20.3641  13.4018   0.0000   \n",
       "SEQC_NB244  17.2562  10.6036  18.8896  15.7909  22.0597  10.9153  11.1139   \n",
       "SEQC_NB328  16.6707   0.0000  18.9982  13.2940  18.0203  11.4796   0.0000   \n",
       "SEQC_NB071  16.3514   0.0000  20.4639  15.1518  20.9448  13.1729  12.0765   \n",
       "SEQC_NB345  16.5875  10.5796  18.8393  15.0234  21.8447  11.1479  13.0898   \n",
       "\n",
       "Gene         A4GALT    A4GNT     AAA1  ...    ZWINT     ZXDA     ZXDB  \\\n",
       "sampleId                               ...                              \n",
       "SEQC_NB096  14.7459  11.5679   0.0000  ...  19.0694  14.8084  15.7586   \n",
       "SEQC_NB171  14.6333   0.0000   9.5845  ...  17.2522  15.3770  16.3842   \n",
       "SEQC_NB269  16.0039  11.6946   0.0000  ...  19.0551  15.3910  16.7814   \n",
       "SEQC_NB049  16.7859  11.4065   0.0000  ...  16.8487  15.0145  16.8378   \n",
       "SEQC_NB172  17.2614  11.4280   0.0000  ...  18.0842  14.3071  15.9978   \n",
       "...             ...      ...      ...  ...      ...      ...      ...   \n",
       "SEQC_NB218  14.5823  11.6175   0.0000  ...  18.7860  14.6715  16.2595   \n",
       "SEQC_NB244  16.4155  11.7244  10.4736  ...  16.1998  15.2354  16.8942   \n",
       "SEQC_NB328  13.2410   0.0000   7.9131  ...  19.4974  14.9767  16.5994   \n",
       "SEQC_NB071  15.2849  10.7249   0.0000  ...  16.5523  15.0629  16.6580   \n",
       "SEQC_NB345  15.8165  11.1404   8.1734  ...  17.5843  14.0443  15.8474   \n",
       "\n",
       "Gene           ZXDC   ZYG11A  ZYG11AP1   ZYG11B      ZYX    ZZEF1     ZZZ3  \n",
       "sampleId                                                                    \n",
       "SEQC_NB096  18.6447   8.6691       0.0  19.1588  19.9347  19.0222  18.5647  \n",
       "SEQC_NB171  17.5520   8.2163       0.0  19.8668  19.5434  19.2513  18.5950  \n",
       "SEQC_NB269  18.5558  12.1821       0.0  19.2358  20.5655  18.6922  18.7672  \n",
       "SEQC_NB049  18.2700  11.0086       0.0  20.2806  20.5645  19.2627  19.1636  \n",
       "SEQC_NB172  17.8533   9.1085       0.0  19.6168  20.0779  19.0250  19.0993  \n",
       "...             ...      ...       ...      ...      ...      ...      ...  \n",
       "SEQC_NB218  18.8309  10.5602       0.0  19.9761  20.0579  19.3179  18.6212  \n",
       "SEQC_NB244  18.4276  12.9273       0.0  19.9850  21.0383  19.1075  18.5479  \n",
       "SEQC_NB328  18.1310  12.3963       0.0  19.6283  19.0428  18.5762  19.4349  \n",
       "SEQC_NB071  18.4442   8.8091       0.0  20.1446  20.4357  19.6406  19.0869  \n",
       "SEQC_NB345  18.3536  11.1821       0.0  20.1971  20.5426  19.5997  18.8631  \n",
       "\n",
       "[189 rows x 21123 columns]"
      ]
     },
     "execution_count": 18,
     "metadata": {},
     "output_type": "execute_result"
    }
   ],
   "source": [
    "X_train"
   ]
  },
  {
   "cell_type": "code",
   "execution_count": 19,
   "id": "aeb04316",
   "metadata": {
    "ExecuteTime": {
     "end_time": "2024-04-11T02:05:05.347857Z",
     "start_time": "2024-04-11T02:05:05.094976Z"
    }
   },
   "outputs": [
    {
     "data": {
      "text/plain": [
       "<Axes: >"
      ]
     },
     "execution_count": 19,
     "metadata": {},
     "output_type": "execute_result"
    },
    {
     "data": {
      "image/png": "[encoded data removed]",
      "text/plain": [
       "<Figure size 640x480 with 1 Axes>"
      ]
     },
     "metadata": {},
     "output_type": "display_data"
    }
   ],
   "source": [
    "(X_train == 0).sum(axis=1).hist() # per-sample expression"
   ]
  },
  {
   "cell_type": "code",
   "execution_count": 20,
   "id": "6177e57b",
   "metadata": {
    "ExecuteTime": {
     "end_time": "2024-04-11T02:05:06.054591Z",
     "start_time": "2024-04-11T02:05:05.350776Z"
    }
   },
   "outputs": [
    {
     "data": {
      "text/plain": [
       "<Axes: >"
      ]
     },
     "execution_count": 20,
     "metadata": {},
     "output_type": "execute_result"
    },
    {
     "data": {
      "image/png": "[encoded data removed]",
      "text/plain": [
       "<Figure size 640x480 with 1 Axes>"
      ]
     },
     "metadata": {},
     "output_type": "display_data"
    }
   ],
   "source": [
    "X_train.median().hist(bins=100)"
   ]
  },
  {
   "cell_type": "code",
   "execution_count": 21,
   "id": "8ec23663",
   "metadata": {
    "ExecuteTime": {
     "end_time": "2024-04-11T02:05:06.406888Z",
     "start_time": "2024-04-11T02:05:06.057264Z"
    }
   },
   "outputs": [
    {
     "data": {
      "text/plain": [
       "3417"
      ]
     },
     "execution_count": 21,
     "metadata": {},
     "output_type": "execute_result"
    }
   ],
   "source": [
    "sum( X_train.median() <= 5)"
   ]
  },
  {
   "cell_type": "code",
   "execution_count": 22,
   "id": "03d99444",
   "metadata": {
    "ExecuteTime": {
     "end_time": "2024-04-11T02:05:06.733741Z",
     "start_time": "2024-04-11T02:05:06.409389Z"
    }
   },
   "outputs": [],
   "source": [
    "X_train = X_train.loc[:, X_train.median() > 5]"
   ]
  },
  {
   "cell_type": "code",
   "execution_count": 23,
   "id": "5020b4d7",
   "metadata": {
    "ExecuteTime": {
     "end_time": "2024-04-11T02:05:06.740608Z",
     "start_time": "2024-04-11T02:05:06.736186Z"
    }
   },
   "outputs": [
    {
     "data": {
      "text/plain": [
       "(189, 17706)"
      ]
     },
     "execution_count": 23,
     "metadata": {},
     "output_type": "execute_result"
    }
   ],
   "source": [
    "X_train.shape"
   ]
  },
  {
   "cell_type": "code",
   "execution_count": 24,
   "id": "377b7688",
   "metadata": {
    "ExecuteTime": {
     "end_time": "2024-04-11T02:05:06.772311Z",
     "start_time": "2024-04-11T02:05:06.743241Z"
    }
   },
   "outputs": [
    {
     "data": {
      "text/html": [
       "<div>\n",
       "<style scoped>\n",
       "    .dataframe tbody tr th:only-of-type {\n",
       "        vertical-align: middle;\n",
       "    }\n",
       "\n",
       "    .dataframe tbody tr th {\n",
       "        vertical-align: top;\n",
       "    }\n",
       "\n",
       "    .dataframe thead th {\n",
       "        text-align: right;\n",
       "    }\n",
       "</style>\n",
       "<table border=\"1\" class=\"dataframe\">\n",
       "  <thead>\n",
       "    <tr style=\"text-align: right;\">\n",
       "      <th>Gene</th>\n",
       "      <th>A1BGAS</th>\n",
       "      <th>A2BP1</th>\n",
       "      <th>A2LD1</th>\n",
       "      <th>A2M</th>\n",
       "      <th>A2ML1</th>\n",
       "      <th>A2MP1</th>\n",
       "      <th>A4GALT</th>\n",
       "      <th>A4GNT</th>\n",
       "      <th>AAAS</th>\n",
       "      <th>AACS</th>\n",
       "      <th>...</th>\n",
       "      <th>ZWILCH</th>\n",
       "      <th>ZWINT</th>\n",
       "      <th>ZXDA</th>\n",
       "      <th>ZXDB</th>\n",
       "      <th>ZXDC</th>\n",
       "      <th>ZYG11A</th>\n",
       "      <th>ZYG11B</th>\n",
       "      <th>ZYX</th>\n",
       "      <th>ZZEF1</th>\n",
       "      <th>ZZZ3</th>\n",
       "    </tr>\n",
       "    <tr>\n",
       "      <th>sampleId</th>\n",
       "      <th></th>\n",
       "      <th></th>\n",
       "      <th></th>\n",
       "      <th></th>\n",
       "      <th></th>\n",
       "      <th></th>\n",
       "      <th></th>\n",
       "      <th></th>\n",
       "      <th></th>\n",
       "      <th></th>\n",
       "      <th></th>\n",
       "      <th></th>\n",
       "      <th></th>\n",
       "      <th></th>\n",
       "      <th></th>\n",
       "      <th></th>\n",
       "      <th></th>\n",
       "      <th></th>\n",
       "      <th></th>\n",
       "      <th></th>\n",
       "      <th></th>\n",
       "    </tr>\n",
       "  </thead>\n",
       "  <tbody>\n",
       "    <tr>\n",
       "      <th>SEQC_NB096</th>\n",
       "      <td>16.1434</td>\n",
       "      <td>19.0748</td>\n",
       "      <td>15.2934</td>\n",
       "      <td>20.7683</td>\n",
       "      <td>11.5196</td>\n",
       "      <td>0.0000</td>\n",
       "      <td>14.7459</td>\n",
       "      <td>11.5679</td>\n",
       "      <td>19.8594</td>\n",
       "      <td>18.6028</td>\n",
       "      <td>...</td>\n",
       "      <td>18.9712</td>\n",
       "      <td>19.0694</td>\n",
       "      <td>14.8084</td>\n",
       "      <td>15.7586</td>\n",
       "      <td>18.6447</td>\n",
       "      <td>8.6691</td>\n",
       "      <td>19.1588</td>\n",
       "      <td>19.9347</td>\n",
       "      <td>19.0222</td>\n",
       "      <td>18.5647</td>\n",
       "    </tr>\n",
       "    <tr>\n",
       "      <th>SEQC_NB171</th>\n",
       "      <td>16.6942</td>\n",
       "      <td>19.3659</td>\n",
       "      <td>16.2770</td>\n",
       "      <td>20.4752</td>\n",
       "      <td>11.3862</td>\n",
       "      <td>0.0000</td>\n",
       "      <td>14.6333</td>\n",
       "      <td>0.0000</td>\n",
       "      <td>19.3421</td>\n",
       "      <td>17.6418</td>\n",
       "      <td>...</td>\n",
       "      <td>18.4411</td>\n",
       "      <td>17.2522</td>\n",
       "      <td>15.3770</td>\n",
       "      <td>16.3842</td>\n",
       "      <td>17.5520</td>\n",
       "      <td>8.2163</td>\n",
       "      <td>19.8668</td>\n",
       "      <td>19.5434</td>\n",
       "      <td>19.2513</td>\n",
       "      <td>18.5950</td>\n",
       "    </tr>\n",
       "    <tr>\n",
       "      <th>SEQC_NB269</th>\n",
       "      <td>16.5818</td>\n",
       "      <td>14.1723</td>\n",
       "      <td>14.8611</td>\n",
       "      <td>21.1105</td>\n",
       "      <td>0.0000</td>\n",
       "      <td>0.0000</td>\n",
       "      <td>16.0039</td>\n",
       "      <td>11.6946</td>\n",
       "      <td>19.7536</td>\n",
       "      <td>18.1755</td>\n",
       "      <td>...</td>\n",
       "      <td>18.9633</td>\n",
       "      <td>19.0551</td>\n",
       "      <td>15.3910</td>\n",
       "      <td>16.7814</td>\n",
       "      <td>18.5558</td>\n",
       "      <td>12.1821</td>\n",
       "      <td>19.2358</td>\n",
       "      <td>20.5655</td>\n",
       "      <td>18.6922</td>\n",
       "      <td>18.7672</td>\n",
       "    </tr>\n",
       "    <tr>\n",
       "      <th>SEQC_NB049</th>\n",
       "      <td>16.7387</td>\n",
       "      <td>18.7599</td>\n",
       "      <td>15.1532</td>\n",
       "      <td>22.9345</td>\n",
       "      <td>12.7586</td>\n",
       "      <td>12.7942</td>\n",
       "      <td>16.7859</td>\n",
       "      <td>11.4065</td>\n",
       "      <td>19.4793</td>\n",
       "      <td>17.4337</td>\n",
       "      <td>...</td>\n",
       "      <td>17.3081</td>\n",
       "      <td>16.8487</td>\n",
       "      <td>15.0145</td>\n",
       "      <td>16.8378</td>\n",
       "      <td>18.2700</td>\n",
       "      <td>11.0086</td>\n",
       "      <td>20.2806</td>\n",
       "      <td>20.5645</td>\n",
       "      <td>19.2627</td>\n",
       "      <td>19.1636</td>\n",
       "    </tr>\n",
       "    <tr>\n",
       "      <th>SEQC_NB172</th>\n",
       "      <td>16.2936</td>\n",
       "      <td>17.7391</td>\n",
       "      <td>14.2521</td>\n",
       "      <td>20.8566</td>\n",
       "      <td>0.0000</td>\n",
       "      <td>11.6096</td>\n",
       "      <td>17.2614</td>\n",
       "      <td>11.4280</td>\n",
       "      <td>19.6679</td>\n",
       "      <td>18.7213</td>\n",
       "      <td>...</td>\n",
       "      <td>17.9166</td>\n",
       "      <td>18.0842</td>\n",
       "      <td>14.3071</td>\n",
       "      <td>15.9978</td>\n",
       "      <td>17.8533</td>\n",
       "      <td>9.1085</td>\n",
       "      <td>19.6168</td>\n",
       "      <td>20.0779</td>\n",
       "      <td>19.0250</td>\n",
       "      <td>19.0993</td>\n",
       "    </tr>\n",
       "    <tr>\n",
       "      <th>...</th>\n",
       "      <td>...</td>\n",
       "      <td>...</td>\n",
       "      <td>...</td>\n",
       "      <td>...</td>\n",
       "      <td>...</td>\n",
       "      <td>...</td>\n",
       "      <td>...</td>\n",
       "      <td>...</td>\n",
       "      <td>...</td>\n",
       "      <td>...</td>\n",
       "      <td>...</td>\n",
       "      <td>...</td>\n",
       "      <td>...</td>\n",
       "      <td>...</td>\n",
       "      <td>...</td>\n",
       "      <td>...</td>\n",
       "      <td>...</td>\n",
       "      <td>...</td>\n",
       "      <td>...</td>\n",
       "      <td>...</td>\n",
       "      <td>...</td>\n",
       "    </tr>\n",
       "    <tr>\n",
       "      <th>SEQC_NB218</th>\n",
       "      <td>17.2790</td>\n",
       "      <td>18.4650</td>\n",
       "      <td>14.6535</td>\n",
       "      <td>20.3641</td>\n",
       "      <td>13.4018</td>\n",
       "      <td>0.0000</td>\n",
       "      <td>14.5823</td>\n",
       "      <td>11.6175</td>\n",
       "      <td>20.3679</td>\n",
       "      <td>18.9736</td>\n",
       "      <td>...</td>\n",
       "      <td>18.4607</td>\n",
       "      <td>18.7860</td>\n",
       "      <td>14.6715</td>\n",
       "      <td>16.2595</td>\n",
       "      <td>18.8309</td>\n",
       "      <td>10.5602</td>\n",
       "      <td>19.9761</td>\n",
       "      <td>20.0579</td>\n",
       "      <td>19.3179</td>\n",
       "      <td>18.6212</td>\n",
       "    </tr>\n",
       "    <tr>\n",
       "      <th>SEQC_NB244</th>\n",
       "      <td>17.2562</td>\n",
       "      <td>18.8896</td>\n",
       "      <td>15.7909</td>\n",
       "      <td>22.0597</td>\n",
       "      <td>10.9153</td>\n",
       "      <td>11.1139</td>\n",
       "      <td>16.4155</td>\n",
       "      <td>11.7244</td>\n",
       "      <td>19.3001</td>\n",
       "      <td>18.0834</td>\n",
       "      <td>...</td>\n",
       "      <td>17.0470</td>\n",
       "      <td>16.1998</td>\n",
       "      <td>15.2354</td>\n",
       "      <td>16.8942</td>\n",
       "      <td>18.4276</td>\n",
       "      <td>12.9273</td>\n",
       "      <td>19.9850</td>\n",
       "      <td>21.0383</td>\n",
       "      <td>19.1075</td>\n",
       "      <td>18.5479</td>\n",
       "    </tr>\n",
       "    <tr>\n",
       "      <th>SEQC_NB328</th>\n",
       "      <td>16.6707</td>\n",
       "      <td>18.9982</td>\n",
       "      <td>13.2940</td>\n",
       "      <td>18.0203</td>\n",
       "      <td>11.4796</td>\n",
       "      <td>0.0000</td>\n",
       "      <td>13.2410</td>\n",
       "      <td>0.0000</td>\n",
       "      <td>20.2103</td>\n",
       "      <td>19.1887</td>\n",
       "      <td>...</td>\n",
       "      <td>18.7715</td>\n",
       "      <td>19.4974</td>\n",
       "      <td>14.9767</td>\n",
       "      <td>16.5994</td>\n",
       "      <td>18.1310</td>\n",
       "      <td>12.3963</td>\n",
       "      <td>19.6283</td>\n",
       "      <td>19.0428</td>\n",
       "      <td>18.5762</td>\n",
       "      <td>19.4349</td>\n",
       "    </tr>\n",
       "    <tr>\n",
       "      <th>SEQC_NB071</th>\n",
       "      <td>16.3514</td>\n",
       "      <td>20.4639</td>\n",
       "      <td>15.1518</td>\n",
       "      <td>20.9448</td>\n",
       "      <td>13.1729</td>\n",
       "      <td>12.0765</td>\n",
       "      <td>15.2849</td>\n",
       "      <td>10.7249</td>\n",
       "      <td>19.5692</td>\n",
       "      <td>17.7931</td>\n",
       "      <td>...</td>\n",
       "      <td>18.2094</td>\n",
       "      <td>16.5523</td>\n",
       "      <td>15.0629</td>\n",
       "      <td>16.6580</td>\n",
       "      <td>18.4442</td>\n",
       "      <td>8.8091</td>\n",
       "      <td>20.1446</td>\n",
       "      <td>20.4357</td>\n",
       "      <td>19.6406</td>\n",
       "      <td>19.0869</td>\n",
       "    </tr>\n",
       "    <tr>\n",
       "      <th>SEQC_NB345</th>\n",
       "      <td>16.5875</td>\n",
       "      <td>18.8393</td>\n",
       "      <td>15.0234</td>\n",
       "      <td>21.8447</td>\n",
       "      <td>11.1479</td>\n",
       "      <td>13.0898</td>\n",
       "      <td>15.8165</td>\n",
       "      <td>11.1404</td>\n",
       "      <td>19.8066</td>\n",
       "      <td>18.4988</td>\n",
       "      <td>...</td>\n",
       "      <td>18.1294</td>\n",
       "      <td>17.5843</td>\n",
       "      <td>14.0443</td>\n",
       "      <td>15.8474</td>\n",
       "      <td>18.3536</td>\n",
       "      <td>11.1821</td>\n",
       "      <td>20.1971</td>\n",
       "      <td>20.5426</td>\n",
       "      <td>19.5997</td>\n",
       "      <td>18.8631</td>\n",
       "    </tr>\n",
       "  </tbody>\n",
       "</table>\n",
       "<p>189 rows × 17706 columns</p>\n",
       "</div>"
      ],
      "text/plain": [
       "Gene         A1BGAS    A2BP1    A2LD1      A2M    A2ML1    A2MP1   A4GALT  \\\n",
       "sampleId                                                                    \n",
       "SEQC_NB096  16.1434  19.0748  15.2934  20.7683  11.5196   0.0000  14.7459   \n",
       "SEQC_NB171  16.6942  19.3659  16.2770  20.4752  11.3862   0.0000  14.6333   \n",
       "SEQC_NB269  16.5818  14.1723  14.8611  21.1105   0.0000   0.0000  16.0039   \n",
       "SEQC_NB049  16.7387  18.7599  15.1532  22.9345  12.7586  12.7942  16.7859   \n",
       "SEQC_NB172  16.2936  17.7391  14.2521  20.8566   0.0000  11.6096  17.2614   \n",
       "...             ...      ...      ...      ...      ...      ...      ...   \n",
       "SEQC_NB218  17.2790  18.4650  14.6535  20.3641  13.4018   0.0000  14.5823   \n",
       "SEQC_NB244  17.2562  18.8896  15.7909  22.0597  10.9153  11.1139  16.4155   \n",
       "SEQC_NB328  16.6707  18.9982  13.2940  18.0203  11.4796   0.0000  13.2410   \n",
       "SEQC_NB071  16.3514  20.4639  15.1518  20.9448  13.1729  12.0765  15.2849   \n",
       "SEQC_NB345  16.5875  18.8393  15.0234  21.8447  11.1479  13.0898  15.8165   \n",
       "\n",
       "Gene          A4GNT     AAAS     AACS  ...   ZWILCH    ZWINT     ZXDA  \\\n",
       "sampleId                               ...                              \n",
       "SEQC_NB096  11.5679  19.8594  18.6028  ...  18.9712  19.0694  14.8084   \n",
       "SEQC_NB171   0.0000  19.3421  17.6418  ...  18.4411  17.2522  15.3770   \n",
       "SEQC_NB269  11.6946  19.7536  18.1755  ...  18.9633  19.0551  15.3910   \n",
       "SEQC_NB049  11.4065  19.4793  17.4337  ...  17.3081  16.8487  15.0145   \n",
       "SEQC_NB172  11.4280  19.6679  18.7213  ...  17.9166  18.0842  14.3071   \n",
       "...             ...      ...      ...  ...      ...      ...      ...   \n",
       "SEQC_NB218  11.6175  20.3679  18.9736  ...  18.4607  18.7860  14.6715   \n",
       "SEQC_NB244  11.7244  19.3001  18.0834  ...  17.0470  16.1998  15.2354   \n",
       "SEQC_NB328   0.0000  20.2103  19.1887  ...  18.7715  19.4974  14.9767   \n",
       "SEQC_NB071  10.7249  19.5692  17.7931  ...  18.2094  16.5523  15.0629   \n",
       "SEQC_NB345  11.1404  19.8066  18.4988  ...  18.1294  17.5843  14.0443   \n",
       "\n",
       "Gene           ZXDB     ZXDC   ZYG11A   ZYG11B      ZYX    ZZEF1     ZZZ3  \n",
       "sampleId                                                                   \n",
       "SEQC_NB096  15.7586  18.6447   8.6691  19.1588  19.9347  19.0222  18.5647  \n",
       "SEQC_NB171  16.3842  17.5520   8.2163  19.8668  19.5434  19.2513  18.5950  \n",
       "SEQC_NB269  16.7814  18.5558  12.1821  19.2358  20.5655  18.6922  18.7672  \n",
       "SEQC_NB049  16.8378  18.2700  11.0086  20.2806  20.5645  19.2627  19.1636  \n",
       "SEQC_NB172  15.9978  17.8533   9.1085  19.6168  20.0779  19.0250  19.0993  \n",
       "...             ...      ...      ...      ...      ...      ...      ...  \n",
       "SEQC_NB218  16.2595  18.8309  10.5602  19.9761  20.0579  19.3179  18.6212  \n",
       "SEQC_NB244  16.8942  18.4276  12.9273  19.9850  21.0383  19.1075  18.5479  \n",
       "SEQC_NB328  16.5994  18.1310  12.3963  19.6283  19.0428  18.5762  19.4349  \n",
       "SEQC_NB071  16.6580  18.4442   8.8091  20.1446  20.4357  19.6406  19.0869  \n",
       "SEQC_NB345  15.8474  18.3536  11.1821  20.1971  20.5426  19.5997  18.8631  \n",
       "\n",
       "[189 rows x 17706 columns]"
      ]
     },
     "execution_count": 24,
     "metadata": {},
     "output_type": "execute_result"
    }
   ],
   "source": [
    "X_train"
   ]
  },
  {
   "cell_type": "code",
   "execution_count": 25,
   "id": "88515902",
   "metadata": {
    "ExecuteTime": {
     "end_time": "2024-04-11T02:05:07.068320Z",
     "start_time": "2024-04-11T02:05:06.774678Z"
    }
   },
   "outputs": [],
   "source": [
    "scaler = StandardScaler()\n",
    "X_train_scaled = scaler.fit_transform(X_train)\n",
    "X_train_scaled = pd.DataFrame(X_train_scaled, index=X_train.index, columns=X_train.columns)"
   ]
  },
  {
   "cell_type": "code",
   "execution_count": 26,
   "id": "985e3d9b",
   "metadata": {
    "ExecuteTime": {
     "end_time": "2024-04-11T02:05:07.211208Z",
     "start_time": "2024-04-11T02:05:07.070822Z"
    }
   },
   "outputs": [],
   "source": [
    "X_val_scaled = scaler.transform(X_val.loc[:, X_train.columns])\n",
    "X_val_scaled = pd.DataFrame(X_val_scaled, index=X_val.index, columns=X_train.columns)"
   ]
  },
  {
   "cell_type": "code",
   "execution_count": 27,
   "id": "e632a0de",
   "metadata": {
    "ExecuteTime": {
     "end_time": "2024-04-11T02:05:07.354591Z",
     "start_time": "2024-04-11T02:05:07.213727Z"
    }
   },
   "outputs": [],
   "source": [
    "X_test_scaled = scaler.transform(X_test.loc[:, X_train.columns])\n",
    "X_test_scaled = pd.DataFrame(X_test_scaled, index=X_test.index, columns=X_train.columns)"
   ]
  },
  {
   "cell_type": "code",
   "execution_count": null,
   "id": "e507b371",
   "metadata": {},
   "outputs": [],
   "source": []
  },
  {
   "cell_type": "code",
   "execution_count": null,
   "id": "848bbca7",
   "metadata": {
    "ExecuteTime": {
     "end_time": "2024-03-24T21:14:29.922489Z",
     "start_time": "2024-03-24T21:14:29.918939Z"
    }
   },
   "outputs": [],
   "source": []
  },
  {
   "cell_type": "code",
   "execution_count": 28,
   "id": "fd02bd68",
   "metadata": {
    "ExecuteTime": {
     "end_time": "2024-04-11T02:05:07.373503Z",
     "start_time": "2024-04-11T02:05:07.367302Z"
    }
   },
   "outputs": [],
   "source": [
    "meta_train = meta.loc[X_train.index]\n",
    "age_scaler = StandardScaler()\n",
    "age_at_diagnosis = age_scaler.fit_transform(np.array(meta_train.age_at_diagnosis).reshape(-1, 1))\n",
    "meta_train.age_at_diagnosis = age_at_diagnosis\n",
    "meta_train.drop([\"class_label\", \"high_risk\"], axis = 1, inplace=True)"
   ]
  },
  {
   "cell_type": "code",
   "execution_count": 29,
   "id": "0498aebd",
   "metadata": {
    "ExecuteTime": {
     "end_time": "2024-04-11T02:05:07.403484Z",
     "start_time": "2024-04-11T02:05:07.376446Z"
    }
   },
   "outputs": [],
   "source": [
    "X_train_scaled = pd.concat([X_train_scaled, meta_train], axis=1)"
   ]
  },
  {
   "cell_type": "code",
   "execution_count": null,
   "id": "2d41bc4d",
   "metadata": {},
   "outputs": [],
   "source": []
  },
  {
   "cell_type": "code",
   "execution_count": 30,
   "id": "ee2be2d3",
   "metadata": {
    "ExecuteTime": {
     "end_time": "2024-04-11T02:05:07.411830Z",
     "start_time": "2024-04-11T02:05:07.405739Z"
    }
   },
   "outputs": [],
   "source": [
    "meta_val = meta.loc[X_val.index]\n",
    "age_at_diagnosis = age_scaler.transform(np.array(meta_val.age_at_diagnosis).reshape(-1, 1))\n",
    "meta_val.age_at_diagnosis = age_at_diagnosis\n",
    "meta_val.drop([\"class_label\", \"high_risk\"], axis = 1, inplace=True)"
   ]
  },
  {
   "cell_type": "code",
   "execution_count": 31,
   "id": "5f49f5f7",
   "metadata": {
    "ExecuteTime": {
     "end_time": "2024-04-11T02:05:07.422857Z",
     "start_time": "2024-04-11T02:05:07.414680Z"
    }
   },
   "outputs": [],
   "source": [
    "X_val_scaled = pd.concat([X_val_scaled, meta_val], axis=1)"
   ]
  },
  {
   "cell_type": "code",
   "execution_count": null,
   "id": "2b93a12e",
   "metadata": {},
   "outputs": [],
   "source": []
  },
  {
   "cell_type": "code",
   "execution_count": 32,
   "id": "8269cd68",
   "metadata": {
    "ExecuteTime": {
     "end_time": "2024-04-11T02:05:07.431932Z",
     "start_time": "2024-04-11T02:05:07.425371Z"
    }
   },
   "outputs": [],
   "source": [
    "meta_test = meta.loc[X_test.index]\n",
    "age_at_diagnosis = age_scaler.transform(np.array(meta_test.age_at_diagnosis).reshape(-1, 1))\n",
    "meta_test.age_at_diagnosis = age_at_diagnosis\n",
    "meta_test.drop([\"class_label\", \"high_risk\"], axis = 1, inplace=True)"
   ]
  },
  {
   "cell_type": "code",
   "execution_count": 33,
   "id": "ef5bed51",
   "metadata": {
    "ExecuteTime": {
     "end_time": "2024-04-11T02:05:07.440836Z",
     "start_time": "2024-04-11T02:05:07.434658Z"
    }
   },
   "outputs": [],
   "source": [
    "X_test_scaled = pd.concat([X_test_scaled, meta_test], axis=1)"
   ]
  },
  {
   "cell_type": "code",
   "execution_count": null,
   "id": "fbd9e625",
   "metadata": {},
   "outputs": [],
   "source": []
  },
  {
   "cell_type": "code",
   "execution_count": null,
   "id": "a29222a7",
   "metadata": {},
   "outputs": [],
   "source": []
  },
  {
   "cell_type": "markdown",
   "id": "21f69757",
   "metadata": {},
   "source": [
    "# L1 Logistic regression"
   ]
  },
  {
   "cell_type": "code",
   "execution_count": 34,
   "id": "e6a3b207",
   "metadata": {
    "ExecuteTime": {
     "end_time": "2024-04-11T02:05:07.477765Z",
     "start_time": "2024-04-11T02:05:07.443176Z"
    }
   },
   "outputs": [],
   "source": [
    "from sklearn.linear_model import LogisticRegression, LogisticRegressionCV\n",
    "from sklearn.metrics import accuracy_score, classification_report"
   ]
  },
  {
   "cell_type": "code",
   "execution_count": 35,
   "id": "f2afa29c",
   "metadata": {
    "ExecuteTime": {
     "end_time": "2024-04-11T02:05:21.036497Z",
     "start_time": "2024-04-11T02:05:07.480368Z"
    }
   },
   "outputs": [
    {
     "data": {
      "text/html": [
       "<style>#sk-container-id-1 {color: black;background-color: white;}#sk-container-id-1 pre{padding: 0;}#sk-container-id-1 div.sk-toggleable {background-color: white;}#sk-container-id-1 label.sk-toggleable__label {cursor: pointer;display: block;width: 100%;margin-bottom: 0;padding: 0.3em;box-sizing: border-box;text-align: center;}#sk-container-id-1 label.sk-toggleable__label-arrow:before {content: \"▸\";float: left;margin-right: 0.25em;color: #696969;}#sk-container-id-1 label.sk-toggleable__label-arrow:hover:before {color: black;}#sk-container-id-1 div.sk-estimator:hover label.sk-toggleable__label-arrow:before {color: black;}#sk-container-id-1 div.sk-toggleable__content {max-height: 0;max-width: 0;overflow: hidden;text-align: left;background-color: #f0f8ff;}#sk-container-id-1 div.sk-toggleable__content pre {margin: 0.2em;color: black;border-radius: 0.25em;background-color: #f0f8ff;}#sk-container-id-1 input.sk-toggleable__control:checked~div.sk-toggleable__content {max-height: 200px;max-width: 100%;overflow: auto;}#sk-container-id-1 input.sk-toggleable__control:checked~label.sk-toggleable__label-arrow:before {content: \"▾\";}#sk-container-id-1 div.sk-estimator input.sk-toggleable__control:checked~label.sk-toggleable__label {background-color: #d4ebff;}#sk-container-id-1 div.sk-label input.sk-toggleable__control:checked~label.sk-toggleable__label {background-color: #d4ebff;}#sk-container-id-1 input.sk-hidden--visually {border: 0;clip: rect(1px 1px 1px 1px);clip: rect(1px, 1px, 1px, 1px);height: 1px;margin: -1px;overflow: hidden;padding: 0;position: absolute;width: 1px;}#sk-container-id-1 div.sk-estimator {font-family: monospace;background-color: #f0f8ff;border: 1px dotted black;border-radius: 0.25em;box-sizing: border-box;margin-bottom: 0.5em;}#sk-container-id-1 div.sk-estimator:hover {background-color: #d4ebff;}#sk-container-id-1 div.sk-parallel-item::after {content: \"\";width: 100%;border-bottom: 1px solid gray;flex-grow: 1;}#sk-container-id-1 div.sk-label:hover label.sk-toggleable__label {background-color: #d4ebff;}#sk-container-id-1 div.sk-serial::before {content: \"\";position: absolute;border-left: 1px solid gray;box-sizing: border-box;top: 0;bottom: 0;left: 50%;z-index: 0;}#sk-container-id-1 div.sk-serial {display: flex;flex-direction: column;align-items: center;background-color: white;padding-right: 0.2em;padding-left: 0.2em;position: relative;}#sk-container-id-1 div.sk-item {position: relative;z-index: 1;}#sk-container-id-1 div.sk-parallel {display: flex;align-items: stretch;justify-content: center;background-color: white;position: relative;}#sk-container-id-1 div.sk-item::before, #sk-container-id-1 div.sk-parallel-item::before {content: \"\";position: absolute;border-left: 1px solid gray;box-sizing: border-box;top: 0;bottom: 0;left: 50%;z-index: -1;}#sk-container-id-1 div.sk-parallel-item {display: flex;flex-direction: column;z-index: 1;position: relative;background-color: white;}#sk-container-id-1 div.sk-parallel-item:first-child::after {align-self: flex-end;width: 50%;}#sk-container-id-1 div.sk-parallel-item:last-child::after {align-self: flex-start;width: 50%;}#sk-container-id-1 div.sk-parallel-item:only-child::after {width: 0;}#sk-container-id-1 div.sk-dashed-wrapped {border: 1px dashed gray;margin: 0 0.4em 0.5em 0.4em;box-sizing: border-box;padding-bottom: 0.4em;background-color: white;}#sk-container-id-1 div.sk-label label {font-family: monospace;font-weight: bold;display: inline-block;line-height: 1.2em;}#sk-container-id-1 div.sk-label-container {text-align: center;}#sk-container-id-1 div.sk-container {/* jupyter's `normalize.less` sets `[hidden] { display: none; }` but bootstrap.min.css set `[hidden] { display: none !important; }` so we also need the `!important` here to be able to override the default hidden behavior on the sphinx rendered scikit-learn.org. See: https://github.com/scikit-learn/scikit-learn/issues/21755 */display: inline-block !important;position: relative;}#sk-container-id-1 div.sk-text-repr-fallback {display: none;}</style><div id=\"sk-container-id-1\" class=\"sk-top-container\"><div class=\"sk-text-repr-fallback\"><pre>LogisticRegressionCV(Cs=30, class_weight=&#x27;balanced&#x27;, cv=5, n_jobs=4,\n",
       "                     penalty=&#x27;l1&#x27;, random_state=1234, solver=&#x27;liblinear&#x27;)</pre><b>In a Jupyter environment, please rerun this cell to show the HTML representation or trust the notebook. <br />On GitHub, the HTML representation is unable to render, please try loading this page with nbviewer.org.</b></div><div class=\"sk-container\" hidden><div class=\"sk-item\"><div class=\"sk-estimator sk-toggleable\"><input class=\"sk-toggleable__control sk-hidden--visually\" id=\"sk-estimator-id-1\" type=\"checkbox\" checked><label for=\"sk-estimator-id-1\" class=\"sk-toggleable__label sk-toggleable__label-arrow\">LogisticRegressionCV</label><div class=\"sk-toggleable__content\"><pre>LogisticRegressionCV(Cs=30, class_weight=&#x27;balanced&#x27;, cv=5, n_jobs=4,\n",
       "                     penalty=&#x27;l1&#x27;, random_state=1234, solver=&#x27;liblinear&#x27;)</pre></div></div></div></div></div>"
      ],
      "text/plain": [
       "LogisticRegressionCV(Cs=30, class_weight='balanced', cv=5, n_jobs=4,\n",
       "                     penalty='l1', random_state=1234, solver='liblinear')"
      ]
     },
     "execution_count": 35,
     "metadata": {},
     "output_type": "execute_result"
    }
   ],
   "source": [
    "model = LogisticRegressionCV(penalty='l1', solver='liblinear', cv = 5, random_state=1234, Cs= 30, class_weight=\"balanced\", n_jobs= 4)\n",
    "model.fit(X_train_scaled, y_train)"
   ]
  },
  {
   "cell_type": "code",
   "execution_count": 36,
   "id": "fc4507e2",
   "metadata": {
    "ExecuteTime": {
     "end_time": "2024-04-11T02:05:21.186946Z",
     "start_time": "2024-04-11T02:05:21.039228Z"
    }
   },
   "outputs": [],
   "source": [
    "# Make predictions on the val set\n",
    "y_pred = model.predict(X_val_scaled)\n",
    "\n",
    "# Evaluate the model\n",
    "accuracy = accuracy_score(y_val, y_pred)"
   ]
  },
  {
   "cell_type": "code",
   "execution_count": 37,
   "id": "5bfe753e",
   "metadata": {
    "ExecuteTime": {
     "end_time": "2024-04-11T02:05:21.194722Z",
     "start_time": "2024-04-11T02:05:21.189715Z"
    }
   },
   "outputs": [
    {
     "data": {
      "text/plain": [
       "0.975"
      ]
     },
     "execution_count": 37,
     "metadata": {},
     "output_type": "execute_result"
    }
   ],
   "source": [
    "accuracy"
   ]
  },
  {
   "cell_type": "code",
   "execution_count": 38,
   "id": "5dbda339",
   "metadata": {
    "ExecuteTime": {
     "end_time": "2024-04-11T02:05:21.206300Z",
     "start_time": "2024-04-11T02:05:21.198180Z"
    }
   },
   "outputs": [
    {
     "data": {
      "text/plain": [
       "0.95"
      ]
     },
     "execution_count": 38,
     "metadata": {},
     "output_type": "execute_result"
    }
   ],
   "source": [
    "roc_auc_score(y_val, y_pred)"
   ]
  },
  {
   "cell_type": "code",
   "execution_count": null,
   "id": "b55afc67",
   "metadata": {},
   "outputs": [],
   "source": []
  },
  {
   "cell_type": "code",
   "execution_count": 39,
   "id": "60933ca9",
   "metadata": {
    "ExecuteTime": {
     "end_time": "2024-04-11T02:05:21.228480Z",
     "start_time": "2024-04-11T02:05:21.209313Z"
    }
   },
   "outputs": [
    {
     "data": {
      "text/html": [
       "<div>\n",
       "<style scoped>\n",
       "    .dataframe tbody tr th:only-of-type {\n",
       "        vertical-align: middle;\n",
       "    }\n",
       "\n",
       "    .dataframe tbody tr th {\n",
       "        vertical-align: top;\n",
       "    }\n",
       "\n",
       "    .dataframe thead th {\n",
       "        text-align: right;\n",
       "    }\n",
       "</style>\n",
       "<table border=\"1\" class=\"dataframe\">\n",
       "  <thead>\n",
       "    <tr style=\"text-align: right;\">\n",
       "      <th>class_label</th>\n",
       "      <th>0</th>\n",
       "      <th>1</th>\n",
       "    </tr>\n",
       "    <tr>\n",
       "      <th>row_0</th>\n",
       "      <th></th>\n",
       "      <th></th>\n",
       "    </tr>\n",
       "  </thead>\n",
       "  <tbody>\n",
       "    <tr>\n",
       "      <th>0</th>\n",
       "      <td>30</td>\n",
       "      <td>1</td>\n",
       "    </tr>\n",
       "    <tr>\n",
       "      <th>1</th>\n",
       "      <td>0</td>\n",
       "      <td>9</td>\n",
       "    </tr>\n",
       "  </tbody>\n",
       "</table>\n",
       "</div>"
      ],
      "text/plain": [
       "class_label   0  1\n",
       "row_0             \n",
       "0            30  1\n",
       "1             0  9"
      ]
     },
     "execution_count": 39,
     "metadata": {},
     "output_type": "execute_result"
    }
   ],
   "source": [
    "pd.crosstab(y_pred, y_val)"
   ]
  },
  {
   "cell_type": "code",
   "execution_count": 40,
   "id": "47d71056",
   "metadata": {
    "ExecuteTime": {
     "end_time": "2024-04-11T02:05:21.254396Z",
     "start_time": "2024-04-11T02:05:21.232430Z"
    }
   },
   "outputs": [
    {
     "data": {
      "text/html": [
       "<div>\n",
       "<style scoped>\n",
       "    .dataframe tbody tr th:only-of-type {\n",
       "        vertical-align: middle;\n",
       "    }\n",
       "\n",
       "    .dataframe tbody tr th {\n",
       "        vertical-align: top;\n",
       "    }\n",
       "\n",
       "    .dataframe thead th {\n",
       "        text-align: right;\n",
       "    }\n",
       "</style>\n",
       "<table border=\"1\" class=\"dataframe\">\n",
       "  <thead>\n",
       "    <tr style=\"text-align: right;\">\n",
       "      <th>class_label</th>\n",
       "      <th>0.0</th>\n",
       "      <th>1.0</th>\n",
       "    </tr>\n",
       "    <tr>\n",
       "      <th>high_risk</th>\n",
       "      <th></th>\n",
       "      <th></th>\n",
       "    </tr>\n",
       "  </thead>\n",
       "  <tbody>\n",
       "    <tr>\n",
       "      <th>0.0</th>\n",
       "      <td>30</td>\n",
       "      <td>2</td>\n",
       "    </tr>\n",
       "    <tr>\n",
       "      <th>1.0</th>\n",
       "      <td>0</td>\n",
       "      <td>8</td>\n",
       "    </tr>\n",
       "  </tbody>\n",
       "</table>\n",
       "</div>"
      ],
      "text/plain": [
       "class_label  0.0  1.0\n",
       "high_risk            \n",
       "0.0           30    2\n",
       "1.0            0    8"
      ]
     },
     "execution_count": 40,
     "metadata": {},
     "output_type": "execute_result"
    }
   ],
   "source": [
    "pd.crosstab(meta.loc[y_val.index].high_risk, meta.loc[y_val.index].class_label)"
   ]
  },
  {
   "cell_type": "code",
   "execution_count": 41,
   "id": "434edf11",
   "metadata": {
    "ExecuteTime": {
     "end_time": "2024-04-11T02:05:21.278149Z",
     "start_time": "2024-04-11T02:05:21.258158Z"
    }
   },
   "outputs": [
    {
     "name": "stdout",
     "output_type": "stream",
     "text": [
      "              precision    recall  f1-score   support\n",
      "\n",
      "           0       0.97      1.00      0.98        30\n",
      "           1       1.00      0.90      0.95        10\n",
      "\n",
      "    accuracy                           0.97        40\n",
      "   macro avg       0.98      0.95      0.97        40\n",
      "weighted avg       0.98      0.97      0.97        40\n",
      "\n"
     ]
    }
   ],
   "source": [
    "print(classification_report(y_val, y_pred))"
   ]
  },
  {
   "cell_type": "code",
   "execution_count": 42,
   "id": "d0f46063",
   "metadata": {
    "ExecuteTime": {
     "end_time": "2024-04-11T02:05:21.765607Z",
     "start_time": "2024-04-11T02:05:21.281126Z"
    }
   },
   "outputs": [
    {
     "data": {
      "image/png": "[encoded data removed]",
      "text/plain": [
       "<Figure size 640x480 with 1 Axes>"
      ]
     },
     "metadata": {},
     "output_type": "display_data"
    }
   ],
   "source": [
    "_ = plt.hist(model.predict_proba(X_val_scaled)[:,0], 100)"
   ]
  },
  {
   "cell_type": "code",
   "execution_count": null,
   "id": "fe525f2b",
   "metadata": {},
   "outputs": [],
   "source": []
  },
  {
   "cell_type": "code",
   "execution_count": 43,
   "id": "836f0a73",
   "metadata": {
    "ExecuteTime": {
     "end_time": "2024-04-11T02:05:22.101307Z",
     "start_time": "2024-04-11T02:05:21.768204Z"
    }
   },
   "outputs": [
    {
     "data": {
      "image/png": "[encoded data removed]",
      "text/plain": [
       "<Figure size 640x480 with 1 Axes>"
      ]
     },
     "metadata": {},
     "output_type": "display_data"
    }
   ],
   "source": [
    "_ = plt.hist(model.coef_[0], 100)"
   ]
  },
  {
   "cell_type": "code",
   "execution_count": 44,
   "id": "44c3ee4b",
   "metadata": {
    "ExecuteTime": {
     "end_time": "2024-04-11T02:05:22.110280Z",
     "start_time": "2024-04-11T02:05:22.104044Z"
    }
   },
   "outputs": [
    {
     "data": {
      "text/plain": [
       "143"
      ]
     },
     "execution_count": 44,
     "metadata": {},
     "output_type": "execute_result"
    }
   ],
   "source": [
    "sum(model.coef_[0] != 0)"
   ]
  },
  {
   "cell_type": "code",
   "execution_count": 45,
   "id": "d0a6d908",
   "metadata": {
    "ExecuteTime": {
     "end_time": "2024-04-11T02:05:22.115653Z",
     "start_time": "2024-04-11T02:05:22.112249Z"
    }
   },
   "outputs": [],
   "source": [
    "indices = np.argsort(model.coef_[0])[::-1]"
   ]
  },
  {
   "cell_type": "code",
   "execution_count": null,
   "id": "f261c150",
   "metadata": {},
   "outputs": [],
   "source": []
  },
  {
   "cell_type": "code",
   "execution_count": 46,
   "id": "99b64afb",
   "metadata": {
    "ExecuteTime": {
     "end_time": "2024-04-11T02:05:22.367735Z",
     "start_time": "2024-04-11T02:05:22.118542Z"
    }
   },
   "outputs": [
    {
     "data": {
      "image/png": "[encoded data removed]",
      "text/plain": [
       "<Figure size 640x480 with 1 Axes>"
      ]
     },
     "metadata": {},
     "output_type": "display_data"
    }
   ],
   "source": [
    "plt.barh(X_train_scaled.columns[indices][range(20)][::-1], model.coef_[0][indices][range(20)][::-1])\n",
    "plt.xlabel(\"Weights\")\n",
    "plt.ylabel(\"Feature\")\n",
    "plt.show()"
   ]
  },
  {
   "cell_type": "code",
   "execution_count": 47,
   "id": "fb038293",
   "metadata": {
    "ExecuteTime": {
     "end_time": "2024-04-11T02:05:22.375907Z",
     "start_time": "2024-04-11T02:05:22.370597Z"
    }
   },
   "outputs": [],
   "source": [
    "num_columns_to_sample = 5000\n",
    "matrix = model.coefs_paths_[1][1]\n",
    "random_column_indices = np.random.choice(matrix.shape[1], num_columns_to_sample, replace=False)\n",
    "\n",
    "# Select the sampled columns\n",
    "sampled_columns = matrix[:, random_column_indices]"
   ]
  },
  {
   "cell_type": "code",
   "execution_count": 48,
   "id": "bbb4a8e7",
   "metadata": {
    "ExecuteTime": {
     "end_time": "2024-04-11T02:05:25.844737Z",
     "start_time": "2024-04-11T02:05:22.378313Z"
    }
   },
   "outputs": [
    {
     "data": {
      "image/png": "[encoded data removed]",
      "text/plain": [
       "<Figure size 640x480 with 1 Axes>"
      ]
     },
     "metadata": {},
     "output_type": "display_data"
    }
   ],
   "source": [
    "plt.plot(np.log10(model.Cs_), sampled_columns)\n",
    "plt.ylabel(\"weights\")\n",
    "plt.show()"
   ]
  },
  {
   "cell_type": "code",
   "execution_count": 49,
   "id": "8f3c5f0b",
   "metadata": {
    "ExecuteTime": {
     "end_time": "2024-04-11T02:05:26.052094Z",
     "start_time": "2024-04-11T02:05:25.847527Z"
    }
   },
   "outputs": [
    {
     "data": {
      "image/png": "[encoded data removed]",
      "text/plain": [
       "<Figure size 640x480 with 1 Axes>"
      ]
     },
     "metadata": {},
     "output_type": "display_data"
    }
   ],
   "source": [
    "plt.plot(np.log10(model.Cs_), model.scores_[1].T)\n",
    "plt.show()"
   ]
  },
  {
   "cell_type": "code",
   "execution_count": 50,
   "id": "5956b1b8",
   "metadata": {
    "ExecuteTime": {
     "end_time": "2024-04-11T02:05:26.242152Z",
     "start_time": "2024-04-11T02:05:26.054695Z"
    }
   },
   "outputs": [
    {
     "data": {
      "image/png": "[encoded data removed]",
      "text/plain": [
       "<Figure size 640x480 with 1 Axes>"
      ]
     },
     "metadata": {},
     "output_type": "display_data"
    }
   ],
   "source": [
    "plt.plot(np.log10(model.Cs_), np.mean(model.scores_[1].T, axis = 1))\n",
    "plt.show()"
   ]
  },
  {
   "cell_type": "code",
   "execution_count": 51,
   "id": "13aeefa8",
   "metadata": {
    "ExecuteTime": {
     "end_time": "2024-04-11T02:05:26.433515Z",
     "start_time": "2024-04-11T02:05:26.244345Z"
    }
   },
   "outputs": [
    {
     "data": {
      "text/plain": [
       "[<matplotlib.lines.Line2D at 0x138e8abc0>]"
      ]
     },
     "execution_count": 51,
     "metadata": {},
     "output_type": "execute_result"
    },
    {
     "data": {
      "image/png": "[encoded data removed]",
      "text/plain": [
       "<Figure size 640x480 with 1 Axes>"
      ]
     },
     "metadata": {},
     "output_type": "display_data"
    }
   ],
   "source": [
    "plt.plot(model.coef_[0][indices][range(1000)])\n"
   ]
  },
  {
   "cell_type": "code",
   "execution_count": null,
   "id": "e4411471",
   "metadata": {},
   "outputs": [],
   "source": []
  },
  {
   "cell_type": "code",
   "execution_count": null,
   "id": "f3775e66",
   "metadata": {},
   "outputs": [],
   "source": []
  },
  {
   "cell_type": "code",
   "execution_count": null,
   "id": "b5477e6b",
   "metadata": {},
   "outputs": [],
   "source": []
  },
  {
   "cell_type": "markdown",
   "id": "480eb858",
   "metadata": {},
   "source": [
    "# Ranodm forest"
   ]
  },
  {
   "cell_type": "code",
   "execution_count": 52,
   "id": "1d02712c",
   "metadata": {
    "ExecuteTime": {
     "end_time": "2024-04-11T02:05:26.481693Z",
     "start_time": "2024-04-11T02:05:26.435900Z"
    }
   },
   "outputs": [],
   "source": [
    "from sklearn.ensemble import RandomForestClassifier\n"
   ]
  },
  {
   "cell_type": "code",
   "execution_count": 53,
   "id": "59694b82",
   "metadata": {
    "ExecuteTime": {
     "end_time": "2024-04-11T02:05:26.524060Z",
     "start_time": "2024-04-11T02:05:26.483968Z"
    }
   },
   "outputs": [],
   "source": [
    "X_train = pd.concat([X_train, meta_train], axis=1)\n",
    "X_val = pd.concat([X_val, meta_val], axis=1)\n",
    "X_test = pd.concat([X_test, meta_test], axis = 1)"
   ]
  },
  {
   "cell_type": "code",
   "execution_count": 54,
   "id": "e1070ee5",
   "metadata": {
    "ExecuteTime": {
     "end_time": "2024-04-11T02:05:26.742648Z",
     "start_time": "2024-04-11T02:05:26.526306Z"
    }
   },
   "outputs": [
    {
     "data": {
      "text/plain": [
       "<Axes: >"
      ]
     },
     "execution_count": 54,
     "metadata": {},
     "output_type": "execute_result"
    },
    {
     "data": {
      "image/png": "[encoded data removed]",
      "text/plain": [
       "<Figure size 640x480 with 1 Axes>"
      ]
     },
     "metadata": {},
     "output_type": "display_data"
    }
   ],
   "source": [
    "meta.age_at_diagnosis.hist()"
   ]
  },
  {
   "cell_type": "code",
   "execution_count": 55,
   "id": "8665d300",
   "metadata": {
    "ExecuteTime": {
     "end_time": "2024-04-11T02:05:26.979387Z",
     "start_time": "2024-04-11T02:05:26.745156Z"
    }
   },
   "outputs": [
    {
     "data": {
      "text/plain": [
       "<Axes: >"
      ]
     },
     "execution_count": 55,
     "metadata": {},
     "output_type": "execute_result"
    },
    {
     "data": {
      "image/png": "[encoded data removed]",
      "text/plain": [
       "<Figure size 640x480 with 1 Axes>"
      ]
     },
     "metadata": {},
     "output_type": "display_data"
    }
   ],
   "source": [
    "X_train.age_at_diagnosis.hist()"
   ]
  },
  {
   "cell_type": "code",
   "execution_count": 56,
   "id": "11266616",
   "metadata": {
    "ExecuteTime": {
     "end_time": "2024-04-11T02:05:26.985229Z",
     "start_time": "2024-04-11T02:05:26.982101Z"
    }
   },
   "outputs": [],
   "source": [
    "rf_classifier_grid = RandomForestClassifier(class_weight=\"balanced\", n_jobs=4)"
   ]
  },
  {
   "cell_type": "code",
   "execution_count": 57,
   "id": "7e180439",
   "metadata": {
    "ExecuteTime": {
     "end_time": "2024-04-11T02:05:26.991669Z",
     "start_time": "2024-04-11T02:05:26.987867Z"
    }
   },
   "outputs": [],
   "source": [
    "# Grid search for params\n",
    "params = {\n",
    "    'n_estimators': [50, 100, 200, 500, 1000],  \n",
    "    'max_depth': [None, 10, 20, 50],  \n",
    "    'min_samples_split': [2, 5, 10],\n",
    "    'min_samples_leaf': [1, 3, 5]\n",
    "}"
   ]
  },
  {
   "cell_type": "code",
   "execution_count": 58,
   "id": "889e859b",
   "metadata": {
    "ExecuteTime": {
     "end_time": "2024-04-11T02:21:27.410943Z",
     "start_time": "2024-04-11T02:05:26.994575Z"
    }
   },
   "outputs": [
    {
     "data": {
      "text/html": [
       "<style>#sk-container-id-2 {color: black;background-color: white;}#sk-container-id-2 pre{padding: 0;}#sk-container-id-2 div.sk-toggleable {background-color: white;}#sk-container-id-2 label.sk-toggleable__label {cursor: pointer;display: block;width: 100%;margin-bottom: 0;padding: 0.3em;box-sizing: border-box;text-align: center;}#sk-container-id-2 label.sk-toggleable__label-arrow:before {content: \"▸\";float: left;margin-right: 0.25em;color: #696969;}#sk-container-id-2 label.sk-toggleable__label-arrow:hover:before {color: black;}#sk-container-id-2 div.sk-estimator:hover label.sk-toggleable__label-arrow:before {color: black;}#sk-container-id-2 div.sk-toggleable__content {max-height: 0;max-width: 0;overflow: hidden;text-align: left;background-color: #f0f8ff;}#sk-container-id-2 div.sk-toggleable__content pre {margin: 0.2em;color: black;border-radius: 0.25em;background-color: #f0f8ff;}#sk-container-id-2 input.sk-toggleable__control:checked~div.sk-toggleable__content {max-height: 200px;max-width: 100%;overflow: auto;}#sk-container-id-2 input.sk-toggleable__control:checked~label.sk-toggleable__label-arrow:before {content: \"▾\";}#sk-container-id-2 div.sk-estimator input.sk-toggleable__control:checked~label.sk-toggleable__label {background-color: #d4ebff;}#sk-container-id-2 div.sk-label input.sk-toggleable__control:checked~label.sk-toggleable__label {background-color: #d4ebff;}#sk-container-id-2 input.sk-hidden--visually {border: 0;clip: rect(1px 1px 1px 1px);clip: rect(1px, 1px, 1px, 1px);height: 1px;margin: -1px;overflow: hidden;padding: 0;position: absolute;width: 1px;}#sk-container-id-2 div.sk-estimator {font-family: monospace;background-color: #f0f8ff;border: 1px dotted black;border-radius: 0.25em;box-sizing: border-box;margin-bottom: 0.5em;}#sk-container-id-2 div.sk-estimator:hover {background-color: #d4ebff;}#sk-container-id-2 div.sk-parallel-item::after {content: \"\";width: 100%;border-bottom: 1px solid gray;flex-grow: 1;}#sk-container-id-2 div.sk-label:hover label.sk-toggleable__label {background-color: #d4ebff;}#sk-container-id-2 div.sk-serial::before {content: \"\";position: absolute;border-left: 1px solid gray;box-sizing: border-box;top: 0;bottom: 0;left: 50%;z-index: 0;}#sk-container-id-2 div.sk-serial {display: flex;flex-direction: column;align-items: center;background-color: white;padding-right: 0.2em;padding-left: 0.2em;position: relative;}#sk-container-id-2 div.sk-item {position: relative;z-index: 1;}#sk-container-id-2 div.sk-parallel {display: flex;align-items: stretch;justify-content: center;background-color: white;position: relative;}#sk-container-id-2 div.sk-item::before, #sk-container-id-2 div.sk-parallel-item::before {content: \"\";position: absolute;border-left: 1px solid gray;box-sizing: border-box;top: 0;bottom: 0;left: 50%;z-index: -1;}#sk-container-id-2 div.sk-parallel-item {display: flex;flex-direction: column;z-index: 1;position: relative;background-color: white;}#sk-container-id-2 div.sk-parallel-item:first-child::after {align-self: flex-end;width: 50%;}#sk-container-id-2 div.sk-parallel-item:last-child::after {align-self: flex-start;width: 50%;}#sk-container-id-2 div.sk-parallel-item:only-child::after {width: 0;}#sk-container-id-2 div.sk-dashed-wrapped {border: 1px dashed gray;margin: 0 0.4em 0.5em 0.4em;box-sizing: border-box;padding-bottom: 0.4em;background-color: white;}#sk-container-id-2 div.sk-label label {font-family: monospace;font-weight: bold;display: inline-block;line-height: 1.2em;}#sk-container-id-2 div.sk-label-container {text-align: center;}#sk-container-id-2 div.sk-container {/* jupyter's `normalize.less` sets `[hidden] { display: none; }` but bootstrap.min.css set `[hidden] { display: none !important; }` so we also need the `!important` here to be able to override the default hidden behavior on the sphinx rendered scikit-learn.org. See: https://github.com/scikit-learn/scikit-learn/issues/21755 */display: inline-block !important;position: relative;}#sk-container-id-2 div.sk-text-repr-fallback {display: none;}</style><div id=\"sk-container-id-2\" class=\"sk-top-container\"><div class=\"sk-text-repr-fallback\"><pre>GridSearchCV(cv=5,\n",
       "             estimator=RandomForestClassifier(class_weight=&#x27;balanced&#x27;,\n",
       "                                              n_jobs=4),\n",
       "             param_grid={&#x27;max_depth&#x27;: [None, 10, 20, 50],\n",
       "                         &#x27;min_samples_leaf&#x27;: [1, 3, 5],\n",
       "                         &#x27;min_samples_split&#x27;: [2, 5, 10],\n",
       "                         &#x27;n_estimators&#x27;: [50, 100, 200, 500, 1000]})</pre><b>In a Jupyter environment, please rerun this cell to show the HTML representation or trust the notebook. <br />On GitHub, the HTML representation is unable to render, please try loading this page with nbviewer.org.</b></div><div class=\"sk-container\" hidden><div class=\"sk-item sk-dashed-wrapped\"><div class=\"sk-label-container\"><div class=\"sk-label sk-toggleable\"><input class=\"sk-toggleable__control sk-hidden--visually\" id=\"sk-estimator-id-2\" type=\"checkbox\" ><label for=\"sk-estimator-id-2\" class=\"sk-toggleable__label sk-toggleable__label-arrow\">GridSearchCV</label><div class=\"sk-toggleable__content\"><pre>GridSearchCV(cv=5,\n",
       "             estimator=RandomForestClassifier(class_weight=&#x27;balanced&#x27;,\n",
       "                                              n_jobs=4),\n",
       "             param_grid={&#x27;max_depth&#x27;: [None, 10, 20, 50],\n",
       "                         &#x27;min_samples_leaf&#x27;: [1, 3, 5],\n",
       "                         &#x27;min_samples_split&#x27;: [2, 5, 10],\n",
       "                         &#x27;n_estimators&#x27;: [50, 100, 200, 500, 1000]})</pre></div></div></div><div class=\"sk-parallel\"><div class=\"sk-parallel-item\"><div class=\"sk-item\"><div class=\"sk-label-container\"><div class=\"sk-label sk-toggleable\"><input class=\"sk-toggleable__control sk-hidden--visually\" id=\"sk-estimator-id-3\" type=\"checkbox\" ><label for=\"sk-estimator-id-3\" class=\"sk-toggleable__label sk-toggleable__label-arrow\">estimator: RandomForestClassifier</label><div class=\"sk-toggleable__content\"><pre>RandomForestClassifier(class_weight=&#x27;balanced&#x27;, n_jobs=4)</pre></div></div></div><div class=\"sk-serial\"><div class=\"sk-item\"><div class=\"sk-estimator sk-toggleable\"><input class=\"sk-toggleable__control sk-hidden--visually\" id=\"sk-estimator-id-4\" type=\"checkbox\" ><label for=\"sk-estimator-id-4\" class=\"sk-toggleable__label sk-toggleable__label-arrow\">RandomForestClassifier</label><div class=\"sk-toggleable__content\"><pre>RandomForestClassifier(class_weight=&#x27;balanced&#x27;, n_jobs=4)</pre></div></div></div></div></div></div></div></div></div></div>"
      ],
      "text/plain": [
       "GridSearchCV(cv=5,\n",
       "             estimator=RandomForestClassifier(class_weight='balanced',\n",
       "                                              n_jobs=4),\n",
       "             param_grid={'max_depth': [None, 10, 20, 50],\n",
       "                         'min_samples_leaf': [1, 3, 5],\n",
       "                         'min_samples_split': [2, 5, 10],\n",
       "                         'n_estimators': [50, 100, 200, 500, 1000]})"
      ]
     },
     "execution_count": 58,
     "metadata": {},
     "output_type": "execute_result"
    }
   ],
   "source": [
    "rf_grid = GridSearchCV(estimator=rf_classifier_grid, param_grid=params, cv=5)\n",
    "rf_grid.fit(X_train, y_train)"
   ]
  },
  {
   "cell_type": "code",
   "execution_count": 59,
   "id": "4d8b4346",
   "metadata": {
    "ExecuteTime": {
     "end_time": "2024-04-11T02:21:27.416792Z",
     "start_time": "2024-04-11T02:21:27.413331Z"
    }
   },
   "outputs": [
    {
     "name": "stdout",
     "output_type": "stream",
     "text": [
      "{'max_depth': None, 'min_samples_leaf': 3, 'min_samples_split': 10, 'n_estimators': 500}\n"
     ]
    }
   ],
   "source": [
    "print(rf_grid.best_params_)"
   ]
  },
  {
   "cell_type": "code",
   "execution_count": 60,
   "id": "fbc720df",
   "metadata": {
    "ExecuteTime": {
     "end_time": "2024-04-11T02:21:27.422744Z",
     "start_time": "2024-04-11T02:21:27.419690Z"
    }
   },
   "outputs": [],
   "source": [
    "rf_classifier = RandomForestClassifier(class_weight='balanced', n_jobs=4, **rf_grid.best_params_)"
   ]
  },
  {
   "cell_type": "code",
   "execution_count": 61,
   "id": "173a9429",
   "metadata": {
    "ExecuteTime": {
     "end_time": "2024-04-11T02:21:28.677697Z",
     "start_time": "2024-04-11T02:21:27.425336Z"
    }
   },
   "outputs": [
    {
     "data": {
      "text/html": [
       "<style>#sk-container-id-3 {color: black;background-color: white;}#sk-container-id-3 pre{padding: 0;}#sk-container-id-3 div.sk-toggleable {background-color: white;}#sk-container-id-3 label.sk-toggleable__label {cursor: pointer;display: block;width: 100%;margin-bottom: 0;padding: 0.3em;box-sizing: border-box;text-align: center;}#sk-container-id-3 label.sk-toggleable__label-arrow:before {content: \"▸\";float: left;margin-right: 0.25em;color: #696969;}#sk-container-id-3 label.sk-toggleable__label-arrow:hover:before {color: black;}#sk-container-id-3 div.sk-estimator:hover label.sk-toggleable__label-arrow:before {color: black;}#sk-container-id-3 div.sk-toggleable__content {max-height: 0;max-width: 0;overflow: hidden;text-align: left;background-color: #f0f8ff;}#sk-container-id-3 div.sk-toggleable__content pre {margin: 0.2em;color: black;border-radius: 0.25em;background-color: #f0f8ff;}#sk-container-id-3 input.sk-toggleable__control:checked~div.sk-toggleable__content {max-height: 200px;max-width: 100%;overflow: auto;}#sk-container-id-3 input.sk-toggleable__control:checked~label.sk-toggleable__label-arrow:before {content: \"▾\";}#sk-container-id-3 div.sk-estimator input.sk-toggleable__control:checked~label.sk-toggleable__label {background-color: #d4ebff;}#sk-container-id-3 div.sk-label input.sk-toggleable__control:checked~label.sk-toggleable__label {background-color: #d4ebff;}#sk-container-id-3 input.sk-hidden--visually {border: 0;clip: rect(1px 1px 1px 1px);clip: rect(1px, 1px, 1px, 1px);height: 1px;margin: -1px;overflow: hidden;padding: 0;position: absolute;width: 1px;}#sk-container-id-3 div.sk-estimator {font-family: monospace;background-color: #f0f8ff;border: 1px dotted black;border-radius: 0.25em;box-sizing: border-box;margin-bottom: 0.5em;}#sk-container-id-3 div.sk-estimator:hover {background-color: #d4ebff;}#sk-container-id-3 div.sk-parallel-item::after {content: \"\";width: 100%;border-bottom: 1px solid gray;flex-grow: 1;}#sk-container-id-3 div.sk-label:hover label.sk-toggleable__label {background-color: #d4ebff;}#sk-container-id-3 div.sk-serial::before {content: \"\";position: absolute;border-left: 1px solid gray;box-sizing: border-box;top: 0;bottom: 0;left: 50%;z-index: 0;}#sk-container-id-3 div.sk-serial {display: flex;flex-direction: column;align-items: center;background-color: white;padding-right: 0.2em;padding-left: 0.2em;position: relative;}#sk-container-id-3 div.sk-item {position: relative;z-index: 1;}#sk-container-id-3 div.sk-parallel {display: flex;align-items: stretch;justify-content: center;background-color: white;position: relative;}#sk-container-id-3 div.sk-item::before, #sk-container-id-3 div.sk-parallel-item::before {content: \"\";position: absolute;border-left: 1px solid gray;box-sizing: border-box;top: 0;bottom: 0;left: 50%;z-index: -1;}#sk-container-id-3 div.sk-parallel-item {display: flex;flex-direction: column;z-index: 1;position: relative;background-color: white;}#sk-container-id-3 div.sk-parallel-item:first-child::after {align-self: flex-end;width: 50%;}#sk-container-id-3 div.sk-parallel-item:last-child::after {align-self: flex-start;width: 50%;}#sk-container-id-3 div.sk-parallel-item:only-child::after {width: 0;}#sk-container-id-3 div.sk-dashed-wrapped {border: 1px dashed gray;margin: 0 0.4em 0.5em 0.4em;box-sizing: border-box;padding-bottom: 0.4em;background-color: white;}#sk-container-id-3 div.sk-label label {font-family: monospace;font-weight: bold;display: inline-block;line-height: 1.2em;}#sk-container-id-3 div.sk-label-container {text-align: center;}#sk-container-id-3 div.sk-container {/* jupyter's `normalize.less` sets `[hidden] { display: none; }` but bootstrap.min.css set `[hidden] { display: none !important; }` so we also need the `!important` here to be able to override the default hidden behavior on the sphinx rendered scikit-learn.org. See: https://github.com/scikit-learn/scikit-learn/issues/21755 */display: inline-block !important;position: relative;}#sk-container-id-3 div.sk-text-repr-fallback {display: none;}</style><div id=\"sk-container-id-3\" class=\"sk-top-container\"><div class=\"sk-text-repr-fallback\"><pre>RandomForestClassifier(class_weight=&#x27;balanced&#x27;, min_samples_leaf=3,\n",
       "                       min_samples_split=10, n_estimators=500, n_jobs=4)</pre><b>In a Jupyter environment, please rerun this cell to show the HTML representation or trust the notebook. <br />On GitHub, the HTML representation is unable to render, please try loading this page with nbviewer.org.</b></div><div class=\"sk-container\" hidden><div class=\"sk-item\"><div class=\"sk-estimator sk-toggleable\"><input class=\"sk-toggleable__control sk-hidden--visually\" id=\"sk-estimator-id-5\" type=\"checkbox\" checked><label for=\"sk-estimator-id-5\" class=\"sk-toggleable__label sk-toggleable__label-arrow\">RandomForestClassifier</label><div class=\"sk-toggleable__content\"><pre>RandomForestClassifier(class_weight=&#x27;balanced&#x27;, min_samples_leaf=3,\n",
       "                       min_samples_split=10, n_estimators=500, n_jobs=4)</pre></div></div></div></div></div>"
      ],
      "text/plain": [
       "RandomForestClassifier(class_weight='balanced', min_samples_leaf=3,\n",
       "                       min_samples_split=10, n_estimators=500, n_jobs=4)"
      ]
     },
     "execution_count": 61,
     "metadata": {},
     "output_type": "execute_result"
    }
   ],
   "source": [
    "rf_classifier.fit(X_train, y_train)"
   ]
  },
  {
   "cell_type": "code",
   "execution_count": 62,
   "id": "52f2bcd4",
   "metadata": {
    "ExecuteTime": {
     "end_time": "2024-04-11T02:21:28.888510Z",
     "start_time": "2024-04-11T02:21:28.680391Z"
    }
   },
   "outputs": [],
   "source": [
    "y_pred = rf_classifier.predict(X_val.loc[:, X_train.columns])\n",
    "accuracy = accuracy_score(y_val, y_pred)"
   ]
  },
  {
   "cell_type": "code",
   "execution_count": 63,
   "id": "e893d5e9",
   "metadata": {
    "ExecuteTime": {
     "end_time": "2024-04-11T02:21:28.895876Z",
     "start_time": "2024-04-11T02:21:28.891210Z"
    }
   },
   "outputs": [
    {
     "data": {
      "text/plain": [
       "0.975"
      ]
     },
     "execution_count": 63,
     "metadata": {},
     "output_type": "execute_result"
    }
   ],
   "source": [
    "accuracy"
   ]
  },
  {
   "cell_type": "code",
   "execution_count": 64,
   "id": "f3f09c76",
   "metadata": {
    "ExecuteTime": {
     "end_time": "2024-04-11T02:21:28.904753Z",
     "start_time": "2024-04-11T02:21:28.898332Z"
    }
   },
   "outputs": [
    {
     "data": {
      "text/plain": [
       "0.9833333333333334"
      ]
     },
     "execution_count": 64,
     "metadata": {},
     "output_type": "execute_result"
    }
   ],
   "source": [
    "roc_auc_score(y_val, y_pred)"
   ]
  },
  {
   "cell_type": "code",
   "execution_count": 65,
   "id": "80d8956d",
   "metadata": {
    "ExecuteTime": {
     "end_time": "2024-04-11T02:21:28.921648Z",
     "start_time": "2024-04-11T02:21:28.906891Z"
    }
   },
   "outputs": [
    {
     "data": {
      "text/html": [
       "<div>\n",
       "<style scoped>\n",
       "    .dataframe tbody tr th:only-of-type {\n",
       "        vertical-align: middle;\n",
       "    }\n",
       "\n",
       "    .dataframe tbody tr th {\n",
       "        vertical-align: top;\n",
       "    }\n",
       "\n",
       "    .dataframe thead th {\n",
       "        text-align: right;\n",
       "    }\n",
       "</style>\n",
       "<table border=\"1\" class=\"dataframe\">\n",
       "  <thead>\n",
       "    <tr style=\"text-align: right;\">\n",
       "      <th>class_label</th>\n",
       "      <th>0</th>\n",
       "      <th>1</th>\n",
       "    </tr>\n",
       "    <tr>\n",
       "      <th>row_0</th>\n",
       "      <th></th>\n",
       "      <th></th>\n",
       "    </tr>\n",
       "  </thead>\n",
       "  <tbody>\n",
       "    <tr>\n",
       "      <th>0</th>\n",
       "      <td>29</td>\n",
       "      <td>0</td>\n",
       "    </tr>\n",
       "    <tr>\n",
       "      <th>1</th>\n",
       "      <td>1</td>\n",
       "      <td>10</td>\n",
       "    </tr>\n",
       "  </tbody>\n",
       "</table>\n",
       "</div>"
      ],
      "text/plain": [
       "class_label   0   1\n",
       "row_0              \n",
       "0            29   0\n",
       "1             1  10"
      ]
     },
     "execution_count": 65,
     "metadata": {},
     "output_type": "execute_result"
    }
   ],
   "source": [
    "pd.crosstab(y_pred, y_val)"
   ]
  },
  {
   "cell_type": "code",
   "execution_count": 66,
   "id": "ea405a21",
   "metadata": {
    "ExecuteTime": {
     "end_time": "2024-04-11T02:21:28.940557Z",
     "start_time": "2024-04-11T02:21:28.924089Z"
    }
   },
   "outputs": [
    {
     "data": {
      "text/html": [
       "<div>\n",
       "<style scoped>\n",
       "    .dataframe tbody tr th:only-of-type {\n",
       "        vertical-align: middle;\n",
       "    }\n",
       "\n",
       "    .dataframe tbody tr th {\n",
       "        vertical-align: top;\n",
       "    }\n",
       "\n",
       "    .dataframe thead th {\n",
       "        text-align: right;\n",
       "    }\n",
       "</style>\n",
       "<table border=\"1\" class=\"dataframe\">\n",
       "  <thead>\n",
       "    <tr style=\"text-align: right;\">\n",
       "      <th>class_label</th>\n",
       "      <th>0.0</th>\n",
       "      <th>1.0</th>\n",
       "    </tr>\n",
       "    <tr>\n",
       "      <th>high_risk</th>\n",
       "      <th></th>\n",
       "      <th></th>\n",
       "    </tr>\n",
       "  </thead>\n",
       "  <tbody>\n",
       "    <tr>\n",
       "      <th>0.0</th>\n",
       "      <td>30</td>\n",
       "      <td>2</td>\n",
       "    </tr>\n",
       "    <tr>\n",
       "      <th>1.0</th>\n",
       "      <td>0</td>\n",
       "      <td>8</td>\n",
       "    </tr>\n",
       "  </tbody>\n",
       "</table>\n",
       "</div>"
      ],
      "text/plain": [
       "class_label  0.0  1.0\n",
       "high_risk            \n",
       "0.0           30    2\n",
       "1.0            0    8"
      ]
     },
     "execution_count": 66,
     "metadata": {},
     "output_type": "execute_result"
    }
   ],
   "source": [
    "pd.crosstab(meta.loc[y_val.index].high_risk, meta.loc[y_val.index].class_label)"
   ]
  },
  {
   "cell_type": "code",
   "execution_count": 67,
   "id": "5052d3f0",
   "metadata": {
    "ExecuteTime": {
     "end_time": "2024-04-11T02:21:28.953113Z",
     "start_time": "2024-04-11T02:21:28.942758Z"
    }
   },
   "outputs": [
    {
     "name": "stdout",
     "output_type": "stream",
     "text": [
      "              precision    recall  f1-score   support\n",
      "\n",
      "           0       1.00      0.97      0.98        30\n",
      "           1       0.91      1.00      0.95        10\n",
      "\n",
      "    accuracy                           0.97        40\n",
      "   macro avg       0.95      0.98      0.97        40\n",
      "weighted avg       0.98      0.97      0.98        40\n",
      "\n"
     ]
    }
   ],
   "source": [
    "print(classification_report(y_val, y_pred))"
   ]
  },
  {
   "cell_type": "code",
   "execution_count": 68,
   "id": "1db11633",
   "metadata": {
    "ExecuteTime": {
     "end_time": "2024-04-11T02:21:29.114681Z",
     "start_time": "2024-04-11T02:21:28.955796Z"
    }
   },
   "outputs": [],
   "source": [
    "importances = rf_classifier.feature_importances_\n",
    "\n",
    "# Sort feature importances in descending order\n",
    "indices = np.argsort(importances)[::-1]"
   ]
  },
  {
   "cell_type": "code",
   "execution_count": 69,
   "id": "f0746bce",
   "metadata": {
    "ExecuteTime": {
     "end_time": "2024-04-11T02:21:29.121741Z",
     "start_time": "2024-04-11T02:21:29.117248Z"
    }
   },
   "outputs": [
    {
     "name": "stdout",
     "output_type": "stream",
     "text": [
      "Feature ranking:\n",
      "1. MRPL11: feature 9869 (0.008508)\n",
      "2. PJA2: feature 11598 (0.008405)\n",
      "3. CAMTA1: feature 1570 (0.008177)\n",
      "4. LONRF2: feature 9033 (0.007905)\n",
      "5. BAZ2B: feature 1206 (0.007177)\n",
      "6. PGM2L1: feature 11450 (0.007091)\n",
      "7. MRPL52: feature 9908 (0.007082)\n",
      "8. SLC25A5P2: feature 14324 (0.006987)\n",
      "9. CAPN5: feature 1585 (0.006799)\n",
      "10. PHLDB1: feature 11502 (0.006415)\n",
      "11. HNRNPC: feature 6019 (0.006398)\n",
      "12. PSMA6P1: feature 12233 (0.006366)\n",
      "13. EXO1: feature 4033 (0.006061)\n",
      "14. SLBP: feature 14205 (0.005846)\n",
      "15. CPNE2: feature 2654 (0.005607)\n",
      "16. MAP7: feature 9366 (0.005578)\n",
      "17. DNER: feature 3400 (0.005378)\n",
      "18. NTRK1: feature 10758 (0.005357)\n",
      "19. LOC644390: feature 8630 (0.005261)\n",
      "20. WSB1: feature 16942 (0.005078)\n"
     ]
    }
   ],
   "source": [
    "# Print the feature ranking\n",
    "print(\"Feature ranking:\")\n",
    "for f in range(20):\n",
    "    print(\"%d. %s: feature %d (%f)\" % (f + 1, X_train.columns[indices[f]], indices[f], importances[indices[f]]))"
   ]
  },
  {
   "cell_type": "code",
   "execution_count": 70,
   "id": "2c3f73b6",
   "metadata": {
    "ExecuteTime": {
     "end_time": "2024-04-11T02:21:29.371748Z",
     "start_time": "2024-04-11T02:21:29.124542Z"
    }
   },
   "outputs": [
    {
     "data": {
      "image/png": "[encoded data removed]",
      "text/plain": [
       "<Figure size 640x480 with 1 Axes>"
      ]
     },
     "metadata": {},
     "output_type": "display_data"
    }
   ],
   "source": [
    "plt.barh(X_train.columns[indices][range(20)][::-1], importances[indices][range(20)][::-1])\n",
    "plt.xlabel(\"Importance\")\n",
    "plt.ylabel(\"Feature\")\n",
    "plt.show()"
   ]
  },
  {
   "cell_type": "code",
   "execution_count": 71,
   "id": "a5d66186",
   "metadata": {
    "ExecuteTime": {
     "end_time": "2024-04-11T02:21:29.528799Z",
     "start_time": "2024-04-11T02:21:29.374399Z"
    }
   },
   "outputs": [
    {
     "data": {
      "image/png": "[encoded data removed]",
      "text/plain": [
       "<Figure size 640x480 with 1 Axes>"
      ]
     },
     "metadata": {},
     "output_type": "display_data"
    }
   ],
   "source": [
    "plt.plot(importances[indices][range(1000)])\n",
    "plt.ylabel(\"Importance\")\n",
    "plt.show()\n"
   ]
  },
  {
   "cell_type": "code",
   "execution_count": 72,
   "id": "58c24c48",
   "metadata": {
    "ExecuteTime": {
     "end_time": "2024-04-11T02:21:29.998441Z",
     "start_time": "2024-04-11T02:21:29.531441Z"
    }
   },
   "outputs": [
    {
     "data": {
      "image/png": "[encoded data removed]",
      "text/plain": [
       "<Figure size 640x480 with 1 Axes>"
      ]
     },
     "metadata": {},
     "output_type": "display_data"
    }
   ],
   "source": [
    "plt.hist(rf_classifier.predict_proba(X_val.loc[:, X_train.columns])[:,1], bins = 100)\n",
    "plt.show()"
   ]
  },
  {
   "cell_type": "code",
   "execution_count": null,
   "id": "cc84c645",
   "metadata": {},
   "outputs": [],
   "source": []
  },
  {
   "cell_type": "code",
   "execution_count": null,
   "id": "8584e403",
   "metadata": {},
   "outputs": [],
   "source": []
  },
  {
   "cell_type": "markdown",
   "id": "a2780e27",
   "metadata": {},
   "source": [
    "# feature overlap"
   ]
  },
  {
   "cell_type": "code",
   "execution_count": 73,
   "id": "d5ca5365",
   "metadata": {
    "ExecuteTime": {
     "end_time": "2024-04-11T02:21:30.005214Z",
     "start_time": "2024-04-11T02:21:30.001186Z"
    }
   },
   "outputs": [],
   "source": [
    "lr_top20_indices = np.argsort(model.coef_[0])[::-1][range(20)]\n",
    "rf_top20_indices = np.argsort(importances)[::-1][range(20)]"
   ]
  },
  {
   "cell_type": "code",
   "execution_count": 74,
   "id": "87d7390f",
   "metadata": {
    "ExecuteTime": {
     "end_time": "2024-04-11T02:21:30.012183Z",
     "start_time": "2024-04-11T02:21:30.008086Z"
    }
   },
   "outputs": [],
   "source": [
    "lr_top50_indices = np.argsort(model.coef_[0])[::-1][range(50)]\n",
    "rf_top50_indices = np.argsort(importances)[::-1][range(50)]"
   ]
  },
  {
   "cell_type": "code",
   "execution_count": 75,
   "id": "af62b3ca",
   "metadata": {
    "ExecuteTime": {
     "end_time": "2024-04-11T02:21:30.019170Z",
     "start_time": "2024-04-11T02:21:30.014867Z"
    }
   },
   "outputs": [],
   "source": [
    "lr_top143_indices = np.argsort(model.coef_[0])[::-1][range(143)]\n",
    "rf_top143_indices = np.argsort(importances)[::-1][range(143)]"
   ]
  },
  {
   "cell_type": "code",
   "execution_count": 76,
   "id": "8b41880e",
   "metadata": {
    "ExecuteTime": {
     "end_time": "2024-04-11T02:21:30.031217Z",
     "start_time": "2024-04-11T02:21:30.021833Z"
    }
   },
   "outputs": [],
   "source": [
    "from matplotlib_venn import venn2"
   ]
  },
  {
   "cell_type": "code",
   "execution_count": 77,
   "id": "2e127680",
   "metadata": {
    "ExecuteTime": {
     "end_time": "2024-04-11T02:21:30.038027Z",
     "start_time": "2024-04-11T02:21:30.033439Z"
    }
   },
   "outputs": [
    {
     "data": {
      "text/plain": [
       "set()"
      ]
     },
     "execution_count": 77,
     "metadata": {},
     "output_type": "execute_result"
    }
   ],
   "source": [
    "set(X_train.columns[lr_top20_indices]) & set(X_train.columns[rf_top20_indices])"
   ]
  },
  {
   "cell_type": "code",
   "execution_count": 78,
   "id": "0fee40b1",
   "metadata": {
    "ExecuteTime": {
     "end_time": "2024-04-11T02:21:30.121991Z",
     "start_time": "2024-04-11T02:21:30.040514Z"
    }
   },
   "outputs": [
    {
     "data": {
      "image/png": "[encoded data removed]",
      "text/plain": [
       "<Figure size 640x480 with 1 Axes>"
      ]
     },
     "metadata": {},
     "output_type": "display_data"
    }
   ],
   "source": [
    "v = venn2([set(X_train.columns[lr_top20_indices]), set(X_train.columns[rf_top20_indices])], \n",
    "                     ('LR_top20', 'RF_top20'))\n",
    "v.get_patch_by_id('100').set_color('skyblue')"
   ]
  },
  {
   "cell_type": "code",
   "execution_count": 79,
   "id": "b79370d7",
   "metadata": {
    "ExecuteTime": {
     "end_time": "2024-04-11T02:21:30.217414Z",
     "start_time": "2024-04-11T02:21:30.124620Z"
    }
   },
   "outputs": [
    {
     "data": {
      "image/png": "[encoded data removed]",
      "text/plain": [
       "<Figure size 640x480 with 1 Axes>"
      ]
     },
     "metadata": {},
     "output_type": "display_data"
    }
   ],
   "source": [
    "v = venn2([set(X_train.columns[lr_top50_indices]), set(X_train.columns[rf_top50_indices])], \n",
    "                     ('LR_top50', 'RF_top50'))\n",
    "v.get_patch_by_id('100').set_color('skyblue')"
   ]
  },
  {
   "cell_type": "code",
   "execution_count": 80,
   "id": "2494bc3f",
   "metadata": {
    "ExecuteTime": {
     "end_time": "2024-04-11T02:21:30.310237Z",
     "start_time": "2024-04-11T02:21:30.220475Z"
    }
   },
   "outputs": [
    {
     "data": {
      "image/png": "[encoded data removed]",
      "text/plain": [
       "<Figure size 640x480 with 1 Axes>"
      ]
     },
     "metadata": {},
     "output_type": "display_data"
    }
   ],
   "source": [
    "v = venn2([set(X_train.columns[lr_top143_indices]), set(X_train.columns[rf_top143_indices])], \n",
    "                     ('LR_top143', 'RF_top143'))\n",
    "v.get_patch_by_id('100').set_color('skyblue')"
   ]
  },
  {
   "cell_type": "code",
   "execution_count": null,
   "id": "304cd8b1",
   "metadata": {},
   "outputs": [],
   "source": []
  },
  {
   "cell_type": "code",
   "execution_count": null,
   "id": "a1b09695",
   "metadata": {},
   "outputs": [],
   "source": []
  },
  {
   "cell_type": "markdown",
   "id": "703bd6a6",
   "metadata": {},
   "source": [
    "# Test"
   ]
  },
  {
   "cell_type": "code",
   "execution_count": 81,
   "id": "20c9a7e9",
   "metadata": {
    "ExecuteTime": {
     "end_time": "2024-04-11T02:21:30.316683Z",
     "start_time": "2024-04-11T02:21:30.313134Z"
    }
   },
   "outputs": [],
   "source": [
    "from sklearn.metrics import roc_auc_score, accuracy_score, f1_score\n"
   ]
  },
  {
   "cell_type": "markdown",
   "id": "e3d8bc0c",
   "metadata": {},
   "source": [
    "### LR "
   ]
  },
  {
   "cell_type": "code",
   "execution_count": 82,
   "id": "5bbb980c",
   "metadata": {
    "ExecuteTime": {
     "end_time": "2024-04-11T02:21:30.723689Z",
     "start_time": "2024-04-11T02:21:30.337475Z"
    }
   },
   "outputs": [
    {
     "name": "stdout",
     "output_type": "stream",
     "text": [
      "L1 test acc: 0.9512195121951219\n",
      "L1 test auc: 0.9436813186813188\n",
      "L1 test f1: 0.9230769230769231\n"
     ]
    }
   ],
   "source": [
    "print(\"L1 test acc:\", accuracy_score(y_test, model.predict(X_test_scaled)))\n",
    "print(\"L1 test auc:\", roc_auc_score(y_test, model.predict(X_test_scaled)))\n",
    "print(\"L1 test f1:\", f1_score(y_test, model.predict(X_test_scaled)))"
   ]
  },
  {
   "cell_type": "code",
   "execution_count": 83,
   "id": "57aa55fb",
   "metadata": {
    "ExecuteTime": {
     "end_time": "2024-04-11T02:21:31.106090Z",
     "start_time": "2024-04-11T02:21:30.726347Z"
    }
   },
   "outputs": [
    {
     "name": "stdout",
     "output_type": "stream",
     "text": [
      "L1 val acc: 0.975\n",
      "L1 val auc: 0.95\n",
      "L1 val f1: 0.9473684210526316\n"
     ]
    }
   ],
   "source": [
    "print(\"L1 val acc:\", accuracy_score(y_val, model.predict(X_val_scaled)))\n",
    "print(\"L1 val auc:\", roc_auc_score(y_val, model.predict(X_val_scaled)))\n",
    "print(\"L1 val f1:\", f1_score(y_val, model.predict(X_val_scaled)))"
   ]
  },
  {
   "cell_type": "code",
   "execution_count": 84,
   "id": "0fb1b18c",
   "metadata": {
    "ExecuteTime": {
     "end_time": "2024-04-11T02:21:31.246186Z",
     "start_time": "2024-04-11T02:21:31.108790Z"
    }
   },
   "outputs": [
    {
     "data": {
      "text/html": [
       "<div>\n",
       "<style scoped>\n",
       "    .dataframe tbody tr th:only-of-type {\n",
       "        vertical-align: middle;\n",
       "    }\n",
       "\n",
       "    .dataframe tbody tr th {\n",
       "        vertical-align: top;\n",
       "    }\n",
       "\n",
       "    .dataframe thead th {\n",
       "        text-align: right;\n",
       "    }\n",
       "</style>\n",
       "<table border=\"1\" class=\"dataframe\">\n",
       "  <thead>\n",
       "    <tr style=\"text-align: right;\">\n",
       "      <th>class_label</th>\n",
       "      <th>0</th>\n",
       "      <th>1</th>\n",
       "    </tr>\n",
       "    <tr>\n",
       "      <th>row_0</th>\n",
       "      <th></th>\n",
       "      <th></th>\n",
       "    </tr>\n",
       "  </thead>\n",
       "  <tbody>\n",
       "    <tr>\n",
       "      <th>0</th>\n",
       "      <td>27</td>\n",
       "      <td>1</td>\n",
       "    </tr>\n",
       "    <tr>\n",
       "      <th>1</th>\n",
       "      <td>1</td>\n",
       "      <td>12</td>\n",
       "    </tr>\n",
       "  </tbody>\n",
       "</table>\n",
       "</div>"
      ],
      "text/plain": [
       "class_label   0   1\n",
       "row_0              \n",
       "0            27   1\n",
       "1             1  12"
      ]
     },
     "execution_count": 84,
     "metadata": {},
     "output_type": "execute_result"
    }
   ],
   "source": [
    "pd.crosstab(model.predict(X_test_scaled), y_test)"
   ]
  },
  {
   "cell_type": "code",
   "execution_count": null,
   "id": "4ab258e8",
   "metadata": {},
   "outputs": [],
   "source": []
  },
  {
   "cell_type": "markdown",
   "id": "18821a44",
   "metadata": {},
   "source": [
    "### RF"
   ]
  },
  {
   "cell_type": "code",
   "execution_count": 85,
   "id": "92f4150c",
   "metadata": {
    "ExecuteTime": {
     "end_time": "2024-04-11T02:21:31.840413Z",
     "start_time": "2024-04-11T02:21:31.249331Z"
    }
   },
   "outputs": [
    {
     "name": "stdout",
     "output_type": "stream",
     "text": [
      "RF test acc: 0.975609756097561\n",
      "RF test auc: 0.9615384615384616\n",
      "RF test f1: 0.9600000000000001\n"
     ]
    }
   ],
   "source": [
    "print(\"RF test acc:\", accuracy_score(y_test, rf_classifier.predict(X_test.loc[:, X_train.columns])))\n",
    "print(\"RF test auc:\", roc_auc_score(y_test, rf_classifier.predict(X_test.loc[:, X_train.columns])))\n",
    "print(\"RF test f1:\", f1_score(y_test, rf_classifier.predict(X_test.loc[:, X_train.columns])))"
   ]
  },
  {
   "cell_type": "code",
   "execution_count": 86,
   "id": "fdf3f5d1",
   "metadata": {
    "ExecuteTime": {
     "end_time": "2024-04-11T02:21:32.427189Z",
     "start_time": "2024-04-11T02:21:31.843054Z"
    }
   },
   "outputs": [
    {
     "name": "stdout",
     "output_type": "stream",
     "text": [
      "RF val acc: 0.975\n",
      "RF val auc: 0.9833333333333334\n",
      "RF val f1: 0.9523809523809523\n"
     ]
    }
   ],
   "source": [
    "print(\"RF val acc:\", accuracy_score(y_val, rf_classifier.predict(X_val.loc[:, X_train.columns])))\n",
    "print(\"RF val auc:\", roc_auc_score(y_val, rf_classifier.predict(X_val.loc[:, X_train.columns])))\n",
    "print(\"RF val f1:\", f1_score(y_val, rf_classifier.predict(X_val.loc[:, X_train.columns])))"
   ]
  },
  {
   "cell_type": "code",
   "execution_count": 87,
   "id": "2c1f4b32",
   "metadata": {
    "ExecuteTime": {
     "end_time": "2024-04-11T02:21:32.635211Z",
     "start_time": "2024-04-11T02:21:32.429633Z"
    }
   },
   "outputs": [
    {
     "data": {
      "text/html": [
       "<div>\n",
       "<style scoped>\n",
       "    .dataframe tbody tr th:only-of-type {\n",
       "        vertical-align: middle;\n",
       "    }\n",
       "\n",
       "    .dataframe tbody tr th {\n",
       "        vertical-align: top;\n",
       "    }\n",
       "\n",
       "    .dataframe thead th {\n",
       "        text-align: right;\n",
       "    }\n",
       "</style>\n",
       "<table border=\"1\" class=\"dataframe\">\n",
       "  <thead>\n",
       "    <tr style=\"text-align: right;\">\n",
       "      <th>class_label</th>\n",
       "      <th>0</th>\n",
       "      <th>1</th>\n",
       "    </tr>\n",
       "    <tr>\n",
       "      <th>row_0</th>\n",
       "      <th></th>\n",
       "      <th></th>\n",
       "    </tr>\n",
       "  </thead>\n",
       "  <tbody>\n",
       "    <tr>\n",
       "      <th>0</th>\n",
       "      <td>28</td>\n",
       "      <td>1</td>\n",
       "    </tr>\n",
       "    <tr>\n",
       "      <th>1</th>\n",
       "      <td>0</td>\n",
       "      <td>12</td>\n",
       "    </tr>\n",
       "  </tbody>\n",
       "</table>\n",
       "</div>"
      ],
      "text/plain": [
       "class_label   0   1\n",
       "row_0              \n",
       "0            28   1\n",
       "1             0  12"
      ]
     },
     "execution_count": 87,
     "metadata": {},
     "output_type": "execute_result"
    }
   ],
   "source": [
    "pd.crosstab(rf_classifier.predict(X_test.loc[:, X_train.columns]), y_test)"
   ]
  },
  {
   "cell_type": "code",
   "execution_count": null,
   "id": "0763f023",
   "metadata": {},
   "outputs": [],
   "source": []
  },
  {
   "cell_type": "code",
   "execution_count": 88,
   "id": "c8c8d566",
   "metadata": {
    "ExecuteTime": {
     "end_time": "2024-04-11T02:21:32.641356Z",
     "start_time": "2024-04-11T02:21:32.637898Z"
    }
   },
   "outputs": [],
   "source": [
    "# acc, auc, f1\n",
    "lr_val_scores = [0.975, 0.95, 0.95]\n",
    "lr_test_scores = [0.95, 0.94, 0.92]\n",
    "\n",
    "rf_val_scores = [0.975, 0.983, 0.952]\n",
    "rf_test_scores = [0.976, 0.962, 0.96]"
   ]
  },
  {
   "cell_type": "code",
   "execution_count": null,
   "id": "eeb996ac",
   "metadata": {},
   "outputs": [],
   "source": []
  },
  {
   "cell_type": "code",
   "execution_count": 95,
   "id": "fa1fdf97",
   "metadata": {
    "ExecuteTime": {
     "end_time": "2024-04-11T02:33:13.383743Z",
     "start_time": "2024-04-11T02:33:13.037115Z"
    }
   },
   "outputs": [
    {
     "data": {
      "image/png": "[encoded data removed]",
      "text/plain": [
       "<Figure size 1000x600 with 2 Axes>"
      ]
     },
     "metadata": {},
     "output_type": "display_data"
    }
   ],
   "source": [
    "import seaborn as sns\n",
    "\n",
    "# Extract mean cross-validated scores from the grid search results\n",
    "mean_scores = np.array(rf_grid.cv_results_['mean_test_score'])\n",
    "mean_scores = mean_scores.reshape(len(params['n_estimators']), \n",
    "                                  len(params['max_depth']), \n",
    "                                  len(params['min_samples_split']),\n",
    "                                  len(params['min_samples_leaf']))\n",
    "\n",
    "# Plotting heatmap\n",
    "plt.figure(figsize=(10, 6))\n",
    "sns.heatmap(mean_scores.mean(axis=(2, 3))[::-1], annot=True, fmt='.4f', cmap='viridis',\n",
    "            xticklabels=params['max_depth'], yticklabels=params['n_estimators'])\n",
    "\n",
    "plt.xlabel('Max Depth')\n",
    "plt.ylabel('Number of Estimators')\n",
    "plt.title('Mean Cross-Validated Accuracy Scores')\n",
    "plt.show()"
   ]
  },
  {
   "cell_type": "code",
   "execution_count": 94,
   "id": "4bfb469c",
   "metadata": {
    "ExecuteTime": {
     "end_time": "2024-04-11T02:33:03.436788Z",
     "start_time": "2024-04-11T02:33:03.114018Z"
    }
   },
   "outputs": [
    {
     "data": {
      "image/png": "[encoded data removed]",
      "text/plain": [
       "<Figure size 1000x600 with 2 Axes>"
      ]
     },
     "metadata": {},
     "output_type": "display_data"
    }
   ],
   "source": [
    "# Plotting heatmap\n",
    "plt.figure(figsize=(10, 6))\n",
    "sns.heatmap(mean_scores.mean(axis=(2, 3))[::-1], annot=True, fmt='.4f', cmap='viridis',\n",
    "            xticklabels=params['min_samples_split'], yticklabels=params['min_samples_leaf'])\n",
    "plt.xlabel('Max Depth')\n",
    "plt.ylabel('Number of Estimators')\n",
    "plt.title('Mean Cross-Validated Accuracy Scores')\n",
    "plt.show()"
   ]
  }
 ],
 "metadata": {
  "kernelspec": {
   "display_name": "Python 3 (ipykernel)",
   "language": "python",
   "name": "python3"
  },
  "language_info": {
   "codemirror_mode": {
    "name": "ipython",
    "version": 3
   },
   "file_extension": ".py",
   "mimetype": "text/x-python",
   "name": "python",
   "nbconvert_exporter": "python",
   "pygments_lexer": "ipython3",
   "version": "3.10.7"
  }
 },
 "nbformat": 4,
 "nbformat_minor": 5
}
