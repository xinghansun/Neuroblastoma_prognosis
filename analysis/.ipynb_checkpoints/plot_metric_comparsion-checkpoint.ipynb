{
 "cells": [
  {
   "cell_type": "code",
   "execution_count": 1,
   "id": "1acdfba4",
   "metadata": {
    "ExecuteTime": {
     "end_time": "2024-04-12T17:05:09.396783Z",
     "start_time": "2024-04-12T17:05:08.660686Z"
    }
   },
   "outputs": [],
   "source": [
    "import matplotlib.pyplot as plt"
   ]
  },
  {
   "cell_type": "code",
   "execution_count": 2,
   "id": "6b3a85a2",
   "metadata": {
    "ExecuteTime": {
     "end_time": "2024-04-12T17:05:09.403303Z",
     "start_time": "2024-04-12T17:05:09.400194Z"
    }
   },
   "outputs": [],
   "source": [
    "metrics = ['Accuracy', 'AUC', 'F1 Score']"
   ]
  },
  {
   "cell_type": "markdown",
   "id": "eba37d83",
   "metadata": {},
   "source": [
    "# TS"
   ]
  },
  {
   "cell_type": "code",
   "execution_count": 3,
   "id": "1a9ceb80",
   "metadata": {
    "ExecuteTime": {
     "end_time": "2024-04-12T17:05:09.410291Z",
     "start_time": "2024-04-12T17:05:09.406586Z"
    }
   },
   "outputs": [],
   "source": [
    "# acc, auc, f1\n",
    "lr_val_scores = [0.975, 0.95, 0.95]\n",
    "lr_test_scores = [0.95, 0.94, 0.92]\n",
    "\n",
    "rf_val_scores = [0.975, 0.983, 0.952]\n",
    "rf_test_scores = [0.976, 0.962, 0.96]"
   ]
  },
  {
   "cell_type": "code",
   "execution_count": null,
   "id": "9c922d0c",
   "metadata": {},
   "outputs": [],
   "source": []
  },
  {
   "cell_type": "code",
   "execution_count": 4,
   "id": "8cddad27",
   "metadata": {
    "ExecuteTime": {
     "end_time": "2024-04-12T17:05:10.267264Z",
     "start_time": "2024-04-12T17:05:09.964804Z"
    }
   },
   "outputs": [
    {
     "data": {
      "image/png": "[encoded data removed]",
      "text/plain": [
       "<Figure size 400x400 with 2 Axes>"
      ]
     },
     "metadata": {},
     "output_type": "display_data"
    }
   ],
   "source": [
    "fig, axs = plt.subplots(1, 2, figsize=(4, 4))\n",
    "\n",
    "# LR\n",
    "# Validation scores\n",
    "axs[0].bar([i-0.2 for i in range(len(metrics))], lr_val_scores, width=0.4, label='Validation')\n",
    "# Test scores\n",
    "axs[0].bar([i+0.2 for i in range(len(metrics))], lr_test_scores, width=0.4, label='Test')\n",
    "\n",
    "# Formatting\n",
    "axs[0].set_xticks(range(len(metrics)))\n",
    "axs[0].set_xticklabels(metrics)\n",
    "axs[0].set_xticklabels(metrics, rotation=90)\n",
    "axs[0].axhline(y=0.896, color='red', linestyle='--')\n",
    "axs[0].set_ylim(0, 1.02)\n",
    "\n",
    "\n",
    "# RF\n",
    "# Validation scores\n",
    "axs[1].bar([i-0.2 for i in range(len(metrics))], rf_val_scores, width=0.4, label='Validation')\n",
    "# Test scores\n",
    "axs[1].bar([i+0.2 for i in range(len(metrics))], rf_test_scores, width=0.4, label='Test')\n",
    "\n",
    "# Formatting\n",
    "axs[1].set_xticks(range(len(metrics)))\n",
    "axs[1].set_xticklabels(metrics)\n",
    "axs[1].set_xticklabels(metrics, rotation=90)\n",
    "axs[1].axhline(y=0.896, color='red', linestyle='--')\n",
    "axs[1].set_ylim(0, 1.02)\n",
    "\n",
    "plt.tight_layout()\n",
    "plt.show()"
   ]
  },
  {
   "cell_type": "code",
   "execution_count": null,
   "id": "c87061d9",
   "metadata": {},
   "outputs": [],
   "source": []
  },
  {
   "cell_type": "markdown",
   "id": "2b491bce",
   "metadata": {},
   "source": [
    "# OS"
   ]
  },
  {
   "cell_type": "code",
   "execution_count": 5,
   "id": "9bd7ddea",
   "metadata": {
    "ExecuteTime": {
     "end_time": "2024-04-12T17:05:11.194116Z",
     "start_time": "2024-04-12T17:05:11.190796Z"
    }
   },
   "outputs": [],
   "source": [
    "# acc, auc, f1\n",
    "lr_val_scores = [0.81, 0.87, 0.75]\n",
    "lr_test_scores = [0.86, 0.91, 0.73]\n",
    "\n",
    "rf_val_scores = [0.73, 0.71, 0.585]\n",
    "rf_test_scores = [0.857, 0.848, 0.69]"
   ]
  },
  {
   "cell_type": "code",
   "execution_count": 6,
   "id": "855029e0",
   "metadata": {
    "ExecuteTime": {
     "end_time": "2024-04-12T17:05:11.807187Z",
     "start_time": "2024-04-12T17:05:11.533070Z"
    }
   },
   "outputs": [
    {
     "data": {
      "image/png": "[encoded data removed]",
      "text/plain": [
       "<Figure size 400x400 with 2 Axes>"
      ]
     },
     "metadata": {},
     "output_type": "display_data"
    }
   ],
   "source": [
    "fig, axs = plt.subplots(1, 2, figsize=(4, 4))\n",
    "\n",
    "# LR\n",
    "# Validation scores\n",
    "axs[0].bar([i-0.2 for i in range(len(metrics))], lr_val_scores, width=0.4, label='Validation')\n",
    "# Test scores\n",
    "axs[0].bar([i+0.2 for i in range(len(metrics))], lr_test_scores, width=0.4, label='Test')\n",
    "\n",
    "# Formatting\n",
    "axs[0].set_xticks(range(len(metrics)))\n",
    "axs[0].set_xticklabels(metrics)\n",
    "axs[0].set_xticklabels(metrics, rotation=90)\n",
    "axs[0].axhline(y=0.641, color='red', linestyle='--')\n",
    "axs[0].set_ylim(0, 1.02)\n",
    "\n",
    "# RF\n",
    "# Validation scores\n",
    "axs[1].bar([i-0.2 for i in range(len(metrics))], rf_val_scores, width=0.4, label='Validation')\n",
    "# Test scores\n",
    "axs[1].bar([i+0.2 for i in range(len(metrics))], rf_test_scores, width=0.4, label='Test')\n",
    "\n",
    "# Formatting\n",
    "axs[1].set_xticks(range(len(metrics)))\n",
    "axs[1].set_xticklabels(metrics)\n",
    "axs[1].set_xticklabels(metrics, rotation=90)\n",
    "axs[1].axhline(y=0.641, color='red', linestyle='--')\n",
    "axs[1].set_ylim(0, 1.02)\n",
    "\n",
    "plt.tight_layout()\n",
    "plt.show()"
   ]
  },
  {
   "cell_type": "code",
   "execution_count": null,
   "id": "047d26b4",
   "metadata": {},
   "outputs": [],
   "source": []
  },
  {
   "cell_type": "code",
   "execution_count": null,
   "id": "66b89ddf",
   "metadata": {},
   "outputs": [],
   "source": []
  },
  {
   "cell_type": "code",
   "execution_count": null,
   "id": "bc65235b",
   "metadata": {},
   "outputs": [],
   "source": []
  }
 ],
 "metadata": {
  "kernelspec": {
   "display_name": "Python 3 (ipykernel)",
   "language": "python",
   "name": "python3"
  },
  "language_info": {
   "codemirror_mode": {
    "name": "ipython",
    "version": 3
   },
   "file_extension": ".py",
   "mimetype": "text/x-python",
   "name": "python",
   "nbconvert_exporter": "python",
   "pygments_lexer": "ipython3",
   "version": "3.10.7"
  }
 },
 "nbformat": 4,
 "nbformat_minor": 5
}
