{
 "cells": [
  {
   "cell_type": "code",
   "execution_count": 1,
   "id": "9f87386f",
   "metadata": {
    "ExecuteTime": {
     "end_time": "2024-03-25T04:27:29.466148Z",
     "start_time": "2024-03-25T04:27:27.616244Z"
    }
   },
   "outputs": [],
   "source": [
    "import gzip\n",
    "\n",
    "import pandas as pd\n",
    "import numpy as np\n",
    "\n",
    "from sklearn.model_selection import train_test_split\n",
    "from sklearn.preprocessing import MinMaxScaler, StandardScaler\n",
    "\n",
    "from matplotlib import pyplot as plt"
   ]
  },
  {
   "cell_type": "markdown",
   "id": "6f8050eb",
   "metadata": {},
   "source": [
    "# Preprocessing"
   ]
  },
  {
   "cell_type": "markdown",
   "id": "3aadae97",
   "metadata": {},
   "source": [
    "## Meta data"
   ]
  },
  {
   "cell_type": "code",
   "execution_count": 2,
   "id": "de7ec617",
   "metadata": {
    "ExecuteTime": {
     "end_time": "2024-03-25T04:27:29.477874Z",
     "start_time": "2024-03-25T04:27:29.470376Z"
    }
   },
   "outputs": [],
   "source": [
    "def read_geo_series_matrix(file_path):\n",
    "    cols = {}\n",
    "    with gzip.open(file_path, 'rt') as f:\n",
    "        for line in f:\n",
    "            if line.startswith(\"!Sample_title\"):\n",
    "                sampleId = [i.strip('\"') for i in line.split()[1:]]\n",
    "                cols[\"sampleId\"] = sampleId\n",
    "            elif line.startswith(\"!Sample_characteristics_ch1\"):\n",
    "                _ = line[28:].strip().strip('\"').split('\"\\t\"')\n",
    "                category = _[0].split(\": \")[0].replace(\" \", \"_\")\n",
    "                values = [i.split(\": \")[1] for i in _]\n",
    "                cols.update({category: values})\n",
    "    \n",
    "    return pd.DataFrame(cols)"
   ]
  },
  {
   "cell_type": "code",
   "execution_count": 3,
   "id": "3a03c6ab",
   "metadata": {
    "ExecuteTime": {
     "end_time": "2024-03-25T04:27:29.497190Z",
     "start_time": "2024-03-25T04:27:29.480769Z"
    }
   },
   "outputs": [
    {
     "data": {
      "text/plain": [
       "(498, 11)"
      ]
     },
     "execution_count": 3,
     "metadata": {},
     "output_type": "execute_result"
    }
   ],
   "source": [
    "meta = read_geo_series_matrix(\"../rawData/GSE49711_series_matrix.txt.gz\")\n",
    "meta.index = meta.sampleId\n",
    "meta.shape"
   ]
  },
  {
   "cell_type": "code",
   "execution_count": 4,
   "id": "046f633f",
   "metadata": {
    "ExecuteTime": {
     "end_time": "2024-03-25T04:27:29.507744Z",
     "start_time": "2024-03-25T04:27:29.501053Z"
    }
   },
   "outputs": [
    {
     "data": {
      "text/plain": [
       "(498, 11)"
      ]
     },
     "execution_count": 4,
     "metadata": {},
     "output_type": "execute_result"
    }
   ],
   "source": [
    "meta = meta.loc[meta.progression.isin([\"0\", \"1\"])]\n",
    "meta.shape"
   ]
  },
  {
   "cell_type": "code",
   "execution_count": 5,
   "id": "d52624bb",
   "metadata": {
    "ExecuteTime": {
     "end_time": "2024-03-25T04:27:29.535474Z",
     "start_time": "2024-03-25T04:27:29.510849Z"
    }
   },
   "outputs": [
    {
     "data": {
      "text/html": [
       "<div>\n",
       "<style scoped>\n",
       "    .dataframe tbody tr th:only-of-type {\n",
       "        vertical-align: middle;\n",
       "    }\n",
       "\n",
       "    .dataframe tbody tr th {\n",
       "        vertical-align: top;\n",
       "    }\n",
       "\n",
       "    .dataframe thead th {\n",
       "        text-align: right;\n",
       "    }\n",
       "</style>\n",
       "<table border=\"1\" class=\"dataframe\">\n",
       "  <thead>\n",
       "    <tr style=\"text-align: right;\">\n",
       "      <th>progression</th>\n",
       "      <th>0</th>\n",
       "      <th>1</th>\n",
       "    </tr>\n",
       "    <tr>\n",
       "      <th>inss_stage</th>\n",
       "      <th></th>\n",
       "      <th></th>\n",
       "    </tr>\n",
       "  </thead>\n",
       "  <tbody>\n",
       "    <tr>\n",
       "      <th>1</th>\n",
       "      <td>112</td>\n",
       "      <td>9</td>\n",
       "    </tr>\n",
       "    <tr>\n",
       "      <th>2</th>\n",
       "      <td>59</td>\n",
       "      <td>19</td>\n",
       "    </tr>\n",
       "    <tr>\n",
       "      <th>3</th>\n",
       "      <td>36</td>\n",
       "      <td>27</td>\n",
       "    </tr>\n",
       "    <tr>\n",
       "      <th>4</th>\n",
       "      <td>68</td>\n",
       "      <td>115</td>\n",
       "    </tr>\n",
       "    <tr>\n",
       "      <th>4S</th>\n",
       "      <td>40</td>\n",
       "      <td>13</td>\n",
       "    </tr>\n",
       "  </tbody>\n",
       "</table>\n",
       "</div>"
      ],
      "text/plain": [
       "progression    0    1\n",
       "inss_stage           \n",
       "1            112    9\n",
       "2             59   19\n",
       "3             36   27\n",
       "4             68  115\n",
       "4S            40   13"
      ]
     },
     "execution_count": 5,
     "metadata": {},
     "output_type": "execute_result"
    }
   ],
   "source": [
    "pd.crosstab(meta.inss_stage, meta.progression)"
   ]
  },
  {
   "cell_type": "code",
   "execution_count": 6,
   "id": "950a8a28",
   "metadata": {
    "ExecuteTime": {
     "end_time": "2024-03-25T04:27:29.560555Z",
     "start_time": "2024-03-25T04:27:29.538692Z"
    }
   },
   "outputs": [
    {
     "data": {
      "text/html": [
       "<div>\n",
       "<style scoped>\n",
       "    .dataframe tbody tr th:only-of-type {\n",
       "        vertical-align: middle;\n",
       "    }\n",
       "\n",
       "    .dataframe tbody tr th {\n",
       "        vertical-align: top;\n",
       "    }\n",
       "\n",
       "    .dataframe thead th {\n",
       "        text-align: right;\n",
       "    }\n",
       "</style>\n",
       "<table border=\"1\" class=\"dataframe\">\n",
       "  <thead>\n",
       "    <tr style=\"text-align: right;\">\n",
       "      <th>progression</th>\n",
       "      <th>0</th>\n",
       "      <th>1</th>\n",
       "    </tr>\n",
       "    <tr>\n",
       "      <th>high_risk</th>\n",
       "      <th></th>\n",
       "      <th></th>\n",
       "    </tr>\n",
       "  </thead>\n",
       "  <tbody>\n",
       "    <tr>\n",
       "      <th>0</th>\n",
       "      <td>259</td>\n",
       "      <td>63</td>\n",
       "    </tr>\n",
       "    <tr>\n",
       "      <th>1</th>\n",
       "      <td>56</td>\n",
       "      <td>120</td>\n",
       "    </tr>\n",
       "  </tbody>\n",
       "</table>\n",
       "</div>"
      ],
      "text/plain": [
       "progression    0    1\n",
       "high_risk            \n",
       "0            259   63\n",
       "1             56  120"
      ]
     },
     "execution_count": 6,
     "metadata": {},
     "output_type": "execute_result"
    }
   ],
   "source": [
    "pd.crosstab(meta.high_risk, meta.progression)"
   ]
  },
  {
   "cell_type": "code",
   "execution_count": null,
   "id": "2fbafb6a",
   "metadata": {},
   "outputs": [],
   "source": []
  },
  {
   "cell_type": "markdown",
   "id": "196ae431",
   "metadata": {},
   "source": [
    "## Gene level"
   ]
  },
  {
   "cell_type": "code",
   "execution_count": 7,
   "id": "471e3f5d",
   "metadata": {
    "ExecuteTime": {
     "end_time": "2024-03-25T04:27:34.505095Z",
     "start_time": "2024-03-25T04:27:29.563807Z"
    }
   },
   "outputs": [],
   "source": [
    "rna = pd.read_table(\"../rawData/GSE49711_SEQC_NB_TAV_G_log2.final.txt.gz\")\n",
    "rna = rna[~ rna.Gene.str.contains(\"[a-z]\")]\n",
    "rna.drop([\"Gene_set\",\"NCBI_gene_ID\",\"RefSeq_transcript_ID\",\"Chromosome\",\"Strand\",\"Start\",\"End\"], axis=1, inplace=True)\n",
    "X = rna.iloc[:,1:].transpose()\n",
    "X.columns = rna.Gene"
   ]
  },
  {
   "cell_type": "code",
   "execution_count": 8,
   "id": "f52bdc51",
   "metadata": {
    "ExecuteTime": {
     "end_time": "2024-03-25T04:27:34.569527Z",
     "start_time": "2024-03-25T04:27:34.507727Z"
    }
   },
   "outputs": [],
   "source": [
    "X = X.loc[meta.index] # keep only samples with valid Ys"
   ]
  },
  {
   "cell_type": "code",
   "execution_count": 9,
   "id": "aace9141",
   "metadata": {
    "ExecuteTime": {
     "end_time": "2024-03-25T04:27:34.612266Z",
     "start_time": "2024-03-25T04:27:34.571974Z"
    }
   },
   "outputs": [],
   "source": [
    "X_train, X_test, y_train, y_test = train_test_split(X, meta.progression.astype(\"int\"), test_size=0.4, random_state=1234)"
   ]
  },
  {
   "cell_type": "code",
   "execution_count": null,
   "id": "cc497ec6",
   "metadata": {},
   "outputs": [],
   "source": []
  },
  {
   "cell_type": "markdown",
   "id": "248bb4de",
   "metadata": {},
   "source": [
    "# QC"
   ]
  },
  {
   "cell_type": "code",
   "execution_count": 10,
   "id": "6177e57b",
   "metadata": {
    "ExecuteTime": {
     "end_time": "2024-03-25T04:27:35.648540Z",
     "start_time": "2024-03-25T04:27:34.618416Z"
    }
   },
   "outputs": [
    {
     "data": {
      "text/plain": [
       "<Axes: >"
      ]
     },
     "execution_count": 10,
     "metadata": {},
     "output_type": "execute_result"
    },
    {
     "data": {
      "image/png": "[encoded data removed]",
      "text/plain": [
       "<Figure size 640x480 with 1 Axes>"
      ]
     },
     "metadata": {},
     "output_type": "display_data"
    }
   ],
   "source": [
    "X_train.median().hist(bins=100)"
   ]
  },
  {
   "cell_type": "code",
   "execution_count": 11,
   "id": "03d99444",
   "metadata": {
    "ExecuteTime": {
     "end_time": "2024-03-25T04:27:36.280821Z",
     "start_time": "2024-03-25T04:27:35.650909Z"
    }
   },
   "outputs": [],
   "source": [
    "X_train = X_train.loc[:, X_train.median() > 5]"
   ]
  },
  {
   "cell_type": "code",
   "execution_count": 12,
   "id": "5020b4d7",
   "metadata": {
    "ExecuteTime": {
     "end_time": "2024-03-25T04:27:36.288901Z",
     "start_time": "2024-03-25T04:27:36.283697Z"
    }
   },
   "outputs": [
    {
     "data": {
      "text/plain": [
       "(298, 17698)"
      ]
     },
     "execution_count": 12,
     "metadata": {},
     "output_type": "execute_result"
    }
   ],
   "source": [
    "X_train.shape"
   ]
  },
  {
   "cell_type": "code",
   "execution_count": 13,
   "id": "377b7688",
   "metadata": {
    "ExecuteTime": {
     "end_time": "2024-03-25T04:27:36.323006Z",
     "start_time": "2024-03-25T04:27:36.291029Z"
    }
   },
   "outputs": [
    {
     "data": {
      "text/html": [
       "<div>\n",
       "<style scoped>\n",
       "    .dataframe tbody tr th:only-of-type {\n",
       "        vertical-align: middle;\n",
       "    }\n",
       "\n",
       "    .dataframe tbody tr th {\n",
       "        vertical-align: top;\n",
       "    }\n",
       "\n",
       "    .dataframe thead th {\n",
       "        text-align: right;\n",
       "    }\n",
       "</style>\n",
       "<table border=\"1\" class=\"dataframe\">\n",
       "  <thead>\n",
       "    <tr style=\"text-align: right;\">\n",
       "      <th>Gene</th>\n",
       "      <th>A1BGAS</th>\n",
       "      <th>A2BP1</th>\n",
       "      <th>A2LD1</th>\n",
       "      <th>A2M</th>\n",
       "      <th>A2ML1</th>\n",
       "      <th>A2MP1</th>\n",
       "      <th>A4GALT</th>\n",
       "      <th>A4GNT</th>\n",
       "      <th>AAAS</th>\n",
       "      <th>AACS</th>\n",
       "      <th>...</th>\n",
       "      <th>ZWILCH</th>\n",
       "      <th>ZWINT</th>\n",
       "      <th>ZXDA</th>\n",
       "      <th>ZXDB</th>\n",
       "      <th>ZXDC</th>\n",
       "      <th>ZYG11A</th>\n",
       "      <th>ZYG11B</th>\n",
       "      <th>ZYX</th>\n",
       "      <th>ZZEF1</th>\n",
       "      <th>ZZZ3</th>\n",
       "    </tr>\n",
       "    <tr>\n",
       "      <th>sampleId</th>\n",
       "      <th></th>\n",
       "      <th></th>\n",
       "      <th></th>\n",
       "      <th></th>\n",
       "      <th></th>\n",
       "      <th></th>\n",
       "      <th></th>\n",
       "      <th></th>\n",
       "      <th></th>\n",
       "      <th></th>\n",
       "      <th></th>\n",
       "      <th></th>\n",
       "      <th></th>\n",
       "      <th></th>\n",
       "      <th></th>\n",
       "      <th></th>\n",
       "      <th></th>\n",
       "      <th></th>\n",
       "      <th></th>\n",
       "      <th></th>\n",
       "      <th></th>\n",
       "    </tr>\n",
       "  </thead>\n",
       "  <tbody>\n",
       "    <tr>\n",
       "      <th>SEQC_NB262</th>\n",
       "      <td>16.8456</td>\n",
       "      <td>17.9315</td>\n",
       "      <td>14.3468</td>\n",
       "      <td>19.4112</td>\n",
       "      <td>0.0000</td>\n",
       "      <td>0.0000</td>\n",
       "      <td>14.2870</td>\n",
       "      <td>0.0000</td>\n",
       "      <td>20.0265</td>\n",
       "      <td>18.5691</td>\n",
       "      <td>...</td>\n",
       "      <td>18.6375</td>\n",
       "      <td>19.3281</td>\n",
       "      <td>15.4614</td>\n",
       "      <td>17.2311</td>\n",
       "      <td>18.3825</td>\n",
       "      <td>11.3963</td>\n",
       "      <td>18.2053</td>\n",
       "      <td>17.9243</td>\n",
       "      <td>18.9629</td>\n",
       "      <td>19.1813</td>\n",
       "    </tr>\n",
       "    <tr>\n",
       "      <th>SEQC_NB145</th>\n",
       "      <td>16.4162</td>\n",
       "      <td>19.3334</td>\n",
       "      <td>14.0095</td>\n",
       "      <td>22.4165</td>\n",
       "      <td>9.6981</td>\n",
       "      <td>12.5953</td>\n",
       "      <td>17.1819</td>\n",
       "      <td>10.6481</td>\n",
       "      <td>19.6497</td>\n",
       "      <td>17.7336</td>\n",
       "      <td>...</td>\n",
       "      <td>18.0303</td>\n",
       "      <td>18.4778</td>\n",
       "      <td>15.0104</td>\n",
       "      <td>16.0484</td>\n",
       "      <td>18.3508</td>\n",
       "      <td>11.1054</td>\n",
       "      <td>19.3581</td>\n",
       "      <td>20.8491</td>\n",
       "      <td>19.2379</td>\n",
       "      <td>18.5516</td>\n",
       "    </tr>\n",
       "    <tr>\n",
       "      <th>SEQC_NB168</th>\n",
       "      <td>16.5713</td>\n",
       "      <td>17.8237</td>\n",
       "      <td>14.1844</td>\n",
       "      <td>21.8469</td>\n",
       "      <td>11.4126</td>\n",
       "      <td>0.0000</td>\n",
       "      <td>15.7201</td>\n",
       "      <td>9.5717</td>\n",
       "      <td>19.4616</td>\n",
       "      <td>17.5621</td>\n",
       "      <td>...</td>\n",
       "      <td>17.8470</td>\n",
       "      <td>17.0052</td>\n",
       "      <td>15.1667</td>\n",
       "      <td>16.0660</td>\n",
       "      <td>18.0517</td>\n",
       "      <td>8.2379</td>\n",
       "      <td>19.3028</td>\n",
       "      <td>19.9370</td>\n",
       "      <td>19.1149</td>\n",
       "      <td>18.8600</td>\n",
       "    </tr>\n",
       "    <tr>\n",
       "      <th>SEQC_NB177</th>\n",
       "      <td>16.3315</td>\n",
       "      <td>19.8361</td>\n",
       "      <td>15.2390</td>\n",
       "      <td>20.2809</td>\n",
       "      <td>12.5672</td>\n",
       "      <td>11.3352</td>\n",
       "      <td>13.9963</td>\n",
       "      <td>0.0000</td>\n",
       "      <td>19.7191</td>\n",
       "      <td>18.6320</td>\n",
       "      <td>...</td>\n",
       "      <td>18.8644</td>\n",
       "      <td>18.5803</td>\n",
       "      <td>15.0490</td>\n",
       "      <td>15.7981</td>\n",
       "      <td>18.8968</td>\n",
       "      <td>8.0981</td>\n",
       "      <td>19.2542</td>\n",
       "      <td>19.8281</td>\n",
       "      <td>18.9183</td>\n",
       "      <td>18.9023</td>\n",
       "    </tr>\n",
       "    <tr>\n",
       "      <th>SEQC_NB147</th>\n",
       "      <td>16.3963</td>\n",
       "      <td>19.7622</td>\n",
       "      <td>14.5564</td>\n",
       "      <td>18.3331</td>\n",
       "      <td>12.0638</td>\n",
       "      <td>10.3890</td>\n",
       "      <td>13.7411</td>\n",
       "      <td>9.1522</td>\n",
       "      <td>19.8320</td>\n",
       "      <td>17.6829</td>\n",
       "      <td>...</td>\n",
       "      <td>18.4614</td>\n",
       "      <td>17.6317</td>\n",
       "      <td>13.6616</td>\n",
       "      <td>15.6906</td>\n",
       "      <td>18.0034</td>\n",
       "      <td>0.0000</td>\n",
       "      <td>19.9546</td>\n",
       "      <td>19.9600</td>\n",
       "      <td>19.4760</td>\n",
       "      <td>18.7994</td>\n",
       "    </tr>\n",
       "    <tr>\n",
       "      <th>...</th>\n",
       "      <td>...</td>\n",
       "      <td>...</td>\n",
       "      <td>...</td>\n",
       "      <td>...</td>\n",
       "      <td>...</td>\n",
       "      <td>...</td>\n",
       "      <td>...</td>\n",
       "      <td>...</td>\n",
       "      <td>...</td>\n",
       "      <td>...</td>\n",
       "      <td>...</td>\n",
       "      <td>...</td>\n",
       "      <td>...</td>\n",
       "      <td>...</td>\n",
       "      <td>...</td>\n",
       "      <td>...</td>\n",
       "      <td>...</td>\n",
       "      <td>...</td>\n",
       "      <td>...</td>\n",
       "      <td>...</td>\n",
       "      <td>...</td>\n",
       "    </tr>\n",
       "    <tr>\n",
       "      <th>SEQC_NB205</th>\n",
       "      <td>16.5643</td>\n",
       "      <td>19.4674</td>\n",
       "      <td>14.5277</td>\n",
       "      <td>22.6085</td>\n",
       "      <td>0.0000</td>\n",
       "      <td>11.3414</td>\n",
       "      <td>15.4838</td>\n",
       "      <td>0.0000</td>\n",
       "      <td>19.7447</td>\n",
       "      <td>18.5969</td>\n",
       "      <td>...</td>\n",
       "      <td>18.4851</td>\n",
       "      <td>18.7221</td>\n",
       "      <td>13.5734</td>\n",
       "      <td>15.1146</td>\n",
       "      <td>18.6445</td>\n",
       "      <td>8.8280</td>\n",
       "      <td>19.6722</td>\n",
       "      <td>20.8143</td>\n",
       "      <td>18.3852</td>\n",
       "      <td>18.4585</td>\n",
       "    </tr>\n",
       "    <tr>\n",
       "      <th>SEQC_NB054</th>\n",
       "      <td>16.6492</td>\n",
       "      <td>19.5313</td>\n",
       "      <td>14.2535</td>\n",
       "      <td>21.6060</td>\n",
       "      <td>13.1517</td>\n",
       "      <td>12.1404</td>\n",
       "      <td>15.4274</td>\n",
       "      <td>11.4453</td>\n",
       "      <td>19.8313</td>\n",
       "      <td>18.5733</td>\n",
       "      <td>...</td>\n",
       "      <td>17.4503</td>\n",
       "      <td>17.9483</td>\n",
       "      <td>15.2092</td>\n",
       "      <td>17.0717</td>\n",
       "      <td>18.2799</td>\n",
       "      <td>10.3980</td>\n",
       "      <td>20.3791</td>\n",
       "      <td>19.9456</td>\n",
       "      <td>19.6730</td>\n",
       "      <td>18.9018</td>\n",
       "    </tr>\n",
       "    <tr>\n",
       "      <th>SEQC_NB295</th>\n",
       "      <td>17.2579</td>\n",
       "      <td>18.9859</td>\n",
       "      <td>15.1080</td>\n",
       "      <td>24.1130</td>\n",
       "      <td>11.6267</td>\n",
       "      <td>0.0000</td>\n",
       "      <td>13.5970</td>\n",
       "      <td>13.6984</td>\n",
       "      <td>19.9612</td>\n",
       "      <td>18.0283</td>\n",
       "      <td>...</td>\n",
       "      <td>18.2514</td>\n",
       "      <td>18.3063</td>\n",
       "      <td>15.1859</td>\n",
       "      <td>16.6240</td>\n",
       "      <td>18.7040</td>\n",
       "      <td>12.1890</td>\n",
       "      <td>19.1276</td>\n",
       "      <td>18.4553</td>\n",
       "      <td>18.9061</td>\n",
       "      <td>18.7622</td>\n",
       "    </tr>\n",
       "    <tr>\n",
       "      <th>SEQC_NB212</th>\n",
       "      <td>16.8228</td>\n",
       "      <td>20.0859</td>\n",
       "      <td>14.9854</td>\n",
       "      <td>20.3897</td>\n",
       "      <td>12.4722</td>\n",
       "      <td>11.3602</td>\n",
       "      <td>14.5623</td>\n",
       "      <td>12.1611</td>\n",
       "      <td>19.8502</td>\n",
       "      <td>18.6534</td>\n",
       "      <td>...</td>\n",
       "      <td>19.2141</td>\n",
       "      <td>19.0378</td>\n",
       "      <td>14.9486</td>\n",
       "      <td>16.2247</td>\n",
       "      <td>18.4007</td>\n",
       "      <td>7.8332</td>\n",
       "      <td>19.5128</td>\n",
       "      <td>19.6546</td>\n",
       "      <td>19.3572</td>\n",
       "      <td>18.6881</td>\n",
       "    </tr>\n",
       "    <tr>\n",
       "      <th>SEQC_NB304</th>\n",
       "      <td>15.9541</td>\n",
       "      <td>18.8526</td>\n",
       "      <td>14.9889</td>\n",
       "      <td>19.8396</td>\n",
       "      <td>0.0000</td>\n",
       "      <td>9.6691</td>\n",
       "      <td>14.2725</td>\n",
       "      <td>11.0242</td>\n",
       "      <td>19.5408</td>\n",
       "      <td>18.5247</td>\n",
       "      <td>...</td>\n",
       "      <td>19.1561</td>\n",
       "      <td>19.4431</td>\n",
       "      <td>14.9102</td>\n",
       "      <td>16.6080</td>\n",
       "      <td>17.9482</td>\n",
       "      <td>9.7589</td>\n",
       "      <td>19.2280</td>\n",
       "      <td>19.8744</td>\n",
       "      <td>18.9968</td>\n",
       "      <td>18.7583</td>\n",
       "    </tr>\n",
       "  </tbody>\n",
       "</table>\n",
       "<p>298 rows × 17698 columns</p>\n",
       "</div>"
      ],
      "text/plain": [
       "Gene         A1BGAS    A2BP1    A2LD1      A2M    A2ML1    A2MP1   A4GALT  \\\n",
       "sampleId                                                                    \n",
       "SEQC_NB262  16.8456  17.9315  14.3468  19.4112   0.0000   0.0000  14.2870   \n",
       "SEQC_NB145  16.4162  19.3334  14.0095  22.4165   9.6981  12.5953  17.1819   \n",
       "SEQC_NB168  16.5713  17.8237  14.1844  21.8469  11.4126   0.0000  15.7201   \n",
       "SEQC_NB177  16.3315  19.8361  15.2390  20.2809  12.5672  11.3352  13.9963   \n",
       "SEQC_NB147  16.3963  19.7622  14.5564  18.3331  12.0638  10.3890  13.7411   \n",
       "...             ...      ...      ...      ...      ...      ...      ...   \n",
       "SEQC_NB205  16.5643  19.4674  14.5277  22.6085   0.0000  11.3414  15.4838   \n",
       "SEQC_NB054  16.6492  19.5313  14.2535  21.6060  13.1517  12.1404  15.4274   \n",
       "SEQC_NB295  17.2579  18.9859  15.1080  24.1130  11.6267   0.0000  13.5970   \n",
       "SEQC_NB212  16.8228  20.0859  14.9854  20.3897  12.4722  11.3602  14.5623   \n",
       "SEQC_NB304  15.9541  18.8526  14.9889  19.8396   0.0000   9.6691  14.2725   \n",
       "\n",
       "Gene          A4GNT     AAAS     AACS  ...   ZWILCH    ZWINT     ZXDA  \\\n",
       "sampleId                               ...                              \n",
       "SEQC_NB262   0.0000  20.0265  18.5691  ...  18.6375  19.3281  15.4614   \n",
       "SEQC_NB145  10.6481  19.6497  17.7336  ...  18.0303  18.4778  15.0104   \n",
       "SEQC_NB168   9.5717  19.4616  17.5621  ...  17.8470  17.0052  15.1667   \n",
       "SEQC_NB177   0.0000  19.7191  18.6320  ...  18.8644  18.5803  15.0490   \n",
       "SEQC_NB147   9.1522  19.8320  17.6829  ...  18.4614  17.6317  13.6616   \n",
       "...             ...      ...      ...  ...      ...      ...      ...   \n",
       "SEQC_NB205   0.0000  19.7447  18.5969  ...  18.4851  18.7221  13.5734   \n",
       "SEQC_NB054  11.4453  19.8313  18.5733  ...  17.4503  17.9483  15.2092   \n",
       "SEQC_NB295  13.6984  19.9612  18.0283  ...  18.2514  18.3063  15.1859   \n",
       "SEQC_NB212  12.1611  19.8502  18.6534  ...  19.2141  19.0378  14.9486   \n",
       "SEQC_NB304  11.0242  19.5408  18.5247  ...  19.1561  19.4431  14.9102   \n",
       "\n",
       "Gene           ZXDB     ZXDC   ZYG11A   ZYG11B      ZYX    ZZEF1     ZZZ3  \n",
       "sampleId                                                                   \n",
       "SEQC_NB262  17.2311  18.3825  11.3963  18.2053  17.9243  18.9629  19.1813  \n",
       "SEQC_NB145  16.0484  18.3508  11.1054  19.3581  20.8491  19.2379  18.5516  \n",
       "SEQC_NB168  16.0660  18.0517   8.2379  19.3028  19.9370  19.1149  18.8600  \n",
       "SEQC_NB177  15.7981  18.8968   8.0981  19.2542  19.8281  18.9183  18.9023  \n",
       "SEQC_NB147  15.6906  18.0034   0.0000  19.9546  19.9600  19.4760  18.7994  \n",
       "...             ...      ...      ...      ...      ...      ...      ...  \n",
       "SEQC_NB205  15.1146  18.6445   8.8280  19.6722  20.8143  18.3852  18.4585  \n",
       "SEQC_NB054  17.0717  18.2799  10.3980  20.3791  19.9456  19.6730  18.9018  \n",
       "SEQC_NB295  16.6240  18.7040  12.1890  19.1276  18.4553  18.9061  18.7622  \n",
       "SEQC_NB212  16.2247  18.4007   7.8332  19.5128  19.6546  19.3572  18.6881  \n",
       "SEQC_NB304  16.6080  17.9482   9.7589  19.2280  19.8744  18.9968  18.7583  \n",
       "\n",
       "[298 rows x 17698 columns]"
      ]
     },
     "execution_count": 13,
     "metadata": {},
     "output_type": "execute_result"
    }
   ],
   "source": [
    "X_train"
   ]
  },
  {
   "cell_type": "code",
   "execution_count": 14,
   "id": "88515902",
   "metadata": {
    "ExecuteTime": {
     "end_time": "2024-03-25T04:27:36.668538Z",
     "start_time": "2024-03-25T04:27:36.325506Z"
    }
   },
   "outputs": [],
   "source": [
    "scaler = StandardScaler()\n",
    "X_train_scaled = scaler.fit_transform(X_train)\n",
    "X_train_scaled = pd.DataFrame(X_train_scaled, index=X_train.index, columns=X_train.columns)"
   ]
  },
  {
   "cell_type": "code",
   "execution_count": 15,
   "id": "985e3d9b",
   "metadata": {
    "ExecuteTime": {
     "end_time": "2024-03-25T04:27:36.861552Z",
     "start_time": "2024-03-25T04:27:36.671351Z"
    }
   },
   "outputs": [],
   "source": [
    "X_test_scaled = scaler.transform(X_test.loc[:,X_train.columns])\n",
    "X_test_scaled = pd.DataFrame(X_test_scaled, index=X_test.index, columns=X_train.columns)"
   ]
  },
  {
   "cell_type": "code",
   "execution_count": null,
   "id": "e81e7db8",
   "metadata": {},
   "outputs": [],
   "source": []
  },
  {
   "cell_type": "code",
   "execution_count": null,
   "id": "7d3e6750",
   "metadata": {},
   "outputs": [],
   "source": []
  },
  {
   "cell_type": "markdown",
   "id": "21f69757",
   "metadata": {},
   "source": [
    "# L1 Logistic regression"
   ]
  },
  {
   "cell_type": "code",
   "execution_count": 16,
   "id": "e6a3b207",
   "metadata": {
    "ExecuteTime": {
     "end_time": "2024-03-25T04:27:36.907623Z",
     "start_time": "2024-03-25T04:27:36.864190Z"
    }
   },
   "outputs": [],
   "source": [
    "from sklearn.linear_model import LogisticRegression, LogisticRegressionCV\n",
    "from sklearn.metrics import accuracy_score, classification_report"
   ]
  },
  {
   "cell_type": "code",
   "execution_count": 17,
   "id": "f2afa29c",
   "metadata": {
    "ExecuteTime": {
     "end_time": "2024-03-25T04:28:05.330960Z",
     "start_time": "2024-03-25T04:27:36.910739Z"
    }
   },
   "outputs": [],
   "source": [
    "model = LogisticRegressionCV(penalty='l1', solver='liblinear', cv = 5, random_state=1234, Cs= 20, class_weight = \"balanced\")\n",
    "model.fit(X_train_scaled, y_train)\n",
    "\n",
    "# Make predictions on the test set\n",
    "y_pred = model.predict(X_test_scaled)\n",
    "\n",
    "# Evaluate the model\n",
    "accuracy = accuracy_score(y_test, y_pred)"
   ]
  },
  {
   "cell_type": "code",
   "execution_count": 18,
   "id": "5bfe753e",
   "metadata": {
    "ExecuteTime": {
     "end_time": "2024-03-25T04:28:05.338790Z",
     "start_time": "2024-03-25T04:28:05.333767Z"
    }
   },
   "outputs": [
    {
     "data": {
      "text/plain": [
       "0.785"
      ]
     },
     "execution_count": 18,
     "metadata": {},
     "output_type": "execute_result"
    }
   ],
   "source": [
    "accuracy"
   ]
  },
  {
   "cell_type": "code",
   "execution_count": 19,
   "id": "60933ca9",
   "metadata": {
    "ExecuteTime": {
     "end_time": "2024-03-25T04:28:05.356726Z",
     "start_time": "2024-03-25T04:28:05.341862Z"
    }
   },
   "outputs": [
    {
     "data": {
      "text/html": [
       "<div>\n",
       "<style scoped>\n",
       "    .dataframe tbody tr th:only-of-type {\n",
       "        vertical-align: middle;\n",
       "    }\n",
       "\n",
       "    .dataframe tbody tr th {\n",
       "        vertical-align: top;\n",
       "    }\n",
       "\n",
       "    .dataframe thead th {\n",
       "        text-align: right;\n",
       "    }\n",
       "</style>\n",
       "<table border=\"1\" class=\"dataframe\">\n",
       "  <thead>\n",
       "    <tr style=\"text-align: right;\">\n",
       "      <th>progression</th>\n",
       "      <th>0</th>\n",
       "      <th>1</th>\n",
       "    </tr>\n",
       "    <tr>\n",
       "      <th>row_0</th>\n",
       "      <th></th>\n",
       "      <th></th>\n",
       "    </tr>\n",
       "  </thead>\n",
       "  <tbody>\n",
       "    <tr>\n",
       "      <th>0</th>\n",
       "      <td>97</td>\n",
       "      <td>12</td>\n",
       "    </tr>\n",
       "    <tr>\n",
       "      <th>1</th>\n",
       "      <td>31</td>\n",
       "      <td>60</td>\n",
       "    </tr>\n",
       "  </tbody>\n",
       "</table>\n",
       "</div>"
      ],
      "text/plain": [
       "progression   0   1\n",
       "row_0              \n",
       "0            97  12\n",
       "1            31  60"
      ]
     },
     "execution_count": 19,
     "metadata": {},
     "output_type": "execute_result"
    }
   ],
   "source": [
    "pd.crosstab(y_pred, y_test)"
   ]
  },
  {
   "cell_type": "code",
   "execution_count": 20,
   "id": "47d71056",
   "metadata": {
    "ExecuteTime": {
     "end_time": "2024-03-25T04:28:05.398484Z",
     "start_time": "2024-03-25T04:28:05.360112Z"
    }
   },
   "outputs": [
    {
     "data": {
      "text/html": [
       "<div>\n",
       "<style scoped>\n",
       "    .dataframe tbody tr th:only-of-type {\n",
       "        vertical-align: middle;\n",
       "    }\n",
       "\n",
       "    .dataframe tbody tr th {\n",
       "        vertical-align: top;\n",
       "    }\n",
       "\n",
       "    .dataframe thead th {\n",
       "        text-align: right;\n",
       "    }\n",
       "</style>\n",
       "<table border=\"1\" class=\"dataframe\">\n",
       "  <thead>\n",
       "    <tr style=\"text-align: right;\">\n",
       "      <th>progression</th>\n",
       "      <th>0</th>\n",
       "      <th>1</th>\n",
       "    </tr>\n",
       "    <tr>\n",
       "      <th>high_risk</th>\n",
       "      <th></th>\n",
       "      <th></th>\n",
       "    </tr>\n",
       "  </thead>\n",
       "  <tbody>\n",
       "    <tr>\n",
       "      <th>0</th>\n",
       "      <td>110</td>\n",
       "      <td>31</td>\n",
       "    </tr>\n",
       "    <tr>\n",
       "      <th>1</th>\n",
       "      <td>18</td>\n",
       "      <td>41</td>\n",
       "    </tr>\n",
       "  </tbody>\n",
       "</table>\n",
       "</div>"
      ],
      "text/plain": [
       "progression    0   1\n",
       "high_risk           \n",
       "0            110  31\n",
       "1             18  41"
      ]
     },
     "execution_count": 20,
     "metadata": {},
     "output_type": "execute_result"
    }
   ],
   "source": [
    "pd.crosstab(meta.loc[y_test.index].high_risk, meta.loc[y_test.index].progression)"
   ]
  },
  {
   "cell_type": "code",
   "execution_count": 21,
   "id": "434edf11",
   "metadata": {
    "ExecuteTime": {
     "end_time": "2024-03-25T04:28:05.416855Z",
     "start_time": "2024-03-25T04:28:05.401587Z"
    }
   },
   "outputs": [
    {
     "name": "stdout",
     "output_type": "stream",
     "text": [
      "              precision    recall  f1-score   support\n",
      "\n",
      "           0       0.89      0.76      0.82       128\n",
      "           1       0.66      0.83      0.74        72\n",
      "\n",
      "    accuracy                           0.79       200\n",
      "   macro avg       0.77      0.80      0.78       200\n",
      "weighted avg       0.81      0.79      0.79       200\n",
      "\n"
     ]
    }
   ],
   "source": [
    "print(classification_report(y_test, y_pred))"
   ]
  },
  {
   "cell_type": "code",
   "execution_count": 22,
   "id": "d0f46063",
   "metadata": {
    "ExecuteTime": {
     "end_time": "2024-03-25T04:28:05.905151Z",
     "start_time": "2024-03-25T04:28:05.419838Z"
    }
   },
   "outputs": [
    {
     "data": {
      "image/png": "[encoded data removed]",
      "text/plain": [
       "<Figure size 640x480 with 1 Axes>"
      ]
     },
     "metadata": {},
     "output_type": "display_data"
    }
   ],
   "source": [
    "_ = plt.hist(model.predict_proba(X_test.loc[:, X_train.columns])[:,0], 100)"
   ]
  },
  {
   "cell_type": "code",
   "execution_count": null,
   "id": "fe525f2b",
   "metadata": {},
   "outputs": [],
   "source": []
  },
  {
   "cell_type": "code",
   "execution_count": 23,
   "id": "836f0a73",
   "metadata": {
    "ExecuteTime": {
     "end_time": "2024-03-25T04:28:06.239111Z",
     "start_time": "2024-03-25T04:28:05.907769Z"
    }
   },
   "outputs": [
    {
     "data": {
      "image/png": "[encoded data removed]",
      "text/plain": [
       "<Figure size 640x480 with 1 Axes>"
      ]
     },
     "metadata": {},
     "output_type": "display_data"
    }
   ],
   "source": [
    "_ = plt.hist(model.coef_[0], 100)"
   ]
  },
  {
   "cell_type": "code",
   "execution_count": 24,
   "id": "44c3ee4b",
   "metadata": {
    "ExecuteTime": {
     "end_time": "2024-03-25T04:28:06.249978Z",
     "start_time": "2024-03-25T04:28:06.242687Z"
    }
   },
   "outputs": [
    {
     "data": {
      "text/plain": [
       "18"
      ]
     },
     "execution_count": 24,
     "metadata": {},
     "output_type": "execute_result"
    }
   ],
   "source": [
    "sum(model.coef_[0] != 0)"
   ]
  },
  {
   "cell_type": "code",
   "execution_count": 25,
   "id": "bf4d93a6",
   "metadata": {
    "ExecuteTime": {
     "end_time": "2024-03-25T04:28:06.255203Z",
     "start_time": "2024-03-25T04:28:06.252054Z"
    }
   },
   "outputs": [],
   "source": [
    "indices = np.argsort(model.coef_[0])[::-1]"
   ]
  },
  {
   "cell_type": "code",
   "execution_count": null,
   "id": "ec042c27",
   "metadata": {},
   "outputs": [],
   "source": []
  },
  {
   "cell_type": "code",
   "execution_count": 26,
   "id": "eb80b1c6",
   "metadata": {
    "ExecuteTime": {
     "end_time": "2024-03-25T04:28:06.557592Z",
     "start_time": "2024-03-25T04:28:06.257638Z"
    }
   },
   "outputs": [
    {
     "data": {
      "image/png": "[encoded data removed]",
      "text/plain": [
       "<Figure size 640x480 with 1 Axes>"
      ]
     },
     "metadata": {},
     "output_type": "display_data"
    }
   ],
   "source": [
    "plt.barh(X_train.columns[indices][range(20)][::-1], model.coef_[0][indices][range(20)][::-1])\n",
    "plt.title(\"Permutation-based feature importance\")\n",
    "plt.xlabel(\"Importance\")\n",
    "plt.ylabel(\"Feature\")\n",
    "plt.show()"
   ]
  },
  {
   "cell_type": "code",
   "execution_count": 27,
   "id": "2812f819",
   "metadata": {
    "ExecuteTime": {
     "end_time": "2024-03-25T04:28:06.739002Z",
     "start_time": "2024-03-25T04:28:06.560327Z"
    }
   },
   "outputs": [
    {
     "data": {
      "image/png": "[encoded data removed]",
      "text/plain": [
       "<Figure size 640x480 with 1 Axes>"
      ]
     },
     "metadata": {},
     "output_type": "display_data"
    }
   ],
   "source": [
    "plt.plot(np.log10(model.Cs_), model.scores_[1].T)\n",
    "plt.show()"
   ]
  },
  {
   "cell_type": "code",
   "execution_count": 28,
   "id": "f2a876d9",
   "metadata": {
    "ExecuteTime": {
     "end_time": "2024-03-25T04:28:06.926239Z",
     "start_time": "2024-03-25T04:28:06.748250Z"
    }
   },
   "outputs": [
    {
     "data": {
      "image/png": "[encoded data removed]",
      "text/plain": [
       "<Figure size 640x480 with 1 Axes>"
      ]
     },
     "metadata": {},
     "output_type": "display_data"
    }
   ],
   "source": [
    "plt.plot(np.log10(model.Cs_), np.mean(model.scores_[1].T, axis = 1))\n",
    "plt.show()"
   ]
  },
  {
   "cell_type": "code",
   "execution_count": null,
   "id": "316452d7",
   "metadata": {},
   "outputs": [],
   "source": []
  },
  {
   "cell_type": "code",
   "execution_count": null,
   "id": "bc24c50b",
   "metadata": {},
   "outputs": [],
   "source": []
  },
  {
   "cell_type": "code",
   "execution_count": null,
   "id": "c3411304",
   "metadata": {},
   "outputs": [],
   "source": []
  },
  {
   "cell_type": "code",
   "execution_count": null,
   "id": "b5477e6b",
   "metadata": {},
   "outputs": [],
   "source": []
  },
  {
   "cell_type": "markdown",
   "id": "3ad3421f",
   "metadata": {},
   "source": [
    "# Ranodm forest"
   ]
  },
  {
   "cell_type": "code",
   "execution_count": 29,
   "id": "1d02712c",
   "metadata": {
    "ExecuteTime": {
     "end_time": "2024-03-25T04:28:07.094745Z",
     "start_time": "2024-03-25T04:28:06.928997Z"
    }
   },
   "outputs": [],
   "source": [
    "from sklearn.ensemble import RandomForestClassifier\n"
   ]
  },
  {
   "cell_type": "code",
   "execution_count": 61,
   "id": "11266616",
   "metadata": {
    "ExecuteTime": {
     "end_time": "2024-03-25T04:37:53.502946Z",
     "start_time": "2024-03-25T04:37:03.863432Z"
    }
   },
   "outputs": [],
   "source": [
    "rf_classifier = RandomForestClassifier(n_estimators=1000, random_state=1234, class_weight = \"balanced\")\n",
    "\n",
    "rf_classifier.fit(X_train, y_train)\n",
    "y_pred = rf_classifier.predict(X_test.loc[:, X_train.columns])"
   ]
  },
  {
   "cell_type": "code",
   "execution_count": 62,
   "id": "52f2bcd4",
   "metadata": {
    "ExecuteTime": {
     "end_time": "2024-03-25T04:37:53.511409Z",
     "start_time": "2024-03-25T04:37:53.506094Z"
    }
   },
   "outputs": [],
   "source": [
    "accuracy = accuracy_score(y_test, y_pred)"
   ]
  },
  {
   "cell_type": "code",
   "execution_count": 63,
   "id": "75c358ce",
   "metadata": {
    "ExecuteTime": {
     "end_time": "2024-03-25T04:37:53.518420Z",
     "start_time": "2024-03-25T04:37:53.514581Z"
    }
   },
   "outputs": [
    {
     "data": {
      "text/plain": [
       "0.73"
      ]
     },
     "execution_count": 63,
     "metadata": {},
     "output_type": "execute_result"
    }
   ],
   "source": [
    "accuracy"
   ]
  },
  {
   "cell_type": "code",
   "execution_count": 64,
   "id": "80d8956d",
   "metadata": {
    "ExecuteTime": {
     "end_time": "2024-03-25T04:37:53.538154Z",
     "start_time": "2024-03-25T04:37:53.523058Z"
    }
   },
   "outputs": [
    {
     "data": {
      "text/html": [
       "<div>\n",
       "<style scoped>\n",
       "    .dataframe tbody tr th:only-of-type {\n",
       "        vertical-align: middle;\n",
       "    }\n",
       "\n",
       "    .dataframe tbody tr th {\n",
       "        vertical-align: top;\n",
       "    }\n",
       "\n",
       "    .dataframe thead th {\n",
       "        text-align: right;\n",
       "    }\n",
       "</style>\n",
       "<table border=\"1\" class=\"dataframe\">\n",
       "  <thead>\n",
       "    <tr style=\"text-align: right;\">\n",
       "      <th>progression</th>\n",
       "      <th>0</th>\n",
       "      <th>1</th>\n",
       "    </tr>\n",
       "    <tr>\n",
       "      <th>row_0</th>\n",
       "      <th></th>\n",
       "      <th></th>\n",
       "    </tr>\n",
       "  </thead>\n",
       "  <tbody>\n",
       "    <tr>\n",
       "      <th>0</th>\n",
       "      <td>100</td>\n",
       "      <td>26</td>\n",
       "    </tr>\n",
       "    <tr>\n",
       "      <th>1</th>\n",
       "      <td>28</td>\n",
       "      <td>46</td>\n",
       "    </tr>\n",
       "  </tbody>\n",
       "</table>\n",
       "</div>"
      ],
      "text/plain": [
       "progression    0   1\n",
       "row_0               \n",
       "0            100  26\n",
       "1             28  46"
      ]
     },
     "execution_count": 64,
     "metadata": {},
     "output_type": "execute_result"
    }
   ],
   "source": [
    "pd.crosstab(y_pred, y_test)"
   ]
  },
  {
   "cell_type": "code",
   "execution_count": 34,
   "id": "ea405a21",
   "metadata": {
    "ExecuteTime": {
     "end_time": "2024-03-25T04:28:23.897203Z",
     "start_time": "2024-03-25T04:28:23.879961Z"
    }
   },
   "outputs": [
    {
     "data": {
      "text/html": [
       "<div>\n",
       "<style scoped>\n",
       "    .dataframe tbody tr th:only-of-type {\n",
       "        vertical-align: middle;\n",
       "    }\n",
       "\n",
       "    .dataframe tbody tr th {\n",
       "        vertical-align: top;\n",
       "    }\n",
       "\n",
       "    .dataframe thead th {\n",
       "        text-align: right;\n",
       "    }\n",
       "</style>\n",
       "<table border=\"1\" class=\"dataframe\">\n",
       "  <thead>\n",
       "    <tr style=\"text-align: right;\">\n",
       "      <th>progression</th>\n",
       "      <th>0</th>\n",
       "      <th>1</th>\n",
       "    </tr>\n",
       "    <tr>\n",
       "      <th>high_risk</th>\n",
       "      <th></th>\n",
       "      <th></th>\n",
       "    </tr>\n",
       "  </thead>\n",
       "  <tbody>\n",
       "    <tr>\n",
       "      <th>0</th>\n",
       "      <td>110</td>\n",
       "      <td>31</td>\n",
       "    </tr>\n",
       "    <tr>\n",
       "      <th>1</th>\n",
       "      <td>18</td>\n",
       "      <td>41</td>\n",
       "    </tr>\n",
       "  </tbody>\n",
       "</table>\n",
       "</div>"
      ],
      "text/plain": [
       "progression    0   1\n",
       "high_risk           \n",
       "0            110  31\n",
       "1             18  41"
      ]
     },
     "execution_count": 34,
     "metadata": {},
     "output_type": "execute_result"
    }
   ],
   "source": [
    "pd.crosstab(meta.loc[y_test.index].high_risk, meta.loc[y_test.index].progression)"
   ]
  },
  {
   "cell_type": "code",
   "execution_count": 35,
   "id": "5052d3f0",
   "metadata": {
    "ExecuteTime": {
     "end_time": "2024-03-25T04:28:23.912852Z",
     "start_time": "2024-03-25T04:28:23.900189Z"
    }
   },
   "outputs": [
    {
     "name": "stdout",
     "output_type": "stream",
     "text": [
      "              precision    recall  f1-score   support\n",
      "\n",
      "           0       0.81      0.88      0.84       128\n",
      "           1       0.75      0.62      0.68        72\n",
      "\n",
      "    accuracy                           0.79       200\n",
      "   macro avg       0.78      0.75      0.76       200\n",
      "weighted avg       0.79      0.79      0.79       200\n",
      "\n"
     ]
    }
   ],
   "source": [
    "print(classification_report(y_test, y_pred))"
   ]
  },
  {
   "cell_type": "code",
   "execution_count": 36,
   "id": "67917e5d",
   "metadata": {
    "ExecuteTime": {
     "end_time": "2024-03-25T04:28:23.931065Z",
     "start_time": "2024-03-25T04:28:23.915125Z"
    }
   },
   "outputs": [
    {
     "name": "stdout",
     "output_type": "stream",
     "text": [
      "              precision    recall  f1-score   support\n",
      "\n",
      "           0       0.86      0.78      0.82       141\n",
      "           1       0.57      0.69      0.63        59\n",
      "\n",
      "    accuracy                           0.76       200\n",
      "   macro avg       0.71      0.74      0.72       200\n",
      "weighted avg       0.77      0.76      0.76       200\n",
      "\n"
     ]
    }
   ],
   "source": [
    "print(classification_report(meta.loc[y_test.index].high_risk, meta.loc[y_test.index].progression))"
   ]
  },
  {
   "cell_type": "code",
   "execution_count": null,
   "id": "a13cfa61",
   "metadata": {},
   "outputs": [],
   "source": []
  },
  {
   "cell_type": "code",
   "execution_count": 37,
   "id": "452b140c",
   "metadata": {
    "ExecuteTime": {
     "end_time": "2024-03-25T04:28:24.319972Z",
     "start_time": "2024-03-25T04:28:23.933524Z"
    }
   },
   "outputs": [],
   "source": [
    "importances = rf_classifier.feature_importances_\n",
    "\n",
    "# Sort feature importances in descending order\n",
    "indices = np.argsort(importances)[::-1]"
   ]
  },
  {
   "cell_type": "code",
   "execution_count": 38,
   "id": "40f865c9",
   "metadata": {
    "ExecuteTime": {
     "end_time": "2024-03-25T04:28:24.327296Z",
     "start_time": "2024-03-25T04:28:24.322550Z"
    }
   },
   "outputs": [
    {
     "name": "stdout",
     "output_type": "stream",
     "text": [
      "Feature ranking:\n",
      "1. SLC25A5P2: feature 14316 (0.002624)\n",
      "2. CDK2: feature 2050 (0.002596)\n",
      "3. CDK1: feature 2040 (0.002499)\n",
      "4. ERCC6L: feature 3951 (0.002222)\n",
      "5. BAZ2B: feature 1204 (0.002078)\n",
      "6. ELK1: feature 3805 (0.002071)\n",
      "7. ING2: feature 6439 (0.001998)\n",
      "8. PRPS1: feature 12160 (0.001953)\n",
      "9. PCNA: feature 11256 (0.001916)\n",
      "10. SLC25A5: feature 14314 (0.001893)\n",
      "11. INPP1: feature 6453 (0.001883)\n",
      "12. FENL1: feature 4574 (0.001813)\n",
      "13. PIRT: feature 11577 (0.001709)\n",
      "14. EXOSC9: feature 4048 (0.001706)\n",
      "15. NUDT5: feature 10792 (0.001685)\n",
      "16. NXT2: feature 10852 (0.001676)\n",
      "17. SUV39H2: feature 15131 (0.001649)\n",
      "18. PXK: feature 12420 (0.001634)\n",
      "19. NPM1P9: feature 10645 (0.001628)\n",
      "20. AURKA: feature 1110 (0.001608)\n"
     ]
    }
   ],
   "source": [
    "# Print the feature ranking\n",
    "print(\"Feature ranking:\")\n",
    "for f in range(20):\n",
    "    print(\"%d. %s: feature %d (%f)\" % (f + 1, X_train.columns[indices[f]], indices[f], importances[indices[f]]))"
   ]
  },
  {
   "cell_type": "code",
   "execution_count": 39,
   "id": "72c10a87",
   "metadata": {
    "ExecuteTime": {
     "end_time": "2024-03-25T04:28:24.649806Z",
     "start_time": "2024-03-25T04:28:24.329560Z"
    }
   },
   "outputs": [
    {
     "data": {
      "image/png": "[encoded data removed]",
      "text/plain": [
       "<Figure size 640x480 with 1 Axes>"
      ]
     },
     "metadata": {},
     "output_type": "display_data"
    }
   ],
   "source": [
    "plt.barh(X_train.columns[indices][range(20)][::-1], importances[indices][range(20)][::-1])\n",
    "plt.title(\"Permutation-based feature importance\")\n",
    "plt.xlabel(\"Importance\")\n",
    "plt.ylabel(\"Feature\")\n",
    "plt.show()"
   ]
  },
  {
   "cell_type": "code",
   "execution_count": null,
   "id": "6a5819f8",
   "metadata": {},
   "outputs": [],
   "source": []
  },
  {
   "cell_type": "code",
   "execution_count": null,
   "id": "aba06c92",
   "metadata": {},
   "outputs": [],
   "source": []
  },
  {
   "cell_type": "code",
   "execution_count": null,
   "id": "cf8b3f5c",
   "metadata": {},
   "outputs": [],
   "source": []
  },
  {
   "cell_type": "code",
   "execution_count": null,
   "id": "cff0cc64",
   "metadata": {},
   "outputs": [],
   "source": []
  },
  {
   "cell_type": "code",
   "execution_count": null,
   "id": "16874232",
   "metadata": {},
   "outputs": [],
   "source": []
  },
  {
   "cell_type": "code",
   "execution_count": null,
   "id": "61981bd3",
   "metadata": {},
   "outputs": [],
   "source": []
  }
 ],
 "metadata": {
  "kernelspec": {
   "display_name": "Python 3 (ipykernel)",
   "language": "python",
   "name": "python3"
  },
  "language_info": {
   "codemirror_mode": {
    "name": "ipython",
    "version": 3
   },
   "file_extension": ".py",
   "mimetype": "text/x-python",
   "name": "python",
   "nbconvert_exporter": "python",
   "pygments_lexer": "ipython3",
   "version": "3.10.7"
  }
 },
 "nbformat": 4,
 "nbformat_minor": 5
}
