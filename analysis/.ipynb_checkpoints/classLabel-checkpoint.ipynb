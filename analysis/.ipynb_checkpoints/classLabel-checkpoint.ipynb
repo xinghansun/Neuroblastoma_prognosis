{
 "cells": [
  {
   "cell_type": "code",
   "execution_count": 1,
   "id": "9f87386f",
   "metadata": {
    "ExecuteTime": {
     "end_time": "2024-03-25T04:40:15.307183Z",
     "start_time": "2024-03-25T04:40:13.597889Z"
    }
   },
   "outputs": [],
   "source": [
    "import gzip\n",
    "\n",
    "import pandas as pd\n",
    "import numpy as np\n",
    "\n",
    "from sklearn.model_selection import train_test_split\n",
    "from sklearn.preprocessing import MinMaxScaler, StandardScaler\n",
    "\n",
    "from matplotlib import pyplot as plt"
   ]
  },
  {
   "cell_type": "markdown",
   "id": "6f8050eb",
   "metadata": {},
   "source": [
    "# Preprocessing"
   ]
  },
  {
   "cell_type": "markdown",
   "id": "3aadae97",
   "metadata": {},
   "source": [
    "## Meta data"
   ]
  },
  {
   "cell_type": "code",
   "execution_count": 2,
   "id": "de7ec617",
   "metadata": {
    "ExecuteTime": {
     "end_time": "2024-03-25T04:40:15.317366Z",
     "start_time": "2024-03-25T04:40:15.310557Z"
    }
   },
   "outputs": [],
   "source": [
    "def read_geo_series_matrix(file_path):\n",
    "    cols = {}\n",
    "    with gzip.open(file_path, 'rt') as f:\n",
    "        for line in f:\n",
    "            if line.startswith(\"!Sample_title\"):\n",
    "                sampleId = [i.strip('\"') for i in line.split()[1:]]\n",
    "                cols[\"sampleId\"] = sampleId\n",
    "            elif line.startswith(\"!Sample_characteristics_ch1\"):\n",
    "                _ = line[28:].strip().strip('\"').split('\"\\t\"')\n",
    "                category = _[0].split(\": \")[0].replace(\" \", \"_\")\n",
    "                values = [i.split(\": \")[1] for i in _]\n",
    "                cols.update({category: values})\n",
    "    \n",
    "    return pd.DataFrame(cols)"
   ]
  },
  {
   "cell_type": "code",
   "execution_count": 3,
   "id": "3a03c6ab",
   "metadata": {
    "ExecuteTime": {
     "end_time": "2024-03-25T04:40:15.336435Z",
     "start_time": "2024-03-25T04:40:15.320332Z"
    }
   },
   "outputs": [
    {
     "data": {
      "text/plain": [
       "(498, 11)"
      ]
     },
     "execution_count": 3,
     "metadata": {},
     "output_type": "execute_result"
    }
   ],
   "source": [
    "meta = read_geo_series_matrix(\"../rawData/GSE49711_series_matrix.txt.gz\")\n",
    "meta.index = meta.sampleId\n",
    "meta.shape"
   ]
  },
  {
   "cell_type": "code",
   "execution_count": 4,
   "id": "046f633f",
   "metadata": {
    "ExecuteTime": {
     "end_time": "2024-03-25T04:40:15.346747Z",
     "start_time": "2024-03-25T04:40:15.340623Z"
    }
   },
   "outputs": [
    {
     "data": {
      "text/plain": [
       "(272, 11)"
      ]
     },
     "execution_count": 4,
     "metadata": {},
     "output_type": "execute_result"
    }
   ],
   "source": [
    "meta = meta.loc[meta.class_label.isin([\"0\", \"1\"])]\n",
    "meta.shape"
   ]
  },
  {
   "cell_type": "code",
   "execution_count": 5,
   "id": "d52624bb",
   "metadata": {
    "ExecuteTime": {
     "end_time": "2024-03-25T04:40:15.371038Z",
     "start_time": "2024-03-25T04:40:15.349204Z"
    }
   },
   "outputs": [
    {
     "data": {
      "text/html": [
       "<div>\n",
       "<style scoped>\n",
       "    .dataframe tbody tr th:only-of-type {\n",
       "        vertical-align: middle;\n",
       "    }\n",
       "\n",
       "    .dataframe tbody tr th {\n",
       "        vertical-align: top;\n",
       "    }\n",
       "\n",
       "    .dataframe thead th {\n",
       "        text-align: right;\n",
       "    }\n",
       "</style>\n",
       "<table border=\"1\" class=\"dataframe\">\n",
       "  <thead>\n",
       "    <tr style=\"text-align: right;\">\n",
       "      <th>class_label</th>\n",
       "      <th>0</th>\n",
       "      <th>1</th>\n",
       "    </tr>\n",
       "    <tr>\n",
       "      <th>inss_stage</th>\n",
       "      <th></th>\n",
       "      <th></th>\n",
       "    </tr>\n",
       "  </thead>\n",
       "  <tbody>\n",
       "    <tr>\n",
       "      <th>1</th>\n",
       "      <td>100</td>\n",
       "      <td>1</td>\n",
       "    </tr>\n",
       "    <tr>\n",
       "      <th>2</th>\n",
       "      <td>44</td>\n",
       "      <td>4</td>\n",
       "    </tr>\n",
       "    <tr>\n",
       "      <th>3</th>\n",
       "      <td>7</td>\n",
       "      <td>14</td>\n",
       "    </tr>\n",
       "    <tr>\n",
       "      <th>4</th>\n",
       "      <td>0</td>\n",
       "      <td>68</td>\n",
       "    </tr>\n",
       "    <tr>\n",
       "      <th>4S</th>\n",
       "      <td>30</td>\n",
       "      <td>4</td>\n",
       "    </tr>\n",
       "  </tbody>\n",
       "</table>\n",
       "</div>"
      ],
      "text/plain": [
       "class_label    0   1\n",
       "inss_stage          \n",
       "1            100   1\n",
       "2             44   4\n",
       "3              7  14\n",
       "4              0  68\n",
       "4S            30   4"
      ]
     },
     "execution_count": 5,
     "metadata": {},
     "output_type": "execute_result"
    }
   ],
   "source": [
    "pd.crosstab(meta.inss_stage, meta.class_label)"
   ]
  },
  {
   "cell_type": "code",
   "execution_count": 6,
   "id": "950a8a28",
   "metadata": {
    "ExecuteTime": {
     "end_time": "2024-03-25T04:40:15.393491Z",
     "start_time": "2024-03-25T04:40:15.373486Z"
    }
   },
   "outputs": [
    {
     "data": {
      "text/html": [
       "<div>\n",
       "<style scoped>\n",
       "    .dataframe tbody tr th:only-of-type {\n",
       "        vertical-align: middle;\n",
       "    }\n",
       "\n",
       "    .dataframe tbody tr th {\n",
       "        vertical-align: top;\n",
       "    }\n",
       "\n",
       "    .dataframe thead th {\n",
       "        text-align: right;\n",
       "    }\n",
       "</style>\n",
       "<table border=\"1\" class=\"dataframe\">\n",
       "  <thead>\n",
       "    <tr style=\"text-align: right;\">\n",
       "      <th>class_label</th>\n",
       "      <th>0</th>\n",
       "      <th>1</th>\n",
       "    </tr>\n",
       "    <tr>\n",
       "      <th>high_risk</th>\n",
       "      <th></th>\n",
       "      <th></th>\n",
       "    </tr>\n",
       "  </thead>\n",
       "  <tbody>\n",
       "    <tr>\n",
       "      <th>0</th>\n",
       "      <td>181</td>\n",
       "      <td>13</td>\n",
       "    </tr>\n",
       "    <tr>\n",
       "      <th>1</th>\n",
       "      <td>0</td>\n",
       "      <td>78</td>\n",
       "    </tr>\n",
       "  </tbody>\n",
       "</table>\n",
       "</div>"
      ],
      "text/plain": [
       "class_label    0   1\n",
       "high_risk           \n",
       "0            181  13\n",
       "1              0  78"
      ]
     },
     "execution_count": 6,
     "metadata": {},
     "output_type": "execute_result"
    }
   ],
   "source": [
    "pd.crosstab(meta.high_risk, meta.class_label)"
   ]
  },
  {
   "cell_type": "code",
   "execution_count": null,
   "id": "2fbafb6a",
   "metadata": {},
   "outputs": [],
   "source": []
  },
  {
   "cell_type": "markdown",
   "id": "196ae431",
   "metadata": {},
   "source": [
    "## Gene level"
   ]
  },
  {
   "cell_type": "code",
   "execution_count": 7,
   "id": "471e3f5d",
   "metadata": {
    "ExecuteTime": {
     "end_time": "2024-03-25T04:40:20.192121Z",
     "start_time": "2024-03-25T04:40:15.396238Z"
    }
   },
   "outputs": [],
   "source": [
    "rna = pd.read_table(\"../rawData/GSE49711_SEQC_NB_TAV_G_log2.final.txt.gz\")\n",
    "rna = rna[~ rna.Gene.str.contains(\"[a-z]\")]\n",
    "rna.drop([\"Gene_set\",\"NCBI_gene_ID\",\"RefSeq_transcript_ID\",\"Chromosome\",\"Strand\",\"Start\",\"End\"], axis=1, inplace=True)\n",
    "X = rna.iloc[:,1:].transpose()\n",
    "X.columns = rna.Gene"
   ]
  },
  {
   "cell_type": "code",
   "execution_count": 8,
   "id": "f52bdc51",
   "metadata": {
    "ExecuteTime": {
     "end_time": "2024-03-25T04:40:20.232450Z",
     "start_time": "2024-03-25T04:40:20.195186Z"
    }
   },
   "outputs": [],
   "source": [
    "X = X.loc[meta.index] # keep only samples with valid Ys"
   ]
  },
  {
   "cell_type": "code",
   "execution_count": 9,
   "id": "aace9141",
   "metadata": {
    "ExecuteTime": {
     "end_time": "2024-03-25T04:40:20.273758Z",
     "start_time": "2024-03-25T04:40:20.235472Z"
    }
   },
   "outputs": [],
   "source": [
    "X_train, X_test, y_train, y_test = train_test_split(X, meta.class_label.astype(\"int\"), test_size=0.3, random_state=1234)"
   ]
  },
  {
   "cell_type": "code",
   "execution_count": null,
   "id": "cc497ec6",
   "metadata": {},
   "outputs": [],
   "source": []
  },
  {
   "cell_type": "markdown",
   "id": "248bb4de",
   "metadata": {},
   "source": [
    "# QC"
   ]
  },
  {
   "cell_type": "code",
   "execution_count": 10,
   "id": "6177e57b",
   "metadata": {
    "ExecuteTime": {
     "end_time": "2024-03-25T04:40:20.808972Z",
     "start_time": "2024-03-25T04:40:20.279887Z"
    }
   },
   "outputs": [
    {
     "data": {
      "text/plain": [
       "<Axes: >"
      ]
     },
     "execution_count": 10,
     "metadata": {},
     "output_type": "execute_result"
    },
    {
     "data": {
      "image/png": "[encoded data removed]",
      "text/plain": [
       "<Figure size 640x480 with 1 Axes>"
      ]
     },
     "metadata": {},
     "output_type": "display_data"
    }
   ],
   "source": [
    "X_train.median().hist(bins=100)"
   ]
  },
  {
   "cell_type": "code",
   "execution_count": 11,
   "id": "03d99444",
   "metadata": {
    "ExecuteTime": {
     "end_time": "2024-03-25T04:40:20.962024Z",
     "start_time": "2024-03-25T04:40:20.812374Z"
    }
   },
   "outputs": [],
   "source": [
    "X_train = X_train.loc[:, X_train.median() > 5]"
   ]
  },
  {
   "cell_type": "code",
   "execution_count": 12,
   "id": "5020b4d7",
   "metadata": {
    "ExecuteTime": {
     "end_time": "2024-03-25T04:40:20.968855Z",
     "start_time": "2024-03-25T04:40:20.964747Z"
    }
   },
   "outputs": [
    {
     "data": {
      "text/plain": [
       "(81, 17675)"
      ]
     },
     "execution_count": 12,
     "metadata": {},
     "output_type": "execute_result"
    }
   ],
   "source": [
    "X_train.shape"
   ]
  },
  {
   "cell_type": "code",
   "execution_count": 13,
   "id": "377b7688",
   "metadata": {
    "ExecuteTime": {
     "end_time": "2024-03-25T04:40:21.003524Z",
     "start_time": "2024-03-25T04:40:20.971037Z"
    }
   },
   "outputs": [
    {
     "data": {
      "text/html": [
       "<div>\n",
       "<style scoped>\n",
       "    .dataframe tbody tr th:only-of-type {\n",
       "        vertical-align: middle;\n",
       "    }\n",
       "\n",
       "    .dataframe tbody tr th {\n",
       "        vertical-align: top;\n",
       "    }\n",
       "\n",
       "    .dataframe thead th {\n",
       "        text-align: right;\n",
       "    }\n",
       "</style>\n",
       "<table border=\"1\" class=\"dataframe\">\n",
       "  <thead>\n",
       "    <tr style=\"text-align: right;\">\n",
       "      <th>Gene</th>\n",
       "      <th>A1BGAS</th>\n",
       "      <th>A2BP1</th>\n",
       "      <th>A2LD1</th>\n",
       "      <th>A2M</th>\n",
       "      <th>A2ML1</th>\n",
       "      <th>A2MP1</th>\n",
       "      <th>A4GALT</th>\n",
       "      <th>A4GNT</th>\n",
       "      <th>AAAS</th>\n",
       "      <th>AACS</th>\n",
       "      <th>...</th>\n",
       "      <th>ZWILCH</th>\n",
       "      <th>ZWINT</th>\n",
       "      <th>ZXDA</th>\n",
       "      <th>ZXDB</th>\n",
       "      <th>ZXDC</th>\n",
       "      <th>ZYG11A</th>\n",
       "      <th>ZYG11B</th>\n",
       "      <th>ZYX</th>\n",
       "      <th>ZZEF1</th>\n",
       "      <th>ZZZ3</th>\n",
       "    </tr>\n",
       "    <tr>\n",
       "      <th>sampleId</th>\n",
       "      <th></th>\n",
       "      <th></th>\n",
       "      <th></th>\n",
       "      <th></th>\n",
       "      <th></th>\n",
       "      <th></th>\n",
       "      <th></th>\n",
       "      <th></th>\n",
       "      <th></th>\n",
       "      <th></th>\n",
       "      <th></th>\n",
       "      <th></th>\n",
       "      <th></th>\n",
       "      <th></th>\n",
       "      <th></th>\n",
       "      <th></th>\n",
       "      <th></th>\n",
       "      <th></th>\n",
       "      <th></th>\n",
       "      <th></th>\n",
       "      <th></th>\n",
       "    </tr>\n",
       "  </thead>\n",
       "  <tbody>\n",
       "    <tr>\n",
       "      <th>SEQC_NB016</th>\n",
       "      <td>16.9292</td>\n",
       "      <td>20.4486</td>\n",
       "      <td>13.8749</td>\n",
       "      <td>20.4368</td>\n",
       "      <td>11.4850</td>\n",
       "      <td>11.9185</td>\n",
       "      <td>14.3198</td>\n",
       "      <td>11.1391</td>\n",
       "      <td>19.7975</td>\n",
       "      <td>17.3615</td>\n",
       "      <td>...</td>\n",
       "      <td>17.9955</td>\n",
       "      <td>16.1258</td>\n",
       "      <td>15.6493</td>\n",
       "      <td>16.9185</td>\n",
       "      <td>18.6765</td>\n",
       "      <td>0.0000</td>\n",
       "      <td>19.3691</td>\n",
       "      <td>19.5341</td>\n",
       "      <td>18.6656</td>\n",
       "      <td>18.8782</td>\n",
       "    </tr>\n",
       "    <tr>\n",
       "      <th>SEQC_NB407</th>\n",
       "      <td>16.9408</td>\n",
       "      <td>13.9944</td>\n",
       "      <td>16.0942</td>\n",
       "      <td>19.7951</td>\n",
       "      <td>0.0000</td>\n",
       "      <td>11.2662</td>\n",
       "      <td>14.3757</td>\n",
       "      <td>0.0000</td>\n",
       "      <td>20.0921</td>\n",
       "      <td>18.4450</td>\n",
       "      <td>...</td>\n",
       "      <td>18.1965</td>\n",
       "      <td>19.6359</td>\n",
       "      <td>14.9375</td>\n",
       "      <td>16.5763</td>\n",
       "      <td>18.3375</td>\n",
       "      <td>9.8187</td>\n",
       "      <td>18.6399</td>\n",
       "      <td>19.6527</td>\n",
       "      <td>19.0414</td>\n",
       "      <td>18.5226</td>\n",
       "    </tr>\n",
       "    <tr>\n",
       "      <th>SEQC_NB493</th>\n",
       "      <td>16.6318</td>\n",
       "      <td>17.4806</td>\n",
       "      <td>15.1812</td>\n",
       "      <td>20.0009</td>\n",
       "      <td>0.0000</td>\n",
       "      <td>10.0283</td>\n",
       "      <td>13.8960</td>\n",
       "      <td>0.0000</td>\n",
       "      <td>19.3253</td>\n",
       "      <td>17.7958</td>\n",
       "      <td>...</td>\n",
       "      <td>18.6206</td>\n",
       "      <td>18.3747</td>\n",
       "      <td>14.6749</td>\n",
       "      <td>16.3515</td>\n",
       "      <td>17.9408</td>\n",
       "      <td>8.7966</td>\n",
       "      <td>19.8980</td>\n",
       "      <td>19.5587</td>\n",
       "      <td>19.1439</td>\n",
       "      <td>18.7900</td>\n",
       "    </tr>\n",
       "    <tr>\n",
       "      <th>SEQC_NB283</th>\n",
       "      <td>16.5783</td>\n",
       "      <td>19.6355</td>\n",
       "      <td>14.5806</td>\n",
       "      <td>20.7072</td>\n",
       "      <td>11.3196</td>\n",
       "      <td>0.0000</td>\n",
       "      <td>14.1360</td>\n",
       "      <td>13.3626</td>\n",
       "      <td>19.6856</td>\n",
       "      <td>17.8532</td>\n",
       "      <td>...</td>\n",
       "      <td>18.6840</td>\n",
       "      <td>18.4419</td>\n",
       "      <td>14.9546</td>\n",
       "      <td>16.4111</td>\n",
       "      <td>18.4417</td>\n",
       "      <td>8.1829</td>\n",
       "      <td>19.5017</td>\n",
       "      <td>20.2786</td>\n",
       "      <td>19.4438</td>\n",
       "      <td>19.0978</td>\n",
       "    </tr>\n",
       "    <tr>\n",
       "      <th>SEQC_NB185</th>\n",
       "      <td>17.0633</td>\n",
       "      <td>17.4920</td>\n",
       "      <td>14.4691</td>\n",
       "      <td>21.4620</td>\n",
       "      <td>0.0000</td>\n",
       "      <td>12.7047</td>\n",
       "      <td>15.8584</td>\n",
       "      <td>9.5686</td>\n",
       "      <td>19.8588</td>\n",
       "      <td>18.1928</td>\n",
       "      <td>...</td>\n",
       "      <td>18.2360</td>\n",
       "      <td>18.0781</td>\n",
       "      <td>15.2294</td>\n",
       "      <td>16.3961</td>\n",
       "      <td>18.0575</td>\n",
       "      <td>13.4351</td>\n",
       "      <td>19.7861</td>\n",
       "      <td>20.1701</td>\n",
       "      <td>19.4027</td>\n",
       "      <td>18.8314</td>\n",
       "    </tr>\n",
       "    <tr>\n",
       "      <th>...</th>\n",
       "      <td>...</td>\n",
       "      <td>...</td>\n",
       "      <td>...</td>\n",
       "      <td>...</td>\n",
       "      <td>...</td>\n",
       "      <td>...</td>\n",
       "      <td>...</td>\n",
       "      <td>...</td>\n",
       "      <td>...</td>\n",
       "      <td>...</td>\n",
       "      <td>...</td>\n",
       "      <td>...</td>\n",
       "      <td>...</td>\n",
       "      <td>...</td>\n",
       "      <td>...</td>\n",
       "      <td>...</td>\n",
       "      <td>...</td>\n",
       "      <td>...</td>\n",
       "      <td>...</td>\n",
       "      <td>...</td>\n",
       "      <td>...</td>\n",
       "    </tr>\n",
       "    <tr>\n",
       "      <th>SEQC_NB218</th>\n",
       "      <td>17.2790</td>\n",
       "      <td>18.4650</td>\n",
       "      <td>14.6535</td>\n",
       "      <td>20.3641</td>\n",
       "      <td>13.4018</td>\n",
       "      <td>0.0000</td>\n",
       "      <td>14.5823</td>\n",
       "      <td>11.6175</td>\n",
       "      <td>20.3679</td>\n",
       "      <td>18.9736</td>\n",
       "      <td>...</td>\n",
       "      <td>18.4607</td>\n",
       "      <td>18.7860</td>\n",
       "      <td>14.6715</td>\n",
       "      <td>16.2595</td>\n",
       "      <td>18.8309</td>\n",
       "      <td>10.5602</td>\n",
       "      <td>19.9761</td>\n",
       "      <td>20.0579</td>\n",
       "      <td>19.3179</td>\n",
       "      <td>18.6212</td>\n",
       "    </tr>\n",
       "    <tr>\n",
       "      <th>SEQC_NB244</th>\n",
       "      <td>17.2562</td>\n",
       "      <td>18.8896</td>\n",
       "      <td>15.7909</td>\n",
       "      <td>22.0597</td>\n",
       "      <td>10.9153</td>\n",
       "      <td>11.1139</td>\n",
       "      <td>16.4155</td>\n",
       "      <td>11.7244</td>\n",
       "      <td>19.3001</td>\n",
       "      <td>18.0834</td>\n",
       "      <td>...</td>\n",
       "      <td>17.0470</td>\n",
       "      <td>16.1998</td>\n",
       "      <td>15.2354</td>\n",
       "      <td>16.8942</td>\n",
       "      <td>18.4276</td>\n",
       "      <td>12.9273</td>\n",
       "      <td>19.9850</td>\n",
       "      <td>21.0383</td>\n",
       "      <td>19.1075</td>\n",
       "      <td>18.5479</td>\n",
       "    </tr>\n",
       "    <tr>\n",
       "      <th>SEQC_NB326</th>\n",
       "      <td>15.9690</td>\n",
       "      <td>16.0184</td>\n",
       "      <td>14.1948</td>\n",
       "      <td>20.3863</td>\n",
       "      <td>0.0000</td>\n",
       "      <td>0.0000</td>\n",
       "      <td>15.0606</td>\n",
       "      <td>10.5789</td>\n",
       "      <td>20.1523</td>\n",
       "      <td>17.9599</td>\n",
       "      <td>...</td>\n",
       "      <td>18.3819</td>\n",
       "      <td>18.5226</td>\n",
       "      <td>15.2619</td>\n",
       "      <td>17.1863</td>\n",
       "      <td>18.5018</td>\n",
       "      <td>10.0402</td>\n",
       "      <td>18.5258</td>\n",
       "      <td>20.7973</td>\n",
       "      <td>17.9354</td>\n",
       "      <td>17.8078</td>\n",
       "    </tr>\n",
       "    <tr>\n",
       "      <th>SEQC_NB071</th>\n",
       "      <td>16.3514</td>\n",
       "      <td>20.4639</td>\n",
       "      <td>15.1518</td>\n",
       "      <td>20.9448</td>\n",
       "      <td>13.1729</td>\n",
       "      <td>12.0765</td>\n",
       "      <td>15.2849</td>\n",
       "      <td>10.7249</td>\n",
       "      <td>19.5692</td>\n",
       "      <td>17.7931</td>\n",
       "      <td>...</td>\n",
       "      <td>18.2094</td>\n",
       "      <td>16.5523</td>\n",
       "      <td>15.0629</td>\n",
       "      <td>16.6580</td>\n",
       "      <td>18.4442</td>\n",
       "      <td>8.8091</td>\n",
       "      <td>20.1446</td>\n",
       "      <td>20.4357</td>\n",
       "      <td>19.6406</td>\n",
       "      <td>19.0869</td>\n",
       "    </tr>\n",
       "    <tr>\n",
       "      <th>SEQC_NB339</th>\n",
       "      <td>16.6958</td>\n",
       "      <td>17.9836</td>\n",
       "      <td>15.3201</td>\n",
       "      <td>21.2573</td>\n",
       "      <td>8.4089</td>\n",
       "      <td>11.5772</td>\n",
       "      <td>15.8056</td>\n",
       "      <td>9.4779</td>\n",
       "      <td>19.4488</td>\n",
       "      <td>18.4910</td>\n",
       "      <td>...</td>\n",
       "      <td>18.5702</td>\n",
       "      <td>18.8583</td>\n",
       "      <td>15.3403</td>\n",
       "      <td>16.3553</td>\n",
       "      <td>18.3576</td>\n",
       "      <td>0.0000</td>\n",
       "      <td>18.5499</td>\n",
       "      <td>19.7797</td>\n",
       "      <td>18.2120</td>\n",
       "      <td>18.8090</td>\n",
       "    </tr>\n",
       "  </tbody>\n",
       "</table>\n",
       "<p>81 rows × 17675 columns</p>\n",
       "</div>"
      ],
      "text/plain": [
       "Gene         A1BGAS    A2BP1    A2LD1      A2M    A2ML1    A2MP1   A4GALT  \\\n",
       "sampleId                                                                    \n",
       "SEQC_NB016  16.9292  20.4486  13.8749  20.4368  11.4850  11.9185  14.3198   \n",
       "SEQC_NB407  16.9408  13.9944  16.0942  19.7951   0.0000  11.2662  14.3757   \n",
       "SEQC_NB493  16.6318  17.4806  15.1812  20.0009   0.0000  10.0283  13.8960   \n",
       "SEQC_NB283  16.5783  19.6355  14.5806  20.7072  11.3196   0.0000  14.1360   \n",
       "SEQC_NB185  17.0633  17.4920  14.4691  21.4620   0.0000  12.7047  15.8584   \n",
       "...             ...      ...      ...      ...      ...      ...      ...   \n",
       "SEQC_NB218  17.2790  18.4650  14.6535  20.3641  13.4018   0.0000  14.5823   \n",
       "SEQC_NB244  17.2562  18.8896  15.7909  22.0597  10.9153  11.1139  16.4155   \n",
       "SEQC_NB326  15.9690  16.0184  14.1948  20.3863   0.0000   0.0000  15.0606   \n",
       "SEQC_NB071  16.3514  20.4639  15.1518  20.9448  13.1729  12.0765  15.2849   \n",
       "SEQC_NB339  16.6958  17.9836  15.3201  21.2573   8.4089  11.5772  15.8056   \n",
       "\n",
       "Gene          A4GNT     AAAS     AACS  ...   ZWILCH    ZWINT     ZXDA  \\\n",
       "sampleId                               ...                              \n",
       "SEQC_NB016  11.1391  19.7975  17.3615  ...  17.9955  16.1258  15.6493   \n",
       "SEQC_NB407   0.0000  20.0921  18.4450  ...  18.1965  19.6359  14.9375   \n",
       "SEQC_NB493   0.0000  19.3253  17.7958  ...  18.6206  18.3747  14.6749   \n",
       "SEQC_NB283  13.3626  19.6856  17.8532  ...  18.6840  18.4419  14.9546   \n",
       "SEQC_NB185   9.5686  19.8588  18.1928  ...  18.2360  18.0781  15.2294   \n",
       "...             ...      ...      ...  ...      ...      ...      ...   \n",
       "SEQC_NB218  11.6175  20.3679  18.9736  ...  18.4607  18.7860  14.6715   \n",
       "SEQC_NB244  11.7244  19.3001  18.0834  ...  17.0470  16.1998  15.2354   \n",
       "SEQC_NB326  10.5789  20.1523  17.9599  ...  18.3819  18.5226  15.2619   \n",
       "SEQC_NB071  10.7249  19.5692  17.7931  ...  18.2094  16.5523  15.0629   \n",
       "SEQC_NB339   9.4779  19.4488  18.4910  ...  18.5702  18.8583  15.3403   \n",
       "\n",
       "Gene           ZXDB     ZXDC   ZYG11A   ZYG11B      ZYX    ZZEF1     ZZZ3  \n",
       "sampleId                                                                   \n",
       "SEQC_NB016  16.9185  18.6765   0.0000  19.3691  19.5341  18.6656  18.8782  \n",
       "SEQC_NB407  16.5763  18.3375   9.8187  18.6399  19.6527  19.0414  18.5226  \n",
       "SEQC_NB493  16.3515  17.9408   8.7966  19.8980  19.5587  19.1439  18.7900  \n",
       "SEQC_NB283  16.4111  18.4417   8.1829  19.5017  20.2786  19.4438  19.0978  \n",
       "SEQC_NB185  16.3961  18.0575  13.4351  19.7861  20.1701  19.4027  18.8314  \n",
       "...             ...      ...      ...      ...      ...      ...      ...  \n",
       "SEQC_NB218  16.2595  18.8309  10.5602  19.9761  20.0579  19.3179  18.6212  \n",
       "SEQC_NB244  16.8942  18.4276  12.9273  19.9850  21.0383  19.1075  18.5479  \n",
       "SEQC_NB326  17.1863  18.5018  10.0402  18.5258  20.7973  17.9354  17.8078  \n",
       "SEQC_NB071  16.6580  18.4442   8.8091  20.1446  20.4357  19.6406  19.0869  \n",
       "SEQC_NB339  16.3553  18.3576   0.0000  18.5499  19.7797  18.2120  18.8090  \n",
       "\n",
       "[81 rows x 17675 columns]"
      ]
     },
     "execution_count": 13,
     "metadata": {},
     "output_type": "execute_result"
    }
   ],
   "source": [
    "X_train"
   ]
  },
  {
   "cell_type": "code",
   "execution_count": 14,
   "id": "88515902",
   "metadata": {
    "ExecuteTime": {
     "end_time": "2024-03-25T04:40:21.308202Z",
     "start_time": "2024-03-25T04:40:21.005804Z"
    }
   },
   "outputs": [],
   "source": [
    "scaler = StandardScaler()\n",
    "X_train_scaled = scaler.fit_transform(X_train)\n",
    "X_train_scaled = pd.DataFrame(X_train_scaled, index=X_train.index, columns=X_train.columns)"
   ]
  },
  {
   "cell_type": "code",
   "execution_count": 15,
   "id": "985e3d9b",
   "metadata": {
    "ExecuteTime": {
     "end_time": "2024-03-25T04:40:21.496762Z",
     "start_time": "2024-03-25T04:40:21.310946Z"
    }
   },
   "outputs": [],
   "source": [
    "X_test_scaled = scaler.transform(X_test.loc[:,X_train.columns])\n",
    "X_test_scaled = pd.DataFrame(X_test_scaled, index=X_test.index, columns=X_train.columns)"
   ]
  },
  {
   "cell_type": "code",
   "execution_count": null,
   "id": "e81e7db8",
   "metadata": {},
   "outputs": [],
   "source": []
  },
  {
   "cell_type": "markdown",
   "id": "21f69757",
   "metadata": {},
   "source": [
    "# L1 Logistic regression"
   ]
  },
  {
   "cell_type": "code",
   "execution_count": 16,
   "id": "e6a3b207",
   "metadata": {
    "ExecuteTime": {
     "end_time": "2024-03-25T04:40:21.536677Z",
     "start_time": "2024-03-25T04:40:21.499021Z"
    }
   },
   "outputs": [],
   "source": [
    "from sklearn.linear_model import LogisticRegression, LogisticRegressionCV\n",
    "from sklearn.metrics import accuracy_score, classification_report"
   ]
  },
  {
   "cell_type": "code",
   "execution_count": 17,
   "id": "f2afa29c",
   "metadata": {
    "ExecuteTime": {
     "end_time": "2024-03-25T04:40:30.130249Z",
     "start_time": "2024-03-25T04:40:21.539084Z"
    }
   },
   "outputs": [],
   "source": [
    "model = LogisticRegressionCV(penalty='l1', solver='liblinear', cv = 5, random_state=1234, Cs= 20, class_weight = \"balanced\")\n",
    "model.fit(X_train_scaled, y_train)\n",
    "\n",
    "# Make predictions on the test set\n",
    "y_pred = model.predict(X_test_scaled)\n",
    "\n",
    "# Evaluate the model\n",
    "accuracy = accuracy_score(y_test, y_pred)"
   ]
  },
  {
   "cell_type": "code",
   "execution_count": 18,
   "id": "5bfe753e",
   "metadata": {
    "ExecuteTime": {
     "end_time": "2024-03-25T04:40:30.138805Z",
     "start_time": "2024-03-25T04:40:30.133368Z"
    }
   },
   "outputs": [
    {
     "data": {
      "text/plain": [
       "0.9214659685863874"
      ]
     },
     "execution_count": 18,
     "metadata": {},
     "output_type": "execute_result"
    }
   ],
   "source": [
    "accuracy"
   ]
  },
  {
   "cell_type": "code",
   "execution_count": 19,
   "id": "60933ca9",
   "metadata": {
    "ExecuteTime": {
     "end_time": "2024-03-25T04:40:30.162867Z",
     "start_time": "2024-03-25T04:40:30.142431Z"
    }
   },
   "outputs": [
    {
     "data": {
      "text/html": [
       "<div>\n",
       "<style scoped>\n",
       "    .dataframe tbody tr th:only-of-type {\n",
       "        vertical-align: middle;\n",
       "    }\n",
       "\n",
       "    .dataframe tbody tr th {\n",
       "        vertical-align: top;\n",
       "    }\n",
       "\n",
       "    .dataframe thead th {\n",
       "        text-align: right;\n",
       "    }\n",
       "</style>\n",
       "<table border=\"1\" class=\"dataframe\">\n",
       "  <thead>\n",
       "    <tr style=\"text-align: right;\">\n",
       "      <th>class_label</th>\n",
       "      <th>0</th>\n",
       "      <th>1</th>\n",
       "    </tr>\n",
       "    <tr>\n",
       "      <th>row_0</th>\n",
       "      <th></th>\n",
       "      <th></th>\n",
       "    </tr>\n",
       "  </thead>\n",
       "  <tbody>\n",
       "    <tr>\n",
       "      <th>0</th>\n",
       "      <td>118</td>\n",
       "      <td>4</td>\n",
       "    </tr>\n",
       "    <tr>\n",
       "      <th>1</th>\n",
       "      <td>11</td>\n",
       "      <td>58</td>\n",
       "    </tr>\n",
       "  </tbody>\n",
       "</table>\n",
       "</div>"
      ],
      "text/plain": [
       "class_label    0   1\n",
       "row_0               \n",
       "0            118   4\n",
       "1             11  58"
      ]
     },
     "execution_count": 19,
     "metadata": {},
     "output_type": "execute_result"
    }
   ],
   "source": [
    "pd.crosstab(y_pred, y_test)"
   ]
  },
  {
   "cell_type": "code",
   "execution_count": 20,
   "id": "47d71056",
   "metadata": {
    "ExecuteTime": {
     "end_time": "2024-03-25T04:40:30.186608Z",
     "start_time": "2024-03-25T04:40:30.167117Z"
    }
   },
   "outputs": [
    {
     "data": {
      "text/html": [
       "<div>\n",
       "<style scoped>\n",
       "    .dataframe tbody tr th:only-of-type {\n",
       "        vertical-align: middle;\n",
       "    }\n",
       "\n",
       "    .dataframe tbody tr th {\n",
       "        vertical-align: top;\n",
       "    }\n",
       "\n",
       "    .dataframe thead th {\n",
       "        text-align: right;\n",
       "    }\n",
       "</style>\n",
       "<table border=\"1\" class=\"dataframe\">\n",
       "  <thead>\n",
       "    <tr style=\"text-align: right;\">\n",
       "      <th>class_label</th>\n",
       "      <th>0</th>\n",
       "      <th>1</th>\n",
       "    </tr>\n",
       "    <tr>\n",
       "      <th>high_risk</th>\n",
       "      <th></th>\n",
       "      <th></th>\n",
       "    </tr>\n",
       "  </thead>\n",
       "  <tbody>\n",
       "    <tr>\n",
       "      <th>0</th>\n",
       "      <td>129</td>\n",
       "      <td>11</td>\n",
       "    </tr>\n",
       "    <tr>\n",
       "      <th>1</th>\n",
       "      <td>0</td>\n",
       "      <td>51</td>\n",
       "    </tr>\n",
       "  </tbody>\n",
       "</table>\n",
       "</div>"
      ],
      "text/plain": [
       "class_label    0   1\n",
       "high_risk           \n",
       "0            129  11\n",
       "1              0  51"
      ]
     },
     "execution_count": 20,
     "metadata": {},
     "output_type": "execute_result"
    }
   ],
   "source": [
    "pd.crosstab(meta.loc[y_test.index].high_risk, meta.loc[y_test.index].class_label)"
   ]
  },
  {
   "cell_type": "code",
   "execution_count": 21,
   "id": "434edf11",
   "metadata": {
    "ExecuteTime": {
     "end_time": "2024-03-25T04:40:30.210432Z",
     "start_time": "2024-03-25T04:40:30.190426Z"
    }
   },
   "outputs": [
    {
     "name": "stdout",
     "output_type": "stream",
     "text": [
      "              precision    recall  f1-score   support\n",
      "\n",
      "           0       0.97      0.91      0.94       129\n",
      "           1       0.84      0.94      0.89        62\n",
      "\n",
      "    accuracy                           0.92       191\n",
      "   macro avg       0.90      0.93      0.91       191\n",
      "weighted avg       0.93      0.92      0.92       191\n",
      "\n"
     ]
    }
   ],
   "source": [
    "print(classification_report(y_test, y_pred))"
   ]
  },
  {
   "cell_type": "code",
   "execution_count": 22,
   "id": "d0f46063",
   "metadata": {
    "ExecuteTime": {
     "end_time": "2024-03-25T04:40:30.725555Z",
     "start_time": "2024-03-25T04:40:30.214188Z"
    }
   },
   "outputs": [
    {
     "data": {
      "image/png": "[encoded data removed]",
      "text/plain": [
       "<Figure size 640x480 with 1 Axes>"
      ]
     },
     "metadata": {},
     "output_type": "display_data"
    }
   ],
   "source": [
    "_ = plt.hist(model.predict_proba(X_test.loc[:, X_train.columns])[:,0], 100)"
   ]
  },
  {
   "cell_type": "code",
   "execution_count": null,
   "id": "fe525f2b",
   "metadata": {},
   "outputs": [],
   "source": []
  },
  {
   "cell_type": "code",
   "execution_count": 23,
   "id": "836f0a73",
   "metadata": {
    "ExecuteTime": {
     "end_time": "2024-03-25T04:40:31.058686Z",
     "start_time": "2024-03-25T04:40:30.728269Z"
    }
   },
   "outputs": [
    {
     "data": {
      "image/png": "[encoded data removed]",
      "text/plain": [
       "<Figure size 640x480 with 1 Axes>"
      ]
     },
     "metadata": {},
     "output_type": "display_data"
    }
   ],
   "source": [
    "_ = plt.hist(model.coef_[0], 100)"
   ]
  },
  {
   "cell_type": "code",
   "execution_count": 24,
   "id": "44c3ee4b",
   "metadata": {
    "ExecuteTime": {
     "end_time": "2024-03-25T04:40:31.068145Z",
     "start_time": "2024-03-25T04:40:31.061213Z"
    }
   },
   "outputs": [
    {
     "data": {
      "text/plain": [
       "13"
      ]
     },
     "execution_count": 24,
     "metadata": {},
     "output_type": "execute_result"
    }
   ],
   "source": [
    "sum(model.coef_[0] != 0)"
   ]
  },
  {
   "cell_type": "code",
   "execution_count": 25,
   "id": "bf4d93a6",
   "metadata": {
    "ExecuteTime": {
     "end_time": "2024-03-25T04:40:31.074585Z",
     "start_time": "2024-03-25T04:40:31.070666Z"
    }
   },
   "outputs": [],
   "source": [
    "indices = np.argsort(model.coef_[0])[::-1]"
   ]
  },
  {
   "cell_type": "code",
   "execution_count": 26,
   "id": "f0ff5702",
   "metadata": {
    "ExecuteTime": {
     "end_time": "2024-03-25T04:40:31.083280Z",
     "start_time": "2024-03-25T04:40:31.076894Z"
    }
   },
   "outputs": [
    {
     "data": {
      "text/plain": [
       "coef    0.613577\n",
       "Name: MRPL11, dtype: float64"
      ]
     },
     "execution_count": 26,
     "metadata": {},
     "output_type": "execute_result"
    }
   ],
   "source": [
    "pd.DataFrame({\"coef\":model.coef_[0]}, index = X_train.columns).loc[\"MRPL11\",]"
   ]
  },
  {
   "cell_type": "code",
   "execution_count": null,
   "id": "ec042c27",
   "metadata": {},
   "outputs": [],
   "source": []
  },
  {
   "cell_type": "code",
   "execution_count": 27,
   "id": "eb80b1c6",
   "metadata": {
    "ExecuteTime": {
     "end_time": "2024-03-25T04:40:31.395110Z",
     "start_time": "2024-03-25T04:40:31.086319Z"
    }
   },
   "outputs": [
    {
     "data": {
      "image/png": "[encoded data removed]",
      "text/plain": [
       "<Figure size 640x480 with 1 Axes>"
      ]
     },
     "metadata": {},
     "output_type": "display_data"
    }
   ],
   "source": [
    "plt.barh(X_train.columns[indices][range(20)][::-1], model.coef_[0][indices][range(20)][::-1])\n",
    "plt.title(\"Permutation-based feature importance\")\n",
    "plt.xlabel(\"Importance\")\n",
    "plt.ylabel(\"Feature\")\n",
    "plt.show()"
   ]
  },
  {
   "cell_type": "code",
   "execution_count": 28,
   "id": "2812f819",
   "metadata": {
    "ExecuteTime": {
     "end_time": "2024-03-25T04:40:31.588903Z",
     "start_time": "2024-03-25T04:40:31.405116Z"
    }
   },
   "outputs": [
    {
     "data": {
      "image/png": "[encoded data removed]",
      "text/plain": [
       "<Figure size 640x480 with 1 Axes>"
      ]
     },
     "metadata": {},
     "output_type": "display_data"
    }
   ],
   "source": [
    "plt.plot(np.log10(model.Cs_), model.scores_[1].T)\n",
    "plt.show()"
   ]
  },
  {
   "cell_type": "code",
   "execution_count": 29,
   "id": "f2a876d9",
   "metadata": {
    "ExecuteTime": {
     "end_time": "2024-03-25T04:40:31.772557Z",
     "start_time": "2024-03-25T04:40:31.591707Z"
    }
   },
   "outputs": [
    {
     "data": {
      "image/png": "[encoded data removed]",
      "text/plain": [
       "<Figure size 640x480 with 1 Axes>"
      ]
     },
     "metadata": {},
     "output_type": "display_data"
    }
   ],
   "source": [
    "plt.plot(np.log10(model.Cs_), np.mean(model.scores_[1].T, axis = 1))\n",
    "plt.show()"
   ]
  },
  {
   "cell_type": "code",
   "execution_count": null,
   "id": "316452d7",
   "metadata": {},
   "outputs": [],
   "source": []
  },
  {
   "cell_type": "code",
   "execution_count": null,
   "id": "bc24c50b",
   "metadata": {},
   "outputs": [],
   "source": []
  },
  {
   "cell_type": "code",
   "execution_count": null,
   "id": "c3411304",
   "metadata": {},
   "outputs": [],
   "source": []
  },
  {
   "cell_type": "code",
   "execution_count": null,
   "id": "b5477e6b",
   "metadata": {},
   "outputs": [],
   "source": []
  },
  {
   "cell_type": "markdown",
   "id": "3ad3421f",
   "metadata": {},
   "source": [
    "# Ranodm forest"
   ]
  },
  {
   "cell_type": "code",
   "execution_count": 30,
   "id": "1d02712c",
   "metadata": {
    "ExecuteTime": {
     "end_time": "2024-03-25T04:40:31.827422Z",
     "start_time": "2024-03-25T04:40:31.775279Z"
    }
   },
   "outputs": [],
   "source": [
    "from sklearn.ensemble import RandomForestClassifier\n"
   ]
  },
  {
   "cell_type": "code",
   "execution_count": 31,
   "id": "11266616",
   "metadata": {
    "ExecuteTime": {
     "end_time": "2024-03-25T04:40:35.081153Z",
     "start_time": "2024-03-25T04:40:31.829970Z"
    }
   },
   "outputs": [],
   "source": [
    "rf_classifier = RandomForestClassifier(n_estimators=1000, random_state=1234, class_weight = \"balanced\")\n",
    "rf_classifier.fit(X_train, y_train)\n",
    "y_pred = rf_classifier.predict(X_test.loc[:, X_train.columns])"
   ]
  },
  {
   "cell_type": "code",
   "execution_count": 32,
   "id": "52f2bcd4",
   "metadata": {
    "ExecuteTime": {
     "end_time": "2024-03-25T04:40:35.088185Z",
     "start_time": "2024-03-25T04:40:35.083944Z"
    }
   },
   "outputs": [],
   "source": [
    "accuracy = accuracy_score(y_test, y_pred)"
   ]
  },
  {
   "cell_type": "code",
   "execution_count": 33,
   "id": "d3309c3c",
   "metadata": {
    "ExecuteTime": {
     "end_time": "2024-03-25T04:40:35.095310Z",
     "start_time": "2024-03-25T04:40:35.091015Z"
    }
   },
   "outputs": [
    {
     "data": {
      "text/plain": [
       "0.9424083769633508"
      ]
     },
     "execution_count": 33,
     "metadata": {},
     "output_type": "execute_result"
    }
   ],
   "source": [
    "accuracy"
   ]
  },
  {
   "cell_type": "code",
   "execution_count": 34,
   "id": "80d8956d",
   "metadata": {
    "ExecuteTime": {
     "end_time": "2024-03-25T04:40:35.113143Z",
     "start_time": "2024-03-25T04:40:35.098011Z"
    }
   },
   "outputs": [
    {
     "data": {
      "text/html": [
       "<div>\n",
       "<style scoped>\n",
       "    .dataframe tbody tr th:only-of-type {\n",
       "        vertical-align: middle;\n",
       "    }\n",
       "\n",
       "    .dataframe tbody tr th {\n",
       "        vertical-align: top;\n",
       "    }\n",
       "\n",
       "    .dataframe thead th {\n",
       "        text-align: right;\n",
       "    }\n",
       "</style>\n",
       "<table border=\"1\" class=\"dataframe\">\n",
       "  <thead>\n",
       "    <tr style=\"text-align: right;\">\n",
       "      <th>class_label</th>\n",
       "      <th>0</th>\n",
       "      <th>1</th>\n",
       "    </tr>\n",
       "    <tr>\n",
       "      <th>row_0</th>\n",
       "      <th></th>\n",
       "      <th></th>\n",
       "    </tr>\n",
       "  </thead>\n",
       "  <tbody>\n",
       "    <tr>\n",
       "      <th>0</th>\n",
       "      <td>127</td>\n",
       "      <td>9</td>\n",
       "    </tr>\n",
       "    <tr>\n",
       "      <th>1</th>\n",
       "      <td>2</td>\n",
       "      <td>53</td>\n",
       "    </tr>\n",
       "  </tbody>\n",
       "</table>\n",
       "</div>"
      ],
      "text/plain": [
       "class_label    0   1\n",
       "row_0               \n",
       "0            127   9\n",
       "1              2  53"
      ]
     },
     "execution_count": 34,
     "metadata": {},
     "output_type": "execute_result"
    }
   ],
   "source": [
    "pd.crosstab(y_pred, y_test)"
   ]
  },
  {
   "cell_type": "code",
   "execution_count": 35,
   "id": "ea405a21",
   "metadata": {
    "ExecuteTime": {
     "end_time": "2024-03-25T04:40:35.132285Z",
     "start_time": "2024-03-25T04:40:35.115522Z"
    }
   },
   "outputs": [
    {
     "data": {
      "text/html": [
       "<div>\n",
       "<style scoped>\n",
       "    .dataframe tbody tr th:only-of-type {\n",
       "        vertical-align: middle;\n",
       "    }\n",
       "\n",
       "    .dataframe tbody tr th {\n",
       "        vertical-align: top;\n",
       "    }\n",
       "\n",
       "    .dataframe thead th {\n",
       "        text-align: right;\n",
       "    }\n",
       "</style>\n",
       "<table border=\"1\" class=\"dataframe\">\n",
       "  <thead>\n",
       "    <tr style=\"text-align: right;\">\n",
       "      <th>class_label</th>\n",
       "      <th>0</th>\n",
       "      <th>1</th>\n",
       "    </tr>\n",
       "    <tr>\n",
       "      <th>high_risk</th>\n",
       "      <th></th>\n",
       "      <th></th>\n",
       "    </tr>\n",
       "  </thead>\n",
       "  <tbody>\n",
       "    <tr>\n",
       "      <th>0</th>\n",
       "      <td>129</td>\n",
       "      <td>11</td>\n",
       "    </tr>\n",
       "    <tr>\n",
       "      <th>1</th>\n",
       "      <td>0</td>\n",
       "      <td>51</td>\n",
       "    </tr>\n",
       "  </tbody>\n",
       "</table>\n",
       "</div>"
      ],
      "text/plain": [
       "class_label    0   1\n",
       "high_risk           \n",
       "0            129  11\n",
       "1              0  51"
      ]
     },
     "execution_count": 35,
     "metadata": {},
     "output_type": "execute_result"
    }
   ],
   "source": [
    "pd.crosstab(meta.loc[y_test.index].high_risk, meta.loc[y_test.index].class_label)"
   ]
  },
  {
   "cell_type": "code",
   "execution_count": 36,
   "id": "5052d3f0",
   "metadata": {
    "ExecuteTime": {
     "end_time": "2024-03-25T04:40:35.149327Z",
     "start_time": "2024-03-25T04:40:35.134751Z"
    }
   },
   "outputs": [
    {
     "name": "stdout",
     "output_type": "stream",
     "text": [
      "              precision    recall  f1-score   support\n",
      "\n",
      "           0       0.93      0.98      0.96       129\n",
      "           1       0.96      0.85      0.91        62\n",
      "\n",
      "    accuracy                           0.94       191\n",
      "   macro avg       0.95      0.92      0.93       191\n",
      "weighted avg       0.94      0.94      0.94       191\n",
      "\n"
     ]
    }
   ],
   "source": [
    "print(classification_report(y_test, y_pred))"
   ]
  },
  {
   "cell_type": "code",
   "execution_count": 37,
   "id": "452b140c",
   "metadata": {
    "ExecuteTime": {
     "end_time": "2024-03-25T04:40:35.522148Z",
     "start_time": "2024-03-25T04:40:35.152387Z"
    }
   },
   "outputs": [],
   "source": [
    "importances = rf_classifier.feature_importances_\n",
    "\n",
    "# Sort feature importances in descending order\n",
    "indices = np.argsort(importances)[::-1]"
   ]
  },
  {
   "cell_type": "code",
   "execution_count": 38,
   "id": "40f865c9",
   "metadata": {
    "ExecuteTime": {
     "end_time": "2024-03-25T04:40:35.528726Z",
     "start_time": "2024-03-25T04:40:35.524443Z"
    }
   },
   "outputs": [
    {
     "name": "stdout",
     "output_type": "stream",
     "text": [
      "Feature ranking:\n",
      "1. MRPL11: feature 9842 (0.008636)\n",
      "2. SSRP1: feature 14925 (0.007265)\n",
      "3. ARHGEF10L: feature 802 (0.005984)\n",
      "4. BAZ2B: feature 1208 (0.005495)\n",
      "5. TMEM191C: feature 15732 (0.005481)\n",
      "6. GNPNAT1: feature 5326 (0.005325)\n",
      "7. RPS13P2: feature 13374 (0.005240)\n",
      "8. PHLDB1: feature 11477 (0.005094)\n",
      "9. BZW2: feature 1443 (0.005020)\n",
      "10. CC2D1B: feature 1671 (0.004782)\n",
      "11. PALB2: feature 11103 (0.004758)\n",
      "12. PSMA3: feature 12203 (0.004670)\n",
      "13. PMP22: feature 11738 (0.004615)\n",
      "14. FAM83D: feature 4386 (0.004547)\n",
      "15. NPM1P9: feature 10626 (0.004252)\n",
      "16. INPP1: feature 6440 (0.004245)\n",
      "17. MAP3K12: feature 9319 (0.004202)\n",
      "18. PRMT5: feature 12105 (0.004029)\n",
      "19. KDELC1: feature 6765 (0.003982)\n",
      "20. MCM2: feature 9452 (0.003951)\n"
     ]
    }
   ],
   "source": [
    "# Print the feature ranking\n",
    "print(\"Feature ranking:\")\n",
    "for f in range(20):\n",
    "    print(\"%d. %s: feature %d (%f)\" % (f + 1, X_train.columns[indices[f]], indices[f], importances[indices[f]]))"
   ]
  },
  {
   "cell_type": "code",
   "execution_count": 39,
   "id": "72c10a87",
   "metadata": {
    "ExecuteTime": {
     "end_time": "2024-03-25T04:40:35.822710Z",
     "start_time": "2024-03-25T04:40:35.531372Z"
    }
   },
   "outputs": [
    {
     "data": {
      "image/png": "[encoded data removed]",
      "text/plain": [
       "<Figure size 640x480 with 1 Axes>"
      ]
     },
     "metadata": {},
     "output_type": "display_data"
    }
   ],
   "source": [
    "plt.barh(X_train.columns[indices][range(20)][::-1], importances[indices][range(20)][::-1])\n",
    "plt.title(\"Permutation-based feature importance\")\n",
    "plt.xlabel(\"Importance\")\n",
    "plt.ylabel(\"Feature\")\n",
    "plt.show()"
   ]
  },
  {
   "cell_type": "code",
   "execution_count": null,
   "id": "6a5819f8",
   "metadata": {},
   "outputs": [],
   "source": []
  },
  {
   "cell_type": "code",
   "execution_count": null,
   "id": "cf8b3f5c",
   "metadata": {},
   "outputs": [],
   "source": []
  },
  {
   "cell_type": "code",
   "execution_count": null,
   "id": "cff0cc64",
   "metadata": {},
   "outputs": [],
   "source": []
  },
  {
   "cell_type": "code",
   "execution_count": null,
   "id": "16874232",
   "metadata": {},
   "outputs": [],
   "source": []
  },
  {
   "cell_type": "code",
   "execution_count": null,
   "id": "61981bd3",
   "metadata": {},
   "outputs": [],
   "source": []
  }
 ],
 "metadata": {
  "kernelspec": {
   "display_name": "Python 3 (ipykernel)",
   "language": "python",
   "name": "python3"
  },
  "language_info": {
   "codemirror_mode": {
    "name": "ipython",
    "version": 3
   },
   "file_extension": ".py",
   "mimetype": "text/x-python",
   "name": "python",
   "nbconvert_exporter": "python",
   "pygments_lexer": "ipython3",
   "version": "3.10.7"
  }
 },
 "nbformat": 4,
 "nbformat_minor": 5
}
